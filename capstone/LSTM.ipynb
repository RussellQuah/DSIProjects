{
 "cells": [
  {
   "cell_type": "code",
   "execution_count": 1,
   "metadata": {},
   "outputs": [],
   "source": [
    "# importing libraries\n",
    "import numpy as np\n",
    "import random\n",
    "import pandas as pd\n",
    "pd.set_option('display.max_rows', None)\n",
    "pd.set_option('display.max_columns', None)\n",
    "\n",
    "# Importing visualisation libraries\n",
    "import seaborn as sns\n",
    "from wordcloud import WordCloud\n",
    "import matplotlib.pyplot as plt\n",
    "%matplotlib inline\n",
    "from progressbar import ProgressBar\n",
    "\n",
    "# NLP libraries\n",
    "from bs4 import BeautifulSoup\n",
    "import re\n",
    "import nltk\n",
    "from nltk.tokenize import RegexpTokenizer, TweetTokenizer\n",
    "from nltk.stem import WordNetLemmatizer\n",
    "from nltk.stem.porter import PorterStemmer\n",
    "from nltk.corpus import stopwords\n",
    "from sklearn.feature_extraction.text import CountVectorizer, TfidfVectorizer\n",
    "\n",
    "# Classifier libraries\n",
    "from xgboost import XGBClassifier\n",
    "from imblearn.pipeline import Pipeline\n",
    "from imblearn.over_sampling import SMOTE\n",
    "from imblearn.under_sampling import RandomUnderSampler\n",
    "from sklearn.metrics import roc_auc_score\n",
    "from sklearn.preprocessing import StandardScaler\n",
    "from sklearn.linear_model import LogisticRegression\n",
    "from sklearn.model_selection import GridSearchCV, train_test_split\n",
    "from sklearn.metrics import confusion_matrix, plot_confusion_matrix\n",
    "\n",
    "# Neural Network Libraries\n",
    "from tensorflow.keras.preprocessing.text import Tokenizer\n",
    "from tensorflow.keras.preprocessing.sequence import pad_sequences\n",
    "from tensorflow.keras.models import Sequential\n",
    "from tensorflow.keras.layers import Dense, LSTM, Flatten, Embedding, Dropout, Bidirectional, SpatialDropout1D\n",
    "from tensorflow.keras.optimizers import Adam\n",
    "from tensorflow.keras import regularizers\n",
    "from tensorflow.keras.callbacks import ModelCheckpoint"
   ]
  },
  {
   "cell_type": "code",
   "execution_count": null,
   "metadata": {},
   "outputs": [],
   "source": [
    "# Loading train and validation datasets\n",
    "df_tweets = pd.read_csv('./datasets/df_tweets.csv', index_col=0)"
   ]
  },
  {
   "cell_type": "code",
   "execution_count": null,
   "metadata": {},
   "outputs": [],
   "source": [
    "df_tweets = df_tweets[df_tweets['cleaned_tweets'].notnull()]"
   ]
  },
  {
   "cell_type": "code",
   "execution_count": null,
   "metadata": {},
   "outputs": [],
   "source": [
    "# Creating a new column to count the len of string\n",
    "df_tweets['string_count'] = df_tweets['cleaned_tweets'].map(lambda row: len(str(row)))\n",
    "\n",
    "# Creating a new column to count the number of words\n",
    "df_tweets['word_count'] = df_tweets['cleaned_tweets'].map(lambda row: len(str(row).split()))\n",
    "\n",
    "# Adding number of unique words column\n",
    "df_tweets['unique_words_count'] = df_tweets['cleaned_tweets'].map(lambda x: len(list(str(x).split())))\n",
    "\n",
    "# as well as the type of unique words\n",
    "df_tweets['unique_words'] = df_tweets['cleaned_tweets'].map(lambda x: list(str(x).split()))\n",
    "\n",
    "# Creating a new column to count the len of string\n",
    "df_tweets['string_count'] = df_tweets['cleaned_tweets'].map(lambda row: len(str(row)))\n",
    "\n",
    "# Creating a new column to count the number of words\n",
    "df_tweets['word_count'] = df_tweets['cleaned_tweets'].map(lambda row: len(str(row).split()))"
   ]
  },
  {
   "cell_type": "code",
   "execution_count": null,
   "metadata": {},
   "outputs": [],
   "source": [
    "df_tweets.drop(['difference', 'date', 'tweet_day', 'unique_words','content'],axis=1, inplace=True)"
   ]
  },
  {
   "cell_type": "code",
   "execution_count": null,
   "metadata": {},
   "outputs": [],
   "source": [
    "df_tweets.shape"
   ]
  },
  {
   "cell_type": "code",
   "execution_count": 2,
   "metadata": {},
   "outputs": [],
   "source": [
    "# Loading train and validation datasets\n",
    "y_train = pd.read_csv('./datasets/y_train.csv', index_col=0)\n",
    "y_validate = pd.read_csv('./datasets/y_validate.csv', index_col=0)\n",
    "\n",
    "X_train = pd.read_csv('./datasets/X_train.csv', index_col=0)\n",
    "X_validate = pd.read_csv('./datasets/X_validate.csv', index_col=0)"
   ]
  },
  {
   "cell_type": "markdown",
   "metadata": {},
   "source": [
    "# Train Validation and Holdout Data"
   ]
  },
  {
   "cell_type": "markdown",
   "metadata": {},
   "source": [
    "## Holdout Data"
   ]
  },
  {
   "cell_type": "code",
   "execution_count": null,
   "metadata": {},
   "outputs": [],
   "source": [
    "X = df_tweets.drop('target', axis=1)\n",
    "y = df_tweets['target']"
   ]
  },
  {
   "cell_type": "code",
   "execution_count": null,
   "metadata": {},
   "outputs": [],
   "source": [
    "# Holdout data split\n",
    "X_train_validate, X_holdout, y_train_validate, y_holdout = train_test_split(X,y,test_size=0.15, shuffle=False)"
   ]
  },
  {
   "cell_type": "code",
   "execution_count": null,
   "metadata": {},
   "outputs": [],
   "source": [
    "X_holdout.tail()"
   ]
  },
  {
   "cell_type": "code",
   "execution_count": null,
   "metadata": {},
   "outputs": [],
   "source": [
    "X_holdout.shape"
   ]
  },
  {
   "cell_type": "code",
   "execution_count": null,
   "metadata": {},
   "outputs": [],
   "source": [
    "X_train_validate.shape"
   ]
  },
  {
   "cell_type": "markdown",
   "metadata": {},
   "source": [
    "## Train and Validation"
   ]
  },
  {
   "cell_type": "code",
   "execution_count": null,
   "metadata": {},
   "outputs": [],
   "source": [
    "df_train_validate = X_train_validate.join(y_train_validate)"
   ]
  },
  {
   "cell_type": "code",
   "execution_count": null,
   "metadata": {},
   "outputs": [],
   "source": [
    "df_train_validate.columns"
   ]
  },
  {
   "cell_type": "code",
   "execution_count": null,
   "metadata": {},
   "outputs": [],
   "source": [
    "X = df_train_validate.drop(['target'], axis=1)\n",
    "y = df_train_validate['target']"
   ]
  },
  {
   "cell_type": "code",
   "execution_count": null,
   "metadata": {},
   "outputs": [],
   "source": [
    "# Train and validate data split\n",
    "X_train, X_validate, y_train, y_validate = train_test_split(X,y,test_size=0.15, shuffle=False)"
   ]
  },
  {
   "cell_type": "code",
   "execution_count": null,
   "metadata": {},
   "outputs": [],
   "source": [
    "X_train.tail()"
   ]
  },
  {
   "cell_type": "code",
   "execution_count": null,
   "metadata": {},
   "outputs": [],
   "source": [
    "X_train.shape"
   ]
  },
  {
   "cell_type": "markdown",
   "metadata": {},
   "source": [
    "# Classifier 3: Recurrent Neural Networks (LSTM)"
   ]
  },
  {
   "cell_type": "markdown",
   "metadata": {},
   "source": [
    "### gs5 tokenize->Timeseries->NN"
   ]
  },
  {
   "cell_type": "code",
   "execution_count": 4,
   "metadata": {},
   "outputs": [],
   "source": [
    "# Extract the X and y values from the train and validation set\n",
    "X_train_list = X_train['cleaned_tweets'].values\n",
    "X_val_list = X_validate['cleaned_tweets'].values\n",
    "\n",
    "y_train_list = y_train.values\n",
    "y_val_list = y_validate.values"
   ]
  },
  {
   "cell_type": "code",
   "execution_count": 5,
   "metadata": {},
   "outputs": [],
   "source": [
    "max_words = 2000 # Note: Model tends to overfit when max_words is set to 2000-3000 words\n",
    "\n",
    "# Tokenize the data\n",
    "tokenizer = Tokenizer(num_words=max_words)\n",
    "tokenizer.fit_on_texts(list(X_train_list))\n",
    "\n",
    "# Convert the text to sequences\n",
    "X_train_list = tokenizer.texts_to_sequences(X_train_list)\n",
    "X_val_list = tokenizer.texts_to_sequences(X_val_list)"
   ]
  },
  {
   "cell_type": "code",
   "execution_count": 6,
   "metadata": {},
   "outputs": [
    {
     "name": "stdout",
     "output_type": "stream",
     "text": [
      "Vocabulary size: 26952\n"
     ]
    }
   ],
   "source": [
    "vocab_size = len(tokenizer.word_index)+1\n",
    "print('Vocabulary size:', vocab_size)"
   ]
  },
  {
   "cell_type": "markdown",
   "metadata": {},
   "source": [
    "Add padding to ensure that all the sequences have the same shape. As the average length of a negative review is 15 words and a positive review is 7 words, we will set a max length of 20."
   ]
  },
  {
   "cell_type": "code",
   "execution_count": 7,
   "metadata": {},
   "outputs": [],
   "source": [
    "max_length = 30 \n",
    "\n",
    "X_train_padded = pad_sequences(X_train_list, maxlen=max_length, padding='post')\n",
    "X_val_padded = pad_sequences(X_val_list, maxlen=max_length, padding='post')"
   ]
  },
  {
   "cell_type": "code",
   "execution_count": 8,
   "metadata": {},
   "outputs": [
    {
     "data": {
      "text/plain": [
       "(27671, 1)"
      ]
     },
     "execution_count": 8,
     "metadata": {},
     "output_type": "execute_result"
    }
   ],
   "source": [
    "y_train_list.shape"
   ]
  },
  {
   "cell_type": "code",
   "execution_count": 9,
   "metadata": {},
   "outputs": [
    {
     "data": {
      "text/plain": [
       "(27671, 30)"
      ]
     },
     "execution_count": 9,
     "metadata": {},
     "output_type": "execute_result"
    }
   ],
   "source": [
    "X_train_padded.shape"
   ]
  },
  {
   "cell_type": "markdown",
   "metadata": {},
   "source": [
    "Next, we will create the network topology. The training data is fed to a three-layered neural network. The first layer is a Bidirectional LSTM with 8 nodes. The second layer is a dense layer with 8 nodes and the output layer with just one node."
   ]
  },
  {
   "cell_type": "code",
   "execution_count": 15,
   "metadata": {},
   "outputs": [],
   "source": [
    "model = Sequential()\n",
    "model.add(Embedding(vocab_size, output_dim=20, input_length=max_length))\n",
    "model.add(Bidirectional(LSTM(20)))\n",
    "model.add(Dense(20, activation='relu'))\n",
    "model.add(Dense(10, activation='relu'))\n",
    "model.add(Dense(4, activation='relu'))\n",
    "model.add(Dense(1, activation='sigmoid'))"
   ]
  },
  {
   "cell_type": "code",
   "execution_count": 16,
   "metadata": {},
   "outputs": [],
   "source": [
    "model.compile(loss='binary_crossentropy', optimizer=Adam(learning_rate=0.001), metrics= ['accuracy'])"
   ]
  },
  {
   "cell_type": "code",
   "execution_count": 17,
   "metadata": {},
   "outputs": [
    {
     "name": "stdout",
     "output_type": "stream",
     "text": [
      "Model: \"sequential_1\"\n",
      "_________________________________________________________________\n",
      "Layer (type)                 Output Shape              Param #   \n",
      "=================================================================\n",
      "embedding_1 (Embedding)      (None, 30, 20)            539040    \n",
      "_________________________________________________________________\n",
      "bidirectional_1 (Bidirection (None, 40)                6560      \n",
      "_________________________________________________________________\n",
      "dense_3 (Dense)              (None, 20)                820       \n",
      "_________________________________________________________________\n",
      "dense_4 (Dense)              (None, 10)                210       \n",
      "_________________________________________________________________\n",
      "dense_5 (Dense)              (None, 4)                 44        \n",
      "_________________________________________________________________\n",
      "dense_6 (Dense)              (None, 1)                 5         \n",
      "=================================================================\n",
      "Total params: 546,679\n",
      "Trainable params: 546,679\n",
      "Non-trainable params: 0\n",
      "_________________________________________________________________\n"
     ]
    }
   ],
   "source": [
    "model.summary()"
   ]
  },
  {
   "cell_type": "code",
   "execution_count": 18,
   "metadata": {},
   "outputs": [
    {
     "name": "stdout",
     "output_type": "stream",
     "text": [
      "Train on 27671 samples, validate on 6918 samples\n",
      "Epoch 1/40\n",
      "27671/27671 [==============================] - 7s 260us/sample - loss: 0.4539 - accuracy: 0.8455 - val_loss: 0.4293 - val_accuracy: 0.8463\n",
      "Epoch 2/40\n",
      "27671/27671 [==============================] - 5s 177us/sample - loss: 0.4177 - accuracy: 0.8463 - val_loss: 0.4283 - val_accuracy: 0.8463\n",
      "Epoch 3/40\n",
      "27671/27671 [==============================] - 5s 180us/sample - loss: 0.4031 - accuracy: 0.8466 - val_loss: 0.4353 - val_accuracy: 0.8458\n",
      "Epoch 4/40\n",
      "27671/27671 [==============================] - 5s 176us/sample - loss: 0.3912 - accuracy: 0.8492 - val_loss: 0.4463 - val_accuracy: 0.8439\n",
      "Epoch 5/40\n",
      "27671/27671 [==============================] - 5s 177us/sample - loss: 0.3769 - accuracy: 0.8518 - val_loss: 0.4493 - val_accuracy: 0.8401\n",
      "Epoch 6/40\n",
      "27671/27671 [==============================] - 5s 179us/sample - loss: 0.3629 - accuracy: 0.8572 - val_loss: 0.4655 - val_accuracy: 0.8325\n",
      "Epoch 7/40\n",
      "27671/27671 [==============================] - 5s 178us/sample - loss: 0.3479 - accuracy: 0.8641 - val_loss: 0.4872 - val_accuracy: 0.8163\n",
      "Epoch 8/40\n",
      "27671/27671 [==============================] - 5s 185us/sample - loss: 0.3351 - accuracy: 0.8699 - val_loss: 0.4986 - val_accuracy: 0.8228\n",
      "Epoch 9/40\n",
      "27671/27671 [==============================] - 5s 179us/sample - loss: 0.3205 - accuracy: 0.8772 - val_loss: 0.5384 - val_accuracy: 0.8101\n",
      "Epoch 10/40\n",
      "27671/27671 [==============================] - 5s 178us/sample - loss: 0.3043 - accuracy: 0.8833 - val_loss: 0.5643 - val_accuracy: 0.8184\n",
      "Epoch 11/40\n",
      "27671/27671 [==============================] - 5s 178us/sample - loss: 0.2901 - accuracy: 0.8888 - val_loss: 0.6146 - val_accuracy: 0.8134\n",
      "Epoch 12/40\n",
      "27671/27671 [==============================] - 5s 178us/sample - loss: 0.2760 - accuracy: 0.8956 - val_loss: 0.6021 - val_accuracy: 0.8112\n",
      "Epoch 13/40\n",
      "27671/27671 [==============================] - 5s 180us/sample - loss: 0.2605 - accuracy: 0.9006 - val_loss: 0.6890 - val_accuracy: 0.8004\n",
      "Epoch 14/40\n",
      "27671/27671 [==============================] - 5s 179us/sample - loss: 0.2485 - accuracy: 0.9052 - val_loss: 0.7369 - val_accuracy: 0.7986\n",
      "Epoch 15/40\n",
      "27671/27671 [==============================] - 5s 180us/sample - loss: 0.2372 - accuracy: 0.9091 - val_loss: 0.8702 - val_accuracy: 0.7839\n",
      "Epoch 16/40\n",
      "27671/27671 [==============================] - 5s 185us/sample - loss: 0.2249 - accuracy: 0.9145 - val_loss: 0.8632 - val_accuracy: 0.7911\n",
      "Epoch 17/40\n",
      "27671/27671 [==============================] - 5s 180us/sample - loss: 0.2151 - accuracy: 0.9174 - val_loss: 0.9494 - val_accuracy: 0.7946\n",
      "Epoch 18/40\n",
      "27671/27671 [==============================] - 5s 180us/sample - loss: 0.2075 - accuracy: 0.9206 - val_loss: 0.9827 - val_accuracy: 0.7865\n",
      "Epoch 19/40\n",
      "27671/27671 [==============================] - 5s 182us/sample - loss: 0.1998 - accuracy: 0.9223 - val_loss: 1.0572 - val_accuracy: 0.7887\n",
      "Epoch 20/40\n",
      "27671/27671 [==============================] - 5s 188us/sample - loss: 0.1906 - accuracy: 0.9252 - val_loss: 1.0639 - val_accuracy: 0.7959\n",
      "Epoch 21/40\n",
      "27671/27671 [==============================] - 5s 183us/sample - loss: 0.1839 - accuracy: 0.9292 - val_loss: 1.2569 - val_accuracy: 0.7812\n",
      "Epoch 22/40\n",
      "27671/27671 [==============================] - 5s 189us/sample - loss: 0.1768 - accuracy: 0.9309 - val_loss: 1.2645 - val_accuracy: 0.7840\n",
      "Epoch 23/40\n",
      "27671/27671 [==============================] - 5s 183us/sample - loss: 0.1713 - accuracy: 0.9313 - val_loss: 1.3737 - val_accuracy: 0.7840\n",
      "Epoch 24/40\n",
      "27671/27671 [==============================] - 5s 183us/sample - loss: 0.1643 - accuracy: 0.9348 - val_loss: 1.4916 - val_accuracy: 0.7835\n",
      "Epoch 25/40\n",
      "27671/27671 [==============================] - 5s 185us/sample - loss: 0.1588 - accuracy: 0.9360 - val_loss: 1.6360 - val_accuracy: 0.7699\n",
      "Epoch 26/40\n",
      "27671/27671 [==============================] - 5s 183us/sample - loss: 0.1536 - accuracy: 0.9371 - val_loss: 1.8051 - val_accuracy: 0.7699\n",
      "Epoch 27/40\n",
      "27671/27671 [==============================] - 5s 184us/sample - loss: 0.1503 - accuracy: 0.9377 - val_loss: 1.8300 - val_accuracy: 0.7722\n",
      "Epoch 28/40\n",
      "27671/27671 [==============================] - 5s 185us/sample - loss: 0.1438 - accuracy: 0.9399 - val_loss: 1.8662 - val_accuracy: 0.7629\n",
      "Epoch 29/40\n",
      "27671/27671 [==============================] - 5s 183us/sample - loss: 0.1460 - accuracy: 0.9392 - val_loss: 1.8281 - val_accuracy: 0.7609\n",
      "Epoch 30/40\n",
      "27671/27671 [==============================] - 5s 183us/sample - loss: 0.1364 - accuracy: 0.9433 - val_loss: 1.8946 - val_accuracy: 0.7569\n",
      "Epoch 31/40\n",
      "27671/27671 [==============================] - 5s 183us/sample - loss: 0.1212 - accuracy: 0.9498 - val_loss: 2.0312 - val_accuracy: 0.7748\n",
      "Epoch 32/40\n",
      "27671/27671 [==============================] - 5s 189us/sample - loss: 0.1258 - accuracy: 0.9483 - val_loss: 2.1341 - val_accuracy: 0.7505\n",
      "Epoch 33/40\n",
      "27671/27671 [==============================] - 5s 183us/sample - loss: 0.1288 - accuracy: 0.9477 - val_loss: 2.0536 - val_accuracy: 0.7651\n",
      "Epoch 34/40\n",
      "27671/27671 [==============================] - 5s 184us/sample - loss: 0.1181 - accuracy: 0.9536 - val_loss: 2.1695 - val_accuracy: 0.7553\n",
      "Epoch 35/40\n",
      "27671/27671 [==============================] - 5s 184us/sample - loss: 0.1137 - accuracy: 0.9544 - val_loss: 2.2684 - val_accuracy: 0.7534\n",
      "Epoch 36/40\n",
      "27671/27671 [==============================] - 5s 183us/sample - loss: 0.1076 - accuracy: 0.9587 - val_loss: 2.3321 - val_accuracy: 0.7673\n",
      "Epoch 37/40\n",
      "27671/27671 [==============================] - 5s 184us/sample - loss: 0.1033 - accuracy: 0.9606 - val_loss: 2.2710 - val_accuracy: 0.7525\n",
      "Epoch 38/40\n",
      "27671/27671 [==============================] - 5s 185us/sample - loss: 0.1028 - accuracy: 0.9606 - val_loss: 2.2968 - val_accuracy: 0.7641\n",
      "Epoch 39/40\n",
      "27671/27671 [==============================] - 5s 185us/sample - loss: 0.1054 - accuracy: 0.9614 - val_loss: 2.4572 - val_accuracy: 0.7407\n",
      "Epoch 40/40\n",
      "27671/27671 [==============================] - 5s 184us/sample - loss: 0.1016 - accuracy: 0.9622 - val_loss: 2.2956 - val_accuracy: 0.7450\n",
      "Wall time: 3min 23s\n"
     ]
    }
   ],
   "source": [
    "%%time\n",
    "# Fit the model and store it in the history object\n",
    "history = model.fit(X_train_padded, y_train_list, epochs=40, batch_size=64, validation_data=(X_val_padded, y_val_list))"
   ]
  },
  {
   "cell_type": "code",
   "execution_count": 19,
   "metadata": {},
   "outputs": [
    {
     "data": {
      "image/png": "[encoded data removed]",
      "text/plain": [
       "<Figure size 1152x648 with 1 Axes>"
      ]
     },
     "metadata": {
      "needs_background": "light"
     },
     "output_type": "display_data"
    }
   ],
   "source": [
    "plt.figure(figsize=(16,9))\n",
    "plt.plot(history.history['accuracy'], label='Train Accuracy')\n",
    "plt.plot(history.history['val_accuracy'], label='Test Accuracy')\n",
    "plt.legend();"
   ]
  },
  {
   "cell_type": "code",
   "execution_count": null,
   "metadata": {},
   "outputs": [],
   "source": []
  }
 ],
 "metadata": {
  "kernelspec": {
   "display_name": "Python 3",
   "language": "python",
   "name": "python3"
  },
  "language_info": {
   "codemirror_mode": {
    "name": "ipython",
    "version": 3
   },
   "file_extension": ".py",
   "mimetype": "text/x-python",
   "name": "python",
   "nbconvert_exporter": "python",
   "pygments_lexer": "ipython3",
   "version": "3.7.7"
  }
 },
 "nbformat": 4,
 "nbformat_minor": 4
}
