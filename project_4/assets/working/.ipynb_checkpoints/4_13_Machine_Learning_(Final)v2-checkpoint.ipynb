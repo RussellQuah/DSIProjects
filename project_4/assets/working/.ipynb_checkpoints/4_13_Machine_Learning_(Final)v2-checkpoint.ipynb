{
 "cells": [
  {
   "cell_type": "markdown",
   "metadata": {
    "colab_type": "text",
    "id": "q7UBAjgGOdLS"
   },
   "source": [
    "### XGBoost + oversampling & undersampling SMOTE"
   ]
  },
  {
   "cell_type": "markdown",
   "metadata": {},
   "source": [
    "The team saw the potential model performance from Oversampling and Undersampling SMOTE. In this standalone notebook, the team explore the potential performance boost on XGBoost classifier. Similar to the sample treatment on Random Forest Classifier, the team applied oversampling and undersampling SMOTE. First oversample the minority class with SMOTE to about a 1:10 ratio, then undersample the majority class to achieve about a 1:2 ratio."
   ]
  },
  {
   "cell_type": "code",
   "execution_count": 2,
   "metadata": {
    "colab": {},
    "colab_type": "code",
    "id": "1o38MXLKN4Nq"
   },
   "outputs": [],
   "source": [
    "# Import libraries for pre-processing\n",
    "import pandas as pd\n",
    "import numpy as np\n",
    "from sklearn.preprocessing import StandardScaler\n",
    "from sklearn.model_selection import train_test_split, cross_val_score\n",
    "\n",
    "from sklearn.pipeline import Pipeline\n",
    "from sklearn.model_selection import GridSearchCV\n",
    "from sklearn.ensemble import RandomForestClassifier,GradientBoostingClassifier\n",
    "\n",
    "from sklearn.metrics import confusion_matrix\n",
    "from sklearn.metrics import roc_auc_score"
   ]
  },
  {
   "cell_type": "markdown",
   "metadata": {
    "colab_type": "text",
    "id": "oGaCoASpqrBl"
   },
   "source": [
    "### Import files"
   ]
  },
  {
   "cell_type": "code",
   "execution_count": 3,
   "metadata": {
    "colab": {},
    "colab_type": "code",
    "id": "ANoFpGbouagk"
   },
   "outputs": [],
   "source": [
    "# Import the files\n",
    "df_test = pd.read_csv(\"https://raw.githubusercontent.com/AngShengJun/dsi14P4/master/assets/working/df_test_weather_cleaned.csv\")\n",
    "df_train = pd.read_csv(\"https://raw.githubusercontent.com/AngShengJun/dsi14P4/master/assets/working/df_train_weather_cleaned.csv\")"
   ]
  },
  {
   "cell_type": "code",
   "execution_count": 4,
   "metadata": {
    "colab": {},
    "colab_type": "code",
    "id": "r1OWT183rr1e",
    "outputId": "1dd9cf20-99d3-4cb2-a81d-8c8db75dacac"
   },
   "outputs": [
    {
     "data": {
      "text/html": [
       "<div>\n",
       "<style scoped>\n",
       "    .dataframe tbody tr th:only-of-type {\n",
       "        vertical-align: middle;\n",
       "    }\n",
       "\n",
       "    .dataframe tbody tr th {\n",
       "        vertical-align: top;\n",
       "    }\n",
       "\n",
       "    .dataframe thead th {\n",
       "        text-align: right;\n",
       "    }\n",
       "</style>\n",
       "<table border=\"1\" class=\"dataframe\">\n",
       "  <thead>\n",
       "    <tr style=\"text-align: right;\">\n",
       "      <th></th>\n",
       "      <th>Unnamed: 0</th>\n",
       "      <th>id</th>\n",
       "      <th>date</th>\n",
       "      <th>lat</th>\n",
       "      <th>long</th>\n",
       "      <th>wk</th>\n",
       "      <th>yr</th>\n",
       "      <th>tavg</th>\n",
       "      <th>stnpress</th>\n",
       "      <th>dewpt</th>\n",
       "      <th>...</th>\n",
       "      <th>trap_T230</th>\n",
       "      <th>trap_T231</th>\n",
       "      <th>trap_T232</th>\n",
       "      <th>trap_T233</th>\n",
       "      <th>trap_T235</th>\n",
       "      <th>trap_T236</th>\n",
       "      <th>trap_T237</th>\n",
       "      <th>trap_T238</th>\n",
       "      <th>trap_T900</th>\n",
       "      <th>trap_T903</th>\n",
       "    </tr>\n",
       "  </thead>\n",
       "  <tbody>\n",
       "    <tr>\n",
       "      <th>0</th>\n",
       "      <td>0</td>\n",
       "      <td>1</td>\n",
       "      <td>2008-06-11</td>\n",
       "      <td>41.95469</td>\n",
       "      <td>-87.800991</td>\n",
       "      <td>23</td>\n",
       "      <td>2008</td>\n",
       "      <td>75.0</td>\n",
       "      <td>29.31</td>\n",
       "      <td>55.5</td>\n",
       "      <td>...</td>\n",
       "      <td>0</td>\n",
       "      <td>0</td>\n",
       "      <td>0</td>\n",
       "      <td>0</td>\n",
       "      <td>0</td>\n",
       "      <td>0</td>\n",
       "      <td>0</td>\n",
       "      <td>0</td>\n",
       "      <td>0</td>\n",
       "      <td>0</td>\n",
       "    </tr>\n",
       "  </tbody>\n",
       "</table>\n",
       "<p>1 rows × 156 columns</p>\n",
       "</div>"
      ],
      "text/plain": [
       "   Unnamed: 0  id        date       lat       long  wk    yr  tavg  stnpress  \\\n",
       "0           0   1  2008-06-11  41.95469 -87.800991  23  2008  75.0     29.31   \n",
       "\n",
       "   dewpt  ...  trap_T230  trap_T231  trap_T232  trap_T233  trap_T235  \\\n",
       "0   55.5  ...          0          0          0          0          0   \n",
       "\n",
       "   trap_T236  trap_T237  trap_T238  trap_T900  trap_T903  \n",
       "0          0          0          0          0          0  \n",
       "\n",
       "[1 rows x 156 columns]"
      ]
     },
     "execution_count": 4,
     "metadata": {},
     "output_type": "execute_result"
    }
   ],
   "source": [
    "df_test.head(1)"
   ]
  },
  {
   "cell_type": "code",
   "execution_count": 5,
   "metadata": {
    "colab": {},
    "colab_type": "code",
    "id": "Au3kLn9Grr1i",
    "outputId": "4cf59c91-e1f3-4aed-9614-377963209df2"
   },
   "outputs": [
    {
     "data": {
      "text/html": [
       "<div>\n",
       "<style scoped>\n",
       "    .dataframe tbody tr th:only-of-type {\n",
       "        vertical-align: middle;\n",
       "    }\n",
       "\n",
       "    .dataframe tbody tr th {\n",
       "        vertical-align: top;\n",
       "    }\n",
       "\n",
       "    .dataframe thead th {\n",
       "        text-align: right;\n",
       "    }\n",
       "</style>\n",
       "<table border=\"1\" class=\"dataframe\">\n",
       "  <thead>\n",
       "    <tr style=\"text-align: right;\">\n",
       "      <th></th>\n",
       "      <th>Unnamed: 0</th>\n",
       "      <th>date</th>\n",
       "      <th>lat</th>\n",
       "      <th>long</th>\n",
       "      <th>wnv</th>\n",
       "      <th>num_mos</th>\n",
       "      <th>wk</th>\n",
       "      <th>yr</th>\n",
       "      <th>tavg</th>\n",
       "      <th>stnpress</th>\n",
       "      <th>...</th>\n",
       "      <th>trap_T230</th>\n",
       "      <th>trap_T231</th>\n",
       "      <th>trap_T232</th>\n",
       "      <th>trap_T233</th>\n",
       "      <th>trap_T235</th>\n",
       "      <th>trap_T236</th>\n",
       "      <th>trap_T237</th>\n",
       "      <th>trap_T238</th>\n",
       "      <th>trap_T900</th>\n",
       "      <th>trap_T903</th>\n",
       "    </tr>\n",
       "  </thead>\n",
       "  <tbody>\n",
       "    <tr>\n",
       "      <th>0</th>\n",
       "      <td>0</td>\n",
       "      <td>2007-05-29</td>\n",
       "      <td>41.95469</td>\n",
       "      <td>-87.800991</td>\n",
       "      <td>0</td>\n",
       "      <td>1</td>\n",
       "      <td>22</td>\n",
       "      <td>2007</td>\n",
       "      <td>75.5</td>\n",
       "      <td>29.415</td>\n",
       "      <td>...</td>\n",
       "      <td>0</td>\n",
       "      <td>0</td>\n",
       "      <td>0</td>\n",
       "      <td>0</td>\n",
       "      <td>0</td>\n",
       "      <td>0</td>\n",
       "      <td>0</td>\n",
       "      <td>0</td>\n",
       "      <td>0</td>\n",
       "      <td>0</td>\n",
       "    </tr>\n",
       "  </tbody>\n",
       "</table>\n",
       "<p>1 rows × 157 columns</p>\n",
       "</div>"
      ],
      "text/plain": [
       "   Unnamed: 0        date       lat       long  wnv  num_mos  wk    yr  tavg  \\\n",
       "0           0  2007-05-29  41.95469 -87.800991    0        1  22  2007  75.5   \n",
       "\n",
       "   stnpress  ...  trap_T230  trap_T231  trap_T232  trap_T233  trap_T235  \\\n",
       "0    29.415  ...          0          0          0          0          0   \n",
       "\n",
       "   trap_T236  trap_T237  trap_T238  trap_T900  trap_T903  \n",
       "0          0          0          0          0          0  \n",
       "\n",
       "[1 rows x 157 columns]"
      ]
     },
     "execution_count": 5,
     "metadata": {},
     "output_type": "execute_result"
    }
   ],
   "source": [
    "df_train.head(1)"
   ]
  },
  {
   "cell_type": "markdown",
   "metadata": {
    "colab_type": "text",
    "id": "UsJ2Wi43rr1l"
   },
   "source": [
    "### Prep"
   ]
  },
  {
   "cell_type": "code",
   "execution_count": 6,
   "metadata": {
    "colab": {},
    "colab_type": "code",
    "id": "jqSNJDstrr1l"
   },
   "outputs": [],
   "source": [
    "# Make a copy of test\n",
    "df_testcopy = df_test.copy()"
   ]
  },
  {
   "cell_type": "code",
   "execution_count": 7,
   "metadata": {
    "colab": {},
    "colab_type": "code",
    "id": "7-Vs-zPGrr1p",
    "outputId": "73d2f7ab-dac5-495c-9f34-292b8beb93a9"
   },
   "outputs": [
    {
     "data": {
      "text/html": [
       "<div>\n",
       "<style scoped>\n",
       "    .dataframe tbody tr th:only-of-type {\n",
       "        vertical-align: middle;\n",
       "    }\n",
       "\n",
       "    .dataframe tbody tr th {\n",
       "        vertical-align: top;\n",
       "    }\n",
       "\n",
       "    .dataframe thead th {\n",
       "        text-align: right;\n",
       "    }\n",
       "</style>\n",
       "<table border=\"1\" class=\"dataframe\">\n",
       "  <thead>\n",
       "    <tr style=\"text-align: right;\">\n",
       "      <th></th>\n",
       "      <th>date</th>\n",
       "      <th>lat</th>\n",
       "      <th>long</th>\n",
       "      <th>wk</th>\n",
       "      <th>yr</th>\n",
       "      <th>tavg</th>\n",
       "      <th>stnpress</th>\n",
       "      <th>dewpt</th>\n",
       "      <th>precip</th>\n",
       "      <th>windspeed</th>\n",
       "      <th>...</th>\n",
       "      <th>trap_T230</th>\n",
       "      <th>trap_T231</th>\n",
       "      <th>trap_T232</th>\n",
       "      <th>trap_T233</th>\n",
       "      <th>trap_T235</th>\n",
       "      <th>trap_T236</th>\n",
       "      <th>trap_T237</th>\n",
       "      <th>trap_T238</th>\n",
       "      <th>trap_T900</th>\n",
       "      <th>trap_T903</th>\n",
       "    </tr>\n",
       "  </thead>\n",
       "  <tbody>\n",
       "    <tr>\n",
       "      <th>0</th>\n",
       "      <td>2008-06-11</td>\n",
       "      <td>41.95469</td>\n",
       "      <td>-87.800991</td>\n",
       "      <td>23</td>\n",
       "      <td>2008</td>\n",
       "      <td>75.0</td>\n",
       "      <td>29.31</td>\n",
       "      <td>55.5</td>\n",
       "      <td>0.0</td>\n",
       "      <td>9.15</td>\n",
       "      <td>...</td>\n",
       "      <td>0</td>\n",
       "      <td>0</td>\n",
       "      <td>0</td>\n",
       "      <td>0</td>\n",
       "      <td>0</td>\n",
       "      <td>0</td>\n",
       "      <td>0</td>\n",
       "      <td>0</td>\n",
       "      <td>0</td>\n",
       "      <td>0</td>\n",
       "    </tr>\n",
       "  </tbody>\n",
       "</table>\n",
       "<p>1 rows × 154 columns</p>\n",
       "</div>"
      ],
      "text/plain": [
       "         date       lat       long  wk    yr  tavg  stnpress  dewpt  precip  \\\n",
       "0  2008-06-11  41.95469 -87.800991  23  2008  75.0     29.31   55.5     0.0   \n",
       "\n",
       "   windspeed  ...  trap_T230  trap_T231  trap_T232  trap_T233  trap_T235  \\\n",
       "0       9.15  ...          0          0          0          0          0   \n",
       "\n",
       "   trap_T236  trap_T237  trap_T238  trap_T900  trap_T903  \n",
       "0          0          0          0          0          0  \n",
       "\n",
       "[1 rows x 154 columns]"
      ]
     },
     "execution_count": 7,
     "metadata": {},
     "output_type": "execute_result"
    }
   ],
   "source": [
    "# Drop unnecessary col\n",
    "df_testcopy.drop(['id','Unnamed: 0'],axis=1,inplace=True)\n",
    "# Review\n",
    "df_testcopy.head(1)"
   ]
  },
  {
   "cell_type": "code",
   "execution_count": 8,
   "metadata": {
    "colab": {},
    "colab_type": "code",
    "id": "OqCfnogOrr1s"
   },
   "outputs": [],
   "source": [
    "# Make a copy of train\n",
    "df_traincopy = df_train.copy()"
   ]
  },
  {
   "cell_type": "code",
   "execution_count": 9,
   "metadata": {
    "colab": {},
    "colab_type": "code",
    "id": "OoeN43eRrr1v",
    "outputId": "5e266e0e-64f2-43c6-a009-a2e9770d8f8c"
   },
   "outputs": [
    {
     "data": {
      "text/html": [
       "<div>\n",
       "<style scoped>\n",
       "    .dataframe tbody tr th:only-of-type {\n",
       "        vertical-align: middle;\n",
       "    }\n",
       "\n",
       "    .dataframe tbody tr th {\n",
       "        vertical-align: top;\n",
       "    }\n",
       "\n",
       "    .dataframe thead th {\n",
       "        text-align: right;\n",
       "    }\n",
       "</style>\n",
       "<table border=\"1\" class=\"dataframe\">\n",
       "  <thead>\n",
       "    <tr style=\"text-align: right;\">\n",
       "      <th></th>\n",
       "      <th>date</th>\n",
       "      <th>lat</th>\n",
       "      <th>long</th>\n",
       "      <th>wnv</th>\n",
       "      <th>num_mos</th>\n",
       "      <th>wk</th>\n",
       "      <th>yr</th>\n",
       "      <th>tavg</th>\n",
       "      <th>stnpress</th>\n",
       "      <th>dewpt</th>\n",
       "      <th>...</th>\n",
       "      <th>trap_T230</th>\n",
       "      <th>trap_T231</th>\n",
       "      <th>trap_T232</th>\n",
       "      <th>trap_T233</th>\n",
       "      <th>trap_T235</th>\n",
       "      <th>trap_T236</th>\n",
       "      <th>trap_T237</th>\n",
       "      <th>trap_T238</th>\n",
       "      <th>trap_T900</th>\n",
       "      <th>trap_T903</th>\n",
       "    </tr>\n",
       "  </thead>\n",
       "  <tbody>\n",
       "    <tr>\n",
       "      <th>0</th>\n",
       "      <td>2007-05-29</td>\n",
       "      <td>41.95469</td>\n",
       "      <td>-87.800991</td>\n",
       "      <td>0</td>\n",
       "      <td>1</td>\n",
       "      <td>22</td>\n",
       "      <td>2007</td>\n",
       "      <td>75.5</td>\n",
       "      <td>29.415</td>\n",
       "      <td>58.5</td>\n",
       "      <td>...</td>\n",
       "      <td>0</td>\n",
       "      <td>0</td>\n",
       "      <td>0</td>\n",
       "      <td>0</td>\n",
       "      <td>0</td>\n",
       "      <td>0</td>\n",
       "      <td>0</td>\n",
       "      <td>0</td>\n",
       "      <td>0</td>\n",
       "      <td>0</td>\n",
       "    </tr>\n",
       "  </tbody>\n",
       "</table>\n",
       "<p>1 rows × 156 columns</p>\n",
       "</div>"
      ],
      "text/plain": [
       "         date       lat       long  wnv  num_mos  wk    yr  tavg  stnpress  \\\n",
       "0  2007-05-29  41.95469 -87.800991    0        1  22  2007  75.5    29.415   \n",
       "\n",
       "   dewpt  ...  trap_T230  trap_T231  trap_T232  trap_T233  trap_T235  \\\n",
       "0   58.5  ...          0          0          0          0          0   \n",
       "\n",
       "   trap_T236  trap_T237  trap_T238  trap_T900  trap_T903  \n",
       "0          0          0          0          0          0  \n",
       "\n",
       "[1 rows x 156 columns]"
      ]
     },
     "execution_count": 9,
     "metadata": {},
     "output_type": "execute_result"
    }
   ],
   "source": [
    "# Drop unnecessary col\n",
    "df_traincopy.drop(['Unnamed: 0'],axis=1,inplace=True)\n",
    "# Review\n",
    "df_traincopy.head(1)"
   ]
  },
  {
   "cell_type": "code",
   "execution_count": 10,
   "metadata": {
    "colab": {},
    "colab_type": "code",
    "id": "HNJWFRYhrr1x",
    "outputId": "866d658b-90c6-4138-fb02-9ef573a4dce1"
   },
   "outputs": [
    {
     "name": "stdout",
     "output_type": "stream",
     "text": [
      "(8610, 156)\n",
      "(116293, 154)\n"
     ]
    }
   ],
   "source": [
    "# Sanity check\n",
    "print(df_traincopy.shape)\n",
    "print(df_testcopy.shape)"
   ]
  },
  {
   "cell_type": "code",
   "execution_count": 11,
   "metadata": {
    "colab": {},
    "colab_type": "code",
    "id": "EJFFt3OLrr10"
   },
   "outputs": [],
   "source": [
    "# Drop date column from test and train\n",
    "df_traincopy.drop(['date'],axis=1,inplace=True)\n",
    "df_testcopy.drop(['date'],axis=1,inplace=True)"
   ]
  },
  {
   "cell_type": "code",
   "execution_count": 12,
   "metadata": {
    "colab": {},
    "colab_type": "code",
    "id": "l-yDJm-yrr12"
   },
   "outputs": [],
   "source": [
    "# trc - TrainComplete set\n",
    "X_trc = df_traincopy.drop(['num_mos','wnv'],axis=1)\n",
    "y_trc = df_traincopy['wnv']"
   ]
  },
  {
   "cell_type": "code",
   "execution_count": 13,
   "metadata": {
    "colab": {},
    "colab_type": "code",
    "id": "Fke6zcUprr15",
    "outputId": "e3ca98e3-f3b8-4ec8-ae69-ca12f823becf"
   },
   "outputs": [
    {
     "data": {
      "text/html": [
       "<div>\n",
       "<style scoped>\n",
       "    .dataframe tbody tr th:only-of-type {\n",
       "        vertical-align: middle;\n",
       "    }\n",
       "\n",
       "    .dataframe tbody tr th {\n",
       "        vertical-align: top;\n",
       "    }\n",
       "\n",
       "    .dataframe thead th {\n",
       "        text-align: right;\n",
       "    }\n",
       "</style>\n",
       "<table border=\"1\" class=\"dataframe\">\n",
       "  <thead>\n",
       "    <tr style=\"text-align: right;\">\n",
       "      <th></th>\n",
       "      <th>lat</th>\n",
       "      <th>long</th>\n",
       "      <th>wnv</th>\n",
       "      <th>num_mos</th>\n",
       "      <th>wk</th>\n",
       "      <th>yr</th>\n",
       "      <th>tavg</th>\n",
       "      <th>stnpress</th>\n",
       "      <th>dewpt</th>\n",
       "      <th>precip</th>\n",
       "      <th>...</th>\n",
       "      <th>trap_T230</th>\n",
       "      <th>trap_T231</th>\n",
       "      <th>trap_T232</th>\n",
       "      <th>trap_T233</th>\n",
       "      <th>trap_T235</th>\n",
       "      <th>trap_T236</th>\n",
       "      <th>trap_T237</th>\n",
       "      <th>trap_T238</th>\n",
       "      <th>trap_T900</th>\n",
       "      <th>trap_T903</th>\n",
       "    </tr>\n",
       "  </thead>\n",
       "  <tbody>\n",
       "    <tr>\n",
       "      <th>0</th>\n",
       "      <td>41.95469</td>\n",
       "      <td>-87.800991</td>\n",
       "      <td>0</td>\n",
       "      <td>1</td>\n",
       "      <td>22</td>\n",
       "      <td>2007</td>\n",
       "      <td>75.5</td>\n",
       "      <td>29.415</td>\n",
       "      <td>58.5</td>\n",
       "      <td>0.0</td>\n",
       "      <td>...</td>\n",
       "      <td>0</td>\n",
       "      <td>0</td>\n",
       "      <td>0</td>\n",
       "      <td>0</td>\n",
       "      <td>0</td>\n",
       "      <td>0</td>\n",
       "      <td>0</td>\n",
       "      <td>0</td>\n",
       "      <td>0</td>\n",
       "      <td>0</td>\n",
       "    </tr>\n",
       "  </tbody>\n",
       "</table>\n",
       "<p>1 rows × 155 columns</p>\n",
       "</div>"
      ],
      "text/plain": [
       "        lat       long  wnv  num_mos  wk    yr  tavg  stnpress  dewpt  precip  \\\n",
       "0  41.95469 -87.800991    0        1  22  2007  75.5    29.415   58.5     0.0   \n",
       "\n",
       "   ...  trap_T230  trap_T231  trap_T232  trap_T233  trap_T235  trap_T236  \\\n",
       "0  ...          0          0          0          0          0          0   \n",
       "\n",
       "   trap_T237  trap_T238  trap_T900  trap_T903  \n",
       "0          0          0          0          0  \n",
       "\n",
       "[1 rows x 155 columns]"
      ]
     },
     "execution_count": 13,
     "metadata": {},
     "output_type": "execute_result"
    }
   ],
   "source": [
    "df_traincopy.head(1)"
   ]
  },
  {
   "cell_type": "code",
   "execution_count": 14,
   "metadata": {
    "colab": {},
    "colab_type": "code",
    "id": "i8lU2MP1rr18",
    "outputId": "566d8dcb-081c-40d1-ddfd-ef80d009e40d"
   },
   "outputs": [
    {
     "data": {
      "text/html": [
       "<div>\n",
       "<style scoped>\n",
       "    .dataframe tbody tr th:only-of-type {\n",
       "        vertical-align: middle;\n",
       "    }\n",
       "\n",
       "    .dataframe tbody tr th {\n",
       "        vertical-align: top;\n",
       "    }\n",
       "\n",
       "    .dataframe thead th {\n",
       "        text-align: right;\n",
       "    }\n",
       "</style>\n",
       "<table border=\"1\" class=\"dataframe\">\n",
       "  <thead>\n",
       "    <tr style=\"text-align: right;\">\n",
       "      <th></th>\n",
       "      <th>lat</th>\n",
       "      <th>long</th>\n",
       "      <th>wk</th>\n",
       "      <th>yr</th>\n",
       "      <th>tavg</th>\n",
       "      <th>stnpress</th>\n",
       "      <th>dewpt</th>\n",
       "      <th>precip</th>\n",
       "      <th>windspeed</th>\n",
       "      <th>daylight</th>\n",
       "      <th>...</th>\n",
       "      <th>trap_T230</th>\n",
       "      <th>trap_T231</th>\n",
       "      <th>trap_T232</th>\n",
       "      <th>trap_T233</th>\n",
       "      <th>trap_T235</th>\n",
       "      <th>trap_T236</th>\n",
       "      <th>trap_T237</th>\n",
       "      <th>trap_T238</th>\n",
       "      <th>trap_T900</th>\n",
       "      <th>trap_T903</th>\n",
       "    </tr>\n",
       "  </thead>\n",
       "  <tbody>\n",
       "    <tr>\n",
       "      <th>0</th>\n",
       "      <td>41.95469</td>\n",
       "      <td>-87.800991</td>\n",
       "      <td>23</td>\n",
       "      <td>2008</td>\n",
       "      <td>75.0</td>\n",
       "      <td>29.31</td>\n",
       "      <td>55.5</td>\n",
       "      <td>0.0</td>\n",
       "      <td>9.15</td>\n",
       "      <td>15.166667</td>\n",
       "      <td>...</td>\n",
       "      <td>0</td>\n",
       "      <td>0</td>\n",
       "      <td>0</td>\n",
       "      <td>0</td>\n",
       "      <td>0</td>\n",
       "      <td>0</td>\n",
       "      <td>0</td>\n",
       "      <td>0</td>\n",
       "      <td>0</td>\n",
       "      <td>0</td>\n",
       "    </tr>\n",
       "  </tbody>\n",
       "</table>\n",
       "<p>1 rows × 153 columns</p>\n",
       "</div>"
      ],
      "text/plain": [
       "        lat       long  wk    yr  tavg  stnpress  dewpt  precip  windspeed  \\\n",
       "0  41.95469 -87.800991  23  2008  75.0     29.31   55.5     0.0       9.15   \n",
       "\n",
       "    daylight  ...  trap_T230  trap_T231  trap_T232  trap_T233  trap_T235  \\\n",
       "0  15.166667  ...          0          0          0          0          0   \n",
       "\n",
       "   trap_T236  trap_T237  trap_T238  trap_T900  trap_T903  \n",
       "0          0          0          0          0          0  \n",
       "\n",
       "[1 rows x 153 columns]"
      ]
     },
     "execution_count": 14,
     "metadata": {},
     "output_type": "execute_result"
    }
   ],
   "source": [
    "df_testcopy.head(1)"
   ]
  },
  {
   "cell_type": "markdown",
   "metadata": {
    "colab_type": "text",
    "id": "67GMBFZLqdPt"
   },
   "source": [
    "### Train-Validate-Split"
   ]
  },
  {
   "cell_type": "code",
   "execution_count": 15,
   "metadata": {
    "colab": {},
    "colab_type": "code",
    "id": "__hfRHBcrr1_"
   },
   "outputs": [],
   "source": [
    "# Train-validate-split\n",
    "X_train,X_val,y_train,y_val = train_test_split(X_trc,y_trc,test_size=0.3,random_state=42, stratify=y_trc)"
   ]
  },
  {
   "cell_type": "code",
   "execution_count": 16,
   "metadata": {
    "colab": {},
    "colab_type": "code",
    "id": "q5owZjicrr2B",
    "outputId": "9e9e854a-de22-4921-8bc9-b138afc455e0"
   },
   "outputs": [
    {
     "name": "stdout",
     "output_type": "stream",
     "text": [
      "0    0.946906\n",
      "1    0.053094\n",
      "Name: wnv, dtype: float64\n"
     ]
    }
   ],
   "source": [
    "print(y_train.value_counts(normalize=True))"
   ]
  },
  {
   "cell_type": "markdown",
   "metadata": {
    "colab_type": "text",
    "id": "JmCkrbVFrr2G"
   },
   "source": [
    "### Train-Validate-Evaluation"
   ]
  },
  {
   "cell_type": "code",
   "execution_count": 17,
   "metadata": {
    "colab": {},
    "colab_type": "code",
    "id": "nLevGiMNrr2H"
   },
   "outputs": [],
   "source": [
    "from imblearn.over_sampling import SMOTE\n",
    "from imblearn.under_sampling import RandomUnderSampler\n",
    "from imblearn.pipeline import Pipeline\n",
    "from sklearn.model_selection import RepeatedStratifiedKFold\n",
    "from xgboost import XGBClassifier\n",
    "\n",
    "# define pipeline\n",
    "\n",
    "xg_pipeline = Pipeline([\n",
    "    ('over', SMOTE(random_state=42)),\n",
    "    ('under', RandomUnderSampler(random_state=42)),\n",
    "    ('xgb', XGBClassifier(random_state=42))\n",
    "])"
   ]
  },
  {
   "cell_type": "code",
   "execution_count": 18,
   "metadata": {
    "colab": {},
    "colab_type": "code",
    "id": "ncrcfYz7rr2K"
   },
   "outputs": [],
   "source": [
    "# Define dictionary of hyperparameters.\n",
    "pipeline_params = {\n",
    "    'over__k_neighbors' : [1,2,3,4,5,6,7,8,9,10],\n",
    "    'over__sampling_strategy' : [0.1],\n",
    "    'under__sampling_strategy' : [0.5],\n",
    "    'xgb__max_depth': [9,11],\n",
    "    'xgb__learning_rate' : [0.1],\n",
    "    'xgb__n_estimators' : [100,125],\n",
    "    'xgb__objective' : ['binary:logistic'],\n",
    "    'xgb__gamma': [0.5,1],\n",
    "    'xgb__min_child_weight': [1,5],\n",
    "    'xgb__subsample': [0.5,1.0],\n",
    "    'xgb__colsample_bytree': [0.5,1.0]\n",
    "}"
   ]
  },
  {
   "cell_type": "code",
   "execution_count": 19,
   "metadata": {
    "colab": {},
    "colab_type": "code",
    "id": "YbbCio-trr2N"
   },
   "outputs": [],
   "source": [
    "# Instantiate our GridSearchCV object.\n",
    "xg_gs = GridSearchCV(xg_pipeline,\n",
    "                     pipeline_params,\n",
    "                     cv=5,\n",
    "                     verbose=1,\n",
    "                     scoring='roc_auc')"
   ]
  },
  {
   "cell_type": "code",
   "execution_count": 20,
   "metadata": {
    "colab": {},
    "colab_type": "code",
    "id": "Zeu29UQsrr2P"
   },
   "outputs": [
    {
     "name": "stdout",
     "output_type": "stream",
     "text": [
      "Fitting 5 folds for each of 640 candidates, totalling 3200 fits\n"
     ]
    },
    {
     "name": "stderr",
     "output_type": "stream",
     "text": [
      "[Parallel(n_jobs=1)]: Using backend SequentialBackend with 1 concurrent workers.\n",
      "[Parallel(n_jobs=1)]: Done 3200 out of 3200 | elapsed: 53.3min finished\n"
     ]
    },
    {
     "data": {
      "text/plain": [
       "GridSearchCV(cv=5, error_score=nan,\n",
       "             estimator=Pipeline(memory=None,\n",
       "                                steps=[('over',\n",
       "                                        SMOTE(k_neighbors=5, n_jobs=None,\n",
       "                                              random_state=42,\n",
       "                                              sampling_strategy='auto')),\n",
       "                                       ('under',\n",
       "                                        RandomUnderSampler(random_state=42,\n",
       "                                                           replacement=False,\n",
       "                                                           sampling_strategy='auto')),\n",
       "                                       ('xgb',\n",
       "                                        XGBClassifier(base_score=0.5,\n",
       "                                                      booster='gbtree',\n",
       "                                                      colsample_bylevel=1,\n",
       "                                                      colsample_bynode=1,\n",
       "                                                      colsample_bytr...\n",
       "                         'under__sampling_strategy': [0.5],\n",
       "                         'xgb__colsample_bytree': [0.5, 1.0],\n",
       "                         'xgb__gamma': [0.5, 1], 'xgb__learning_rate': [0.1],\n",
       "                         'xgb__max_depth': [9, 11],\n",
       "                         'xgb__min_child_weight': [1, 5],\n",
       "                         'xgb__n_estimators': [100, 125],\n",
       "                         'xgb__objective': ['binary:logistic'],\n",
       "                         'xgb__subsample': [0.5, 1.0]},\n",
       "             pre_dispatch='2*n_jobs', refit=True, return_train_score=False,\n",
       "             scoring='roc_auc', verbose=1)"
      ]
     },
     "execution_count": 20,
     "metadata": {},
     "output_type": "execute_result"
    }
   ],
   "source": [
    "# Fit the GridSearchCV object to the data.\n",
    "xg_gs.fit(X_train, y_train)"
   ]
  },
  {
   "cell_type": "code",
   "execution_count": 21,
   "metadata": {
    "colab": {},
    "colab_type": "code",
    "id": "eAqLSSSHrr2R"
   },
   "outputs": [],
   "source": [
    "# Save the best model\n",
    "xg_gs_best = xg_gs.best_estimator_"
   ]
  },
  {
   "cell_type": "code",
   "execution_count": 22,
   "metadata": {
    "colab": {},
    "colab_type": "code",
    "id": "Zp6UmpRzrr2T",
    "outputId": "080d958d-abaa-48c8-edca-eb45d6d57a43"
   },
   "outputs": [
    {
     "name": "stdout",
     "output_type": "stream",
     "text": [
      "roc_auc on train set: 0.8649410983905758\n",
      "roc_auc on validate set: 0.845915602013163\n"
     ]
    }
   ],
   "source": [
    "# Checking the scores -  roc_auc based on param setting\n",
    "print(f\"roc_auc on train set: {xg_gs_best.score(X_train, y_train)}\")\n",
    "print(f\"roc_auc on validate set: {xg_gs_best.score(X_val, y_val)}\")"
   ]
  },
  {
   "cell_type": "code",
   "execution_count": 23,
   "metadata": {
    "colab": {},
    "colab_type": "code",
    "id": "3jCg8TJDrr2W"
   },
   "outputs": [],
   "source": [
    "prediction_xg = xg_gs_best.predict(X_val)"
   ]
  },
  {
   "cell_type": "code",
   "execution_count": 24,
   "metadata": {
    "colab": {},
    "colab_type": "code",
    "id": "Ik9Vbnyerr2Y"
   },
   "outputs": [],
   "source": [
    "# Confusion matrix\n",
    "cm = confusion_matrix(y_val, prediction_xg)\n",
    "# Save TN/FP/FN/TP values.\n",
    "tn, fp, fn, tp = confusion_matrix(y_val,prediction_xg).ravel()"
   ]
  },
  {
   "cell_type": "code",
   "execution_count": 25,
   "metadata": {
    "colab": {},
    "colab_type": "code",
    "id": "_UUatTgsrr2a",
    "outputId": "877cf30b-efcf-40a8-af46-33a33cab30c9"
   },
   "outputs": [
    {
     "name": "stdout",
     "output_type": "stream",
     "text": [
      "Sensitivity: 0.6131\n",
      "Precision: 0.1958\n",
      "F1: 0.2968\n"
     ]
    }
   ],
   "source": [
    "# Summary of metrics for random forest model\n",
    "sens = tp/(tp+fn)\n",
    "prec = tp/(tp+fp)\n",
    "f1 = 2*(prec*sens)/(prec+sens)\n",
    "print(f\"Sensitivity: {round(sens,4)}\")\n",
    "print(f\"Precision: {round(prec,4)}\")\n",
    "print(f\"F1: {round(f1,4)}\")"
   ]
  },
  {
   "cell_type": "code",
   "execution_count": 26,
   "metadata": {
    "colab": {},
    "colab_type": "code",
    "id": "Qu5Yjpx_rr2d",
    "outputId": "cf0b8632-36aa-405e-ad9c-0df14ac1c4c6"
   },
   "outputs": [
    {
     "data": {
      "text/html": [
       "<div>\n",
       "<style scoped>\n",
       "    .dataframe tbody tr th:only-of-type {\n",
       "        vertical-align: middle;\n",
       "    }\n",
       "\n",
       "    .dataframe tbody tr th {\n",
       "        vertical-align: top;\n",
       "    }\n",
       "\n",
       "    .dataframe thead th {\n",
       "        text-align: right;\n",
       "    }\n",
       "</style>\n",
       "<table border=\"1\" class=\"dataframe\">\n",
       "  <thead>\n",
       "    <tr style=\"text-align: right;\">\n",
       "      <th></th>\n",
       "      <th>validate_values</th>\n",
       "      <th>pred_probs</th>\n",
       "    </tr>\n",
       "  </thead>\n",
       "  <tbody>\n",
       "    <tr>\n",
       "      <th>5602</th>\n",
       "      <td>0</td>\n",
       "      <td>0.654928</td>\n",
       "    </tr>\n",
       "    <tr>\n",
       "      <th>1012</th>\n",
       "      <td>0</td>\n",
       "      <td>0.259716</td>\n",
       "    </tr>\n",
       "    <tr>\n",
       "      <th>7561</th>\n",
       "      <td>0</td>\n",
       "      <td>0.313128</td>\n",
       "    </tr>\n",
       "    <tr>\n",
       "      <th>7887</th>\n",
       "      <td>0</td>\n",
       "      <td>0.544017</td>\n",
       "    </tr>\n",
       "    <tr>\n",
       "      <th>4422</th>\n",
       "      <td>0</td>\n",
       "      <td>0.060970</td>\n",
       "    </tr>\n",
       "  </tbody>\n",
       "</table>\n",
       "</div>"
      ],
      "text/plain": [
       "      validate_values  pred_probs\n",
       "5602                0    0.654928\n",
       "1012                0    0.259716\n",
       "7561                0    0.313128\n",
       "7887                0    0.544017\n",
       "4422                0    0.060970"
      ]
     },
     "execution_count": 26,
     "metadata": {},
     "output_type": "execute_result"
    }
   ],
   "source": [
    "pred_proba = [i[1] for i in xg_gs_best.predict_proba(X_val)]\n",
    "\n",
    "pred_df = pd.DataFrame({'validate_values': y_val,\n",
    "                        'pred_probs':pred_proba})\n",
    "pred_df.head()"
   ]
  },
  {
   "cell_type": "code",
   "execution_count": 27,
   "metadata": {
    "colab": {},
    "colab_type": "code",
    "id": "zrD378qPrr2g",
    "outputId": "0b74edb4-7af6-4475-b8a1-f5aadad7f461"
   },
   "outputs": [
    {
     "data": {
      "text/plain": [
       "0.8550142941552124"
      ]
     },
     "execution_count": 27,
     "metadata": {},
     "output_type": "execute_result"
    }
   ],
   "source": [
    "# Calculate ROC AUC.\n",
    "roc_auc_score(pred_df['validate_values'],pred_df['pred_probs'])"
   ]
  },
  {
   "cell_type": "markdown",
   "metadata": {
    "colab_type": "text",
    "id": "Hunfbx0Jrr2i"
   },
   "source": [
    "### Model Train-Test Evaluation"
   ]
  },
  {
   "cell_type": "code",
   "execution_count": 28,
   "metadata": {
    "colab": {},
    "colab_type": "code",
    "id": "gSRMwxc-rr2j",
    "outputId": "f99301e0-c266-4c3a-a91e-956d070d28de"
   },
   "outputs": [
    {
     "data": {
      "text/html": [
       "<div>\n",
       "<style scoped>\n",
       "    .dataframe tbody tr th:only-of-type {\n",
       "        vertical-align: middle;\n",
       "    }\n",
       "\n",
       "    .dataframe tbody tr th {\n",
       "        vertical-align: top;\n",
       "    }\n",
       "\n",
       "    .dataframe thead th {\n",
       "        text-align: right;\n",
       "    }\n",
       "</style>\n",
       "<table border=\"1\" class=\"dataframe\">\n",
       "  <thead>\n",
       "    <tr style=\"text-align: right;\">\n",
       "      <th></th>\n",
       "      <th>lat</th>\n",
       "      <th>long</th>\n",
       "      <th>wnv</th>\n",
       "      <th>num_mos</th>\n",
       "      <th>wk</th>\n",
       "      <th>yr</th>\n",
       "      <th>tavg</th>\n",
       "      <th>stnpress</th>\n",
       "      <th>dewpt</th>\n",
       "      <th>precip</th>\n",
       "      <th>...</th>\n",
       "      <th>trap_T230</th>\n",
       "      <th>trap_T231</th>\n",
       "      <th>trap_T232</th>\n",
       "      <th>trap_T233</th>\n",
       "      <th>trap_T235</th>\n",
       "      <th>trap_T236</th>\n",
       "      <th>trap_T237</th>\n",
       "      <th>trap_T238</th>\n",
       "      <th>trap_T900</th>\n",
       "      <th>trap_T903</th>\n",
       "    </tr>\n",
       "  </thead>\n",
       "  <tbody>\n",
       "    <tr>\n",
       "      <th>0</th>\n",
       "      <td>41.95469</td>\n",
       "      <td>-87.800991</td>\n",
       "      <td>0</td>\n",
       "      <td>1</td>\n",
       "      <td>22</td>\n",
       "      <td>2007</td>\n",
       "      <td>75.5</td>\n",
       "      <td>29.415</td>\n",
       "      <td>58.5</td>\n",
       "      <td>0.0</td>\n",
       "      <td>...</td>\n",
       "      <td>0</td>\n",
       "      <td>0</td>\n",
       "      <td>0</td>\n",
       "      <td>0</td>\n",
       "      <td>0</td>\n",
       "      <td>0</td>\n",
       "      <td>0</td>\n",
       "      <td>0</td>\n",
       "      <td>0</td>\n",
       "      <td>0</td>\n",
       "    </tr>\n",
       "  </tbody>\n",
       "</table>\n",
       "<p>1 rows × 155 columns</p>\n",
       "</div>"
      ],
      "text/plain": [
       "        lat       long  wnv  num_mos  wk    yr  tavg  stnpress  dewpt  precip  \\\n",
       "0  41.95469 -87.800991    0        1  22  2007  75.5    29.415   58.5     0.0   \n",
       "\n",
       "   ...  trap_T230  trap_T231  trap_T232  trap_T233  trap_T235  trap_T236  \\\n",
       "0  ...          0          0          0          0          0          0   \n",
       "\n",
       "   trap_T237  trap_T238  trap_T900  trap_T903  \n",
       "0          0          0          0          0  \n",
       "\n",
       "[1 rows x 155 columns]"
      ]
     },
     "execution_count": 28,
     "metadata": {},
     "output_type": "execute_result"
    }
   ],
   "source": [
    "# Check train set headers\n",
    "df_traincopy.head(1)"
   ]
  },
  {
   "cell_type": "code",
   "execution_count": 29,
   "metadata": {
    "colab": {},
    "colab_type": "code",
    "id": "RDVciLSDrr2l",
    "outputId": "35988d83-b5c9-48b4-ddc6-97b93e6901cb"
   },
   "outputs": [
    {
     "data": {
      "text/html": [
       "<div>\n",
       "<style scoped>\n",
       "    .dataframe tbody tr th:only-of-type {\n",
       "        vertical-align: middle;\n",
       "    }\n",
       "\n",
       "    .dataframe tbody tr th {\n",
       "        vertical-align: top;\n",
       "    }\n",
       "\n",
       "    .dataframe thead th {\n",
       "        text-align: right;\n",
       "    }\n",
       "</style>\n",
       "<table border=\"1\" class=\"dataframe\">\n",
       "  <thead>\n",
       "    <tr style=\"text-align: right;\">\n",
       "      <th></th>\n",
       "      <th>lat</th>\n",
       "      <th>long</th>\n",
       "      <th>wk</th>\n",
       "      <th>yr</th>\n",
       "      <th>tavg</th>\n",
       "      <th>stnpress</th>\n",
       "      <th>dewpt</th>\n",
       "      <th>precip</th>\n",
       "      <th>windspeed</th>\n",
       "      <th>daylight</th>\n",
       "      <th>...</th>\n",
       "      <th>trap_T230</th>\n",
       "      <th>trap_T231</th>\n",
       "      <th>trap_T232</th>\n",
       "      <th>trap_T233</th>\n",
       "      <th>trap_T235</th>\n",
       "      <th>trap_T236</th>\n",
       "      <th>trap_T237</th>\n",
       "      <th>trap_T238</th>\n",
       "      <th>trap_T900</th>\n",
       "      <th>trap_T903</th>\n",
       "    </tr>\n",
       "  </thead>\n",
       "  <tbody>\n",
       "    <tr>\n",
       "      <th>0</th>\n",
       "      <td>41.95469</td>\n",
       "      <td>-87.800991</td>\n",
       "      <td>23</td>\n",
       "      <td>2008</td>\n",
       "      <td>75.0</td>\n",
       "      <td>29.31</td>\n",
       "      <td>55.5</td>\n",
       "      <td>0.0</td>\n",
       "      <td>9.15</td>\n",
       "      <td>15.166667</td>\n",
       "      <td>...</td>\n",
       "      <td>0</td>\n",
       "      <td>0</td>\n",
       "      <td>0</td>\n",
       "      <td>0</td>\n",
       "      <td>0</td>\n",
       "      <td>0</td>\n",
       "      <td>0</td>\n",
       "      <td>0</td>\n",
       "      <td>0</td>\n",
       "      <td>0</td>\n",
       "    </tr>\n",
       "  </tbody>\n",
       "</table>\n",
       "<p>1 rows × 153 columns</p>\n",
       "</div>"
      ],
      "text/plain": [
       "        lat       long  wk    yr  tavg  stnpress  dewpt  precip  windspeed  \\\n",
       "0  41.95469 -87.800991  23  2008  75.0     29.31   55.5     0.0       9.15   \n",
       "\n",
       "    daylight  ...  trap_T230  trap_T231  trap_T232  trap_T233  trap_T235  \\\n",
       "0  15.166667  ...          0          0          0          0          0   \n",
       "\n",
       "   trap_T236  trap_T237  trap_T238  trap_T900  trap_T903  \n",
       "0          0          0          0          0          0  \n",
       "\n",
       "[1 rows x 153 columns]"
      ]
     },
     "execution_count": 29,
     "metadata": {},
     "output_type": "execute_result"
    }
   ],
   "source": [
    "# Check test set headers\n",
    "df_testcopy.head(1)"
   ]
  },
  {
   "cell_type": "code",
   "execution_count": 30,
   "metadata": {
    "colab": {},
    "colab_type": "code",
    "id": "bX5N-AQqrr2n"
   },
   "outputs": [],
   "source": [
    "# making a copy of the train_kaggle df\n",
    "X_train_kaggle = df_traincopy.copy().drop(['num_mos','wnv'],axis=1)\n",
    "y_train_kaggle = df_traincopy.copy()['wnv']\n",
    "\n",
    "X_test_kaggle = df_testcopy.copy()"
   ]
  },
  {
   "cell_type": "code",
   "execution_count": 31,
   "metadata": {
    "colab": {},
    "colab_type": "code",
    "id": "TYHtwXiFrr2q",
    "outputId": "42efbf80-adca-4cde-a7df-b3882a369150"
   },
   "outputs": [
    {
     "data": {
      "text/plain": [
       "Index([], dtype='object')"
      ]
     },
     "execution_count": 31,
     "metadata": {},
     "output_type": "execute_result"
    }
   ],
   "source": [
    "X_train_kaggle.columns.difference(X_test_kaggle.columns)"
   ]
  },
  {
   "cell_type": "code",
   "execution_count": 32,
   "metadata": {
    "colab": {},
    "colab_type": "code",
    "id": "3w6WBYwZrr2t",
    "outputId": "40003b77-60d4-4afc-9732-2f3fa84e4daf"
   },
   "outputs": [
    {
     "data": {
      "text/plain": [
       "Index([], dtype='object')"
      ]
     },
     "execution_count": 32,
     "metadata": {},
     "output_type": "execute_result"
    }
   ],
   "source": [
    "X_test_kaggle.columns.difference(X_train_kaggle.columns)"
   ]
  },
  {
   "cell_type": "code",
   "execution_count": 33,
   "metadata": {
    "colab": {},
    "colab_type": "code",
    "id": "2g_w024brr2w",
    "outputId": "90ab2ad1-d6cc-465c-cc84-b6f24a3c551a"
   },
   "outputs": [
    {
     "data": {
      "text/plain": [
       "(8610, 153)"
      ]
     },
     "execution_count": 33,
     "metadata": {},
     "output_type": "execute_result"
    }
   ],
   "source": [
    "#checking shape\n",
    "X_train_kaggle.shape"
   ]
  },
  {
   "cell_type": "code",
   "execution_count": 34,
   "metadata": {
    "colab": {},
    "colab_type": "code",
    "id": "L7_WUguBrr2y",
    "outputId": "ac562d35-a1f1-4984-8bdf-56c91b7269f1"
   },
   "outputs": [
    {
     "data": {
      "text/html": [
       "<div>\n",
       "<style scoped>\n",
       "    .dataframe tbody tr th:only-of-type {\n",
       "        vertical-align: middle;\n",
       "    }\n",
       "\n",
       "    .dataframe tbody tr th {\n",
       "        vertical-align: top;\n",
       "    }\n",
       "\n",
       "    .dataframe thead th {\n",
       "        text-align: right;\n",
       "    }\n",
       "</style>\n",
       "<table border=\"1\" class=\"dataframe\">\n",
       "  <thead>\n",
       "    <tr style=\"text-align: right;\">\n",
       "      <th></th>\n",
       "      <th>lat</th>\n",
       "      <th>long</th>\n",
       "      <th>wk</th>\n",
       "      <th>yr</th>\n",
       "      <th>tavg</th>\n",
       "      <th>stnpress</th>\n",
       "      <th>dewpt</th>\n",
       "      <th>precip</th>\n",
       "      <th>windspeed</th>\n",
       "      <th>daylight</th>\n",
       "      <th>...</th>\n",
       "      <th>trap_T230</th>\n",
       "      <th>trap_T231</th>\n",
       "      <th>trap_T232</th>\n",
       "      <th>trap_T233</th>\n",
       "      <th>trap_T235</th>\n",
       "      <th>trap_T236</th>\n",
       "      <th>trap_T237</th>\n",
       "      <th>trap_T238</th>\n",
       "      <th>trap_T900</th>\n",
       "      <th>trap_T903</th>\n",
       "    </tr>\n",
       "  </thead>\n",
       "  <tbody>\n",
       "    <tr>\n",
       "      <th>0</th>\n",
       "      <td>41.954690</td>\n",
       "      <td>-87.800991</td>\n",
       "      <td>22</td>\n",
       "      <td>2007</td>\n",
       "      <td>75.5</td>\n",
       "      <td>29.415</td>\n",
       "      <td>58.5</td>\n",
       "      <td>0.0</td>\n",
       "      <td>5.8</td>\n",
       "      <td>15.6</td>\n",
       "      <td>...</td>\n",
       "      <td>0</td>\n",
       "      <td>0</td>\n",
       "      <td>0</td>\n",
       "      <td>0</td>\n",
       "      <td>0</td>\n",
       "      <td>0</td>\n",
       "      <td>0</td>\n",
       "      <td>0</td>\n",
       "      <td>0</td>\n",
       "      <td>0</td>\n",
       "    </tr>\n",
       "    <tr>\n",
       "      <th>1</th>\n",
       "      <td>41.954690</td>\n",
       "      <td>-87.800991</td>\n",
       "      <td>22</td>\n",
       "      <td>2007</td>\n",
       "      <td>75.5</td>\n",
       "      <td>29.415</td>\n",
       "      <td>58.5</td>\n",
       "      <td>0.0</td>\n",
       "      <td>5.8</td>\n",
       "      <td>15.6</td>\n",
       "      <td>...</td>\n",
       "      <td>0</td>\n",
       "      <td>0</td>\n",
       "      <td>0</td>\n",
       "      <td>0</td>\n",
       "      <td>0</td>\n",
       "      <td>0</td>\n",
       "      <td>0</td>\n",
       "      <td>0</td>\n",
       "      <td>0</td>\n",
       "      <td>0</td>\n",
       "    </tr>\n",
       "    <tr>\n",
       "      <th>2</th>\n",
       "      <td>41.994991</td>\n",
       "      <td>-87.769279</td>\n",
       "      <td>22</td>\n",
       "      <td>2007</td>\n",
       "      <td>75.5</td>\n",
       "      <td>29.415</td>\n",
       "      <td>58.5</td>\n",
       "      <td>0.0</td>\n",
       "      <td>5.8</td>\n",
       "      <td>15.6</td>\n",
       "      <td>...</td>\n",
       "      <td>0</td>\n",
       "      <td>0</td>\n",
       "      <td>0</td>\n",
       "      <td>0</td>\n",
       "      <td>0</td>\n",
       "      <td>0</td>\n",
       "      <td>0</td>\n",
       "      <td>0</td>\n",
       "      <td>0</td>\n",
       "      <td>0</td>\n",
       "    </tr>\n",
       "    <tr>\n",
       "      <th>3</th>\n",
       "      <td>41.974089</td>\n",
       "      <td>-87.824812</td>\n",
       "      <td>22</td>\n",
       "      <td>2007</td>\n",
       "      <td>75.5</td>\n",
       "      <td>29.415</td>\n",
       "      <td>58.5</td>\n",
       "      <td>0.0</td>\n",
       "      <td>5.8</td>\n",
       "      <td>15.6</td>\n",
       "      <td>...</td>\n",
       "      <td>0</td>\n",
       "      <td>0</td>\n",
       "      <td>0</td>\n",
       "      <td>0</td>\n",
       "      <td>0</td>\n",
       "      <td>0</td>\n",
       "      <td>0</td>\n",
       "      <td>0</td>\n",
       "      <td>0</td>\n",
       "      <td>0</td>\n",
       "    </tr>\n",
       "    <tr>\n",
       "      <th>4</th>\n",
       "      <td>41.974089</td>\n",
       "      <td>-87.824812</td>\n",
       "      <td>22</td>\n",
       "      <td>2007</td>\n",
       "      <td>75.5</td>\n",
       "      <td>29.415</td>\n",
       "      <td>58.5</td>\n",
       "      <td>0.0</td>\n",
       "      <td>5.8</td>\n",
       "      <td>15.6</td>\n",
       "      <td>...</td>\n",
       "      <td>0</td>\n",
       "      <td>0</td>\n",
       "      <td>0</td>\n",
       "      <td>0</td>\n",
       "      <td>0</td>\n",
       "      <td>0</td>\n",
       "      <td>0</td>\n",
       "      <td>0</td>\n",
       "      <td>0</td>\n",
       "      <td>0</td>\n",
       "    </tr>\n",
       "  </tbody>\n",
       "</table>\n",
       "<p>5 rows × 153 columns</p>\n",
       "</div>"
      ],
      "text/plain": [
       "         lat       long  wk    yr  tavg  stnpress  dewpt  precip  windspeed  \\\n",
       "0  41.954690 -87.800991  22  2007  75.5    29.415   58.5     0.0        5.8   \n",
       "1  41.954690 -87.800991  22  2007  75.5    29.415   58.5     0.0        5.8   \n",
       "2  41.994991 -87.769279  22  2007  75.5    29.415   58.5     0.0        5.8   \n",
       "3  41.974089 -87.824812  22  2007  75.5    29.415   58.5     0.0        5.8   \n",
       "4  41.974089 -87.824812  22  2007  75.5    29.415   58.5     0.0        5.8   \n",
       "\n",
       "   daylight  ...  trap_T230  trap_T231  trap_T232  trap_T233  trap_T235  \\\n",
       "0      15.6  ...          0          0          0          0          0   \n",
       "1      15.6  ...          0          0          0          0          0   \n",
       "2      15.6  ...          0          0          0          0          0   \n",
       "3      15.6  ...          0          0          0          0          0   \n",
       "4      15.6  ...          0          0          0          0          0   \n",
       "\n",
       "   trap_T236  trap_T237  trap_T238  trap_T900  trap_T903  \n",
       "0          0          0          0          0          0  \n",
       "1          0          0          0          0          0  \n",
       "2          0          0          0          0          0  \n",
       "3          0          0          0          0          0  \n",
       "4          0          0          0          0          0  \n",
       "\n",
       "[5 rows x 153 columns]"
      ]
     },
     "execution_count": 34,
     "metadata": {},
     "output_type": "execute_result"
    }
   ],
   "source": [
    "X_train_kaggle.head()"
   ]
  },
  {
   "cell_type": "code",
   "execution_count": 35,
   "metadata": {
    "colab": {},
    "colab_type": "code",
    "id": "tbuDbCcbrr20",
    "outputId": "ba2df1e3-9fc9-4658-9f39-de3e5d313030"
   },
   "outputs": [
    {
     "data": {
      "text/html": [
       "<div>\n",
       "<style scoped>\n",
       "    .dataframe tbody tr th:only-of-type {\n",
       "        vertical-align: middle;\n",
       "    }\n",
       "\n",
       "    .dataframe tbody tr th {\n",
       "        vertical-align: top;\n",
       "    }\n",
       "\n",
       "    .dataframe thead th {\n",
       "        text-align: right;\n",
       "    }\n",
       "</style>\n",
       "<table border=\"1\" class=\"dataframe\">\n",
       "  <thead>\n",
       "    <tr style=\"text-align: right;\">\n",
       "      <th></th>\n",
       "      <th>lat</th>\n",
       "      <th>long</th>\n",
       "      <th>wk</th>\n",
       "      <th>yr</th>\n",
       "      <th>tavg</th>\n",
       "      <th>stnpress</th>\n",
       "      <th>dewpt</th>\n",
       "      <th>precip</th>\n",
       "      <th>windspeed</th>\n",
       "      <th>daylight</th>\n",
       "      <th>...</th>\n",
       "      <th>trap_T230</th>\n",
       "      <th>trap_T231</th>\n",
       "      <th>trap_T232</th>\n",
       "      <th>trap_T233</th>\n",
       "      <th>trap_T235</th>\n",
       "      <th>trap_T236</th>\n",
       "      <th>trap_T237</th>\n",
       "      <th>trap_T238</th>\n",
       "      <th>trap_T900</th>\n",
       "      <th>trap_T903</th>\n",
       "    </tr>\n",
       "  </thead>\n",
       "  <tbody>\n",
       "    <tr>\n",
       "      <th>0</th>\n",
       "      <td>41.95469</td>\n",
       "      <td>-87.800991</td>\n",
       "      <td>23</td>\n",
       "      <td>2008</td>\n",
       "      <td>75.0</td>\n",
       "      <td>29.31</td>\n",
       "      <td>55.5</td>\n",
       "      <td>0.0</td>\n",
       "      <td>9.15</td>\n",
       "      <td>15.166667</td>\n",
       "      <td>...</td>\n",
       "      <td>0</td>\n",
       "      <td>0</td>\n",
       "      <td>0</td>\n",
       "      <td>0</td>\n",
       "      <td>0</td>\n",
       "      <td>0</td>\n",
       "      <td>0</td>\n",
       "      <td>0</td>\n",
       "      <td>0</td>\n",
       "      <td>0</td>\n",
       "    </tr>\n",
       "    <tr>\n",
       "      <th>1</th>\n",
       "      <td>41.95469</td>\n",
       "      <td>-87.800991</td>\n",
       "      <td>23</td>\n",
       "      <td>2008</td>\n",
       "      <td>75.0</td>\n",
       "      <td>29.31</td>\n",
       "      <td>55.5</td>\n",
       "      <td>0.0</td>\n",
       "      <td>9.15</td>\n",
       "      <td>15.166667</td>\n",
       "      <td>...</td>\n",
       "      <td>0</td>\n",
       "      <td>0</td>\n",
       "      <td>0</td>\n",
       "      <td>0</td>\n",
       "      <td>0</td>\n",
       "      <td>0</td>\n",
       "      <td>0</td>\n",
       "      <td>0</td>\n",
       "      <td>0</td>\n",
       "      <td>0</td>\n",
       "    </tr>\n",
       "    <tr>\n",
       "      <th>2</th>\n",
       "      <td>41.95469</td>\n",
       "      <td>-87.800991</td>\n",
       "      <td>23</td>\n",
       "      <td>2008</td>\n",
       "      <td>75.0</td>\n",
       "      <td>29.31</td>\n",
       "      <td>55.5</td>\n",
       "      <td>0.0</td>\n",
       "      <td>9.15</td>\n",
       "      <td>15.166667</td>\n",
       "      <td>...</td>\n",
       "      <td>0</td>\n",
       "      <td>0</td>\n",
       "      <td>0</td>\n",
       "      <td>0</td>\n",
       "      <td>0</td>\n",
       "      <td>0</td>\n",
       "      <td>0</td>\n",
       "      <td>0</td>\n",
       "      <td>0</td>\n",
       "      <td>0</td>\n",
       "    </tr>\n",
       "    <tr>\n",
       "      <th>3</th>\n",
       "      <td>41.95469</td>\n",
       "      <td>-87.800991</td>\n",
       "      <td>23</td>\n",
       "      <td>2008</td>\n",
       "      <td>75.0</td>\n",
       "      <td>29.31</td>\n",
       "      <td>55.5</td>\n",
       "      <td>0.0</td>\n",
       "      <td>9.15</td>\n",
       "      <td>15.166667</td>\n",
       "      <td>...</td>\n",
       "      <td>0</td>\n",
       "      <td>0</td>\n",
       "      <td>0</td>\n",
       "      <td>0</td>\n",
       "      <td>0</td>\n",
       "      <td>0</td>\n",
       "      <td>0</td>\n",
       "      <td>0</td>\n",
       "      <td>0</td>\n",
       "      <td>0</td>\n",
       "    </tr>\n",
       "    <tr>\n",
       "      <th>4</th>\n",
       "      <td>41.95469</td>\n",
       "      <td>-87.800991</td>\n",
       "      <td>23</td>\n",
       "      <td>2008</td>\n",
       "      <td>75.0</td>\n",
       "      <td>29.31</td>\n",
       "      <td>55.5</td>\n",
       "      <td>0.0</td>\n",
       "      <td>9.15</td>\n",
       "      <td>15.166667</td>\n",
       "      <td>...</td>\n",
       "      <td>0</td>\n",
       "      <td>0</td>\n",
       "      <td>0</td>\n",
       "      <td>0</td>\n",
       "      <td>0</td>\n",
       "      <td>0</td>\n",
       "      <td>0</td>\n",
       "      <td>0</td>\n",
       "      <td>0</td>\n",
       "      <td>0</td>\n",
       "    </tr>\n",
       "  </tbody>\n",
       "</table>\n",
       "<p>5 rows × 153 columns</p>\n",
       "</div>"
      ],
      "text/plain": [
       "        lat       long  wk    yr  tavg  stnpress  dewpt  precip  windspeed  \\\n",
       "0  41.95469 -87.800991  23  2008  75.0     29.31   55.5     0.0       9.15   \n",
       "1  41.95469 -87.800991  23  2008  75.0     29.31   55.5     0.0       9.15   \n",
       "2  41.95469 -87.800991  23  2008  75.0     29.31   55.5     0.0       9.15   \n",
       "3  41.95469 -87.800991  23  2008  75.0     29.31   55.5     0.0       9.15   \n",
       "4  41.95469 -87.800991  23  2008  75.0     29.31   55.5     0.0       9.15   \n",
       "\n",
       "    daylight  ...  trap_T230  trap_T231  trap_T232  trap_T233  trap_T235  \\\n",
       "0  15.166667  ...          0          0          0          0          0   \n",
       "1  15.166667  ...          0          0          0          0          0   \n",
       "2  15.166667  ...          0          0          0          0          0   \n",
       "3  15.166667  ...          0          0          0          0          0   \n",
       "4  15.166667  ...          0          0          0          0          0   \n",
       "\n",
       "   trap_T236  trap_T237  trap_T238  trap_T900  trap_T903  \n",
       "0          0          0          0          0          0  \n",
       "1          0          0          0          0          0  \n",
       "2          0          0          0          0          0  \n",
       "3          0          0          0          0          0  \n",
       "4          0          0          0          0          0  \n",
       "\n",
       "[5 rows x 153 columns]"
      ]
     },
     "execution_count": 35,
     "metadata": {},
     "output_type": "execute_result"
    }
   ],
   "source": [
    "X_test_kaggle.head()"
   ]
  },
  {
   "cell_type": "code",
   "execution_count": 36,
   "metadata": {
    "colab": {},
    "colab_type": "code",
    "id": "VQRX9h4jrr23",
    "outputId": "06afc7f1-5109-46ff-c70b-19847a4edfd4"
   },
   "outputs": [
    {
     "data": {
      "text/plain": [
       "(116293, 153)"
      ]
     },
     "execution_count": 36,
     "metadata": {},
     "output_type": "execute_result"
    }
   ],
   "source": [
    "#checking shape\n",
    "X_test_kaggle.shape"
   ]
  },
  {
   "cell_type": "code",
   "execution_count": 37,
   "metadata": {
    "colab": {},
    "colab_type": "code",
    "id": "FgAL0yzfrr25"
   },
   "outputs": [],
   "source": [
    "# Use XGBoost model with Undersample and Oversample for kaggle submission\n",
    "xg_model = xg_gs.best_estimator_"
   ]
  },
  {
   "cell_type": "code",
   "execution_count": 38,
   "metadata": {
    "colab": {},
    "colab_type": "code",
    "id": "tVodQkI8rr27",
    "outputId": "9ee967af-a2a6-4f1a-f03f-5b63af32d73c"
   },
   "outputs": [
    {
     "data": {
      "text/plain": [
       "Pipeline(memory=None,\n",
       "         steps=[('over',\n",
       "                 SMOTE(k_neighbors=5, n_jobs=None, random_state=42,\n",
       "                       sampling_strategy=0.1)),\n",
       "                ('under',\n",
       "                 RandomUnderSampler(random_state=42, replacement=False,\n",
       "                                    sampling_strategy=0.5)),\n",
       "                ('xgb',\n",
       "                 XGBClassifier(base_score=0.5, booster='gbtree',\n",
       "                               colsample_bylevel=1, colsample_bynode=1,\n",
       "                               colsample_bytree=0.5, gamma=1, learning_rate=0.1,\n",
       "                               max_delta_step=0, max_depth=9,\n",
       "                               min_child_weight=1, missing=None,\n",
       "                               n_estimators=100, n_jobs=1, nthread=None,\n",
       "                               objective='binary:logistic', random_state=42,\n",
       "                               reg_alpha=0, reg_lambda=1, scale_pos_weight=1,\n",
       "                               seed=None, silent=None, subsample=1.0,\n",
       "                               verbosity=1))],\n",
       "         verbose=False)"
      ]
     },
     "execution_count": 38,
     "metadata": {},
     "output_type": "execute_result"
    }
   ],
   "source": [
    "xg_model.fit(X_train_kaggle, y_train_kaggle)"
   ]
  },
  {
   "cell_type": "code",
   "execution_count": 39,
   "metadata": {
    "colab": {},
    "colab_type": "code",
    "id": "E1sPLUY9rr2-",
    "outputId": "d9db0b0f-1bdf-490d-e6f1-8cc34bb44483"
   },
   "outputs": [
    {
     "name": "stdout",
     "output_type": "stream",
     "text": [
      "roc_auc on train set: 0.8816492450638792\n"
     ]
    }
   ],
   "source": [
    "print(f\"roc_auc on train set: {xg_model.score(X_train_kaggle,y_train_kaggle)}\")"
   ]
  },
  {
   "cell_type": "code",
   "execution_count": 40,
   "metadata": {
    "colab": {},
    "colab_type": "code",
    "id": "0QwahSyJrr3C"
   },
   "outputs": [],
   "source": [
    "# predicting kaggle output\n",
    "predict_kaggle = xg_model.predict(X_test_kaggle)"
   ]
  },
  {
   "cell_type": "code",
   "execution_count": 41,
   "metadata": {
    "colab": {},
    "colab_type": "code",
    "id": "9phNGMZtrr3H"
   },
   "outputs": [],
   "source": [
    "# probability predicition\n",
    "predict_proba_kaggle = xg_model.predict_proba(X_test_kaggle)"
   ]
  },
  {
   "cell_type": "code",
   "execution_count": 70,
   "metadata": {
    "colab": {},
    "colab_type": "code",
    "id": "fhlIPfCCrr3L"
   },
   "outputs": [],
   "source": [
    "#Saving an output CSV file for submission\n",
    "output3 = pd.DataFrame({'Id': df_test['id'], 'WnvPresent': predict_proba_kaggle[:,1]})\n",
    "output3.to_csv('my_submission_DSI3.csv', index=False)"
   ]
  },
  {
   "cell_type": "markdown",
   "metadata": {
    "colab_type": "text",
    "id": "viJdeekCrr3Q"
   },
   "source": [
    "### Conclusion"
   ]
  },
  {
   "cell_type": "code",
   "execution_count": 42,
   "metadata": {
    "colab": {},
    "colab_type": "code",
    "id": "zE7Z0yP_rr3Q"
   },
   "outputs": [
    {
     "data": {
      "text/html": [
       "<div>\n",
       "<style scoped>\n",
       "    .dataframe tbody tr th:only-of-type {\n",
       "        vertical-align: middle;\n",
       "    }\n",
       "\n",
       "    .dataframe tbody tr th {\n",
       "        vertical-align: top;\n",
       "    }\n",
       "\n",
       "    .dataframe thead th {\n",
       "        text-align: right;\n",
       "    }\n",
       "</style>\n",
       "<table border=\"1\" class=\"dataframe\">\n",
       "  <thead>\n",
       "    <tr style=\"text-align: right;\">\n",
       "      <th></th>\n",
       "      <th>RF(Smote O&amp;U)</th>\n",
       "      <th>XGBc(Smote O&amp;U)</th>\n",
       "    </tr>\n",
       "  </thead>\n",
       "  <tbody>\n",
       "    <tr>\n",
       "      <th>roc_auc(val)</th>\n",
       "      <td>0.856</td>\n",
       "      <td>0.846</td>\n",
       "    </tr>\n",
       "    <tr>\n",
       "      <th>sensitivity</th>\n",
       "      <td>0.657</td>\n",
       "      <td>0.613</td>\n",
       "    </tr>\n",
       "    <tr>\n",
       "      <th>precision</th>\n",
       "      <td>0.217</td>\n",
       "      <td>0.196</td>\n",
       "    </tr>\n",
       "    <tr>\n",
       "      <th>F1</th>\n",
       "      <td>0.326</td>\n",
       "      <td>0.297</td>\n",
       "    </tr>\n",
       "    <tr>\n",
       "      <th>roc_auc</th>\n",
       "      <td>0.862</td>\n",
       "      <td>0.855</td>\n",
       "    </tr>\n",
       "  </tbody>\n",
       "</table>\n",
       "</div>"
      ],
      "text/plain": [
       "              RF(Smote O&U)  XGBc(Smote O&U)\n",
       "roc_auc(val)          0.856            0.846\n",
       "sensitivity           0.657            0.613\n",
       "precision             0.217            0.196\n",
       "F1                    0.326            0.297\n",
       "roc_auc               0.862            0.855"
      ]
     },
     "execution_count": 42,
     "metadata": {},
     "output_type": "execute_result"
    }
   ],
   "source": [
    "# Summary of Model scores in Dataframe\n",
    "summary_df = pd.DataFrame({'roc_auc(val)':[0.856,0.846],\\\n",
    "                           'sensitivity':[0.657,0.613],\\\n",
    "                           'precision':[0.217,0.196],\\\n",
    "                           'F1':[0.326,0.297],\\\n",
    "                           'roc_auc':[0.862,0.855]})\n",
    "# Transpose dataframe\n",
    "summary_dft = summary_df.T\n",
    "# Rename columns\n",
    "summary_dft.columns = ['RF(Smote O&U)', 'XGBc(Smote O&U)']\n",
    "summary_dft"
   ]
  },
  {
   "cell_type": "markdown",
   "metadata": {
    "colab_type": "text",
    "id": "Iu-z0Njorr3P"
   },
   "source": [
    "Earlier, Kaggle submission scores:\n",
    "XGBoost (Oversampling): 0.74579\n",
    "RandomForest (Undersampling + Oversampling): 0.73774\n",
    "\n",
    "XGBoost (Undersampling + Oversampling): 0.75410\n",
    "\n",
    "From this, the team is able a better understanding on the potential advantages of combined Oversampling & undersampling technique compared to Oversampling alone."
   ]
  },
  {
   "cell_type": "code",
   "execution_count": null,
   "metadata": {},
   "outputs": [],
   "source": []
  }
 ],
 "metadata": {
  "colab": {
   "collapsed_sections": [],
   "name": "4_13 Machine Learning (Final).ipynb",
   "provenance": []
  },
  "kernelspec": {
   "display_name": "Python 3",
   "language": "python",
   "name": "python3"
  },
  "language_info": {
   "codemirror_mode": {
    "name": "ipython",
    "version": 3
   },
   "file_extension": ".py",
   "mimetype": "text/x-python",
   "name": "python",
   "nbconvert_exporter": "python",
   "pygments_lexer": "ipython3",
   "version": "3.7.6"
  }
 },
 "nbformat": 4,
 "nbformat_minor": 1
}
