{
 "cells": [
  {
   "cell_type": "markdown",
   "metadata": {
    "colab_type": "text",
    "id": "q7UBAjgGOdLS"
   },
   "source": [
    "### Machine Learning"
   ]
  },
  {
   "cell_type": "markdown",
   "metadata": {},
   "source": [
    "Note: The following models were commented out (using \"\"\"xxx\"\"\") as they took a long time (more than 40 mins) to run. Please comment in if you'd like to run them on your machine.\n",
    "- SVM\n",
    "- Random Forest\n",
    "- GradientBoost\n",
    "- XGBoost classifier "
   ]
  },
  {
   "cell_type": "code",
   "execution_count": 1,
   "metadata": {
    "colab": {},
    "colab_type": "code",
    "id": "1o38MXLKN4Nq"
   },
   "outputs": [],
   "source": [
    "# wip, refactor as we firm model choices\n",
    "# Import libraries for pre-processing\n",
    "import pandas as pd\n",
    "import numpy as np\n",
    "from sklearn.preprocessing import StandardScaler\n",
    "from sklearn.model_selection import train_test_split, cross_val_score\n",
    "\n",
    "from sklearn.pipeline import Pipeline\n",
    "from sklearn.model_selection import GridSearchCV\n",
    "from sklearn.linear_model import LogisticRegression\n",
    "from sklearn.svm import SVC\n",
    "from sklearn.neighbors import KNeighborsClassifier\n",
    "from sklearn.tree import DecisionTreeClassifier\n",
    "from sklearn.ensemble import RandomForestClassifier,GradientBoostingClassifier\n",
    "\n",
    "from sklearn.metrics import confusion_matrix\n",
    "from sklearn.metrics import roc_auc_score"
   ]
  },
  {
   "cell_type": "markdown",
   "metadata": {
    "colab_type": "text",
    "id": "oGaCoASpqrBl"
   },
   "source": [
    "### Import files"
   ]
  },
  {
   "cell_type": "code",
   "execution_count": 2,
   "metadata": {
    "colab": {},
    "colab_type": "code",
    "id": "ANoFpGbouagk"
   },
   "outputs": [],
   "source": [
    "# Import the files\n",
    "df_test = pd.read_csv(\"https://raw.githubusercontent.com/AngShengJun/dsi14P4/master/assets/working/df_test_weather_cleaned.csv\")\n",
    "df_train = pd.read_csv(\"https://raw.githubusercontent.com/AngShengJun/dsi14P4/master/assets/working/df_train_weather_cleaned.csv\")"
   ]
  },
  {
   "cell_type": "code",
   "execution_count": 3,
   "metadata": {},
   "outputs": [
    {
     "data": {
      "text/html": [
       "<div>\n",
       "<style scoped>\n",
       "    .dataframe tbody tr th:only-of-type {\n",
       "        vertical-align: middle;\n",
       "    }\n",
       "\n",
       "    .dataframe tbody tr th {\n",
       "        vertical-align: top;\n",
       "    }\n",
       "\n",
       "    .dataframe thead th {\n",
       "        text-align: right;\n",
       "    }\n",
       "</style>\n",
       "<table border=\"1\" class=\"dataframe\">\n",
       "  <thead>\n",
       "    <tr style=\"text-align: right;\">\n",
       "      <th></th>\n",
       "      <th>Unnamed: 0</th>\n",
       "      <th>id</th>\n",
       "      <th>date</th>\n",
       "      <th>lat</th>\n",
       "      <th>long</th>\n",
       "      <th>wk</th>\n",
       "      <th>yr</th>\n",
       "      <th>tavg</th>\n",
       "      <th>stnpress</th>\n",
       "      <th>dewpt</th>\n",
       "      <th>...</th>\n",
       "      <th>trap_T230</th>\n",
       "      <th>trap_T231</th>\n",
       "      <th>trap_T232</th>\n",
       "      <th>trap_T233</th>\n",
       "      <th>trap_T235</th>\n",
       "      <th>trap_T236</th>\n",
       "      <th>trap_T237</th>\n",
       "      <th>trap_T238</th>\n",
       "      <th>trap_T900</th>\n",
       "      <th>trap_T903</th>\n",
       "    </tr>\n",
       "  </thead>\n",
       "  <tbody>\n",
       "    <tr>\n",
       "      <th>0</th>\n",
       "      <td>0</td>\n",
       "      <td>1</td>\n",
       "      <td>2008-06-11</td>\n",
       "      <td>41.95469</td>\n",
       "      <td>-87.800991</td>\n",
       "      <td>23</td>\n",
       "      <td>2008</td>\n",
       "      <td>75.0</td>\n",
       "      <td>29.31</td>\n",
       "      <td>55.5</td>\n",
       "      <td>...</td>\n",
       "      <td>0</td>\n",
       "      <td>0</td>\n",
       "      <td>0</td>\n",
       "      <td>0</td>\n",
       "      <td>0</td>\n",
       "      <td>0</td>\n",
       "      <td>0</td>\n",
       "      <td>0</td>\n",
       "      <td>0</td>\n",
       "      <td>0</td>\n",
       "    </tr>\n",
       "  </tbody>\n",
       "</table>\n",
       "<p>1 rows × 156 columns</p>\n",
       "</div>"
      ],
      "text/plain": [
       "   Unnamed: 0  id        date       lat       long  wk    yr  tavg  stnpress  \\\n",
       "0           0   1  2008-06-11  41.95469 -87.800991  23  2008  75.0     29.31   \n",
       "\n",
       "   dewpt  ...  trap_T230  trap_T231  trap_T232  trap_T233  trap_T235  \\\n",
       "0   55.5  ...          0          0          0          0          0   \n",
       "\n",
       "   trap_T236  trap_T237  trap_T238  trap_T900  trap_T903  \n",
       "0          0          0          0          0          0  \n",
       "\n",
       "[1 rows x 156 columns]"
      ]
     },
     "execution_count": 3,
     "metadata": {},
     "output_type": "execute_result"
    }
   ],
   "source": [
    "df_test.head(1)"
   ]
  },
  {
   "cell_type": "code",
   "execution_count": 4,
   "metadata": {},
   "outputs": [
    {
     "data": {
      "text/html": [
       "<div>\n",
       "<style scoped>\n",
       "    .dataframe tbody tr th:only-of-type {\n",
       "        vertical-align: middle;\n",
       "    }\n",
       "\n",
       "    .dataframe tbody tr th {\n",
       "        vertical-align: top;\n",
       "    }\n",
       "\n",
       "    .dataframe thead th {\n",
       "        text-align: right;\n",
       "    }\n",
       "</style>\n",
       "<table border=\"1\" class=\"dataframe\">\n",
       "  <thead>\n",
       "    <tr style=\"text-align: right;\">\n",
       "      <th></th>\n",
       "      <th>Unnamed: 0</th>\n",
       "      <th>date</th>\n",
       "      <th>lat</th>\n",
       "      <th>long</th>\n",
       "      <th>wnv</th>\n",
       "      <th>num_mos</th>\n",
       "      <th>wk</th>\n",
       "      <th>yr</th>\n",
       "      <th>tavg</th>\n",
       "      <th>stnpress</th>\n",
       "      <th>...</th>\n",
       "      <th>trap_T230</th>\n",
       "      <th>trap_T231</th>\n",
       "      <th>trap_T232</th>\n",
       "      <th>trap_T233</th>\n",
       "      <th>trap_T235</th>\n",
       "      <th>trap_T236</th>\n",
       "      <th>trap_T237</th>\n",
       "      <th>trap_T238</th>\n",
       "      <th>trap_T900</th>\n",
       "      <th>trap_T903</th>\n",
       "    </tr>\n",
       "  </thead>\n",
       "  <tbody>\n",
       "    <tr>\n",
       "      <th>0</th>\n",
       "      <td>0</td>\n",
       "      <td>2007-05-29</td>\n",
       "      <td>41.95469</td>\n",
       "      <td>-87.800991</td>\n",
       "      <td>0</td>\n",
       "      <td>1</td>\n",
       "      <td>22</td>\n",
       "      <td>2007</td>\n",
       "      <td>75.5</td>\n",
       "      <td>29.415</td>\n",
       "      <td>...</td>\n",
       "      <td>0</td>\n",
       "      <td>0</td>\n",
       "      <td>0</td>\n",
       "      <td>0</td>\n",
       "      <td>0</td>\n",
       "      <td>0</td>\n",
       "      <td>0</td>\n",
       "      <td>0</td>\n",
       "      <td>0</td>\n",
       "      <td>0</td>\n",
       "    </tr>\n",
       "  </tbody>\n",
       "</table>\n",
       "<p>1 rows × 157 columns</p>\n",
       "</div>"
      ],
      "text/plain": [
       "   Unnamed: 0        date       lat       long  wnv  num_mos  wk    yr  tavg  \\\n",
       "0           0  2007-05-29  41.95469 -87.800991    0        1  22  2007  75.5   \n",
       "\n",
       "   stnpress  ...  trap_T230  trap_T231  trap_T232  trap_T233  trap_T235  \\\n",
       "0    29.415  ...          0          0          0          0          0   \n",
       "\n",
       "   trap_T236  trap_T237  trap_T238  trap_T900  trap_T903  \n",
       "0          0          0          0          0          0  \n",
       "\n",
       "[1 rows x 157 columns]"
      ]
     },
     "execution_count": 4,
     "metadata": {},
     "output_type": "execute_result"
    }
   ],
   "source": [
    "df_train.head(1)"
   ]
  },
  {
   "cell_type": "markdown",
   "metadata": {},
   "source": [
    "### Prep"
   ]
  },
  {
   "cell_type": "code",
   "execution_count": 5,
   "metadata": {},
   "outputs": [],
   "source": [
    "# Make a copy of test\n",
    "df_testcopy = df_test.copy()"
   ]
  },
  {
   "cell_type": "code",
   "execution_count": 6,
   "metadata": {},
   "outputs": [
    {
     "data": {
      "text/html": [
       "<div>\n",
       "<style scoped>\n",
       "    .dataframe tbody tr th:only-of-type {\n",
       "        vertical-align: middle;\n",
       "    }\n",
       "\n",
       "    .dataframe tbody tr th {\n",
       "        vertical-align: top;\n",
       "    }\n",
       "\n",
       "    .dataframe thead th {\n",
       "        text-align: right;\n",
       "    }\n",
       "</style>\n",
       "<table border=\"1\" class=\"dataframe\">\n",
       "  <thead>\n",
       "    <tr style=\"text-align: right;\">\n",
       "      <th></th>\n",
       "      <th>date</th>\n",
       "      <th>lat</th>\n",
       "      <th>long</th>\n",
       "      <th>wk</th>\n",
       "      <th>yr</th>\n",
       "      <th>tavg</th>\n",
       "      <th>stnpress</th>\n",
       "      <th>dewpt</th>\n",
       "      <th>precip</th>\n",
       "      <th>windspeed</th>\n",
       "      <th>...</th>\n",
       "      <th>trap_T230</th>\n",
       "      <th>trap_T231</th>\n",
       "      <th>trap_T232</th>\n",
       "      <th>trap_T233</th>\n",
       "      <th>trap_T235</th>\n",
       "      <th>trap_T236</th>\n",
       "      <th>trap_T237</th>\n",
       "      <th>trap_T238</th>\n",
       "      <th>trap_T900</th>\n",
       "      <th>trap_T903</th>\n",
       "    </tr>\n",
       "  </thead>\n",
       "  <tbody>\n",
       "    <tr>\n",
       "      <th>0</th>\n",
       "      <td>2008-06-11</td>\n",
       "      <td>41.95469</td>\n",
       "      <td>-87.800991</td>\n",
       "      <td>23</td>\n",
       "      <td>2008</td>\n",
       "      <td>75.0</td>\n",
       "      <td>29.31</td>\n",
       "      <td>55.5</td>\n",
       "      <td>0.0</td>\n",
       "      <td>9.15</td>\n",
       "      <td>...</td>\n",
       "      <td>0</td>\n",
       "      <td>0</td>\n",
       "      <td>0</td>\n",
       "      <td>0</td>\n",
       "      <td>0</td>\n",
       "      <td>0</td>\n",
       "      <td>0</td>\n",
       "      <td>0</td>\n",
       "      <td>0</td>\n",
       "      <td>0</td>\n",
       "    </tr>\n",
       "  </tbody>\n",
       "</table>\n",
       "<p>1 rows × 154 columns</p>\n",
       "</div>"
      ],
      "text/plain": [
       "         date       lat       long  wk    yr  tavg  stnpress  dewpt  precip  \\\n",
       "0  2008-06-11  41.95469 -87.800991  23  2008  75.0     29.31   55.5     0.0   \n",
       "\n",
       "   windspeed  ...  trap_T230  trap_T231  trap_T232  trap_T233  trap_T235  \\\n",
       "0       9.15  ...          0          0          0          0          0   \n",
       "\n",
       "   trap_T236  trap_T237  trap_T238  trap_T900  trap_T903  \n",
       "0          0          0          0          0          0  \n",
       "\n",
       "[1 rows x 154 columns]"
      ]
     },
     "execution_count": 6,
     "metadata": {},
     "output_type": "execute_result"
    }
   ],
   "source": [
    "# Drop unnecessary col\n",
    "df_testcopy.drop(['id','Unnamed: 0'],axis=1,inplace=True)\n",
    "# Review\n",
    "df_testcopy.head(1)"
   ]
  },
  {
   "cell_type": "code",
   "execution_count": 7,
   "metadata": {},
   "outputs": [],
   "source": [
    "# Make a copy of train\n",
    "df_traincopy = df_train.copy()"
   ]
  },
  {
   "cell_type": "code",
   "execution_count": 8,
   "metadata": {},
   "outputs": [
    {
     "data": {
      "text/html": [
       "<div>\n",
       "<style scoped>\n",
       "    .dataframe tbody tr th:only-of-type {\n",
       "        vertical-align: middle;\n",
       "    }\n",
       "\n",
       "    .dataframe tbody tr th {\n",
       "        vertical-align: top;\n",
       "    }\n",
       "\n",
       "    .dataframe thead th {\n",
       "        text-align: right;\n",
       "    }\n",
       "</style>\n",
       "<table border=\"1\" class=\"dataframe\">\n",
       "  <thead>\n",
       "    <tr style=\"text-align: right;\">\n",
       "      <th></th>\n",
       "      <th>date</th>\n",
       "      <th>lat</th>\n",
       "      <th>long</th>\n",
       "      <th>wnv</th>\n",
       "      <th>num_mos</th>\n",
       "      <th>wk</th>\n",
       "      <th>yr</th>\n",
       "      <th>tavg</th>\n",
       "      <th>stnpress</th>\n",
       "      <th>dewpt</th>\n",
       "      <th>...</th>\n",
       "      <th>trap_T230</th>\n",
       "      <th>trap_T231</th>\n",
       "      <th>trap_T232</th>\n",
       "      <th>trap_T233</th>\n",
       "      <th>trap_T235</th>\n",
       "      <th>trap_T236</th>\n",
       "      <th>trap_T237</th>\n",
       "      <th>trap_T238</th>\n",
       "      <th>trap_T900</th>\n",
       "      <th>trap_T903</th>\n",
       "    </tr>\n",
       "  </thead>\n",
       "  <tbody>\n",
       "    <tr>\n",
       "      <th>0</th>\n",
       "      <td>2007-05-29</td>\n",
       "      <td>41.95469</td>\n",
       "      <td>-87.800991</td>\n",
       "      <td>0</td>\n",
       "      <td>1</td>\n",
       "      <td>22</td>\n",
       "      <td>2007</td>\n",
       "      <td>75.5</td>\n",
       "      <td>29.415</td>\n",
       "      <td>58.5</td>\n",
       "      <td>...</td>\n",
       "      <td>0</td>\n",
       "      <td>0</td>\n",
       "      <td>0</td>\n",
       "      <td>0</td>\n",
       "      <td>0</td>\n",
       "      <td>0</td>\n",
       "      <td>0</td>\n",
       "      <td>0</td>\n",
       "      <td>0</td>\n",
       "      <td>0</td>\n",
       "    </tr>\n",
       "  </tbody>\n",
       "</table>\n",
       "<p>1 rows × 156 columns</p>\n",
       "</div>"
      ],
      "text/plain": [
       "         date       lat       long  wnv  num_mos  wk    yr  tavg  stnpress  \\\n",
       "0  2007-05-29  41.95469 -87.800991    0        1  22  2007  75.5    29.415   \n",
       "\n",
       "   dewpt  ...  trap_T230  trap_T231  trap_T232  trap_T233  trap_T235  \\\n",
       "0   58.5  ...          0          0          0          0          0   \n",
       "\n",
       "   trap_T236  trap_T237  trap_T238  trap_T900  trap_T903  \n",
       "0          0          0          0          0          0  \n",
       "\n",
       "[1 rows x 156 columns]"
      ]
     },
     "execution_count": 8,
     "metadata": {},
     "output_type": "execute_result"
    }
   ],
   "source": [
    "# Drop unnecessary col\n",
    "df_traincopy.drop(['Unnamed: 0'],axis=1,inplace=True)\n",
    "# Review\n",
    "df_traincopy.head(1)"
   ]
  },
  {
   "cell_type": "code",
   "execution_count": 9,
   "metadata": {},
   "outputs": [
    {
     "name": "stdout",
     "output_type": "stream",
     "text": [
      "(8610, 156)\n",
      "(116293, 154)\n"
     ]
    }
   ],
   "source": [
    "# Sanity check\n",
    "print(df_traincopy.shape)\n",
    "print(df_testcopy.shape)"
   ]
  },
  {
   "cell_type": "code",
   "execution_count": 10,
   "metadata": {},
   "outputs": [],
   "source": [
    "# Drop date column from test and train\n",
    "df_traincopy.drop(['date'],axis=1,inplace=True)\n",
    "df_testcopy.drop(['date'],axis=1,inplace=True)"
   ]
  },
  {
   "cell_type": "code",
   "execution_count": 11,
   "metadata": {},
   "outputs": [],
   "source": [
    "# trc - TrainComplete set\n",
    "X_trc = df_traincopy.drop(['num_mos','wnv'],axis=1)\n",
    "y_trc = df_traincopy['wnv']"
   ]
  },
  {
   "cell_type": "code",
   "execution_count": 12,
   "metadata": {},
   "outputs": [
    {
     "data": {
      "text/html": [
       "<div>\n",
       "<style scoped>\n",
       "    .dataframe tbody tr th:only-of-type {\n",
       "        vertical-align: middle;\n",
       "    }\n",
       "\n",
       "    .dataframe tbody tr th {\n",
       "        vertical-align: top;\n",
       "    }\n",
       "\n",
       "    .dataframe thead th {\n",
       "        text-align: right;\n",
       "    }\n",
       "</style>\n",
       "<table border=\"1\" class=\"dataframe\">\n",
       "  <thead>\n",
       "    <tr style=\"text-align: right;\">\n",
       "      <th></th>\n",
       "      <th>lat</th>\n",
       "      <th>long</th>\n",
       "      <th>wnv</th>\n",
       "      <th>num_mos</th>\n",
       "      <th>wk</th>\n",
       "      <th>yr</th>\n",
       "      <th>tavg</th>\n",
       "      <th>stnpress</th>\n",
       "      <th>dewpt</th>\n",
       "      <th>precip</th>\n",
       "      <th>...</th>\n",
       "      <th>trap_T230</th>\n",
       "      <th>trap_T231</th>\n",
       "      <th>trap_T232</th>\n",
       "      <th>trap_T233</th>\n",
       "      <th>trap_T235</th>\n",
       "      <th>trap_T236</th>\n",
       "      <th>trap_T237</th>\n",
       "      <th>trap_T238</th>\n",
       "      <th>trap_T900</th>\n",
       "      <th>trap_T903</th>\n",
       "    </tr>\n",
       "  </thead>\n",
       "  <tbody>\n",
       "    <tr>\n",
       "      <th>0</th>\n",
       "      <td>41.95469</td>\n",
       "      <td>-87.800991</td>\n",
       "      <td>0</td>\n",
       "      <td>1</td>\n",
       "      <td>22</td>\n",
       "      <td>2007</td>\n",
       "      <td>75.5</td>\n",
       "      <td>29.415</td>\n",
       "      <td>58.5</td>\n",
       "      <td>0.0</td>\n",
       "      <td>...</td>\n",
       "      <td>0</td>\n",
       "      <td>0</td>\n",
       "      <td>0</td>\n",
       "      <td>0</td>\n",
       "      <td>0</td>\n",
       "      <td>0</td>\n",
       "      <td>0</td>\n",
       "      <td>0</td>\n",
       "      <td>0</td>\n",
       "      <td>0</td>\n",
       "    </tr>\n",
       "  </tbody>\n",
       "</table>\n",
       "<p>1 rows × 155 columns</p>\n",
       "</div>"
      ],
      "text/plain": [
       "        lat       long  wnv  num_mos  wk    yr  tavg  stnpress  dewpt  precip  \\\n",
       "0  41.95469 -87.800991    0        1  22  2007  75.5    29.415   58.5     0.0   \n",
       "\n",
       "   ...  trap_T230  trap_T231  trap_T232  trap_T233  trap_T235  trap_T236  \\\n",
       "0  ...          0          0          0          0          0          0   \n",
       "\n",
       "   trap_T237  trap_T238  trap_T900  trap_T903  \n",
       "0          0          0          0          0  \n",
       "\n",
       "[1 rows x 155 columns]"
      ]
     },
     "execution_count": 12,
     "metadata": {},
     "output_type": "execute_result"
    }
   ],
   "source": [
    "df_traincopy.head(1)"
   ]
  },
  {
   "cell_type": "code",
   "execution_count": 13,
   "metadata": {},
   "outputs": [
    {
     "data": {
      "text/html": [
       "<div>\n",
       "<style scoped>\n",
       "    .dataframe tbody tr th:only-of-type {\n",
       "        vertical-align: middle;\n",
       "    }\n",
       "\n",
       "    .dataframe tbody tr th {\n",
       "        vertical-align: top;\n",
       "    }\n",
       "\n",
       "    .dataframe thead th {\n",
       "        text-align: right;\n",
       "    }\n",
       "</style>\n",
       "<table border=\"1\" class=\"dataframe\">\n",
       "  <thead>\n",
       "    <tr style=\"text-align: right;\">\n",
       "      <th></th>\n",
       "      <th>lat</th>\n",
       "      <th>long</th>\n",
       "      <th>wk</th>\n",
       "      <th>yr</th>\n",
       "      <th>tavg</th>\n",
       "      <th>stnpress</th>\n",
       "      <th>dewpt</th>\n",
       "      <th>precip</th>\n",
       "      <th>windspeed</th>\n",
       "      <th>daylight</th>\n",
       "      <th>...</th>\n",
       "      <th>trap_T230</th>\n",
       "      <th>trap_T231</th>\n",
       "      <th>trap_T232</th>\n",
       "      <th>trap_T233</th>\n",
       "      <th>trap_T235</th>\n",
       "      <th>trap_T236</th>\n",
       "      <th>trap_T237</th>\n",
       "      <th>trap_T238</th>\n",
       "      <th>trap_T900</th>\n",
       "      <th>trap_T903</th>\n",
       "    </tr>\n",
       "  </thead>\n",
       "  <tbody>\n",
       "    <tr>\n",
       "      <th>0</th>\n",
       "      <td>41.95469</td>\n",
       "      <td>-87.800991</td>\n",
       "      <td>23</td>\n",
       "      <td>2008</td>\n",
       "      <td>75.0</td>\n",
       "      <td>29.31</td>\n",
       "      <td>55.5</td>\n",
       "      <td>0.0</td>\n",
       "      <td>9.15</td>\n",
       "      <td>15.166667</td>\n",
       "      <td>...</td>\n",
       "      <td>0</td>\n",
       "      <td>0</td>\n",
       "      <td>0</td>\n",
       "      <td>0</td>\n",
       "      <td>0</td>\n",
       "      <td>0</td>\n",
       "      <td>0</td>\n",
       "      <td>0</td>\n",
       "      <td>0</td>\n",
       "      <td>0</td>\n",
       "    </tr>\n",
       "  </tbody>\n",
       "</table>\n",
       "<p>1 rows × 153 columns</p>\n",
       "</div>"
      ],
      "text/plain": [
       "        lat       long  wk    yr  tavg  stnpress  dewpt  precip  windspeed  \\\n",
       "0  41.95469 -87.800991  23  2008  75.0     29.31   55.5     0.0       9.15   \n",
       "\n",
       "    daylight  ...  trap_T230  trap_T231  trap_T232  trap_T233  trap_T235  \\\n",
       "0  15.166667  ...          0          0          0          0          0   \n",
       "\n",
       "   trap_T236  trap_T237  trap_T238  trap_T900  trap_T903  \n",
       "0          0          0          0          0          0  \n",
       "\n",
       "[1 rows x 153 columns]"
      ]
     },
     "execution_count": 13,
     "metadata": {},
     "output_type": "execute_result"
    }
   ],
   "source": [
    "df_testcopy.head(1)"
   ]
  },
  {
   "cell_type": "markdown",
   "metadata": {
    "colab_type": "text",
    "id": "67GMBFZLqdPt"
   },
   "source": [
    "### Train-Validate-Split"
   ]
  },
  {
   "cell_type": "code",
   "execution_count": 14,
   "metadata": {},
   "outputs": [],
   "source": [
    "# Train-validate-split\n",
    "X_train,X_val,y_train,y_val = train_test_split(X_trc,y_trc,test_size=0.3,random_state=42, stratify=y_trc)"
   ]
  },
  {
   "cell_type": "code",
   "execution_count": 15,
   "metadata": {},
   "outputs": [
    {
     "name": "stdout",
     "output_type": "stream",
     "text": [
      "0    0.946906\n",
      "1    0.053094\n",
      "Name: wnv, dtype: float64\n"
     ]
    }
   ],
   "source": [
    "print(y_train.value_counts(normalize=True))"
   ]
  },
  {
   "cell_type": "markdown",
   "metadata": {},
   "source": [
    "Positive class is wnv. Negative class is no wnv. Classes are imbalanced. We face a Class Imbalance Problem when the class distributions are highly imbalanced. In this context, many classification learning algorithms will have low predictive accuracy for the infrequent class (i.e. the positive class we are interested in).\n",
    "\n",
    "We will use SMOTE (Synthetic Minority Oversampling TEchnique) to mitigate class imbalance. SMOTE consists of synthesizing elements for the minority class, based on exisitng observations. A minority class observation is randomly picked and the k-nearest neighbors are computed for this observation. Synthetic points are then added between this observation and its neighbors."
   ]
  },
  {
   "cell_type": "markdown",
   "metadata": {
    "colab_type": "text",
    "id": "QnJEiKpzqdc8"
   },
   "source": [
    "### Resampling"
   ]
  },
  {
   "cell_type": "code",
   "execution_count": 16,
   "metadata": {},
   "outputs": [],
   "source": [
    "from imblearn.over_sampling import SMOTE\n",
    "\n",
    "smote = SMOTE(sampling_strategy='minority')\n",
    "X_sm, y_sm = smote.fit_sample(X_train, y_train)"
   ]
  },
  {
   "cell_type": "code",
   "execution_count": 17,
   "metadata": {},
   "outputs": [
    {
     "name": "stdout",
     "output_type": "stream",
     "text": [
      "1    0.5\n",
      "0    0.5\n",
      "Name: wnv, dtype: float64\n"
     ]
    }
   ],
   "source": [
    "# Review class balance after SMOTE application\n",
    "print(y_sm.value_counts(normalize=True))"
   ]
  },
  {
   "cell_type": "markdown",
   "metadata": {
    "colab_type": "text",
    "id": "e-ZBynP6IlHL"
   },
   "source": [
    "The baseline accuracy is 0.5. A model needs to perform better than this."
   ]
  },
  {
   "cell_type": "markdown",
   "metadata": {},
   "source": [
    "### Classification Models"
   ]
  },
  {
   "cell_type": "markdown",
   "metadata": {},
   "source": [
    "Model workflow:\n",
    "- pipeline for standard scaler (transformer) and classifier model (estimator), where relevant.\n",
    "- gridsearch for best model parameters.\n",
    "- metrics for evaluation: F1 score and roc_auc since we are dealing with imbalanced class distribution."
   ]
  },
  {
   "cell_type": "markdown",
   "metadata": {},
   "source": [
    "### Logistic Regression Model"
   ]
  },
  {
   "cell_type": "code",
   "execution_count": null,
   "metadata": {},
   "outputs": [],
   "source": [
    "pipe1 = Pipeline([\n",
    "    ('ss', StandardScaler()),\n",
    "    ('lor', LogisticRegression(solver='lbfgs',random_state=42)),\n",
    "])"
   ]
  },
  {
   "cell_type": "code",
   "execution_count": null,
   "metadata": {},
   "outputs": [],
   "source": [
    "pipe1.get_params()"
   ]
  },
  {
   "cell_type": "code",
   "execution_count": null,
   "metadata": {},
   "outputs": [],
   "source": [
    "# Define the pipe parameters\n",
    "pipe1_params = {'ss__with_mean': [True],\n",
    "                'ss__with_std': [True],\n",
    "                'lor__max_iter': [100,200,300]}"
   ]
  },
  {
   "cell_type": "code",
   "execution_count": null,
   "metadata": {},
   "outputs": [],
   "source": [
    "# Instantiate Gridsearch\n",
    "gs1 = GridSearchCV(pipe1,\\\n",
    "                  param_grid=pipe1_params,\\\n",
    "                  cv=10)\n",
    "# Fit GridSearch to the cleaned training data.\n",
    "gs1.fit(X_sm,y_sm)"
   ]
  },
  {
   "cell_type": "code",
   "execution_count": null,
   "metadata": {},
   "outputs": [],
   "source": [
    "# Check the results of the grid search\n",
    "# Google colab raises max iter limit, while jupytr runs fine with provided params\n",
    "print(f\"Best parameters: {gs1.best_params_}\")\n",
    "print(f\"Best score: {gs1.best_score_}\")"
   ]
  },
  {
   "cell_type": "code",
   "execution_count": null,
   "metadata": {},
   "outputs": [],
   "source": [
    "# Save model\n",
    "model1 = gs1.best_estimator_"
   ]
  },
  {
   "cell_type": "code",
   "execution_count": null,
   "metadata": {},
   "outputs": [],
   "source": [
    "# Score model on train set and validate set\n",
    "print(f\"Accuracy on train set: {model1.score(X_sm, y_sm)}\")\n",
    "print(f\"Accuracy on validate set: {model1.score(X_val, y_val)}\")"
   ]
  },
  {
   "cell_type": "markdown",
   "metadata": {},
   "source": [
    "The model accuracy is higher than the baseline accuracy, modelling helps with classification. The model is overfitted with about 2% drop in validate accuracy compared to train accuracy."
   ]
  },
  {
   "cell_type": "code",
   "execution_count": null,
   "metadata": {},
   "outputs": [],
   "source": [
    "# Confusion matrix\n",
    "# Pass in true values, predicted values to confusion matrix\n",
    "# Convert confusion matrix into dataframe\n",
    "# Positive class (class 1) is wnv\n",
    "preds = gs1.predict(X_val)\n",
    "cm = confusion_matrix(y_val, preds)\n",
    "cm_df = pd.DataFrame(cm,columns=['pred no wnv','pred wnv'], index=['Actual no wnv','Actual wnv'])\n",
    "cm_df"
   ]
  },
  {
   "cell_type": "code",
   "execution_count": null,
   "metadata": {},
   "outputs": [],
   "source": [
    "# return nparray as a 1-D array.\n",
    "confusion_matrix(y_val, preds).ravel()\n",
    "# Save TN/FP/FN/TP values.\n",
    "tn, fp, fn, tp = confusion_matrix(y_val,preds).ravel()"
   ]
  },
  {
   "cell_type": "code",
   "execution_count": null,
   "metadata": {},
   "outputs": [],
   "source": [
    "# Summary of metrics for log reg model\n",
    "sens = tp/(tp+fn)\n",
    "prec = tp/(tp+fp)\n",
    "f1 = 2*(prec*sens)/(prec+sens)\n",
    "print(f\"Sensitivity: {round(sens,4)}\")\n",
    "print(f\"Precision: {round(prec,4)}\")\n",
    "print(f\"F1: {round(f1,4)}\")"
   ]
  },
  {
   "cell_type": "code",
   "execution_count": null,
   "metadata": {},
   "outputs": [],
   "source": [
    "pred_proba = [i[1] for i in gs1.predict_proba(X_val)]\n",
    "\n",
    "pred_df = pd.DataFrame({'validate_values': y_val,\n",
    "                        'pred_probs':pred_proba})\n",
    "pred_df.head()"
   ]
  },
  {
   "cell_type": "code",
   "execution_count": null,
   "metadata": {},
   "outputs": [],
   "source": [
    "# Calculate ROC AUC.\n",
    "roc_auc_score(pred_df['validate_values'],pred_df['pred_probs'])"
   ]
  },
  {
   "cell_type": "markdown",
   "metadata": {},
   "source": [
    "### SVM"
   ]
  },
  {
   "cell_type": "markdown",
   "metadata": {},
   "source": [
    "Note: Code for SVM commented out, takes significant time to run (more than 30 mins)."
   ]
  },
  {
   "cell_type": "code",
   "execution_count": null,
   "metadata": {},
   "outputs": [],
   "source": [
    "\"\"\"pipe2 = Pipeline([\n",
    "    ('ss', StandardScaler()),\n",
    "    ('svm', SVC())\n",
    "])\"\"\""
   ]
  },
  {
   "cell_type": "code",
   "execution_count": null,
   "metadata": {},
   "outputs": [],
   "source": [
    "\"\"\"pipe2.get_params()\"\"\""
   ]
  },
  {
   "cell_type": "code",
   "execution_count": null,
   "metadata": {},
   "outputs": [],
   "source": [
    "# Define the pipe parameters\n",
    "\"\"\"pipe2_params = {'ss__with_mean': [True],\n",
    "                'ss__with_std': [True],\n",
    "                'svm__C': [1,10],\n",
    "                'svm__gamma': ['scale','auto'],\n",
    "                'svm__kernel': ['rbf','linear','poly']\n",
    "               }\"\"\""
   ]
  },
  {
   "cell_type": "code",
   "execution_count": null,
   "metadata": {},
   "outputs": [],
   "source": [
    "# Initiate Gridsearch\n",
    "\"\"\"gs2 = GridSearchCV(pipe2,\n",
    "                  param_grid=pipe2_params,\n",
    "                  cv=10)\n",
    "\n",
    "# Fit gs2\n",
    "gs2.fit(X_sm, y_sm)\"\"\""
   ]
  },
  {
   "cell_type": "code",
   "execution_count": null,
   "metadata": {},
   "outputs": [],
   "source": [
    "# Check the results of the grid search\n",
    "\n",
    "\"\"\"print(f\"Best parameters: {gs2.best_params_}\")\n",
    "print(f\"Best score: {gs2.best_score_}\")\"\"\""
   ]
  },
  {
   "cell_type": "code",
   "execution_count": null,
   "metadata": {},
   "outputs": [],
   "source": [
    "# Save model\n",
    "\"\"\"model2 = gs2.best_estimator_\"\"\""
   ]
  },
  {
   "cell_type": "code",
   "execution_count": null,
   "metadata": {},
   "outputs": [],
   "source": [
    "# Score model on train set and validate set\n",
    "\"\"\"print(f\"Accuracy on train set: {model2.score(X_sm, y_sm)}\")\n",
    "print(f\"Accuracy on validate set: {model2.score(X_val, y_val)}\")\"\"\""
   ]
  },
  {
   "cell_type": "code",
   "execution_count": null,
   "metadata": {},
   "outputs": [],
   "source": [
    "# Confusion matrix\n",
    "# Pass in true values, predicted values to confusion matrix\n",
    "# Convert confusion matrix into dataframe\n",
    "# Positive class (class 1) is wnv\n",
    "\"\"\"preds = gs2.predict(X_val)\n",
    "cm = confusion_matrix(y_val, preds)\n",
    "cm_df = pd.DataFrame(cm,columns=['pred no wnv','pred wnv'], index=['Actual no wnv','Actual wnv'])\n",
    "cm_df\"\"\""
   ]
  },
  {
   "cell_type": "code",
   "execution_count": null,
   "metadata": {},
   "outputs": [],
   "source": [
    "# return nparray as a 1-D array.\n",
    "\"\"\"confusion_matrix(y_val, preds).ravel()\n",
    "# Save TN/FP/FN/TP values.\n",
    "tn, fp, fn, tp = confusion_matrix(y_val,preds).ravel()\"\"\""
   ]
  },
  {
   "cell_type": "code",
   "execution_count": null,
   "metadata": {},
   "outputs": [],
   "source": [
    "# Summary of metrics for log reg model\n",
    "\"\"\"sens = tp/(tp+fn)\n",
    "prec = tp/(tp+fp)\n",
    "f1 = 2*(prec*sens)/(prec+sens)\n",
    "print(f\"Sensitivity: {round(sens,4)}\")\n",
    "print(f\"Precision: {round(prec,4)}\")\n",
    "print(f\"F1: {round(f1,4)}\")\"\"\""
   ]
  },
  {
   "cell_type": "code",
   "execution_count": null,
   "metadata": {},
   "outputs": [],
   "source": [
    "\"\"\"pred_proba = [i[1] for i in gs2.predict_proba(X_val)]\n",
    "\n",
    "pred_df = pd.DataFrame({'validate_values': y_val,\n",
    "                        'pred_probs':pred_proba})\n",
    "pred_df.head()\"\"\""
   ]
  },
  {
   "cell_type": "code",
   "execution_count": null,
   "metadata": {},
   "outputs": [],
   "source": [
    "# Calculate ROC AUC.\n",
    "\"\"\"roc_auc_score(pred_df['validate_values'],pred_df['pred_probs'])\"\"\""
   ]
  },
  {
   "cell_type": "markdown",
   "metadata": {},
   "source": [
    "### KNN Classifier"
   ]
  },
  {
   "cell_type": "code",
   "execution_count": null,
   "metadata": {},
   "outputs": [],
   "source": [
    "pipe3 = Pipeline([\n",
    "    ('ss', StandardScaler()),\n",
    "    ('knn', KNeighborsClassifier())\n",
    "])"
   ]
  },
  {
   "cell_type": "code",
   "execution_count": null,
   "metadata": {},
   "outputs": [],
   "source": [
    "pipe3.get_params()"
   ]
  },
  {
   "cell_type": "code",
   "execution_count": null,
   "metadata": {},
   "outputs": [],
   "source": [
    "# Define the pipe parameters\n",
    "pipe3_params = {'ss__with_mean': [True],\n",
    "                'ss__with_std': [True],\n",
    "                'knn__n_neighbors' : [3,5,7],\n",
    "                'knn__metric': ['euclidean','manhattan']}"
   ]
  },
  {
   "cell_type": "code",
   "execution_count": null,
   "metadata": {},
   "outputs": [],
   "source": [
    "# Instantiate Gridsearch\n",
    "gs3 = GridSearchCV(pipe3,\\\n",
    "                  param_grid=pipe3_params,\\\n",
    "                  cv=10)\n",
    "# Fit GridSearch to the cleaned training data.\n",
    "gs3.fit(X_sm,y_sm)"
   ]
  },
  {
   "cell_type": "code",
   "execution_count": null,
   "metadata": {},
   "outputs": [],
   "source": [
    "# Check the results of the grid search\n",
    "\n",
    "print(f\"Best parameters: {gs3.best_params_}\")\n",
    "print(f\"Best score: {gs3.best_score_}\")"
   ]
  },
  {
   "cell_type": "code",
   "execution_count": null,
   "metadata": {},
   "outputs": [],
   "source": [
    "# Save model\n",
    "model3 = gs3.best_estimator_"
   ]
  },
  {
   "cell_type": "code",
   "execution_count": null,
   "metadata": {},
   "outputs": [],
   "source": [
    "# Score model on train set and validate set\n",
    "print(f\"Accuracy on train set: {model3.score(X_sm, y_sm)}\")\n",
    "print(f\"Accuracy on validate set: {model3.score(X_val, y_val)}\")"
   ]
  },
  {
   "cell_type": "markdown",
   "metadata": {},
   "source": [
    "The model is overfitted with about 4% drop in validate accuracy compared to train accuracy."
   ]
  },
  {
   "cell_type": "code",
   "execution_count": null,
   "metadata": {},
   "outputs": [],
   "source": [
    "# Confusion matrix\n",
    "# Pass in true values, predicted values to confusion matrix\n",
    "# Convert confusion matrix into dataframe\n",
    "# Positive class (class 1) is wnv\n",
    "preds = gs3.predict(X_val)\n",
    "cm = confusion_matrix(y_val, preds)\n",
    "cm_df = pd.DataFrame(cm,columns=['pred no wnv','pred wnv'], index=['Actual no wnv','Actual wnv'])\n",
    "cm_df"
   ]
  },
  {
   "cell_type": "code",
   "execution_count": null,
   "metadata": {},
   "outputs": [],
   "source": [
    "# return nparray as a 1-D array.\n",
    "confusion_matrix(y_val, preds).ravel()\n",
    "# Save TN/FP/FN/TP values.\n",
    "tn, fp, fn, tp = confusion_matrix(y_val,preds).ravel()"
   ]
  },
  {
   "cell_type": "code",
   "execution_count": null,
   "metadata": {},
   "outputs": [],
   "source": [
    "# Summary of metrics for log reg model\n",
    "sens = tp/(tp+fn)\n",
    "prec = tp/(tp+fp)\n",
    "f1 = 2*(prec*sens)/(prec+sens)\n",
    "print(f\"Sensitivity: {round(sens,4)}\")\n",
    "print(f\"Precision: {round(prec,4)}\")\n",
    "print(f\"F1: {round(f1,4)}\")"
   ]
  },
  {
   "cell_type": "code",
   "execution_count": null,
   "metadata": {},
   "outputs": [],
   "source": [
    "pred_proba = [i[1] for i in gs3.predict_proba(X_val)]\n",
    "\n",
    "pred_df = pd.DataFrame({'validate_values': y_val,\n",
    "                        'pred_probs':pred_proba})\n",
    "pred_df.head()"
   ]
  },
  {
   "cell_type": "code",
   "execution_count": null,
   "metadata": {},
   "outputs": [],
   "source": [
    "# Calculate ROC AUC.\n",
    "roc_auc_score(pred_df['validate_values'],pred_df['pred_probs'])"
   ]
  },
  {
   "cell_type": "markdown",
   "metadata": {},
   "source": [
    "### Decision Tree"
   ]
  },
  {
   "cell_type": "code",
   "execution_count": null,
   "metadata": {},
   "outputs": [],
   "source": [
    "gs4 = GridSearchCV(estimator = DecisionTreeClassifier(),\\\n",
    "                   param_grid = {'max_depth': [7, 9, 11],\\\n",
    "                                 'min_samples_split': [10, 15, 20],\\\n",
    "                                 'min_samples_leaf': [2, 3, 4],\\\n",
    "                                 'ccp_alpha': [0, 0.001, 0.01, 0.1, 1, 10]},\\\n",
    "                   cv = 5,\\\n",
    "                   verbose = 2)"
   ]
  },
  {
   "cell_type": "code",
   "execution_count": null,
   "metadata": {},
   "outputs": [],
   "source": [
    "# Fit GridSearch to the cleaned training data.\n",
    "gs4.fit(X_sm,y_sm)"
   ]
  },
  {
   "cell_type": "code",
   "execution_count": null,
   "metadata": {},
   "outputs": [],
   "source": [
    "# Check the results of the grid search\n",
    "\n",
    "print(f\"Best parameters: {gs4.best_params_}\")\n",
    "print(f\"Best score: {gs4.best_score_}\")"
   ]
  },
  {
   "cell_type": "code",
   "execution_count": null,
   "metadata": {},
   "outputs": [],
   "source": [
    "# Save model\n",
    "model4 = gs4.best_estimator_"
   ]
  },
  {
   "cell_type": "code",
   "execution_count": null,
   "metadata": {
    "scrolled": true
   },
   "outputs": [],
   "source": [
    "# Score model on train set and validate set\n",
    "print(f\"Accuracy on train set: {model4.score(X_sm, y_sm)}\")\n",
    "print(f\"Accuracy on validate set: {model4.score(X_val, y_val)}\")"
   ]
  },
  {
   "cell_type": "markdown",
   "metadata": {},
   "source": [
    "The model is overfitted with about 8% drop in validate accuracy compared to train accuracy. The accuracy is lower than the all previous models."
   ]
  },
  {
   "cell_type": "code",
   "execution_count": null,
   "metadata": {},
   "outputs": [],
   "source": [
    "# Confusion matrix\n",
    "# Pass in true values, predicted values to confusion matrix\n",
    "# Convert confusion matrix into dataframe\n",
    "# Positive class (class 1) is wnv\n",
    "preds = gs4.predict(X_val)\n",
    "cm = confusion_matrix(y_val, preds)\n",
    "cm_df = pd.DataFrame(cm,columns=['pred no wnv','pred wnv'], index=['Actual no wnv','Actual wnv'])\n",
    "cm_df"
   ]
  },
  {
   "cell_type": "code",
   "execution_count": null,
   "metadata": {},
   "outputs": [],
   "source": [
    "# return nparray as a 1-D array.\n",
    "confusion_matrix(y_val, preds).ravel()\n",
    "# Save TN/FP/FN/TP values.\n",
    "tn, fp, fn, tp = confusion_matrix(y_val,preds).ravel()"
   ]
  },
  {
   "cell_type": "code",
   "execution_count": null,
   "metadata": {},
   "outputs": [],
   "source": [
    "# Summary of metrics for log reg model\n",
    "sens = tp/(tp+fn)\n",
    "prec = tp/(tp+fp)\n",
    "f1 = 2*(prec*sens)/(prec+sens)\n",
    "print(f\"Sensitivity: {round(sens,4)}\")\n",
    "print(f\"Precision: {round(prec,4)}\")\n",
    "print(f\"F1: {round(f1,4)}\")"
   ]
  },
  {
   "cell_type": "code",
   "execution_count": null,
   "metadata": {},
   "outputs": [],
   "source": [
    "pred_proba = [i[1] for i in gs4.predict_proba(X_val)]\n",
    "\n",
    "pred_df = pd.DataFrame({'validate_values': y_val,\n",
    "                        'pred_probs':pred_proba})\n",
    "pred_df.head()"
   ]
  },
  {
   "cell_type": "code",
   "execution_count": null,
   "metadata": {},
   "outputs": [],
   "source": [
    "# Calculate ROC AUC.\n",
    "roc_auc_score(pred_df['validate_values'],pred_df['pred_probs'])"
   ]
  },
  {
   "cell_type": "code",
   "execution_count": null,
   "metadata": {},
   "outputs": [],
   "source": []
  },
  {
   "cell_type": "markdown",
   "metadata": {},
   "source": [
    "### Random Forest + oversampling & undersampling SMOTE"
   ]
  },
  {
   "cell_type": "markdown",
   "metadata": {},
   "source": [
    "Note: Code for Rand Forest commented out, takes significant time to run (more than 30 mins)."
   ]
  },
  {
   "cell_type": "markdown",
   "metadata": {},
   "source": [
    "For Random Forest Classifier, we explore the combined effects of oversampling and undersampling SMOTE. First oversample the minority class with SMOTE to about a 1:10 ratio, then undersample the majority class to achieve about a 1:2 ratio."
   ]
  },
  {
   "cell_type": "code",
   "execution_count": 18,
   "metadata": {},
   "outputs": [],
   "source": [
    "\"\"\"from imblearn.over_sampling import SMOTE\n",
    "from imblearn.under_sampling import RandomUnderSampler\n",
    "from imblearn.pipeline import Pipeline\n",
    "from sklearn.model_selection import RepeatedStratifiedKFold\n",
    "\n",
    "# define pipeline\n",
    "\n",
    "rf_pipeline = Pipeline([\n",
    "    ('over', SMOTE()),\n",
    "    ('under', RandomUnderSampler()),\n",
    "    ('rf', RandomForestClassifier())\n",
    "])\"\"\""
   ]
  },
  {
   "cell_type": "code",
   "execution_count": null,
   "metadata": {},
   "outputs": [],
   "source": [
    "# Define dictionary of hyperparameters.\n",
    "\"\"\"pipeline_params = {\n",
    "    'over__k_neighbors' : [1,2,3,4,5,6,7,8,9,10],\n",
    "    'over__sampling_strategy' : [0.1],\n",
    "    'under__sampling_strategy' : [0.5],\n",
    "    'rf__n_estimators': [50, 100, 200],\n",
    "    'rf__max_depth': [4, 6, 10, 12],\n",
    "    'rf__random_state': [13]\n",
    "}\"\"\""
   ]
  },
  {
   "cell_type": "code",
   "execution_count": null,
   "metadata": {},
   "outputs": [],
   "source": [
    "# Instantiate our GridSearchCV object.\n",
    "\"\"\"rf_gs = GridSearchCV(rf_pipeline, # What is the model we want to fit?\n",
    "                                 pipeline_params, # What is the dictionary of hyperparameters?\n",
    "                                 cv=5, # What number of folds in CV will we use?\n",
    "                                 verbose=1,\n",
    "                                 scoring='roc_auc')\"\"\""
   ]
  },
  {
   "cell_type": "code",
   "execution_count": null,
   "metadata": {},
   "outputs": [],
   "source": [
    "# Fit the GridSearchCV object to the data.\n",
    "\"\"\"rf_gs.fit(X_train, y_train)\"\"\""
   ]
  },
  {
   "cell_type": "code",
   "execution_count": null,
   "metadata": {},
   "outputs": [],
   "source": [
    "# Save the best model\n",
    "\"\"\"rf_gs_best = rf_gs.best_estimator_\"\"\""
   ]
  },
  {
   "cell_type": "code",
   "execution_count": null,
   "metadata": {},
   "outputs": [],
   "source": [
    "# Checking the scores - Not sure if this is accuracy as I used scoring = 'roc_auc', so might be roc_auc??\n",
    "\"\"\"print(f\"Accuracy on train set: {rf_gs_best.score(X_train, y_train)}\")\n",
    "print(f\"Accuracy on validate set: {rf_gs_best.score(X_valid, y_valid)}\")\"\"\""
   ]
  },
  {
   "cell_type": "code",
   "execution_count": null,
   "metadata": {},
   "outputs": [],
   "source": [
    "\"\"\"prediction_rf = rf_gs_best.predict(X_valid)\"\"\""
   ]
  },
  {
   "cell_type": "code",
   "execution_count": null,
   "metadata": {},
   "outputs": [],
   "source": [
    "# Confusion matrix\n",
    "\"\"\"cm = confusion_matrix(y_valid, prediction_rf)\n",
    "# Save TN/FP/FN/TP values.\n",
    "tn, fp, fn, tp = confusion_matrix(y_val,prediction_rf).ravel()\"\"\""
   ]
  },
  {
   "cell_type": "code",
   "execution_count": null,
   "metadata": {},
   "outputs": [],
   "source": [
    "# Summary of metrics for random forest model\n",
    "\"\"\"sens = tp/(tp+fn)\n",
    "prec = tp/(tp+fp)\n",
    "f1 = 2*(prec*sens)/(prec+sens)\n",
    "print(f\"Sensitivity: {round(sens,4)}\")\n",
    "print(f\"Precision: {round(prec,4)}\")\n",
    "print(f\"F1: {round(f1,4)}\")\"\"\""
   ]
  },
  {
   "cell_type": "code",
   "execution_count": null,
   "metadata": {},
   "outputs": [],
   "source": [
    "\"\"\"pred_proba = [i[1] for i in prediction_rf.predict_proba(X_val)]\n",
    "\n",
    "pred_df = pd.DataFrame({'validate_values': y_val,\n",
    "                        'pred_probs':pred_proba})\n",
    "pred_df.head()\"\"\""
   ]
  },
  {
   "cell_type": "code",
   "execution_count": null,
   "metadata": {},
   "outputs": [],
   "source": [
    "# Calculate ROC AUC.\n",
    "\"\"\"roc_auc_score(pred_df['validate_values'],pred_df['pred_probs'])\"\"\""
   ]
  },
  {
   "cell_type": "code",
   "execution_count": null,
   "metadata": {},
   "outputs": [],
   "source": []
  },
  {
   "cell_type": "markdown",
   "metadata": {},
   "source": [
    "### Gradient Boosting Classifier"
   ]
  },
  {
   "cell_type": "markdown",
   "metadata": {},
   "source": [
    "Note: Code for GradientBoostingClassifier commented out, takes significant time to run (more than 30 mins)."
   ]
  },
  {
   "cell_type": "code",
   "execution_count": 19,
   "metadata": {},
   "outputs": [],
   "source": [
    "# Build upon the hyper-parameters used in Decision Tree model\n",
    "# Learning rate in GB is try to put it in lower range; usually 0.1 to 0.2\n",
    "\"\"\"gs5 = GridSearchCV(estimator = GradientBoostingClassifier(random_state=42),\\\n",
    "                   param_grid = {'learning_rate' : [0.1,0.2],\\\n",
    "                                 'n_estimators' : [100,125],\n",
    "                                 'min_samples_split': [10,15],\\\n",
    "                                 'min_samples_leaf': [2,3],\\\n",
    "                                 'max_depth': [9,11],\\\n",
    "                                 'ccp_alpha': [0,0.1]},\\\n",
    "                   cv = 5,\\\n",
    "                   verbose = 2)\"\"\""
   ]
  },
  {
   "cell_type": "code",
   "execution_count": 20,
   "metadata": {
    "scrolled": true
   },
   "outputs": [
    {
     "name": "stdout",
     "output_type": "stream",
     "text": [
      "Fitting 5 folds for each of 64 candidates, totalling 320 fits\n",
      "[CV] ccp_alpha=0, learning_rate=0.1, max_depth=9, min_samples_leaf=2, min_samples_split=10, n_estimators=100 \n"
     ]
    },
    {
     "name": "stderr",
     "output_type": "stream",
     "text": [
      "[Parallel(n_jobs=1)]: Using backend SequentialBackend with 1 concurrent workers.\n"
     ]
    },
    {
     "name": "stdout",
     "output_type": "stream",
     "text": [
      "[CV]  ccp_alpha=0, learning_rate=0.1, max_depth=9, min_samples_leaf=2, min_samples_split=10, n_estimators=100, total=   7.9s\n",
      "[CV] ccp_alpha=0, learning_rate=0.1, max_depth=9, min_samples_leaf=2, min_samples_split=10, n_estimators=100 \n"
     ]
    },
    {
     "name": "stderr",
     "output_type": "stream",
     "text": [
      "[Parallel(n_jobs=1)]: Done   1 out of   1 | elapsed:    7.8s remaining:    0.0s\n"
     ]
    },
    {
     "name": "stdout",
     "output_type": "stream",
     "text": [
      "[CV]  ccp_alpha=0, learning_rate=0.1, max_depth=9, min_samples_leaf=2, min_samples_split=10, n_estimators=100, total=   7.6s\n",
      "[CV] ccp_alpha=0, learning_rate=0.1, max_depth=9, min_samples_leaf=2, min_samples_split=10, n_estimators=100 \n",
      "[CV]  ccp_alpha=0, learning_rate=0.1, max_depth=9, min_samples_leaf=2, min_samples_split=10, n_estimators=100, total=   7.4s\n",
      "[CV] ccp_alpha=0, learning_rate=0.1, max_depth=9, min_samples_leaf=2, min_samples_split=10, n_estimators=100 \n",
      "[CV]  ccp_alpha=0, learning_rate=0.1, max_depth=9, min_samples_leaf=2, min_samples_split=10, n_estimators=100, total=   7.3s\n",
      "[CV] ccp_alpha=0, learning_rate=0.1, max_depth=9, min_samples_leaf=2, min_samples_split=10, n_estimators=100 \n",
      "[CV]  ccp_alpha=0, learning_rate=0.1, max_depth=9, min_samples_leaf=2, min_samples_split=10, n_estimators=100, total=   7.8s\n",
      "[CV] ccp_alpha=0, learning_rate=0.1, max_depth=9, min_samples_leaf=2, min_samples_split=10, n_estimators=125 \n",
      "[CV]  ccp_alpha=0, learning_rate=0.1, max_depth=9, min_samples_leaf=2, min_samples_split=10, n_estimators=125, total=   9.5s\n",
      "[CV] ccp_alpha=0, learning_rate=0.1, max_depth=9, min_samples_leaf=2, min_samples_split=10, n_estimators=125 \n",
      "[CV]  ccp_alpha=0, learning_rate=0.1, max_depth=9, min_samples_leaf=2, min_samples_split=10, n_estimators=125, total=   9.6s\n",
      "[CV] ccp_alpha=0, learning_rate=0.1, max_depth=9, min_samples_leaf=2, min_samples_split=10, n_estimators=125 \n"
     ]
    },
    {
     "ename": "KeyboardInterrupt",
     "evalue": "",
     "output_type": "error",
     "traceback": [
      "\u001b[1;31m---------------------------------------------------------------------------\u001b[0m",
      "\u001b[1;31mKeyboardInterrupt\u001b[0m                         Traceback (most recent call last)",
      "\u001b[1;32m<ipython-input-20-e66d4740e7d3>\u001b[0m in \u001b[0;36m<module>\u001b[1;34m\u001b[0m\n\u001b[0;32m      1\u001b[0m \u001b[1;31m# CAUTION: Takes long time to run (more than 50 mins)\u001b[0m\u001b[1;33m\u001b[0m\u001b[1;33m\u001b[0m\u001b[1;33m\u001b[0m\u001b[0m\n\u001b[0;32m      2\u001b[0m \u001b[1;31m# Fit GridSearch to the cleaned training data.\u001b[0m\u001b[1;33m\u001b[0m\u001b[1;33m\u001b[0m\u001b[1;33m\u001b[0m\u001b[0m\n\u001b[1;32m----> 3\u001b[1;33m \u001b[0mgs5\u001b[0m\u001b[1;33m.\u001b[0m\u001b[0mfit\u001b[0m\u001b[1;33m(\u001b[0m\u001b[0mX_sm\u001b[0m\u001b[1;33m,\u001b[0m\u001b[0my_sm\u001b[0m\u001b[1;33m)\u001b[0m\u001b[1;33m\u001b[0m\u001b[1;33m\u001b[0m\u001b[0m\n\u001b[0m",
      "\u001b[1;32m~\\anaconda3\\lib\\site-packages\\sklearn\\model_selection\\_search.py\u001b[0m in \u001b[0;36mfit\u001b[1;34m(self, X, y, groups, **fit_params)\u001b[0m\n\u001b[0;32m    708\u001b[0m                 \u001b[1;32mreturn\u001b[0m \u001b[0mresults\u001b[0m\u001b[1;33m\u001b[0m\u001b[1;33m\u001b[0m\u001b[0m\n\u001b[0;32m    709\u001b[0m \u001b[1;33m\u001b[0m\u001b[0m\n\u001b[1;32m--> 710\u001b[1;33m             \u001b[0mself\u001b[0m\u001b[1;33m.\u001b[0m\u001b[0m_run_search\u001b[0m\u001b[1;33m(\u001b[0m\u001b[0mevaluate_candidates\u001b[0m\u001b[1;33m)\u001b[0m\u001b[1;33m\u001b[0m\u001b[1;33m\u001b[0m\u001b[0m\n\u001b[0m\u001b[0;32m    711\u001b[0m \u001b[1;33m\u001b[0m\u001b[0m\n\u001b[0;32m    712\u001b[0m         \u001b[1;31m# For multi-metric evaluation, store the best_index_, best_params_ and\u001b[0m\u001b[1;33m\u001b[0m\u001b[1;33m\u001b[0m\u001b[1;33m\u001b[0m\u001b[0m\n",
      "\u001b[1;32m~\\anaconda3\\lib\\site-packages\\sklearn\\model_selection\\_search.py\u001b[0m in \u001b[0;36m_run_search\u001b[1;34m(self, evaluate_candidates)\u001b[0m\n\u001b[0;32m   1149\u001b[0m     \u001b[1;32mdef\u001b[0m \u001b[0m_run_search\u001b[0m\u001b[1;33m(\u001b[0m\u001b[0mself\u001b[0m\u001b[1;33m,\u001b[0m \u001b[0mevaluate_candidates\u001b[0m\u001b[1;33m)\u001b[0m\u001b[1;33m:\u001b[0m\u001b[1;33m\u001b[0m\u001b[1;33m\u001b[0m\u001b[0m\n\u001b[0;32m   1150\u001b[0m         \u001b[1;34m\"\"\"Search all candidates in param_grid\"\"\"\u001b[0m\u001b[1;33m\u001b[0m\u001b[1;33m\u001b[0m\u001b[0m\n\u001b[1;32m-> 1151\u001b[1;33m         \u001b[0mevaluate_candidates\u001b[0m\u001b[1;33m(\u001b[0m\u001b[0mParameterGrid\u001b[0m\u001b[1;33m(\u001b[0m\u001b[0mself\u001b[0m\u001b[1;33m.\u001b[0m\u001b[0mparam_grid\u001b[0m\u001b[1;33m)\u001b[0m\u001b[1;33m)\u001b[0m\u001b[1;33m\u001b[0m\u001b[1;33m\u001b[0m\u001b[0m\n\u001b[0m\u001b[0;32m   1152\u001b[0m \u001b[1;33m\u001b[0m\u001b[0m\n\u001b[0;32m   1153\u001b[0m \u001b[1;33m\u001b[0m\u001b[0m\n",
      "\u001b[1;32m~\\anaconda3\\lib\\site-packages\\sklearn\\model_selection\\_search.py\u001b[0m in \u001b[0;36mevaluate_candidates\u001b[1;34m(candidate_params)\u001b[0m\n\u001b[0;32m    687\u001b[0m                                \u001b[1;32mfor\u001b[0m \u001b[0mparameters\u001b[0m\u001b[1;33m,\u001b[0m \u001b[1;33m(\u001b[0m\u001b[0mtrain\u001b[0m\u001b[1;33m,\u001b[0m \u001b[0mtest\u001b[0m\u001b[1;33m)\u001b[0m\u001b[1;33m\u001b[0m\u001b[1;33m\u001b[0m\u001b[0m\n\u001b[0;32m    688\u001b[0m                                in product(candidate_params,\n\u001b[1;32m--> 689\u001b[1;33m                                           cv.split(X, y, groups)))\n\u001b[0m\u001b[0;32m    690\u001b[0m \u001b[1;33m\u001b[0m\u001b[0m\n\u001b[0;32m    691\u001b[0m                 \u001b[1;32mif\u001b[0m \u001b[0mlen\u001b[0m\u001b[1;33m(\u001b[0m\u001b[0mout\u001b[0m\u001b[1;33m)\u001b[0m \u001b[1;33m<\u001b[0m \u001b[1;36m1\u001b[0m\u001b[1;33m:\u001b[0m\u001b[1;33m\u001b[0m\u001b[1;33m\u001b[0m\u001b[0m\n",
      "\u001b[1;32m~\\anaconda3\\lib\\site-packages\\joblib\\parallel.py\u001b[0m in \u001b[0;36m__call__\u001b[1;34m(self, iterable)\u001b[0m\n\u001b[0;32m   1005\u001b[0m                 \u001b[0mself\u001b[0m\u001b[1;33m.\u001b[0m\u001b[0m_iterating\u001b[0m \u001b[1;33m=\u001b[0m \u001b[0mself\u001b[0m\u001b[1;33m.\u001b[0m\u001b[0m_original_iterator\u001b[0m \u001b[1;32mis\u001b[0m \u001b[1;32mnot\u001b[0m \u001b[1;32mNone\u001b[0m\u001b[1;33m\u001b[0m\u001b[1;33m\u001b[0m\u001b[0m\n\u001b[0;32m   1006\u001b[0m \u001b[1;33m\u001b[0m\u001b[0m\n\u001b[1;32m-> 1007\u001b[1;33m             \u001b[1;32mwhile\u001b[0m \u001b[0mself\u001b[0m\u001b[1;33m.\u001b[0m\u001b[0mdispatch_one_batch\u001b[0m\u001b[1;33m(\u001b[0m\u001b[0miterator\u001b[0m\u001b[1;33m)\u001b[0m\u001b[1;33m:\u001b[0m\u001b[1;33m\u001b[0m\u001b[1;33m\u001b[0m\u001b[0m\n\u001b[0m\u001b[0;32m   1008\u001b[0m                 \u001b[1;32mpass\u001b[0m\u001b[1;33m\u001b[0m\u001b[1;33m\u001b[0m\u001b[0m\n\u001b[0;32m   1009\u001b[0m \u001b[1;33m\u001b[0m\u001b[0m\n",
      "\u001b[1;32m~\\anaconda3\\lib\\site-packages\\joblib\\parallel.py\u001b[0m in \u001b[0;36mdispatch_one_batch\u001b[1;34m(self, iterator)\u001b[0m\n\u001b[0;32m    833\u001b[0m                 \u001b[1;32mreturn\u001b[0m \u001b[1;32mFalse\u001b[0m\u001b[1;33m\u001b[0m\u001b[1;33m\u001b[0m\u001b[0m\n\u001b[0;32m    834\u001b[0m             \u001b[1;32melse\u001b[0m\u001b[1;33m:\u001b[0m\u001b[1;33m\u001b[0m\u001b[1;33m\u001b[0m\u001b[0m\n\u001b[1;32m--> 835\u001b[1;33m                 \u001b[0mself\u001b[0m\u001b[1;33m.\u001b[0m\u001b[0m_dispatch\u001b[0m\u001b[1;33m(\u001b[0m\u001b[0mtasks\u001b[0m\u001b[1;33m)\u001b[0m\u001b[1;33m\u001b[0m\u001b[1;33m\u001b[0m\u001b[0m\n\u001b[0m\u001b[0;32m    836\u001b[0m                 \u001b[1;32mreturn\u001b[0m \u001b[1;32mTrue\u001b[0m\u001b[1;33m\u001b[0m\u001b[1;33m\u001b[0m\u001b[0m\n\u001b[0;32m    837\u001b[0m \u001b[1;33m\u001b[0m\u001b[0m\n",
      "\u001b[1;32m~\\anaconda3\\lib\\site-packages\\joblib\\parallel.py\u001b[0m in \u001b[0;36m_dispatch\u001b[1;34m(self, batch)\u001b[0m\n\u001b[0;32m    752\u001b[0m         \u001b[1;32mwith\u001b[0m \u001b[0mself\u001b[0m\u001b[1;33m.\u001b[0m\u001b[0m_lock\u001b[0m\u001b[1;33m:\u001b[0m\u001b[1;33m\u001b[0m\u001b[1;33m\u001b[0m\u001b[0m\n\u001b[0;32m    753\u001b[0m             \u001b[0mjob_idx\u001b[0m \u001b[1;33m=\u001b[0m \u001b[0mlen\u001b[0m\u001b[1;33m(\u001b[0m\u001b[0mself\u001b[0m\u001b[1;33m.\u001b[0m\u001b[0m_jobs\u001b[0m\u001b[1;33m)\u001b[0m\u001b[1;33m\u001b[0m\u001b[1;33m\u001b[0m\u001b[0m\n\u001b[1;32m--> 754\u001b[1;33m             \u001b[0mjob\u001b[0m \u001b[1;33m=\u001b[0m \u001b[0mself\u001b[0m\u001b[1;33m.\u001b[0m\u001b[0m_backend\u001b[0m\u001b[1;33m.\u001b[0m\u001b[0mapply_async\u001b[0m\u001b[1;33m(\u001b[0m\u001b[0mbatch\u001b[0m\u001b[1;33m,\u001b[0m \u001b[0mcallback\u001b[0m\u001b[1;33m=\u001b[0m\u001b[0mcb\u001b[0m\u001b[1;33m)\u001b[0m\u001b[1;33m\u001b[0m\u001b[1;33m\u001b[0m\u001b[0m\n\u001b[0m\u001b[0;32m    755\u001b[0m             \u001b[1;31m# A job can complete so quickly than its callback is\u001b[0m\u001b[1;33m\u001b[0m\u001b[1;33m\u001b[0m\u001b[1;33m\u001b[0m\u001b[0m\n\u001b[0;32m    756\u001b[0m             \u001b[1;31m# called before we get here, causing self._jobs to\u001b[0m\u001b[1;33m\u001b[0m\u001b[1;33m\u001b[0m\u001b[1;33m\u001b[0m\u001b[0m\n",
      "\u001b[1;32m~\\anaconda3\\lib\\site-packages\\joblib\\_parallel_backends.py\u001b[0m in \u001b[0;36mapply_async\u001b[1;34m(self, func, callback)\u001b[0m\n\u001b[0;32m    207\u001b[0m     \u001b[1;32mdef\u001b[0m \u001b[0mapply_async\u001b[0m\u001b[1;33m(\u001b[0m\u001b[0mself\u001b[0m\u001b[1;33m,\u001b[0m \u001b[0mfunc\u001b[0m\u001b[1;33m,\u001b[0m \u001b[0mcallback\u001b[0m\u001b[1;33m=\u001b[0m\u001b[1;32mNone\u001b[0m\u001b[1;33m)\u001b[0m\u001b[1;33m:\u001b[0m\u001b[1;33m\u001b[0m\u001b[1;33m\u001b[0m\u001b[0m\n\u001b[0;32m    208\u001b[0m         \u001b[1;34m\"\"\"Schedule a func to be run\"\"\"\u001b[0m\u001b[1;33m\u001b[0m\u001b[1;33m\u001b[0m\u001b[0m\n\u001b[1;32m--> 209\u001b[1;33m         \u001b[0mresult\u001b[0m \u001b[1;33m=\u001b[0m \u001b[0mImmediateResult\u001b[0m\u001b[1;33m(\u001b[0m\u001b[0mfunc\u001b[0m\u001b[1;33m)\u001b[0m\u001b[1;33m\u001b[0m\u001b[1;33m\u001b[0m\u001b[0m\n\u001b[0m\u001b[0;32m    210\u001b[0m         \u001b[1;32mif\u001b[0m \u001b[0mcallback\u001b[0m\u001b[1;33m:\u001b[0m\u001b[1;33m\u001b[0m\u001b[1;33m\u001b[0m\u001b[0m\n\u001b[0;32m    211\u001b[0m             \u001b[0mcallback\u001b[0m\u001b[1;33m(\u001b[0m\u001b[0mresult\u001b[0m\u001b[1;33m)\u001b[0m\u001b[1;33m\u001b[0m\u001b[1;33m\u001b[0m\u001b[0m\n",
      "\u001b[1;32m~\\anaconda3\\lib\\site-packages\\joblib\\_parallel_backends.py\u001b[0m in \u001b[0;36m__init__\u001b[1;34m(self, batch)\u001b[0m\n\u001b[0;32m    588\u001b[0m         \u001b[1;31m# Don't delay the application, to avoid keeping the input\u001b[0m\u001b[1;33m\u001b[0m\u001b[1;33m\u001b[0m\u001b[1;33m\u001b[0m\u001b[0m\n\u001b[0;32m    589\u001b[0m         \u001b[1;31m# arguments in memory\u001b[0m\u001b[1;33m\u001b[0m\u001b[1;33m\u001b[0m\u001b[1;33m\u001b[0m\u001b[0m\n\u001b[1;32m--> 590\u001b[1;33m         \u001b[0mself\u001b[0m\u001b[1;33m.\u001b[0m\u001b[0mresults\u001b[0m \u001b[1;33m=\u001b[0m \u001b[0mbatch\u001b[0m\u001b[1;33m(\u001b[0m\u001b[1;33m)\u001b[0m\u001b[1;33m\u001b[0m\u001b[1;33m\u001b[0m\u001b[0m\n\u001b[0m\u001b[0;32m    591\u001b[0m \u001b[1;33m\u001b[0m\u001b[0m\n\u001b[0;32m    592\u001b[0m     \u001b[1;32mdef\u001b[0m \u001b[0mget\u001b[0m\u001b[1;33m(\u001b[0m\u001b[0mself\u001b[0m\u001b[1;33m)\u001b[0m\u001b[1;33m:\u001b[0m\u001b[1;33m\u001b[0m\u001b[1;33m\u001b[0m\u001b[0m\n",
      "\u001b[1;32m~\\anaconda3\\lib\\site-packages\\joblib\\parallel.py\u001b[0m in \u001b[0;36m__call__\u001b[1;34m(self)\u001b[0m\n\u001b[0;32m    254\u001b[0m         \u001b[1;32mwith\u001b[0m \u001b[0mparallel_backend\u001b[0m\u001b[1;33m(\u001b[0m\u001b[0mself\u001b[0m\u001b[1;33m.\u001b[0m\u001b[0m_backend\u001b[0m\u001b[1;33m,\u001b[0m \u001b[0mn_jobs\u001b[0m\u001b[1;33m=\u001b[0m\u001b[0mself\u001b[0m\u001b[1;33m.\u001b[0m\u001b[0m_n_jobs\u001b[0m\u001b[1;33m)\u001b[0m\u001b[1;33m:\u001b[0m\u001b[1;33m\u001b[0m\u001b[1;33m\u001b[0m\u001b[0m\n\u001b[0;32m    255\u001b[0m             return [func(*args, **kwargs)\n\u001b[1;32m--> 256\u001b[1;33m                     for func, args, kwargs in self.items]\n\u001b[0m\u001b[0;32m    257\u001b[0m \u001b[1;33m\u001b[0m\u001b[0m\n\u001b[0;32m    258\u001b[0m     \u001b[1;32mdef\u001b[0m \u001b[0m__len__\u001b[0m\u001b[1;33m(\u001b[0m\u001b[0mself\u001b[0m\u001b[1;33m)\u001b[0m\u001b[1;33m:\u001b[0m\u001b[1;33m\u001b[0m\u001b[1;33m\u001b[0m\u001b[0m\n",
      "\u001b[1;32m~\\anaconda3\\lib\\site-packages\\joblib\\parallel.py\u001b[0m in \u001b[0;36m<listcomp>\u001b[1;34m(.0)\u001b[0m\n\u001b[0;32m    254\u001b[0m         \u001b[1;32mwith\u001b[0m \u001b[0mparallel_backend\u001b[0m\u001b[1;33m(\u001b[0m\u001b[0mself\u001b[0m\u001b[1;33m.\u001b[0m\u001b[0m_backend\u001b[0m\u001b[1;33m,\u001b[0m \u001b[0mn_jobs\u001b[0m\u001b[1;33m=\u001b[0m\u001b[0mself\u001b[0m\u001b[1;33m.\u001b[0m\u001b[0m_n_jobs\u001b[0m\u001b[1;33m)\u001b[0m\u001b[1;33m:\u001b[0m\u001b[1;33m\u001b[0m\u001b[1;33m\u001b[0m\u001b[0m\n\u001b[0;32m    255\u001b[0m             return [func(*args, **kwargs)\n\u001b[1;32m--> 256\u001b[1;33m                     for func, args, kwargs in self.items]\n\u001b[0m\u001b[0;32m    257\u001b[0m \u001b[1;33m\u001b[0m\u001b[0m\n\u001b[0;32m    258\u001b[0m     \u001b[1;32mdef\u001b[0m \u001b[0m__len__\u001b[0m\u001b[1;33m(\u001b[0m\u001b[0mself\u001b[0m\u001b[1;33m)\u001b[0m\u001b[1;33m:\u001b[0m\u001b[1;33m\u001b[0m\u001b[1;33m\u001b[0m\u001b[0m\n",
      "\u001b[1;32m~\\anaconda3\\lib\\site-packages\\sklearn\\model_selection\\_validation.py\u001b[0m in \u001b[0;36m_fit_and_score\u001b[1;34m(estimator, X, y, scorer, train, test, verbose, parameters, fit_params, return_train_score, return_parameters, return_n_test_samples, return_times, return_estimator, error_score)\u001b[0m\n\u001b[0;32m    513\u001b[0m             \u001b[0mestimator\u001b[0m\u001b[1;33m.\u001b[0m\u001b[0mfit\u001b[0m\u001b[1;33m(\u001b[0m\u001b[0mX_train\u001b[0m\u001b[1;33m,\u001b[0m \u001b[1;33m**\u001b[0m\u001b[0mfit_params\u001b[0m\u001b[1;33m)\u001b[0m\u001b[1;33m\u001b[0m\u001b[1;33m\u001b[0m\u001b[0m\n\u001b[0;32m    514\u001b[0m         \u001b[1;32melse\u001b[0m\u001b[1;33m:\u001b[0m\u001b[1;33m\u001b[0m\u001b[1;33m\u001b[0m\u001b[0m\n\u001b[1;32m--> 515\u001b[1;33m             \u001b[0mestimator\u001b[0m\u001b[1;33m.\u001b[0m\u001b[0mfit\u001b[0m\u001b[1;33m(\u001b[0m\u001b[0mX_train\u001b[0m\u001b[1;33m,\u001b[0m \u001b[0my_train\u001b[0m\u001b[1;33m,\u001b[0m \u001b[1;33m**\u001b[0m\u001b[0mfit_params\u001b[0m\u001b[1;33m)\u001b[0m\u001b[1;33m\u001b[0m\u001b[1;33m\u001b[0m\u001b[0m\n\u001b[0m\u001b[0;32m    516\u001b[0m \u001b[1;33m\u001b[0m\u001b[0m\n\u001b[0;32m    517\u001b[0m     \u001b[1;32mexcept\u001b[0m \u001b[0mException\u001b[0m \u001b[1;32mas\u001b[0m \u001b[0me\u001b[0m\u001b[1;33m:\u001b[0m\u001b[1;33m\u001b[0m\u001b[1;33m\u001b[0m\u001b[0m\n",
      "\u001b[1;32m~\\anaconda3\\lib\\site-packages\\sklearn\\ensemble\\_gb.py\u001b[0m in \u001b[0;36mfit\u001b[1;34m(self, X, y, sample_weight, monitor)\u001b[0m\n\u001b[0;32m   1535\u001b[0m         n_stages = self._fit_stages(\n\u001b[0;32m   1536\u001b[0m             \u001b[0mX\u001b[0m\u001b[1;33m,\u001b[0m \u001b[0my\u001b[0m\u001b[1;33m,\u001b[0m \u001b[0mraw_predictions\u001b[0m\u001b[1;33m,\u001b[0m \u001b[0msample_weight\u001b[0m\u001b[1;33m,\u001b[0m \u001b[0mself\u001b[0m\u001b[1;33m.\u001b[0m\u001b[0m_rng\u001b[0m\u001b[1;33m,\u001b[0m \u001b[0mX_val\u001b[0m\u001b[1;33m,\u001b[0m \u001b[0my_val\u001b[0m\u001b[1;33m,\u001b[0m\u001b[1;33m\u001b[0m\u001b[1;33m\u001b[0m\u001b[0m\n\u001b[1;32m-> 1537\u001b[1;33m             sample_weight_val, begin_at_stage, monitor, X_idx_sorted)\n\u001b[0m\u001b[0;32m   1538\u001b[0m \u001b[1;33m\u001b[0m\u001b[0m\n\u001b[0;32m   1539\u001b[0m         \u001b[1;31m# change shape of arrays after fit (early-stopping or additional ests)\u001b[0m\u001b[1;33m\u001b[0m\u001b[1;33m\u001b[0m\u001b[1;33m\u001b[0m\u001b[0m\n",
      "\u001b[1;32m~\\anaconda3\\lib\\site-packages\\sklearn\\ensemble\\_gb.py\u001b[0m in \u001b[0;36m_fit_stages\u001b[1;34m(self, X, y, raw_predictions, sample_weight, random_state, X_val, y_val, sample_weight_val, begin_at_stage, monitor, X_idx_sorted)\u001b[0m\n\u001b[0;32m   1592\u001b[0m             raw_predictions = self._fit_stage(\n\u001b[0;32m   1593\u001b[0m                 \u001b[0mi\u001b[0m\u001b[1;33m,\u001b[0m \u001b[0mX\u001b[0m\u001b[1;33m,\u001b[0m \u001b[0my\u001b[0m\u001b[1;33m,\u001b[0m \u001b[0mraw_predictions\u001b[0m\u001b[1;33m,\u001b[0m \u001b[0msample_weight\u001b[0m\u001b[1;33m,\u001b[0m \u001b[0msample_mask\u001b[0m\u001b[1;33m,\u001b[0m\u001b[1;33m\u001b[0m\u001b[1;33m\u001b[0m\u001b[0m\n\u001b[1;32m-> 1594\u001b[1;33m                 random_state, X_idx_sorted, X_csc, X_csr)\n\u001b[0m\u001b[0;32m   1595\u001b[0m \u001b[1;33m\u001b[0m\u001b[0m\n\u001b[0;32m   1596\u001b[0m             \u001b[1;31m# track deviance (= loss)\u001b[0m\u001b[1;33m\u001b[0m\u001b[1;33m\u001b[0m\u001b[1;33m\u001b[0m\u001b[0m\n",
      "\u001b[1;32m~\\anaconda3\\lib\\site-packages\\sklearn\\ensemble\\_gb.py\u001b[0m in \u001b[0;36m_fit_stage\u001b[1;34m(self, i, X, y, raw_predictions, sample_weight, sample_mask, random_state, X_idx_sorted, X_csc, X_csr)\u001b[0m\n\u001b[0;32m   1243\u001b[0m             \u001b[0mX\u001b[0m \u001b[1;33m=\u001b[0m \u001b[0mX_csr\u001b[0m \u001b[1;32mif\u001b[0m \u001b[0mX_csr\u001b[0m \u001b[1;32mis\u001b[0m \u001b[1;32mnot\u001b[0m \u001b[1;32mNone\u001b[0m \u001b[1;32melse\u001b[0m \u001b[0mX\u001b[0m\u001b[1;33m\u001b[0m\u001b[1;33m\u001b[0m\u001b[0m\n\u001b[0;32m   1244\u001b[0m             tree.fit(X, residual, sample_weight=sample_weight,\n\u001b[1;32m-> 1245\u001b[1;33m                      check_input=False, X_idx_sorted=X_idx_sorted)\n\u001b[0m\u001b[0;32m   1246\u001b[0m \u001b[1;33m\u001b[0m\u001b[0m\n\u001b[0;32m   1247\u001b[0m             \u001b[1;31m# update tree leaves\u001b[0m\u001b[1;33m\u001b[0m\u001b[1;33m\u001b[0m\u001b[1;33m\u001b[0m\u001b[0m\n",
      "\u001b[1;32m~\\anaconda3\\lib\\site-packages\\sklearn\\tree\\_classes.py\u001b[0m in \u001b[0;36mfit\u001b[1;34m(self, X, y, sample_weight, check_input, X_idx_sorted)\u001b[0m\n\u001b[0;32m   1223\u001b[0m             \u001b[0msample_weight\u001b[0m\u001b[1;33m=\u001b[0m\u001b[0msample_weight\u001b[0m\u001b[1;33m,\u001b[0m\u001b[1;33m\u001b[0m\u001b[1;33m\u001b[0m\u001b[0m\n\u001b[0;32m   1224\u001b[0m             \u001b[0mcheck_input\u001b[0m\u001b[1;33m=\u001b[0m\u001b[0mcheck_input\u001b[0m\u001b[1;33m,\u001b[0m\u001b[1;33m\u001b[0m\u001b[1;33m\u001b[0m\u001b[0m\n\u001b[1;32m-> 1225\u001b[1;33m             X_idx_sorted=X_idx_sorted)\n\u001b[0m\u001b[0;32m   1226\u001b[0m         \u001b[1;32mreturn\u001b[0m \u001b[0mself\u001b[0m\u001b[1;33m\u001b[0m\u001b[1;33m\u001b[0m\u001b[0m\n\u001b[0;32m   1227\u001b[0m \u001b[1;33m\u001b[0m\u001b[0m\n",
      "\u001b[1;32m~\\anaconda3\\lib\\site-packages\\sklearn\\tree\\_classes.py\u001b[0m in \u001b[0;36mfit\u001b[1;34m(self, X, y, sample_weight, check_input, X_idx_sorted)\u001b[0m\n\u001b[0;32m    365\u001b[0m                                            min_impurity_split)\n\u001b[0;32m    366\u001b[0m \u001b[1;33m\u001b[0m\u001b[0m\n\u001b[1;32m--> 367\u001b[1;33m         \u001b[0mbuilder\u001b[0m\u001b[1;33m.\u001b[0m\u001b[0mbuild\u001b[0m\u001b[1;33m(\u001b[0m\u001b[0mself\u001b[0m\u001b[1;33m.\u001b[0m\u001b[0mtree_\u001b[0m\u001b[1;33m,\u001b[0m \u001b[0mX\u001b[0m\u001b[1;33m,\u001b[0m \u001b[0my\u001b[0m\u001b[1;33m,\u001b[0m \u001b[0msample_weight\u001b[0m\u001b[1;33m,\u001b[0m \u001b[0mX_idx_sorted\u001b[0m\u001b[1;33m)\u001b[0m\u001b[1;33m\u001b[0m\u001b[1;33m\u001b[0m\u001b[0m\n\u001b[0m\u001b[0;32m    368\u001b[0m \u001b[1;33m\u001b[0m\u001b[0m\n\u001b[0;32m    369\u001b[0m         \u001b[1;32mif\u001b[0m \u001b[0mself\u001b[0m\u001b[1;33m.\u001b[0m\u001b[0mn_outputs_\u001b[0m \u001b[1;33m==\u001b[0m \u001b[1;36m1\u001b[0m \u001b[1;32mand\u001b[0m \u001b[0mis_classifier\u001b[0m\u001b[1;33m(\u001b[0m\u001b[0mself\u001b[0m\u001b[1;33m)\u001b[0m\u001b[1;33m:\u001b[0m\u001b[1;33m\u001b[0m\u001b[1;33m\u001b[0m\u001b[0m\n",
      "\u001b[1;31mKeyboardInterrupt\u001b[0m: "
     ]
    }
   ],
   "source": [
    "# CAUTION: Takes long time to run (more than 50 mins)\n",
    "# Fit GridSearch to the cleaned training data.\n",
    "\"\"\"gs5.fit(X_sm,y_sm)\"\"\""
   ]
  },
  {
   "cell_type": "code",
   "execution_count": null,
   "metadata": {},
   "outputs": [],
   "source": [
    "# Check the results of the grid search\n",
    "\n",
    "\"\"\"print(f\"Best parameters: {gs5.best_params_}\")\n",
    "print(f\"Best score: {gs5.best_score_}\")\"\"\""
   ]
  },
  {
   "cell_type": "code",
   "execution_count": null,
   "metadata": {},
   "outputs": [],
   "source": [
    "# Save model\n",
    "\"\"\"model5 = gs5.best_estimator_\"\"\""
   ]
  },
  {
   "cell_type": "code",
   "execution_count": null,
   "metadata": {
    "scrolled": true
   },
   "outputs": [],
   "source": [
    "# Score model on train set and validate set\n",
    "\"\"\"print(f\"Accuracy on train set: {model5.score(X_sm, y_sm)}\")\n",
    "print(f\"Accuracy on validate set: {model5.score(X_val, y_val)}\")\"\"\""
   ]
  },
  {
   "cell_type": "markdown",
   "metadata": {},
   "source": [
    "The model is overfitted with about 9% drop in validate accuracy compared to train accuracy. The accuracy is lower than the all previous models."
   ]
  },
  {
   "cell_type": "code",
   "execution_count": null,
   "metadata": {},
   "outputs": [],
   "source": [
    "# Confusion matrix\n",
    "# Pass in true values, predicted values to confusion matrix\n",
    "# Convert confusion matrix into dataframe\n",
    "# Positive class (class 1) is wnv\n",
    "\"\"\"preds = gs5.predict(X_val)\n",
    "cm = confusion_matrix(y_val, preds)\n",
    "cm_df = pd.DataFrame(cm,columns=['pred no wnv','pred wnv'], index=['Actual no wnv','Actual wnv'])\n",
    "cm_df\"\"\""
   ]
  },
  {
   "cell_type": "code",
   "execution_count": null,
   "metadata": {},
   "outputs": [],
   "source": [
    "# return nparray as a 1-D array.\n",
    "\"\"\"confusion_matrix(y_val, preds).ravel()\n",
    "# Save TN/FP/FN/TP values.\n",
    "tn, fp, fn, tp = confusion_matrix(y_val,preds).ravel()\"\"\""
   ]
  },
  {
   "cell_type": "code",
   "execution_count": null,
   "metadata": {},
   "outputs": [],
   "source": [
    "# Summary of metrics for log reg model\n",
    "\"\"\"sens = tp/(tp+fn)\n",
    "prec = tp/(tp+fp)\n",
    "f1 = 2*(prec*sens)/(prec+sens)\n",
    "print(f\"Sensitivity: {round(sens,4)}\")\n",
    "print(f\"Precision: {round(prec,4)}\")\n",
    "print(f\"F1: {round(f1,4)}\")\"\"\""
   ]
  },
  {
   "cell_type": "code",
   "execution_count": null,
   "metadata": {},
   "outputs": [],
   "source": [
    "\"\"\"pred_proba = [i[1] for i in gs5.predict_proba(X_val)]\n",
    "\n",
    "pred_df = pd.DataFrame({'validate_values': y_val,\n",
    "                        'pred_probs':pred_proba})\n",
    "pred_df.head()\"\"\""
   ]
  },
  {
   "cell_type": "code",
   "execution_count": null,
   "metadata": {},
   "outputs": [],
   "source": [
    "# Calculate ROC AUC.\n",
    "\"\"\"roc_auc_score(pred_df['validate_values'],pred_df['pred_probs'])\"\"\""
   ]
  },
  {
   "cell_type": "code",
   "execution_count": null,
   "metadata": {},
   "outputs": [],
   "source": []
  },
  {
   "cell_type": "markdown",
   "metadata": {},
   "source": [
    "### XGBoost Classifier"
   ]
  },
  {
   "cell_type": "markdown",
   "metadata": {},
   "source": [
    "Note: Code for XGBoost Classifier commented out, takes significant time to run (more than 30 mins)."
   ]
  },
  {
   "cell_type": "markdown",
   "metadata": {},
   "source": [
    "XGBoost classifier is not explicitly covered in class; we explore the capabilities of XGboost in this section. XGBoost implements parallel processing and should run faster as compared to GBM.\n",
    "Update: took 40 mins, slightly faster than GB, though it's likely due to the different params used."
   ]
  },
  {
   "cell_type": "code",
   "execution_count": 21,
   "metadata": {},
   "outputs": [],
   "source": [
    "from xgboost import XGBClassifier"
   ]
  },
  {
   "cell_type": "code",
   "execution_count": 22,
   "metadata": {},
   "outputs": [],
   "source": [
    "gsX = GridSearchCV(estimator = XGBClassifier(random_state=42),\\\n",
    "                   param_grid = {'max_depth': [9,11],\\\n",
    "                                 'learning_rate' : [0.1],\\\n",
    "                                 'n_estimators' : [100,125],\\\n",
    "                                 'objective' : ['binary:logistic'],\\\n",
    "                                 'gamma': [0.5,1],\\\n",
    "                                 'min_child_weight': [1,5],\\\n",
    "                                 'subsample': [0.5,1.0],\\\n",
    "                                 'colsample_bytree': [0.5,1.0] },\\\n",
    "                   cv = 5,\\\n",
    "                   verbose = 2)"
   ]
  },
  {
   "cell_type": "markdown",
   "metadata": {},
   "source": [
    "Notes on params:\n",
    "- binary:logistic –logistic regression for binary classification, returns predicted probability (not class).\n",
    "- gamma (default=0) specifies the minimum loss reduction required to make a split; makes model conservative.\n",
    "- min child weight (default=1) minimum sum of weights of all observations required in a child. Used to control over-fitting. Higher values prevent a model from learning relations which might be highly specific to the particular sample selected for a tree.\n",
    "- subsample (default=1) Denotes the fraction of observations to be randomly samples for each tree. Lower values make the algorithm more conservative and prevents overfitting. Typical values: 0.5, 1.\n",
    "- colsample_bytree(default=1) Denotes the fraction of columns to be randomly samples for each tree. Typical values: 0.5, 1"
   ]
  },
  {
   "cell_type": "code",
   "execution_count": 23,
   "metadata": {},
   "outputs": [
    {
     "name": "stdout",
     "output_type": "stream",
     "text": [
      "Fitting 5 folds for each of 64 candidates, totalling 320 fits\n",
      "[CV] colsample_bytree=0.5, gamma=0.5, learning_rate=0.1, max_depth=9, min_child_weight=1, n_estimators=100, objective=binary:logistic, subsample=0.5 \n"
     ]
    },
    {
     "name": "stderr",
     "output_type": "stream",
     "text": [
      "[Parallel(n_jobs=1)]: Using backend SequentialBackend with 1 concurrent workers.\n"
     ]
    },
    {
     "name": "stdout",
     "output_type": "stream",
     "text": [
      "[CV]  colsample_bytree=0.5, gamma=0.5, learning_rate=0.1, max_depth=9, min_child_weight=1, n_estimators=100, objective=binary:logistic, subsample=0.5, total=   4.1s\n",
      "[CV] colsample_bytree=0.5, gamma=0.5, learning_rate=0.1, max_depth=9, min_child_weight=1, n_estimators=100, objective=binary:logistic, subsample=0.5 \n"
     ]
    },
    {
     "name": "stderr",
     "output_type": "stream",
     "text": [
      "[Parallel(n_jobs=1)]: Done   1 out of   1 | elapsed:    4.0s remaining:    0.0s\n"
     ]
    },
    {
     "name": "stdout",
     "output_type": "stream",
     "text": [
      "[CV]  colsample_bytree=0.5, gamma=0.5, learning_rate=0.1, max_depth=9, min_child_weight=1, n_estimators=100, objective=binary:logistic, subsample=0.5, total=   4.1s\n",
      "[CV] colsample_bytree=0.5, gamma=0.5, learning_rate=0.1, max_depth=9, min_child_weight=1, n_estimators=100, objective=binary:logistic, subsample=0.5 \n",
      "[CV]  colsample_bytree=0.5, gamma=0.5, learning_rate=0.1, max_depth=9, min_child_weight=1, n_estimators=100, objective=binary:logistic, subsample=0.5, total=   4.4s\n",
      "[CV] colsample_bytree=0.5, gamma=0.5, learning_rate=0.1, max_depth=9, min_child_weight=1, n_estimators=100, objective=binary:logistic, subsample=0.5 \n",
      "[CV]  colsample_bytree=0.5, gamma=0.5, learning_rate=0.1, max_depth=9, min_child_weight=1, n_estimators=100, objective=binary:logistic, subsample=0.5, total=   4.2s\n",
      "[CV] colsample_bytree=0.5, gamma=0.5, learning_rate=0.1, max_depth=9, min_child_weight=1, n_estimators=100, objective=binary:logistic, subsample=0.5 \n",
      "[CV]  colsample_bytree=0.5, gamma=0.5, learning_rate=0.1, max_depth=9, min_child_weight=1, n_estimators=100, objective=binary:logistic, subsample=0.5, total=   4.1s\n",
      "[CV] colsample_bytree=0.5, gamma=0.5, learning_rate=0.1, max_depth=9, min_child_weight=1, n_estimators=100, objective=binary:logistic, subsample=1.0 \n",
      "[CV]  colsample_bytree=0.5, gamma=0.5, learning_rate=0.1, max_depth=9, min_child_weight=1, n_estimators=100, objective=binary:logistic, subsample=1.0, total=   3.0s\n",
      "[CV] colsample_bytree=0.5, gamma=0.5, learning_rate=0.1, max_depth=9, min_child_weight=1, n_estimators=100, objective=binary:logistic, subsample=1.0 \n",
      "[CV]  colsample_bytree=0.5, gamma=0.5, learning_rate=0.1, max_depth=9, min_child_weight=1, n_estimators=100, objective=binary:logistic, subsample=1.0, total=   3.1s\n",
      "[CV] colsample_bytree=0.5, gamma=0.5, learning_rate=0.1, max_depth=9, min_child_weight=1, n_estimators=100, objective=binary:logistic, subsample=1.0 \n",
      "[CV]  colsample_bytree=0.5, gamma=0.5, learning_rate=0.1, max_depth=9, min_child_weight=1, n_estimators=100, objective=binary:logistic, subsample=1.0, total=   3.0s\n",
      "[CV] colsample_bytree=0.5, gamma=0.5, learning_rate=0.1, max_depth=9, min_child_weight=1, n_estimators=100, objective=binary:logistic, subsample=1.0 \n",
      "[CV]  colsample_bytree=0.5, gamma=0.5, learning_rate=0.1, max_depth=9, min_child_weight=1, n_estimators=100, objective=binary:logistic, subsample=1.0, total=   3.1s\n",
      "[CV] colsample_bytree=0.5, gamma=0.5, learning_rate=0.1, max_depth=9, min_child_weight=1, n_estimators=100, objective=binary:logistic, subsample=1.0 \n",
      "[CV]  colsample_bytree=0.5, gamma=0.5, learning_rate=0.1, max_depth=9, min_child_weight=1, n_estimators=100, objective=binary:logistic, subsample=1.0, total=   3.2s\n",
      "[CV] colsample_bytree=0.5, gamma=0.5, learning_rate=0.1, max_depth=9, min_child_weight=1, n_estimators=125, objective=binary:logistic, subsample=0.5 \n",
      "[CV]  colsample_bytree=0.5, gamma=0.5, learning_rate=0.1, max_depth=9, min_child_weight=1, n_estimators=125, objective=binary:logistic, subsample=0.5, total=   5.0s\n",
      "[CV] colsample_bytree=0.5, gamma=0.5, learning_rate=0.1, max_depth=9, min_child_weight=1, n_estimators=125, objective=binary:logistic, subsample=0.5 \n",
      "[CV]  colsample_bytree=0.5, gamma=0.5, learning_rate=0.1, max_depth=9, min_child_weight=1, n_estimators=125, objective=binary:logistic, subsample=0.5, total=   5.4s\n",
      "[CV] colsample_bytree=0.5, gamma=0.5, learning_rate=0.1, max_depth=9, min_child_weight=1, n_estimators=125, objective=binary:logistic, subsample=0.5 \n",
      "[CV]  colsample_bytree=0.5, gamma=0.5, learning_rate=0.1, max_depth=9, min_child_weight=1, n_estimators=125, objective=binary:logistic, subsample=0.5, total=   5.6s\n",
      "[CV] colsample_bytree=0.5, gamma=0.5, learning_rate=0.1, max_depth=9, min_child_weight=1, n_estimators=125, objective=binary:logistic, subsample=0.5 \n",
      "[CV]  colsample_bytree=0.5, gamma=0.5, learning_rate=0.1, max_depth=9, min_child_weight=1, n_estimators=125, objective=binary:logistic, subsample=0.5, total=   5.4s\n",
      "[CV] colsample_bytree=0.5, gamma=0.5, learning_rate=0.1, max_depth=9, min_child_weight=1, n_estimators=125, objective=binary:logistic, subsample=0.5 \n",
      "[CV]  colsample_bytree=0.5, gamma=0.5, learning_rate=0.1, max_depth=9, min_child_weight=1, n_estimators=125, objective=binary:logistic, subsample=0.5, total=   5.1s\n",
      "[CV] colsample_bytree=0.5, gamma=0.5, learning_rate=0.1, max_depth=9, min_child_weight=1, n_estimators=125, objective=binary:logistic, subsample=1.0 \n",
      "[CV]  colsample_bytree=0.5, gamma=0.5, learning_rate=0.1, max_depth=9, min_child_weight=1, n_estimators=125, objective=binary:logistic, subsample=1.0, total=   3.9s\n",
      "[CV] colsample_bytree=0.5, gamma=0.5, learning_rate=0.1, max_depth=9, min_child_weight=1, n_estimators=125, objective=binary:logistic, subsample=1.0 \n",
      "[CV]  colsample_bytree=0.5, gamma=0.5, learning_rate=0.1, max_depth=9, min_child_weight=1, n_estimators=125, objective=binary:logistic, subsample=1.0, total=   3.8s\n",
      "[CV] colsample_bytree=0.5, gamma=0.5, learning_rate=0.1, max_depth=9, min_child_weight=1, n_estimators=125, objective=binary:logistic, subsample=1.0 \n",
      "[CV]  colsample_bytree=0.5, gamma=0.5, learning_rate=0.1, max_depth=9, min_child_weight=1, n_estimators=125, objective=binary:logistic, subsample=1.0, total=   4.0s\n",
      "[CV] colsample_bytree=0.5, gamma=0.5, learning_rate=0.1, max_depth=9, min_child_weight=1, n_estimators=125, objective=binary:logistic, subsample=1.0 \n",
      "[CV]  colsample_bytree=0.5, gamma=0.5, learning_rate=0.1, max_depth=9, min_child_weight=1, n_estimators=125, objective=binary:logistic, subsample=1.0, total=   3.7s\n",
      "[CV] colsample_bytree=0.5, gamma=0.5, learning_rate=0.1, max_depth=9, min_child_weight=1, n_estimators=125, objective=binary:logistic, subsample=1.0 \n",
      "[CV]  colsample_bytree=0.5, gamma=0.5, learning_rate=0.1, max_depth=9, min_child_weight=1, n_estimators=125, objective=binary:logistic, subsample=1.0, total=   3.7s\n",
      "[CV] colsample_bytree=0.5, gamma=0.5, learning_rate=0.1, max_depth=9, min_child_weight=5, n_estimators=100, objective=binary:logistic, subsample=0.5 \n",
      "[CV]  colsample_bytree=0.5, gamma=0.5, learning_rate=0.1, max_depth=9, min_child_weight=5, n_estimators=100, objective=binary:logistic, subsample=0.5, total=   3.7s\n",
      "[CV] colsample_bytree=0.5, gamma=0.5, learning_rate=0.1, max_depth=9, min_child_weight=5, n_estimators=100, objective=binary:logistic, subsample=0.5 \n",
      "[CV]  colsample_bytree=0.5, gamma=0.5, learning_rate=0.1, max_depth=9, min_child_weight=5, n_estimators=100, objective=binary:logistic, subsample=0.5, total=   4.1s\n",
      "[CV] colsample_bytree=0.5, gamma=0.5, learning_rate=0.1, max_depth=9, min_child_weight=5, n_estimators=100, objective=binary:logistic, subsample=0.5 \n",
      "[CV]  colsample_bytree=0.5, gamma=0.5, learning_rate=0.1, max_depth=9, min_child_weight=5, n_estimators=100, objective=binary:logistic, subsample=0.5, total=   4.1s\n",
      "[CV] colsample_bytree=0.5, gamma=0.5, learning_rate=0.1, max_depth=9, min_child_weight=5, n_estimators=100, objective=binary:logistic, subsample=0.5 \n",
      "[CV]  colsample_bytree=0.5, gamma=0.5, learning_rate=0.1, max_depth=9, min_child_weight=5, n_estimators=100, objective=binary:logistic, subsample=0.5, total=   4.2s\n",
      "[CV] colsample_bytree=0.5, gamma=0.5, learning_rate=0.1, max_depth=9, min_child_weight=5, n_estimators=100, objective=binary:logistic, subsample=0.5 \n",
      "[CV]  colsample_bytree=0.5, gamma=0.5, learning_rate=0.1, max_depth=9, min_child_weight=5, n_estimators=100, objective=binary:logistic, subsample=0.5, total=   4.1s\n",
      "[CV] colsample_bytree=0.5, gamma=0.5, learning_rate=0.1, max_depth=9, min_child_weight=5, n_estimators=100, objective=binary:logistic, subsample=1.0 \n",
      "[CV]  colsample_bytree=0.5, gamma=0.5, learning_rate=0.1, max_depth=9, min_child_weight=5, n_estimators=100, objective=binary:logistic, subsample=1.0, total=   3.1s\n",
      "[CV] colsample_bytree=0.5, gamma=0.5, learning_rate=0.1, max_depth=9, min_child_weight=5, n_estimators=100, objective=binary:logistic, subsample=1.0 \n",
      "[CV]  colsample_bytree=0.5, gamma=0.5, learning_rate=0.1, max_depth=9, min_child_weight=5, n_estimators=100, objective=binary:logistic, subsample=1.0, total=   3.2s\n",
      "[CV] colsample_bytree=0.5, gamma=0.5, learning_rate=0.1, max_depth=9, min_child_weight=5, n_estimators=100, objective=binary:logistic, subsample=1.0 \n",
      "[CV]  colsample_bytree=0.5, gamma=0.5, learning_rate=0.1, max_depth=9, min_child_weight=5, n_estimators=100, objective=binary:logistic, subsample=1.0, total=   3.1s\n",
      "[CV] colsample_bytree=0.5, gamma=0.5, learning_rate=0.1, max_depth=9, min_child_weight=5, n_estimators=100, objective=binary:logistic, subsample=1.0 \n"
     ]
    },
    {
     "name": "stdout",
     "output_type": "stream",
     "text": [
      "[CV]  colsample_bytree=0.5, gamma=0.5, learning_rate=0.1, max_depth=9, min_child_weight=5, n_estimators=100, objective=binary:logistic, subsample=1.0, total=   3.2s\n",
      "[CV] colsample_bytree=0.5, gamma=0.5, learning_rate=0.1, max_depth=9, min_child_weight=5, n_estimators=100, objective=binary:logistic, subsample=1.0 \n",
      "[CV]  colsample_bytree=0.5, gamma=0.5, learning_rate=0.1, max_depth=9, min_child_weight=5, n_estimators=100, objective=binary:logistic, subsample=1.0, total=   3.6s\n",
      "[CV] colsample_bytree=0.5, gamma=0.5, learning_rate=0.1, max_depth=9, min_child_weight=5, n_estimators=125, objective=binary:logistic, subsample=0.5 \n",
      "[CV]  colsample_bytree=0.5, gamma=0.5, learning_rate=0.1, max_depth=9, min_child_weight=5, n_estimators=125, objective=binary:logistic, subsample=0.5, total=   5.3s\n",
      "[CV] colsample_bytree=0.5, gamma=0.5, learning_rate=0.1, max_depth=9, min_child_weight=5, n_estimators=125, objective=binary:logistic, subsample=0.5 \n",
      "[CV]  colsample_bytree=0.5, gamma=0.5, learning_rate=0.1, max_depth=9, min_child_weight=5, n_estimators=125, objective=binary:logistic, subsample=0.5, total=   6.2s\n",
      "[CV] colsample_bytree=0.5, gamma=0.5, learning_rate=0.1, max_depth=9, min_child_weight=5, n_estimators=125, objective=binary:logistic, subsample=0.5 \n",
      "[CV]  colsample_bytree=0.5, gamma=0.5, learning_rate=0.1, max_depth=9, min_child_weight=5, n_estimators=125, objective=binary:logistic, subsample=0.5, total=   5.3s\n",
      "[CV] colsample_bytree=0.5, gamma=0.5, learning_rate=0.1, max_depth=9, min_child_weight=5, n_estimators=125, objective=binary:logistic, subsample=0.5 \n",
      "[CV]  colsample_bytree=0.5, gamma=0.5, learning_rate=0.1, max_depth=9, min_child_weight=5, n_estimators=125, objective=binary:logistic, subsample=0.5, total=   5.8s\n",
      "[CV] colsample_bytree=0.5, gamma=0.5, learning_rate=0.1, max_depth=9, min_child_weight=5, n_estimators=125, objective=binary:logistic, subsample=0.5 \n",
      "[CV]  colsample_bytree=0.5, gamma=0.5, learning_rate=0.1, max_depth=9, min_child_weight=5, n_estimators=125, objective=binary:logistic, subsample=0.5, total=   5.6s\n",
      "[CV] colsample_bytree=0.5, gamma=0.5, learning_rate=0.1, max_depth=9, min_child_weight=5, n_estimators=125, objective=binary:logistic, subsample=1.0 \n",
      "[CV]  colsample_bytree=0.5, gamma=0.5, learning_rate=0.1, max_depth=9, min_child_weight=5, n_estimators=125, objective=binary:logistic, subsample=1.0, total=   4.3s\n",
      "[CV] colsample_bytree=0.5, gamma=0.5, learning_rate=0.1, max_depth=9, min_child_weight=5, n_estimators=125, objective=binary:logistic, subsample=1.0 \n",
      "[CV]  colsample_bytree=0.5, gamma=0.5, learning_rate=0.1, max_depth=9, min_child_weight=5, n_estimators=125, objective=binary:logistic, subsample=1.0, total=   5.3s\n",
      "[CV] colsample_bytree=0.5, gamma=0.5, learning_rate=0.1, max_depth=9, min_child_weight=5, n_estimators=125, objective=binary:logistic, subsample=1.0 \n",
      "[CV]  colsample_bytree=0.5, gamma=0.5, learning_rate=0.1, max_depth=9, min_child_weight=5, n_estimators=125, objective=binary:logistic, subsample=1.0, total=   3.9s\n",
      "[CV] colsample_bytree=0.5, gamma=0.5, learning_rate=0.1, max_depth=9, min_child_weight=5, n_estimators=125, objective=binary:logistic, subsample=1.0 \n",
      "[CV]  colsample_bytree=0.5, gamma=0.5, learning_rate=0.1, max_depth=9, min_child_weight=5, n_estimators=125, objective=binary:logistic, subsample=1.0, total=   3.8s\n",
      "[CV] colsample_bytree=0.5, gamma=0.5, learning_rate=0.1, max_depth=9, min_child_weight=5, n_estimators=125, objective=binary:logistic, subsample=1.0 \n",
      "[CV]  colsample_bytree=0.5, gamma=0.5, learning_rate=0.1, max_depth=9, min_child_weight=5, n_estimators=125, objective=binary:logistic, subsample=1.0, total=   3.9s\n",
      "[CV] colsample_bytree=0.5, gamma=0.5, learning_rate=0.1, max_depth=11, min_child_weight=1, n_estimators=100, objective=binary:logistic, subsample=0.5 \n",
      "[CV]  colsample_bytree=0.5, gamma=0.5, learning_rate=0.1, max_depth=11, min_child_weight=1, n_estimators=100, objective=binary:logistic, subsample=0.5, total=   4.7s\n",
      "[CV] colsample_bytree=0.5, gamma=0.5, learning_rate=0.1, max_depth=11, min_child_weight=1, n_estimators=100, objective=binary:logistic, subsample=0.5 \n",
      "[CV]  colsample_bytree=0.5, gamma=0.5, learning_rate=0.1, max_depth=11, min_child_weight=1, n_estimators=100, objective=binary:logistic, subsample=0.5, total=   5.0s\n",
      "[CV] colsample_bytree=0.5, gamma=0.5, learning_rate=0.1, max_depth=11, min_child_weight=1, n_estimators=100, objective=binary:logistic, subsample=0.5 \n",
      "[CV]  colsample_bytree=0.5, gamma=0.5, learning_rate=0.1, max_depth=11, min_child_weight=1, n_estimators=100, objective=binary:logistic, subsample=0.5, total=   4.9s\n",
      "[CV] colsample_bytree=0.5, gamma=0.5, learning_rate=0.1, max_depth=11, min_child_weight=1, n_estimators=100, objective=binary:logistic, subsample=0.5 \n",
      "[CV]  colsample_bytree=0.5, gamma=0.5, learning_rate=0.1, max_depth=11, min_child_weight=1, n_estimators=100, objective=binary:logistic, subsample=0.5, total=   5.2s\n",
      "[CV] colsample_bytree=0.5, gamma=0.5, learning_rate=0.1, max_depth=11, min_child_weight=1, n_estimators=100, objective=binary:logistic, subsample=0.5 \n",
      "[CV]  colsample_bytree=0.5, gamma=0.5, learning_rate=0.1, max_depth=11, min_child_weight=1, n_estimators=100, objective=binary:logistic, subsample=0.5, total=   5.0s\n",
      "[CV] colsample_bytree=0.5, gamma=0.5, learning_rate=0.1, max_depth=11, min_child_weight=1, n_estimators=100, objective=binary:logistic, subsample=1.0 \n",
      "[CV]  colsample_bytree=0.5, gamma=0.5, learning_rate=0.1, max_depth=11, min_child_weight=1, n_estimators=100, objective=binary:logistic, subsample=1.0, total=   3.7s\n",
      "[CV] colsample_bytree=0.5, gamma=0.5, learning_rate=0.1, max_depth=11, min_child_weight=1, n_estimators=100, objective=binary:logistic, subsample=1.0 \n",
      "[CV]  colsample_bytree=0.5, gamma=0.5, learning_rate=0.1, max_depth=11, min_child_weight=1, n_estimators=100, objective=binary:logistic, subsample=1.0, total=   3.7s\n",
      "[CV] colsample_bytree=0.5, gamma=0.5, learning_rate=0.1, max_depth=11, min_child_weight=1, n_estimators=100, objective=binary:logistic, subsample=1.0 \n",
      "[CV]  colsample_bytree=0.5, gamma=0.5, learning_rate=0.1, max_depth=11, min_child_weight=1, n_estimators=100, objective=binary:logistic, subsample=1.0, total=   3.7s\n",
      "[CV] colsample_bytree=0.5, gamma=0.5, learning_rate=0.1, max_depth=11, min_child_weight=1, n_estimators=100, objective=binary:logistic, subsample=1.0 \n",
      "[CV]  colsample_bytree=0.5, gamma=0.5, learning_rate=0.1, max_depth=11, min_child_weight=1, n_estimators=100, objective=binary:logistic, subsample=1.0, total=   3.7s\n",
      "[CV] colsample_bytree=0.5, gamma=0.5, learning_rate=0.1, max_depth=11, min_child_weight=1, n_estimators=100, objective=binary:logistic, subsample=1.0 \n",
      "[CV]  colsample_bytree=0.5, gamma=0.5, learning_rate=0.1, max_depth=11, min_child_weight=1, n_estimators=100, objective=binary:logistic, subsample=1.0, total=   3.9s\n",
      "[CV] colsample_bytree=0.5, gamma=0.5, learning_rate=0.1, max_depth=11, min_child_weight=1, n_estimators=125, objective=binary:logistic, subsample=0.5 \n",
      "[CV]  colsample_bytree=0.5, gamma=0.5, learning_rate=0.1, max_depth=11, min_child_weight=1, n_estimators=125, objective=binary:logistic, subsample=0.5, total=   6.1s\n",
      "[CV] colsample_bytree=0.5, gamma=0.5, learning_rate=0.1, max_depth=11, min_child_weight=1, n_estimators=125, objective=binary:logistic, subsample=0.5 \n",
      "[CV]  colsample_bytree=0.5, gamma=0.5, learning_rate=0.1, max_depth=11, min_child_weight=1, n_estimators=125, objective=binary:logistic, subsample=0.5, total=   6.1s\n",
      "[CV] colsample_bytree=0.5, gamma=0.5, learning_rate=0.1, max_depth=11, min_child_weight=1, n_estimators=125, objective=binary:logistic, subsample=0.5 \n",
      "[CV]  colsample_bytree=0.5, gamma=0.5, learning_rate=0.1, max_depth=11, min_child_weight=1, n_estimators=125, objective=binary:logistic, subsample=0.5, total=   6.2s\n",
      "[CV] colsample_bytree=0.5, gamma=0.5, learning_rate=0.1, max_depth=11, min_child_weight=1, n_estimators=125, objective=binary:logistic, subsample=0.5 \n",
      "[CV]  colsample_bytree=0.5, gamma=0.5, learning_rate=0.1, max_depth=11, min_child_weight=1, n_estimators=125, objective=binary:logistic, subsample=0.5, total=   6.0s\n",
      "[CV] colsample_bytree=0.5, gamma=0.5, learning_rate=0.1, max_depth=11, min_child_weight=1, n_estimators=125, objective=binary:logistic, subsample=0.5 \n"
     ]
    },
    {
     "name": "stdout",
     "output_type": "stream",
     "text": [
      "[CV]  colsample_bytree=0.5, gamma=0.5, learning_rate=0.1, max_depth=11, min_child_weight=1, n_estimators=125, objective=binary:logistic, subsample=0.5, total=   6.3s\n",
      "[CV] colsample_bytree=0.5, gamma=0.5, learning_rate=0.1, max_depth=11, min_child_weight=1, n_estimators=125, objective=binary:logistic, subsample=1.0 \n",
      "[CV]  colsample_bytree=0.5, gamma=0.5, learning_rate=0.1, max_depth=11, min_child_weight=1, n_estimators=125, objective=binary:logistic, subsample=1.0, total=   4.8s\n",
      "[CV] colsample_bytree=0.5, gamma=0.5, learning_rate=0.1, max_depth=11, min_child_weight=1, n_estimators=125, objective=binary:logistic, subsample=1.0 \n",
      "[CV]  colsample_bytree=0.5, gamma=0.5, learning_rate=0.1, max_depth=11, min_child_weight=1, n_estimators=125, objective=binary:logistic, subsample=1.0, total=   4.7s\n",
      "[CV] colsample_bytree=0.5, gamma=0.5, learning_rate=0.1, max_depth=11, min_child_weight=1, n_estimators=125, objective=binary:logistic, subsample=1.0 \n",
      "[CV]  colsample_bytree=0.5, gamma=0.5, learning_rate=0.1, max_depth=11, min_child_weight=1, n_estimators=125, objective=binary:logistic, subsample=1.0, total=   4.8s\n",
      "[CV] colsample_bytree=0.5, gamma=0.5, learning_rate=0.1, max_depth=11, min_child_weight=1, n_estimators=125, objective=binary:logistic, subsample=1.0 \n",
      "[CV]  colsample_bytree=0.5, gamma=0.5, learning_rate=0.1, max_depth=11, min_child_weight=1, n_estimators=125, objective=binary:logistic, subsample=1.0, total=   4.8s\n",
      "[CV] colsample_bytree=0.5, gamma=0.5, learning_rate=0.1, max_depth=11, min_child_weight=1, n_estimators=125, objective=binary:logistic, subsample=1.0 \n",
      "[CV]  colsample_bytree=0.5, gamma=0.5, learning_rate=0.1, max_depth=11, min_child_weight=1, n_estimators=125, objective=binary:logistic, subsample=1.0, total=   4.7s\n",
      "[CV] colsample_bytree=0.5, gamma=0.5, learning_rate=0.1, max_depth=11, min_child_weight=5, n_estimators=100, objective=binary:logistic, subsample=0.5 \n",
      "[CV]  colsample_bytree=0.5, gamma=0.5, learning_rate=0.1, max_depth=11, min_child_weight=5, n_estimators=100, objective=binary:logistic, subsample=0.5, total=   4.7s\n",
      "[CV] colsample_bytree=0.5, gamma=0.5, learning_rate=0.1, max_depth=11, min_child_weight=5, n_estimators=100, objective=binary:logistic, subsample=0.5 \n",
      "[CV]  colsample_bytree=0.5, gamma=0.5, learning_rate=0.1, max_depth=11, min_child_weight=5, n_estimators=100, objective=binary:logistic, subsample=0.5, total=   4.9s\n",
      "[CV] colsample_bytree=0.5, gamma=0.5, learning_rate=0.1, max_depth=11, min_child_weight=5, n_estimators=100, objective=binary:logistic, subsample=0.5 \n",
      "[CV]  colsample_bytree=0.5, gamma=0.5, learning_rate=0.1, max_depth=11, min_child_weight=5, n_estimators=100, objective=binary:logistic, subsample=0.5, total=   4.8s\n",
      "[CV] colsample_bytree=0.5, gamma=0.5, learning_rate=0.1, max_depth=11, min_child_weight=5, n_estimators=100, objective=binary:logistic, subsample=0.5 \n",
      "[CV]  colsample_bytree=0.5, gamma=0.5, learning_rate=0.1, max_depth=11, min_child_weight=5, n_estimators=100, objective=binary:logistic, subsample=0.5, total=   4.7s\n",
      "[CV] colsample_bytree=0.5, gamma=0.5, learning_rate=0.1, max_depth=11, min_child_weight=5, n_estimators=100, objective=binary:logistic, subsample=0.5 \n",
      "[CV]  colsample_bytree=0.5, gamma=0.5, learning_rate=0.1, max_depth=11, min_child_weight=5, n_estimators=100, objective=binary:logistic, subsample=0.5, total=   5.4s\n",
      "[CV] colsample_bytree=0.5, gamma=0.5, learning_rate=0.1, max_depth=11, min_child_weight=5, n_estimators=100, objective=binary:logistic, subsample=1.0 \n",
      "[CV]  colsample_bytree=0.5, gamma=0.5, learning_rate=0.1, max_depth=11, min_child_weight=5, n_estimators=100, objective=binary:logistic, subsample=1.0, total=   4.1s\n",
      "[CV] colsample_bytree=0.5, gamma=0.5, learning_rate=0.1, max_depth=11, min_child_weight=5, n_estimators=100, objective=binary:logistic, subsample=1.0 \n",
      "[CV]  colsample_bytree=0.5, gamma=0.5, learning_rate=0.1, max_depth=11, min_child_weight=5, n_estimators=100, objective=binary:logistic, subsample=1.0, total=   4.7s\n",
      "[CV] colsample_bytree=0.5, gamma=0.5, learning_rate=0.1, max_depth=11, min_child_weight=5, n_estimators=100, objective=binary:logistic, subsample=1.0 \n",
      "[CV]  colsample_bytree=0.5, gamma=0.5, learning_rate=0.1, max_depth=11, min_child_weight=5, n_estimators=100, objective=binary:logistic, subsample=1.0, total=   4.1s\n",
      "[CV] colsample_bytree=0.5, gamma=0.5, learning_rate=0.1, max_depth=11, min_child_weight=5, n_estimators=100, objective=binary:logistic, subsample=1.0 \n",
      "[CV]  colsample_bytree=0.5, gamma=0.5, learning_rate=0.1, max_depth=11, min_child_weight=5, n_estimators=100, objective=binary:logistic, subsample=1.0, total=   4.1s\n",
      "[CV] colsample_bytree=0.5, gamma=0.5, learning_rate=0.1, max_depth=11, min_child_weight=5, n_estimators=100, objective=binary:logistic, subsample=1.0 \n",
      "[CV]  colsample_bytree=0.5, gamma=0.5, learning_rate=0.1, max_depth=11, min_child_weight=5, n_estimators=100, objective=binary:logistic, subsample=1.0, total=   4.0s\n",
      "[CV] colsample_bytree=0.5, gamma=0.5, learning_rate=0.1, max_depth=11, min_child_weight=5, n_estimators=125, objective=binary:logistic, subsample=0.5 \n",
      "[CV]  colsample_bytree=0.5, gamma=0.5, learning_rate=0.1, max_depth=11, min_child_weight=5, n_estimators=125, objective=binary:logistic, subsample=0.5, total=   6.2s\n",
      "[CV] colsample_bytree=0.5, gamma=0.5, learning_rate=0.1, max_depth=11, min_child_weight=5, n_estimators=125, objective=binary:logistic, subsample=0.5 \n",
      "[CV]  colsample_bytree=0.5, gamma=0.5, learning_rate=0.1, max_depth=11, min_child_weight=5, n_estimators=125, objective=binary:logistic, subsample=0.5, total=   6.6s\n",
      "[CV] colsample_bytree=0.5, gamma=0.5, learning_rate=0.1, max_depth=11, min_child_weight=5, n_estimators=125, objective=binary:logistic, subsample=0.5 \n",
      "[CV]  colsample_bytree=0.5, gamma=0.5, learning_rate=0.1, max_depth=11, min_child_weight=5, n_estimators=125, objective=binary:logistic, subsample=0.5, total=   6.1s\n",
      "[CV] colsample_bytree=0.5, gamma=0.5, learning_rate=0.1, max_depth=11, min_child_weight=5, n_estimators=125, objective=binary:logistic, subsample=0.5 \n",
      "[CV]  colsample_bytree=0.5, gamma=0.5, learning_rate=0.1, max_depth=11, min_child_weight=5, n_estimators=125, objective=binary:logistic, subsample=0.5, total=   6.0s\n",
      "[CV] colsample_bytree=0.5, gamma=0.5, learning_rate=0.1, max_depth=11, min_child_weight=5, n_estimators=125, objective=binary:logistic, subsample=0.5 \n",
      "[CV]  colsample_bytree=0.5, gamma=0.5, learning_rate=0.1, max_depth=11, min_child_weight=5, n_estimators=125, objective=binary:logistic, subsample=0.5, total=   5.6s\n",
      "[CV] colsample_bytree=0.5, gamma=0.5, learning_rate=0.1, max_depth=11, min_child_weight=5, n_estimators=125, objective=binary:logistic, subsample=1.0 \n",
      "[CV]  colsample_bytree=0.5, gamma=0.5, learning_rate=0.1, max_depth=11, min_child_weight=5, n_estimators=125, objective=binary:logistic, subsample=1.0, total=   4.9s\n",
      "[CV] colsample_bytree=0.5, gamma=0.5, learning_rate=0.1, max_depth=11, min_child_weight=5, n_estimators=125, objective=binary:logistic, subsample=1.0 \n",
      "[CV]  colsample_bytree=0.5, gamma=0.5, learning_rate=0.1, max_depth=11, min_child_weight=5, n_estimators=125, objective=binary:logistic, subsample=1.0, total=   4.8s\n",
      "[CV] colsample_bytree=0.5, gamma=0.5, learning_rate=0.1, max_depth=11, min_child_weight=5, n_estimators=125, objective=binary:logistic, subsample=1.0 \n",
      "[CV]  colsample_bytree=0.5, gamma=0.5, learning_rate=0.1, max_depth=11, min_child_weight=5, n_estimators=125, objective=binary:logistic, subsample=1.0, total=   4.7s\n",
      "[CV] colsample_bytree=0.5, gamma=0.5, learning_rate=0.1, max_depth=11, min_child_weight=5, n_estimators=125, objective=binary:logistic, subsample=1.0 \n",
      "[CV]  colsample_bytree=0.5, gamma=0.5, learning_rate=0.1, max_depth=11, min_child_weight=5, n_estimators=125, objective=binary:logistic, subsample=1.0, total=   5.1s\n",
      "[CV] colsample_bytree=0.5, gamma=0.5, learning_rate=0.1, max_depth=11, min_child_weight=5, n_estimators=125, objective=binary:logistic, subsample=1.0 \n",
      "[CV]  colsample_bytree=0.5, gamma=0.5, learning_rate=0.1, max_depth=11, min_child_weight=5, n_estimators=125, objective=binary:logistic, subsample=1.0, total=   4.7s\n",
      "[CV] colsample_bytree=0.5, gamma=1, learning_rate=0.1, max_depth=9, min_child_weight=1, n_estimators=100, objective=binary:logistic, subsample=0.5 \n"
     ]
    },
    {
     "name": "stdout",
     "output_type": "stream",
     "text": [
      "[CV]  colsample_bytree=0.5, gamma=1, learning_rate=0.1, max_depth=9, min_child_weight=1, n_estimators=100, objective=binary:logistic, subsample=0.5, total=   4.5s\n",
      "[CV] colsample_bytree=0.5, gamma=1, learning_rate=0.1, max_depth=9, min_child_weight=1, n_estimators=100, objective=binary:logistic, subsample=0.5 \n",
      "[CV]  colsample_bytree=0.5, gamma=1, learning_rate=0.1, max_depth=9, min_child_weight=1, n_estimators=100, objective=binary:logistic, subsample=0.5, total=   4.3s\n",
      "[CV] colsample_bytree=0.5, gamma=1, learning_rate=0.1, max_depth=9, min_child_weight=1, n_estimators=100, objective=binary:logistic, subsample=0.5 \n",
      "[CV]  colsample_bytree=0.5, gamma=1, learning_rate=0.1, max_depth=9, min_child_weight=1, n_estimators=100, objective=binary:logistic, subsample=0.5, total=   4.4s\n",
      "[CV] colsample_bytree=0.5, gamma=1, learning_rate=0.1, max_depth=9, min_child_weight=1, n_estimators=100, objective=binary:logistic, subsample=0.5 \n",
      "[CV]  colsample_bytree=0.5, gamma=1, learning_rate=0.1, max_depth=9, min_child_weight=1, n_estimators=100, objective=binary:logistic, subsample=0.5, total=   4.3s\n",
      "[CV] colsample_bytree=0.5, gamma=1, learning_rate=0.1, max_depth=9, min_child_weight=1, n_estimators=100, objective=binary:logistic, subsample=0.5 \n",
      "[CV]  colsample_bytree=0.5, gamma=1, learning_rate=0.1, max_depth=9, min_child_weight=1, n_estimators=100, objective=binary:logistic, subsample=0.5, total=   4.3s\n",
      "[CV] colsample_bytree=0.5, gamma=1, learning_rate=0.1, max_depth=9, min_child_weight=1, n_estimators=100, objective=binary:logistic, subsample=1.0 \n",
      "[CV]  colsample_bytree=0.5, gamma=1, learning_rate=0.1, max_depth=9, min_child_weight=1, n_estimators=100, objective=binary:logistic, subsample=1.0, total=   3.1s\n",
      "[CV] colsample_bytree=0.5, gamma=1, learning_rate=0.1, max_depth=9, min_child_weight=1, n_estimators=100, objective=binary:logistic, subsample=1.0 \n",
      "[CV]  colsample_bytree=0.5, gamma=1, learning_rate=0.1, max_depth=9, min_child_weight=1, n_estimators=100, objective=binary:logistic, subsample=1.0, total=   3.1s\n",
      "[CV] colsample_bytree=0.5, gamma=1, learning_rate=0.1, max_depth=9, min_child_weight=1, n_estimators=100, objective=binary:logistic, subsample=1.0 \n",
      "[CV]  colsample_bytree=0.5, gamma=1, learning_rate=0.1, max_depth=9, min_child_weight=1, n_estimators=100, objective=binary:logistic, subsample=1.0, total=   3.2s\n",
      "[CV] colsample_bytree=0.5, gamma=1, learning_rate=0.1, max_depth=9, min_child_weight=1, n_estimators=100, objective=binary:logistic, subsample=1.0 \n",
      "[CV]  colsample_bytree=0.5, gamma=1, learning_rate=0.1, max_depth=9, min_child_weight=1, n_estimators=100, objective=binary:logistic, subsample=1.0, total=   3.1s\n",
      "[CV] colsample_bytree=0.5, gamma=1, learning_rate=0.1, max_depth=9, min_child_weight=1, n_estimators=100, objective=binary:logistic, subsample=1.0 \n",
      "[CV]  colsample_bytree=0.5, gamma=1, learning_rate=0.1, max_depth=9, min_child_weight=1, n_estimators=100, objective=binary:logistic, subsample=1.0, total=   3.2s\n",
      "[CV] colsample_bytree=0.5, gamma=1, learning_rate=0.1, max_depth=9, min_child_weight=1, n_estimators=125, objective=binary:logistic, subsample=0.5 \n",
      "[CV]  colsample_bytree=0.5, gamma=1, learning_rate=0.1, max_depth=9, min_child_weight=1, n_estimators=125, objective=binary:logistic, subsample=0.5, total=   5.0s\n",
      "[CV] colsample_bytree=0.5, gamma=1, learning_rate=0.1, max_depth=9, min_child_weight=1, n_estimators=125, objective=binary:logistic, subsample=0.5 \n",
      "[CV]  colsample_bytree=0.5, gamma=1, learning_rate=0.1, max_depth=9, min_child_weight=1, n_estimators=125, objective=binary:logistic, subsample=0.5, total=   5.3s\n",
      "[CV] colsample_bytree=0.5, gamma=1, learning_rate=0.1, max_depth=9, min_child_weight=1, n_estimators=125, objective=binary:logistic, subsample=0.5 \n",
      "[CV]  colsample_bytree=0.5, gamma=1, learning_rate=0.1, max_depth=9, min_child_weight=1, n_estimators=125, objective=binary:logistic, subsample=0.5, total=   5.2s\n",
      "[CV] colsample_bytree=0.5, gamma=1, learning_rate=0.1, max_depth=9, min_child_weight=1, n_estimators=125, objective=binary:logistic, subsample=0.5 \n",
      "[CV]  colsample_bytree=0.5, gamma=1, learning_rate=0.1, max_depth=9, min_child_weight=1, n_estimators=125, objective=binary:logistic, subsample=0.5, total=   5.3s\n",
      "[CV] colsample_bytree=0.5, gamma=1, learning_rate=0.1, max_depth=9, min_child_weight=1, n_estimators=125, objective=binary:logistic, subsample=0.5 \n",
      "[CV]  colsample_bytree=0.5, gamma=1, learning_rate=0.1, max_depth=9, min_child_weight=1, n_estimators=125, objective=binary:logistic, subsample=0.5, total=   5.2s\n",
      "[CV] colsample_bytree=0.5, gamma=1, learning_rate=0.1, max_depth=9, min_child_weight=1, n_estimators=125, objective=binary:logistic, subsample=1.0 \n",
      "[CV]  colsample_bytree=0.5, gamma=1, learning_rate=0.1, max_depth=9, min_child_weight=1, n_estimators=125, objective=binary:logistic, subsample=1.0, total=   3.9s\n",
      "[CV] colsample_bytree=0.5, gamma=1, learning_rate=0.1, max_depth=9, min_child_weight=1, n_estimators=125, objective=binary:logistic, subsample=1.0 \n",
      "[CV]  colsample_bytree=0.5, gamma=1, learning_rate=0.1, max_depth=9, min_child_weight=1, n_estimators=125, objective=binary:logistic, subsample=1.0, total=   3.9s\n",
      "[CV] colsample_bytree=0.5, gamma=1, learning_rate=0.1, max_depth=9, min_child_weight=1, n_estimators=125, objective=binary:logistic, subsample=1.0 \n",
      "[CV]  colsample_bytree=0.5, gamma=1, learning_rate=0.1, max_depth=9, min_child_weight=1, n_estimators=125, objective=binary:logistic, subsample=1.0, total=   4.0s\n",
      "[CV] colsample_bytree=0.5, gamma=1, learning_rate=0.1, max_depth=9, min_child_weight=1, n_estimators=125, objective=binary:logistic, subsample=1.0 \n",
      "[CV]  colsample_bytree=0.5, gamma=1, learning_rate=0.1, max_depth=9, min_child_weight=1, n_estimators=125, objective=binary:logistic, subsample=1.0, total=   4.3s\n",
      "[CV] colsample_bytree=0.5, gamma=1, learning_rate=0.1, max_depth=9, min_child_weight=1, n_estimators=125, objective=binary:logistic, subsample=1.0 \n",
      "[CV]  colsample_bytree=0.5, gamma=1, learning_rate=0.1, max_depth=9, min_child_weight=1, n_estimators=125, objective=binary:logistic, subsample=1.0, total=   4.5s\n",
      "[CV] colsample_bytree=0.5, gamma=1, learning_rate=0.1, max_depth=9, min_child_weight=5, n_estimators=100, objective=binary:logistic, subsample=0.5 \n",
      "[CV]  colsample_bytree=0.5, gamma=1, learning_rate=0.1, max_depth=9, min_child_weight=5, n_estimators=100, objective=binary:logistic, subsample=0.5, total=   4.4s\n",
      "[CV] colsample_bytree=0.5, gamma=1, learning_rate=0.1, max_depth=9, min_child_weight=5, n_estimators=100, objective=binary:logistic, subsample=0.5 \n",
      "[CV]  colsample_bytree=0.5, gamma=1, learning_rate=0.1, max_depth=9, min_child_weight=5, n_estimators=100, objective=binary:logistic, subsample=0.5, total=   5.1s\n",
      "[CV] colsample_bytree=0.5, gamma=1, learning_rate=0.1, max_depth=9, min_child_weight=5, n_estimators=100, objective=binary:logistic, subsample=0.5 \n",
      "[CV]  colsample_bytree=0.5, gamma=1, learning_rate=0.1, max_depth=9, min_child_weight=5, n_estimators=100, objective=binary:logistic, subsample=0.5, total=   6.5s\n",
      "[CV] colsample_bytree=0.5, gamma=1, learning_rate=0.1, max_depth=9, min_child_weight=5, n_estimators=100, objective=binary:logistic, subsample=0.5 \n",
      "[CV]  colsample_bytree=0.5, gamma=1, learning_rate=0.1, max_depth=9, min_child_weight=5, n_estimators=100, objective=binary:logistic, subsample=0.5, total=   5.9s\n",
      "[CV] colsample_bytree=0.5, gamma=1, learning_rate=0.1, max_depth=9, min_child_weight=5, n_estimators=100, objective=binary:logistic, subsample=0.5 \n",
      "[CV]  colsample_bytree=0.5, gamma=1, learning_rate=0.1, max_depth=9, min_child_weight=5, n_estimators=100, objective=binary:logistic, subsample=0.5, total=   5.8s\n",
      "[CV] colsample_bytree=0.5, gamma=1, learning_rate=0.1, max_depth=9, min_child_weight=5, n_estimators=100, objective=binary:logistic, subsample=1.0 \n",
      "[CV]  colsample_bytree=0.5, gamma=1, learning_rate=0.1, max_depth=9, min_child_weight=5, n_estimators=100, objective=binary:logistic, subsample=1.0, total=   4.5s\n",
      "[CV] colsample_bytree=0.5, gamma=1, learning_rate=0.1, max_depth=9, min_child_weight=5, n_estimators=100, objective=binary:logistic, subsample=1.0 \n",
      "[CV]  colsample_bytree=0.5, gamma=1, learning_rate=0.1, max_depth=9, min_child_weight=5, n_estimators=100, objective=binary:logistic, subsample=1.0, total=   3.6s\n",
      "[CV] colsample_bytree=0.5, gamma=1, learning_rate=0.1, max_depth=9, min_child_weight=5, n_estimators=100, objective=binary:logistic, subsample=1.0 \n"
     ]
    },
    {
     "name": "stdout",
     "output_type": "stream",
     "text": [
      "[CV]  colsample_bytree=0.5, gamma=1, learning_rate=0.1, max_depth=9, min_child_weight=5, n_estimators=100, objective=binary:logistic, subsample=1.0, total=   3.7s\n",
      "[CV] colsample_bytree=0.5, gamma=1, learning_rate=0.1, max_depth=9, min_child_weight=5, n_estimators=100, objective=binary:logistic, subsample=1.0 \n",
      "[CV]  colsample_bytree=0.5, gamma=1, learning_rate=0.1, max_depth=9, min_child_weight=5, n_estimators=100, objective=binary:logistic, subsample=1.0, total=   4.3s\n",
      "[CV] colsample_bytree=0.5, gamma=1, learning_rate=0.1, max_depth=9, min_child_weight=5, n_estimators=100, objective=binary:logistic, subsample=1.0 \n",
      "[CV]  colsample_bytree=0.5, gamma=1, learning_rate=0.1, max_depth=9, min_child_weight=5, n_estimators=100, objective=binary:logistic, subsample=1.0, total=   4.3s\n",
      "[CV] colsample_bytree=0.5, gamma=1, learning_rate=0.1, max_depth=9, min_child_weight=5, n_estimators=125, objective=binary:logistic, subsample=0.5 \n",
      "[CV]  colsample_bytree=0.5, gamma=1, learning_rate=0.1, max_depth=9, min_child_weight=5, n_estimators=125, objective=binary:logistic, subsample=0.5, total=   4.9s\n",
      "[CV] colsample_bytree=0.5, gamma=1, learning_rate=0.1, max_depth=9, min_child_weight=5, n_estimators=125, objective=binary:logistic, subsample=0.5 \n",
      "[CV]  colsample_bytree=0.5, gamma=1, learning_rate=0.1, max_depth=9, min_child_weight=5, n_estimators=125, objective=binary:logistic, subsample=0.5, total=   5.2s\n",
      "[CV] colsample_bytree=0.5, gamma=1, learning_rate=0.1, max_depth=9, min_child_weight=5, n_estimators=125, objective=binary:logistic, subsample=0.5 \n",
      "[CV]  colsample_bytree=0.5, gamma=1, learning_rate=0.1, max_depth=9, min_child_weight=5, n_estimators=125, objective=binary:logistic, subsample=0.5, total=   5.0s\n",
      "[CV] colsample_bytree=0.5, gamma=1, learning_rate=0.1, max_depth=9, min_child_weight=5, n_estimators=125, objective=binary:logistic, subsample=0.5 \n",
      "[CV]  colsample_bytree=0.5, gamma=1, learning_rate=0.1, max_depth=9, min_child_weight=5, n_estimators=125, objective=binary:logistic, subsample=0.5, total=   5.2s\n",
      "[CV] colsample_bytree=0.5, gamma=1, learning_rate=0.1, max_depth=9, min_child_weight=5, n_estimators=125, objective=binary:logistic, subsample=0.5 \n",
      "[CV]  colsample_bytree=0.5, gamma=1, learning_rate=0.1, max_depth=9, min_child_weight=5, n_estimators=125, objective=binary:logistic, subsample=0.5, total=   5.0s\n",
      "[CV] colsample_bytree=0.5, gamma=1, learning_rate=0.1, max_depth=9, min_child_weight=5, n_estimators=125, objective=binary:logistic, subsample=1.0 \n",
      "[CV]  colsample_bytree=0.5, gamma=1, learning_rate=0.1, max_depth=9, min_child_weight=5, n_estimators=125, objective=binary:logistic, subsample=1.0, total=   4.0s\n",
      "[CV] colsample_bytree=0.5, gamma=1, learning_rate=0.1, max_depth=9, min_child_weight=5, n_estimators=125, objective=binary:logistic, subsample=1.0 \n",
      "[CV]  colsample_bytree=0.5, gamma=1, learning_rate=0.1, max_depth=9, min_child_weight=5, n_estimators=125, objective=binary:logistic, subsample=1.0, total=   4.6s\n",
      "[CV] colsample_bytree=0.5, gamma=1, learning_rate=0.1, max_depth=9, min_child_weight=5, n_estimators=125, objective=binary:logistic, subsample=1.0 \n",
      "[CV]  colsample_bytree=0.5, gamma=1, learning_rate=0.1, max_depth=9, min_child_weight=5, n_estimators=125, objective=binary:logistic, subsample=1.0, total=   3.8s\n",
      "[CV] colsample_bytree=0.5, gamma=1, learning_rate=0.1, max_depth=9, min_child_weight=5, n_estimators=125, objective=binary:logistic, subsample=1.0 \n",
      "[CV]  colsample_bytree=0.5, gamma=1, learning_rate=0.1, max_depth=9, min_child_weight=5, n_estimators=125, objective=binary:logistic, subsample=1.0, total=   3.8s\n",
      "[CV] colsample_bytree=0.5, gamma=1, learning_rate=0.1, max_depth=9, min_child_weight=5, n_estimators=125, objective=binary:logistic, subsample=1.0 \n",
      "[CV]  colsample_bytree=0.5, gamma=1, learning_rate=0.1, max_depth=9, min_child_weight=5, n_estimators=125, objective=binary:logistic, subsample=1.0, total=   4.3s\n",
      "[CV] colsample_bytree=0.5, gamma=1, learning_rate=0.1, max_depth=11, min_child_weight=1, n_estimators=100, objective=binary:logistic, subsample=0.5 \n",
      "[CV]  colsample_bytree=0.5, gamma=1, learning_rate=0.1, max_depth=11, min_child_weight=1, n_estimators=100, objective=binary:logistic, subsample=0.5, total=   5.0s\n",
      "[CV] colsample_bytree=0.5, gamma=1, learning_rate=0.1, max_depth=11, min_child_weight=1, n_estimators=100, objective=binary:logistic, subsample=0.5 \n",
      "[CV]  colsample_bytree=0.5, gamma=1, learning_rate=0.1, max_depth=11, min_child_weight=1, n_estimators=100, objective=binary:logistic, subsample=0.5, total=   5.1s\n",
      "[CV] colsample_bytree=0.5, gamma=1, learning_rate=0.1, max_depth=11, min_child_weight=1, n_estimators=100, objective=binary:logistic, subsample=0.5 \n",
      "[CV]  colsample_bytree=0.5, gamma=1, learning_rate=0.1, max_depth=11, min_child_weight=1, n_estimators=100, objective=binary:logistic, subsample=0.5, total=   5.3s\n",
      "[CV] colsample_bytree=0.5, gamma=1, learning_rate=0.1, max_depth=11, min_child_weight=1, n_estimators=100, objective=binary:logistic, subsample=0.5 \n",
      "[CV]  colsample_bytree=0.5, gamma=1, learning_rate=0.1, max_depth=11, min_child_weight=1, n_estimators=100, objective=binary:logistic, subsample=0.5, total=   5.0s\n",
      "[CV] colsample_bytree=0.5, gamma=1, learning_rate=0.1, max_depth=11, min_child_weight=1, n_estimators=100, objective=binary:logistic, subsample=0.5 \n",
      "[CV]  colsample_bytree=0.5, gamma=1, learning_rate=0.1, max_depth=11, min_child_weight=1, n_estimators=100, objective=binary:logistic, subsample=0.5, total=   4.9s\n",
      "[CV] colsample_bytree=0.5, gamma=1, learning_rate=0.1, max_depth=11, min_child_weight=1, n_estimators=100, objective=binary:logistic, subsample=1.0 \n",
      "[CV]  colsample_bytree=0.5, gamma=1, learning_rate=0.1, max_depth=11, min_child_weight=1, n_estimators=100, objective=binary:logistic, subsample=1.0, total=   3.9s\n",
      "[CV] colsample_bytree=0.5, gamma=1, learning_rate=0.1, max_depth=11, min_child_weight=1, n_estimators=100, objective=binary:logistic, subsample=1.0 \n",
      "[CV]  colsample_bytree=0.5, gamma=1, learning_rate=0.1, max_depth=11, min_child_weight=1, n_estimators=100, objective=binary:logistic, subsample=1.0, total=   4.0s\n",
      "[CV] colsample_bytree=0.5, gamma=1, learning_rate=0.1, max_depth=11, min_child_weight=1, n_estimators=100, objective=binary:logistic, subsample=1.0 \n",
      "[CV]  colsample_bytree=0.5, gamma=1, learning_rate=0.1, max_depth=11, min_child_weight=1, n_estimators=100, objective=binary:logistic, subsample=1.0, total=   4.0s\n",
      "[CV] colsample_bytree=0.5, gamma=1, learning_rate=0.1, max_depth=11, min_child_weight=1, n_estimators=100, objective=binary:logistic, subsample=1.0 \n",
      "[CV]  colsample_bytree=0.5, gamma=1, learning_rate=0.1, max_depth=11, min_child_weight=1, n_estimators=100, objective=binary:logistic, subsample=1.0, total=   3.8s\n",
      "[CV] colsample_bytree=0.5, gamma=1, learning_rate=0.1, max_depth=11, min_child_weight=1, n_estimators=100, objective=binary:logistic, subsample=1.0 \n",
      "[CV]  colsample_bytree=0.5, gamma=1, learning_rate=0.1, max_depth=11, min_child_weight=1, n_estimators=100, objective=binary:logistic, subsample=1.0, total=   3.7s\n",
      "[CV] colsample_bytree=0.5, gamma=1, learning_rate=0.1, max_depth=11, min_child_weight=1, n_estimators=125, objective=binary:logistic, subsample=0.5 \n",
      "[CV]  colsample_bytree=0.5, gamma=1, learning_rate=0.1, max_depth=11, min_child_weight=1, n_estimators=125, objective=binary:logistic, subsample=0.5, total=   5.9s\n",
      "[CV] colsample_bytree=0.5, gamma=1, learning_rate=0.1, max_depth=11, min_child_weight=1, n_estimators=125, objective=binary:logistic, subsample=0.5 \n",
      "[CV]  colsample_bytree=0.5, gamma=1, learning_rate=0.1, max_depth=11, min_child_weight=1, n_estimators=125, objective=binary:logistic, subsample=0.5, total=   6.4s\n",
      "[CV] colsample_bytree=0.5, gamma=1, learning_rate=0.1, max_depth=11, min_child_weight=1, n_estimators=125, objective=binary:logistic, subsample=0.5 \n",
      "[CV]  colsample_bytree=0.5, gamma=1, learning_rate=0.1, max_depth=11, min_child_weight=1, n_estimators=125, objective=binary:logistic, subsample=0.5, total=   6.0s\n",
      "[CV] colsample_bytree=0.5, gamma=1, learning_rate=0.1, max_depth=11, min_child_weight=1, n_estimators=125, objective=binary:logistic, subsample=0.5 \n",
      "[CV]  colsample_bytree=0.5, gamma=1, learning_rate=0.1, max_depth=11, min_child_weight=1, n_estimators=125, objective=binary:logistic, subsample=0.5, total=   6.3s\n",
      "[CV] colsample_bytree=0.5, gamma=1, learning_rate=0.1, max_depth=11, min_child_weight=1, n_estimators=125, objective=binary:logistic, subsample=0.5 \n"
     ]
    },
    {
     "name": "stdout",
     "output_type": "stream",
     "text": [
      "[CV]  colsample_bytree=0.5, gamma=1, learning_rate=0.1, max_depth=11, min_child_weight=1, n_estimators=125, objective=binary:logistic, subsample=0.5, total=   6.1s\n",
      "[CV] colsample_bytree=0.5, gamma=1, learning_rate=0.1, max_depth=11, min_child_weight=1, n_estimators=125, objective=binary:logistic, subsample=1.0 \n",
      "[CV]  colsample_bytree=0.5, gamma=1, learning_rate=0.1, max_depth=11, min_child_weight=1, n_estimators=125, objective=binary:logistic, subsample=1.0, total=   5.0s\n",
      "[CV] colsample_bytree=0.5, gamma=1, learning_rate=0.1, max_depth=11, min_child_weight=1, n_estimators=125, objective=binary:logistic, subsample=1.0 \n",
      "[CV]  colsample_bytree=0.5, gamma=1, learning_rate=0.1, max_depth=11, min_child_weight=1, n_estimators=125, objective=binary:logistic, subsample=1.0, total=   4.7s\n",
      "[CV] colsample_bytree=0.5, gamma=1, learning_rate=0.1, max_depth=11, min_child_weight=1, n_estimators=125, objective=binary:logistic, subsample=1.0 \n",
      "[CV]  colsample_bytree=0.5, gamma=1, learning_rate=0.1, max_depth=11, min_child_weight=1, n_estimators=125, objective=binary:logistic, subsample=1.0, total=   4.7s\n",
      "[CV] colsample_bytree=0.5, gamma=1, learning_rate=0.1, max_depth=11, min_child_weight=1, n_estimators=125, objective=binary:logistic, subsample=1.0 \n",
      "[CV]  colsample_bytree=0.5, gamma=1, learning_rate=0.1, max_depth=11, min_child_weight=1, n_estimators=125, objective=binary:logistic, subsample=1.0, total=   5.5s\n",
      "[CV] colsample_bytree=0.5, gamma=1, learning_rate=0.1, max_depth=11, min_child_weight=1, n_estimators=125, objective=binary:logistic, subsample=1.0 \n",
      "[CV]  colsample_bytree=0.5, gamma=1, learning_rate=0.1, max_depth=11, min_child_weight=1, n_estimators=125, objective=binary:logistic, subsample=1.0, total=   4.8s\n",
      "[CV] colsample_bytree=0.5, gamma=1, learning_rate=0.1, max_depth=11, min_child_weight=5, n_estimators=100, objective=binary:logistic, subsample=0.5 \n",
      "[CV]  colsample_bytree=0.5, gamma=1, learning_rate=0.1, max_depth=11, min_child_weight=5, n_estimators=100, objective=binary:logistic, subsample=0.5, total=   4.5s\n",
      "[CV] colsample_bytree=0.5, gamma=1, learning_rate=0.1, max_depth=11, min_child_weight=5, n_estimators=100, objective=binary:logistic, subsample=0.5 \n",
      "[CV]  colsample_bytree=0.5, gamma=1, learning_rate=0.1, max_depth=11, min_child_weight=5, n_estimators=100, objective=binary:logistic, subsample=0.5, total=   4.9s\n",
      "[CV] colsample_bytree=0.5, gamma=1, learning_rate=0.1, max_depth=11, min_child_weight=5, n_estimators=100, objective=binary:logistic, subsample=0.5 \n",
      "[CV]  colsample_bytree=0.5, gamma=1, learning_rate=0.1, max_depth=11, min_child_weight=5, n_estimators=100, objective=binary:logistic, subsample=0.5, total=   5.3s\n",
      "[CV] colsample_bytree=0.5, gamma=1, learning_rate=0.1, max_depth=11, min_child_weight=5, n_estimators=100, objective=binary:logistic, subsample=0.5 \n",
      "[CV]  colsample_bytree=0.5, gamma=1, learning_rate=0.1, max_depth=11, min_child_weight=5, n_estimators=100, objective=binary:logistic, subsample=0.5, total=   4.9s\n",
      "[CV] colsample_bytree=0.5, gamma=1, learning_rate=0.1, max_depth=11, min_child_weight=5, n_estimators=100, objective=binary:logistic, subsample=0.5 \n",
      "[CV]  colsample_bytree=0.5, gamma=1, learning_rate=0.1, max_depth=11, min_child_weight=5, n_estimators=100, objective=binary:logistic, subsample=0.5, total=   5.3s\n",
      "[CV] colsample_bytree=0.5, gamma=1, learning_rate=0.1, max_depth=11, min_child_weight=5, n_estimators=100, objective=binary:logistic, subsample=1.0 \n",
      "[CV]  colsample_bytree=0.5, gamma=1, learning_rate=0.1, max_depth=11, min_child_weight=5, n_estimators=100, objective=binary:logistic, subsample=1.0, total=   4.0s\n",
      "[CV] colsample_bytree=0.5, gamma=1, learning_rate=0.1, max_depth=11, min_child_weight=5, n_estimators=100, objective=binary:logistic, subsample=1.0 \n",
      "[CV]  colsample_bytree=0.5, gamma=1, learning_rate=0.1, max_depth=11, min_child_weight=5, n_estimators=100, objective=binary:logistic, subsample=1.0, total=   3.9s\n",
      "[CV] colsample_bytree=0.5, gamma=1, learning_rate=0.1, max_depth=11, min_child_weight=5, n_estimators=100, objective=binary:logistic, subsample=1.0 \n",
      "[CV]  colsample_bytree=0.5, gamma=1, learning_rate=0.1, max_depth=11, min_child_weight=5, n_estimators=100, objective=binary:logistic, subsample=1.0, total=   4.0s\n",
      "[CV] colsample_bytree=0.5, gamma=1, learning_rate=0.1, max_depth=11, min_child_weight=5, n_estimators=100, objective=binary:logistic, subsample=1.0 \n",
      "[CV]  colsample_bytree=0.5, gamma=1, learning_rate=0.1, max_depth=11, min_child_weight=5, n_estimators=100, objective=binary:logistic, subsample=1.0, total=   4.0s\n",
      "[CV] colsample_bytree=0.5, gamma=1, learning_rate=0.1, max_depth=11, min_child_weight=5, n_estimators=100, objective=binary:logistic, subsample=1.0 \n",
      "[CV]  colsample_bytree=0.5, gamma=1, learning_rate=0.1, max_depth=11, min_child_weight=5, n_estimators=100, objective=binary:logistic, subsample=1.0, total=   3.8s\n",
      "[CV] colsample_bytree=0.5, gamma=1, learning_rate=0.1, max_depth=11, min_child_weight=5, n_estimators=125, objective=binary:logistic, subsample=0.5 \n",
      "[CV]  colsample_bytree=0.5, gamma=1, learning_rate=0.1, max_depth=11, min_child_weight=5, n_estimators=125, objective=binary:logistic, subsample=0.5, total=   5.5s\n",
      "[CV] colsample_bytree=0.5, gamma=1, learning_rate=0.1, max_depth=11, min_child_weight=5, n_estimators=125, objective=binary:logistic, subsample=0.5 \n",
      "[CV]  colsample_bytree=0.5, gamma=1, learning_rate=0.1, max_depth=11, min_child_weight=5, n_estimators=125, objective=binary:logistic, subsample=0.5, total=   5.8s\n",
      "[CV] colsample_bytree=0.5, gamma=1, learning_rate=0.1, max_depth=11, min_child_weight=5, n_estimators=125, objective=binary:logistic, subsample=0.5 \n",
      "[CV]  colsample_bytree=0.5, gamma=1, learning_rate=0.1, max_depth=11, min_child_weight=5, n_estimators=125, objective=binary:logistic, subsample=0.5, total=   6.0s\n",
      "[CV] colsample_bytree=0.5, gamma=1, learning_rate=0.1, max_depth=11, min_child_weight=5, n_estimators=125, objective=binary:logistic, subsample=0.5 \n",
      "[CV]  colsample_bytree=0.5, gamma=1, learning_rate=0.1, max_depth=11, min_child_weight=5, n_estimators=125, objective=binary:logistic, subsample=0.5, total=   6.3s\n",
      "[CV] colsample_bytree=0.5, gamma=1, learning_rate=0.1, max_depth=11, min_child_weight=5, n_estimators=125, objective=binary:logistic, subsample=0.5 \n",
      "[CV]  colsample_bytree=0.5, gamma=1, learning_rate=0.1, max_depth=11, min_child_weight=5, n_estimators=125, objective=binary:logistic, subsample=0.5, total=   6.0s\n",
      "[CV] colsample_bytree=0.5, gamma=1, learning_rate=0.1, max_depth=11, min_child_weight=5, n_estimators=125, objective=binary:logistic, subsample=1.0 \n",
      "[CV]  colsample_bytree=0.5, gamma=1, learning_rate=0.1, max_depth=11, min_child_weight=5, n_estimators=125, objective=binary:logistic, subsample=1.0, total=   4.9s\n",
      "[CV] colsample_bytree=0.5, gamma=1, learning_rate=0.1, max_depth=11, min_child_weight=5, n_estimators=125, objective=binary:logistic, subsample=1.0 \n",
      "[CV]  colsample_bytree=0.5, gamma=1, learning_rate=0.1, max_depth=11, min_child_weight=5, n_estimators=125, objective=binary:logistic, subsample=1.0, total=   4.7s\n",
      "[CV] colsample_bytree=0.5, gamma=1, learning_rate=0.1, max_depth=11, min_child_weight=5, n_estimators=125, objective=binary:logistic, subsample=1.0 \n",
      "[CV]  colsample_bytree=0.5, gamma=1, learning_rate=0.1, max_depth=11, min_child_weight=5, n_estimators=125, objective=binary:logistic, subsample=1.0, total=   5.2s\n",
      "[CV] colsample_bytree=0.5, gamma=1, learning_rate=0.1, max_depth=11, min_child_weight=5, n_estimators=125, objective=binary:logistic, subsample=1.0 \n",
      "[CV]  colsample_bytree=0.5, gamma=1, learning_rate=0.1, max_depth=11, min_child_weight=5, n_estimators=125, objective=binary:logistic, subsample=1.0, total=   5.1s\n",
      "[CV] colsample_bytree=0.5, gamma=1, learning_rate=0.1, max_depth=11, min_child_weight=5, n_estimators=125, objective=binary:logistic, subsample=1.0 \n",
      "[CV]  colsample_bytree=0.5, gamma=1, learning_rate=0.1, max_depth=11, min_child_weight=5, n_estimators=125, objective=binary:logistic, subsample=1.0, total=   5.1s\n",
      "[CV] colsample_bytree=1.0, gamma=0.5, learning_rate=0.1, max_depth=9, min_child_weight=1, n_estimators=100, objective=binary:logistic, subsample=0.5 \n",
      "[CV]  colsample_bytree=1.0, gamma=0.5, learning_rate=0.1, max_depth=9, min_child_weight=1, n_estimators=100, objective=binary:logistic, subsample=0.5, total=   7.6s\n",
      "[CV] colsample_bytree=1.0, gamma=0.5, learning_rate=0.1, max_depth=9, min_child_weight=1, n_estimators=100, objective=binary:logistic, subsample=0.5 \n"
     ]
    },
    {
     "name": "stdout",
     "output_type": "stream",
     "text": [
      "[CV]  colsample_bytree=1.0, gamma=0.5, learning_rate=0.1, max_depth=9, min_child_weight=1, n_estimators=100, objective=binary:logistic, subsample=0.5, total=   8.0s\n",
      "[CV] colsample_bytree=1.0, gamma=0.5, learning_rate=0.1, max_depth=9, min_child_weight=1, n_estimators=100, objective=binary:logistic, subsample=0.5 \n",
      "[CV]  colsample_bytree=1.0, gamma=0.5, learning_rate=0.1, max_depth=9, min_child_weight=1, n_estimators=100, objective=binary:logistic, subsample=0.5, total=   7.8s\n",
      "[CV] colsample_bytree=1.0, gamma=0.5, learning_rate=0.1, max_depth=9, min_child_weight=1, n_estimators=100, objective=binary:logistic, subsample=0.5 \n",
      "[CV]  colsample_bytree=1.0, gamma=0.5, learning_rate=0.1, max_depth=9, min_child_weight=1, n_estimators=100, objective=binary:logistic, subsample=0.5, total=   7.9s\n",
      "[CV] colsample_bytree=1.0, gamma=0.5, learning_rate=0.1, max_depth=9, min_child_weight=1, n_estimators=100, objective=binary:logistic, subsample=0.5 \n",
      "[CV]  colsample_bytree=1.0, gamma=0.5, learning_rate=0.1, max_depth=9, min_child_weight=1, n_estimators=100, objective=binary:logistic, subsample=0.5, total=   7.9s\n",
      "[CV] colsample_bytree=1.0, gamma=0.5, learning_rate=0.1, max_depth=9, min_child_weight=1, n_estimators=100, objective=binary:logistic, subsample=1.0 \n",
      "[CV]  colsample_bytree=1.0, gamma=0.5, learning_rate=0.1, max_depth=9, min_child_weight=1, n_estimators=100, objective=binary:logistic, subsample=1.0, total=   5.6s\n",
      "[CV] colsample_bytree=1.0, gamma=0.5, learning_rate=0.1, max_depth=9, min_child_weight=1, n_estimators=100, objective=binary:logistic, subsample=1.0 \n",
      "[CV]  colsample_bytree=1.0, gamma=0.5, learning_rate=0.1, max_depth=9, min_child_weight=1, n_estimators=100, objective=binary:logistic, subsample=1.0, total=   6.2s\n",
      "[CV] colsample_bytree=1.0, gamma=0.5, learning_rate=0.1, max_depth=9, min_child_weight=1, n_estimators=100, objective=binary:logistic, subsample=1.0 \n",
      "[CV]  colsample_bytree=1.0, gamma=0.5, learning_rate=0.1, max_depth=9, min_child_weight=1, n_estimators=100, objective=binary:logistic, subsample=1.0, total=   6.2s\n",
      "[CV] colsample_bytree=1.0, gamma=0.5, learning_rate=0.1, max_depth=9, min_child_weight=1, n_estimators=100, objective=binary:logistic, subsample=1.0 \n",
      "[CV]  colsample_bytree=1.0, gamma=0.5, learning_rate=0.1, max_depth=9, min_child_weight=1, n_estimators=100, objective=binary:logistic, subsample=1.0, total=   5.8s\n",
      "[CV] colsample_bytree=1.0, gamma=0.5, learning_rate=0.1, max_depth=9, min_child_weight=1, n_estimators=100, objective=binary:logistic, subsample=1.0 \n",
      "[CV]  colsample_bytree=1.0, gamma=0.5, learning_rate=0.1, max_depth=9, min_child_weight=1, n_estimators=100, objective=binary:logistic, subsample=1.0, total=   6.5s\n",
      "[CV] colsample_bytree=1.0, gamma=0.5, learning_rate=0.1, max_depth=9, min_child_weight=1, n_estimators=125, objective=binary:logistic, subsample=0.5 \n",
      "[CV]  colsample_bytree=1.0, gamma=0.5, learning_rate=0.1, max_depth=9, min_child_weight=1, n_estimators=125, objective=binary:logistic, subsample=0.5, total=   9.3s\n",
      "[CV] colsample_bytree=1.0, gamma=0.5, learning_rate=0.1, max_depth=9, min_child_weight=1, n_estimators=125, objective=binary:logistic, subsample=0.5 \n",
      "[CV]  colsample_bytree=1.0, gamma=0.5, learning_rate=0.1, max_depth=9, min_child_weight=1, n_estimators=125, objective=binary:logistic, subsample=0.5, total=  10.6s\n",
      "[CV] colsample_bytree=1.0, gamma=0.5, learning_rate=0.1, max_depth=9, min_child_weight=1, n_estimators=125, objective=binary:logistic, subsample=0.5 \n",
      "[CV]  colsample_bytree=1.0, gamma=0.5, learning_rate=0.1, max_depth=9, min_child_weight=1, n_estimators=125, objective=binary:logistic, subsample=0.5, total=  10.1s\n",
      "[CV] colsample_bytree=1.0, gamma=0.5, learning_rate=0.1, max_depth=9, min_child_weight=1, n_estimators=125, objective=binary:logistic, subsample=0.5 \n",
      "[CV]  colsample_bytree=1.0, gamma=0.5, learning_rate=0.1, max_depth=9, min_child_weight=1, n_estimators=125, objective=binary:logistic, subsample=0.5, total=  11.9s\n",
      "[CV] colsample_bytree=1.0, gamma=0.5, learning_rate=0.1, max_depth=9, min_child_weight=1, n_estimators=125, objective=binary:logistic, subsample=0.5 \n",
      "[CV]  colsample_bytree=1.0, gamma=0.5, learning_rate=0.1, max_depth=9, min_child_weight=1, n_estimators=125, objective=binary:logistic, subsample=0.5, total=  11.0s\n",
      "[CV] colsample_bytree=1.0, gamma=0.5, learning_rate=0.1, max_depth=9, min_child_weight=1, n_estimators=125, objective=binary:logistic, subsample=1.0 \n",
      "[CV]  colsample_bytree=1.0, gamma=0.5, learning_rate=0.1, max_depth=9, min_child_weight=1, n_estimators=125, objective=binary:logistic, subsample=1.0, total=   6.9s\n",
      "[CV] colsample_bytree=1.0, gamma=0.5, learning_rate=0.1, max_depth=9, min_child_weight=1, n_estimators=125, objective=binary:logistic, subsample=1.0 \n",
      "[CV]  colsample_bytree=1.0, gamma=0.5, learning_rate=0.1, max_depth=9, min_child_weight=1, n_estimators=125, objective=binary:logistic, subsample=1.0, total=   7.0s\n",
      "[CV] colsample_bytree=1.0, gamma=0.5, learning_rate=0.1, max_depth=9, min_child_weight=1, n_estimators=125, objective=binary:logistic, subsample=1.0 \n",
      "[CV]  colsample_bytree=1.0, gamma=0.5, learning_rate=0.1, max_depth=9, min_child_weight=1, n_estimators=125, objective=binary:logistic, subsample=1.0, total=   7.9s\n",
      "[CV] colsample_bytree=1.0, gamma=0.5, learning_rate=0.1, max_depth=9, min_child_weight=1, n_estimators=125, objective=binary:logistic, subsample=1.0 \n",
      "[CV]  colsample_bytree=1.0, gamma=0.5, learning_rate=0.1, max_depth=9, min_child_weight=1, n_estimators=125, objective=binary:logistic, subsample=1.0, total=   8.0s\n",
      "[CV] colsample_bytree=1.0, gamma=0.5, learning_rate=0.1, max_depth=9, min_child_weight=1, n_estimators=125, objective=binary:logistic, subsample=1.0 \n",
      "[CV]  colsample_bytree=1.0, gamma=0.5, learning_rate=0.1, max_depth=9, min_child_weight=1, n_estimators=125, objective=binary:logistic, subsample=1.0, total=   7.2s\n",
      "[CV] colsample_bytree=1.0, gamma=0.5, learning_rate=0.1, max_depth=9, min_child_weight=5, n_estimators=100, objective=binary:logistic, subsample=0.5 \n",
      "[CV]  colsample_bytree=1.0, gamma=0.5, learning_rate=0.1, max_depth=9, min_child_weight=5, n_estimators=100, objective=binary:logistic, subsample=0.5, total=   7.2s\n",
      "[CV] colsample_bytree=1.0, gamma=0.5, learning_rate=0.1, max_depth=9, min_child_weight=5, n_estimators=100, objective=binary:logistic, subsample=0.5 \n",
      "[CV]  colsample_bytree=1.0, gamma=0.5, learning_rate=0.1, max_depth=9, min_child_weight=5, n_estimators=100, objective=binary:logistic, subsample=0.5, total=   7.6s\n",
      "[CV] colsample_bytree=1.0, gamma=0.5, learning_rate=0.1, max_depth=9, min_child_weight=5, n_estimators=100, objective=binary:logistic, subsample=0.5 \n",
      "[CV]  colsample_bytree=1.0, gamma=0.5, learning_rate=0.1, max_depth=9, min_child_weight=5, n_estimators=100, objective=binary:logistic, subsample=0.5, total=   7.6s\n",
      "[CV] colsample_bytree=1.0, gamma=0.5, learning_rate=0.1, max_depth=9, min_child_weight=5, n_estimators=100, objective=binary:logistic, subsample=0.5 \n",
      "[CV]  colsample_bytree=1.0, gamma=0.5, learning_rate=0.1, max_depth=9, min_child_weight=5, n_estimators=100, objective=binary:logistic, subsample=0.5, total=   8.0s\n",
      "[CV] colsample_bytree=1.0, gamma=0.5, learning_rate=0.1, max_depth=9, min_child_weight=5, n_estimators=100, objective=binary:logistic, subsample=0.5 \n",
      "[CV]  colsample_bytree=1.0, gamma=0.5, learning_rate=0.1, max_depth=9, min_child_weight=5, n_estimators=100, objective=binary:logistic, subsample=0.5, total=   8.0s\n",
      "[CV] colsample_bytree=1.0, gamma=0.5, learning_rate=0.1, max_depth=9, min_child_weight=5, n_estimators=100, objective=binary:logistic, subsample=1.0 \n",
      "[CV]  colsample_bytree=1.0, gamma=0.5, learning_rate=0.1, max_depth=9, min_child_weight=5, n_estimators=100, objective=binary:logistic, subsample=1.0, total=   6.0s\n",
      "[CV] colsample_bytree=1.0, gamma=0.5, learning_rate=0.1, max_depth=9, min_child_weight=5, n_estimators=100, objective=binary:logistic, subsample=1.0 \n",
      "[CV]  colsample_bytree=1.0, gamma=0.5, learning_rate=0.1, max_depth=9, min_child_weight=5, n_estimators=100, objective=binary:logistic, subsample=1.0, total=   5.6s\n",
      "[CV] colsample_bytree=1.0, gamma=0.5, learning_rate=0.1, max_depth=9, min_child_weight=5, n_estimators=100, objective=binary:logistic, subsample=1.0 \n",
      "[CV]  colsample_bytree=1.0, gamma=0.5, learning_rate=0.1, max_depth=9, min_child_weight=5, n_estimators=100, objective=binary:logistic, subsample=1.0, total=   5.9s\n",
      "[CV] colsample_bytree=1.0, gamma=0.5, learning_rate=0.1, max_depth=9, min_child_weight=5, n_estimators=100, objective=binary:logistic, subsample=1.0 \n"
     ]
    },
    {
     "name": "stdout",
     "output_type": "stream",
     "text": [
      "[CV]  colsample_bytree=1.0, gamma=0.5, learning_rate=0.1, max_depth=9, min_child_weight=5, n_estimators=100, objective=binary:logistic, subsample=1.0, total=   7.0s\n",
      "[CV] colsample_bytree=1.0, gamma=0.5, learning_rate=0.1, max_depth=9, min_child_weight=5, n_estimators=100, objective=binary:logistic, subsample=1.0 \n",
      "[CV]  colsample_bytree=1.0, gamma=0.5, learning_rate=0.1, max_depth=9, min_child_weight=5, n_estimators=100, objective=binary:logistic, subsample=1.0, total=   5.9s\n",
      "[CV] colsample_bytree=1.0, gamma=0.5, learning_rate=0.1, max_depth=9, min_child_weight=5, n_estimators=125, objective=binary:logistic, subsample=0.5 \n",
      "[CV]  colsample_bytree=1.0, gamma=0.5, learning_rate=0.1, max_depth=9, min_child_weight=5, n_estimators=125, objective=binary:logistic, subsample=0.5, total=   9.3s\n",
      "[CV] colsample_bytree=1.0, gamma=0.5, learning_rate=0.1, max_depth=9, min_child_weight=5, n_estimators=125, objective=binary:logistic, subsample=0.5 \n",
      "[CV]  colsample_bytree=1.0, gamma=0.5, learning_rate=0.1, max_depth=9, min_child_weight=5, n_estimators=125, objective=binary:logistic, subsample=0.5, total=  10.0s\n",
      "[CV] colsample_bytree=1.0, gamma=0.5, learning_rate=0.1, max_depth=9, min_child_weight=5, n_estimators=125, objective=binary:logistic, subsample=0.5 \n",
      "[CV]  colsample_bytree=1.0, gamma=0.5, learning_rate=0.1, max_depth=9, min_child_weight=5, n_estimators=125, objective=binary:logistic, subsample=0.5, total=   9.8s\n",
      "[CV] colsample_bytree=1.0, gamma=0.5, learning_rate=0.1, max_depth=9, min_child_weight=5, n_estimators=125, objective=binary:logistic, subsample=0.5 \n",
      "[CV]  colsample_bytree=1.0, gamma=0.5, learning_rate=0.1, max_depth=9, min_child_weight=5, n_estimators=125, objective=binary:logistic, subsample=0.5, total=  10.0s\n",
      "[CV] colsample_bytree=1.0, gamma=0.5, learning_rate=0.1, max_depth=9, min_child_weight=5, n_estimators=125, objective=binary:logistic, subsample=0.5 \n",
      "[CV]  colsample_bytree=1.0, gamma=0.5, learning_rate=0.1, max_depth=9, min_child_weight=5, n_estimators=125, objective=binary:logistic, subsample=0.5, total=   9.9s\n",
      "[CV] colsample_bytree=1.0, gamma=0.5, learning_rate=0.1, max_depth=9, min_child_weight=5, n_estimators=125, objective=binary:logistic, subsample=1.0 \n",
      "[CV]  colsample_bytree=1.0, gamma=0.5, learning_rate=0.1, max_depth=9, min_child_weight=5, n_estimators=125, objective=binary:logistic, subsample=1.0, total=   7.2s\n",
      "[CV] colsample_bytree=1.0, gamma=0.5, learning_rate=0.1, max_depth=9, min_child_weight=5, n_estimators=125, objective=binary:logistic, subsample=1.0 \n",
      "[CV]  colsample_bytree=1.0, gamma=0.5, learning_rate=0.1, max_depth=9, min_child_weight=5, n_estimators=125, objective=binary:logistic, subsample=1.0, total=   7.3s\n",
      "[CV] colsample_bytree=1.0, gamma=0.5, learning_rate=0.1, max_depth=9, min_child_weight=5, n_estimators=125, objective=binary:logistic, subsample=1.0 \n",
      "[CV]  colsample_bytree=1.0, gamma=0.5, learning_rate=0.1, max_depth=9, min_child_weight=5, n_estimators=125, objective=binary:logistic, subsample=1.0, total=   6.9s\n",
      "[CV] colsample_bytree=1.0, gamma=0.5, learning_rate=0.1, max_depth=9, min_child_weight=5, n_estimators=125, objective=binary:logistic, subsample=1.0 \n",
      "[CV]  colsample_bytree=1.0, gamma=0.5, learning_rate=0.1, max_depth=9, min_child_weight=5, n_estimators=125, objective=binary:logistic, subsample=1.0, total=   7.0s\n",
      "[CV] colsample_bytree=1.0, gamma=0.5, learning_rate=0.1, max_depth=9, min_child_weight=5, n_estimators=125, objective=binary:logistic, subsample=1.0 \n",
      "[CV]  colsample_bytree=1.0, gamma=0.5, learning_rate=0.1, max_depth=9, min_child_weight=5, n_estimators=125, objective=binary:logistic, subsample=1.0, total=   7.3s\n",
      "[CV] colsample_bytree=1.0, gamma=0.5, learning_rate=0.1, max_depth=11, min_child_weight=1, n_estimators=100, objective=binary:logistic, subsample=0.5 \n",
      "[CV]  colsample_bytree=1.0, gamma=0.5, learning_rate=0.1, max_depth=11, min_child_weight=1, n_estimators=100, objective=binary:logistic, subsample=0.5, total=   9.5s\n",
      "[CV] colsample_bytree=1.0, gamma=0.5, learning_rate=0.1, max_depth=11, min_child_weight=1, n_estimators=100, objective=binary:logistic, subsample=0.5 \n",
      "[CV]  colsample_bytree=1.0, gamma=0.5, learning_rate=0.1, max_depth=11, min_child_weight=1, n_estimators=100, objective=binary:logistic, subsample=0.5, total=   9.2s\n",
      "[CV] colsample_bytree=1.0, gamma=0.5, learning_rate=0.1, max_depth=11, min_child_weight=1, n_estimators=100, objective=binary:logistic, subsample=0.5 \n",
      "[CV]  colsample_bytree=1.0, gamma=0.5, learning_rate=0.1, max_depth=11, min_child_weight=1, n_estimators=100, objective=binary:logistic, subsample=0.5, total=   9.2s\n",
      "[CV] colsample_bytree=1.0, gamma=0.5, learning_rate=0.1, max_depth=11, min_child_weight=1, n_estimators=100, objective=binary:logistic, subsample=0.5 \n",
      "[CV]  colsample_bytree=1.0, gamma=0.5, learning_rate=0.1, max_depth=11, min_child_weight=1, n_estimators=100, objective=binary:logistic, subsample=0.5, total=   9.5s\n",
      "[CV] colsample_bytree=1.0, gamma=0.5, learning_rate=0.1, max_depth=11, min_child_weight=1, n_estimators=100, objective=binary:logistic, subsample=0.5 \n",
      "[CV]  colsample_bytree=1.0, gamma=0.5, learning_rate=0.1, max_depth=11, min_child_weight=1, n_estimators=100, objective=binary:logistic, subsample=0.5, total=   9.9s\n",
      "[CV] colsample_bytree=1.0, gamma=0.5, learning_rate=0.1, max_depth=11, min_child_weight=1, n_estimators=100, objective=binary:logistic, subsample=1.0 \n",
      "[CV]  colsample_bytree=1.0, gamma=0.5, learning_rate=0.1, max_depth=11, min_child_weight=1, n_estimators=100, objective=binary:logistic, subsample=1.0, total=   7.2s\n",
      "[CV] colsample_bytree=1.0, gamma=0.5, learning_rate=0.1, max_depth=11, min_child_weight=1, n_estimators=100, objective=binary:logistic, subsample=1.0 \n",
      "[CV]  colsample_bytree=1.0, gamma=0.5, learning_rate=0.1, max_depth=11, min_child_weight=1, n_estimators=100, objective=binary:logistic, subsample=1.0, total=   7.4s\n",
      "[CV] colsample_bytree=1.0, gamma=0.5, learning_rate=0.1, max_depth=11, min_child_weight=1, n_estimators=100, objective=binary:logistic, subsample=1.0 \n",
      "[CV]  colsample_bytree=1.0, gamma=0.5, learning_rate=0.1, max_depth=11, min_child_weight=1, n_estimators=100, objective=binary:logistic, subsample=1.0, total=   7.1s\n",
      "[CV] colsample_bytree=1.0, gamma=0.5, learning_rate=0.1, max_depth=11, min_child_weight=1, n_estimators=100, objective=binary:logistic, subsample=1.0 \n",
      "[CV]  colsample_bytree=1.0, gamma=0.5, learning_rate=0.1, max_depth=11, min_child_weight=1, n_estimators=100, objective=binary:logistic, subsample=1.0, total=   6.9s\n",
      "[CV] colsample_bytree=1.0, gamma=0.5, learning_rate=0.1, max_depth=11, min_child_weight=1, n_estimators=100, objective=binary:logistic, subsample=1.0 \n",
      "[CV]  colsample_bytree=1.0, gamma=0.5, learning_rate=0.1, max_depth=11, min_child_weight=1, n_estimators=100, objective=binary:logistic, subsample=1.0, total=   6.9s\n",
      "[CV] colsample_bytree=1.0, gamma=0.5, learning_rate=0.1, max_depth=11, min_child_weight=1, n_estimators=125, objective=binary:logistic, subsample=0.5 \n",
      "[CV]  colsample_bytree=1.0, gamma=0.5, learning_rate=0.1, max_depth=11, min_child_weight=1, n_estimators=125, objective=binary:logistic, subsample=0.5, total=  12.0s\n",
      "[CV] colsample_bytree=1.0, gamma=0.5, learning_rate=0.1, max_depth=11, min_child_weight=1, n_estimators=125, objective=binary:logistic, subsample=0.5 \n",
      "[CV]  colsample_bytree=1.0, gamma=0.5, learning_rate=0.1, max_depth=11, min_child_weight=1, n_estimators=125, objective=binary:logistic, subsample=0.5, total=  15.2s\n",
      "[CV] colsample_bytree=1.0, gamma=0.5, learning_rate=0.1, max_depth=11, min_child_weight=1, n_estimators=125, objective=binary:logistic, subsample=0.5 \n",
      "[CV]  colsample_bytree=1.0, gamma=0.5, learning_rate=0.1, max_depth=11, min_child_weight=1, n_estimators=125, objective=binary:logistic, subsample=0.5, total=  12.6s\n",
      "[CV] colsample_bytree=1.0, gamma=0.5, learning_rate=0.1, max_depth=11, min_child_weight=1, n_estimators=125, objective=binary:logistic, subsample=0.5 \n",
      "[CV]  colsample_bytree=1.0, gamma=0.5, learning_rate=0.1, max_depth=11, min_child_weight=1, n_estimators=125, objective=binary:logistic, subsample=0.5, total=  12.4s\n",
      "[CV] colsample_bytree=1.0, gamma=0.5, learning_rate=0.1, max_depth=11, min_child_weight=1, n_estimators=125, objective=binary:logistic, subsample=0.5 \n"
     ]
    },
    {
     "name": "stdout",
     "output_type": "stream",
     "text": [
      "[CV]  colsample_bytree=1.0, gamma=0.5, learning_rate=0.1, max_depth=11, min_child_weight=1, n_estimators=125, objective=binary:logistic, subsample=0.5, total=  12.5s\n",
      "[CV] colsample_bytree=1.0, gamma=0.5, learning_rate=0.1, max_depth=11, min_child_weight=1, n_estimators=125, objective=binary:logistic, subsample=1.0 \n",
      "[CV]  colsample_bytree=1.0, gamma=0.5, learning_rate=0.1, max_depth=11, min_child_weight=1, n_estimators=125, objective=binary:logistic, subsample=1.0, total=   9.1s\n",
      "[CV] colsample_bytree=1.0, gamma=0.5, learning_rate=0.1, max_depth=11, min_child_weight=1, n_estimators=125, objective=binary:logistic, subsample=1.0 \n",
      "[CV]  colsample_bytree=1.0, gamma=0.5, learning_rate=0.1, max_depth=11, min_child_weight=1, n_estimators=125, objective=binary:logistic, subsample=1.0, total=   9.6s\n",
      "[CV] colsample_bytree=1.0, gamma=0.5, learning_rate=0.1, max_depth=11, min_child_weight=1, n_estimators=125, objective=binary:logistic, subsample=1.0 \n",
      "[CV]  colsample_bytree=1.0, gamma=0.5, learning_rate=0.1, max_depth=11, min_child_weight=1, n_estimators=125, objective=binary:logistic, subsample=1.0, total=   8.9s\n",
      "[CV] colsample_bytree=1.0, gamma=0.5, learning_rate=0.1, max_depth=11, min_child_weight=1, n_estimators=125, objective=binary:logistic, subsample=1.0 \n",
      "[CV]  colsample_bytree=1.0, gamma=0.5, learning_rate=0.1, max_depth=11, min_child_weight=1, n_estimators=125, objective=binary:logistic, subsample=1.0, total=   8.8s\n",
      "[CV] colsample_bytree=1.0, gamma=0.5, learning_rate=0.1, max_depth=11, min_child_weight=1, n_estimators=125, objective=binary:logistic, subsample=1.0 \n",
      "[CV]  colsample_bytree=1.0, gamma=0.5, learning_rate=0.1, max_depth=11, min_child_weight=1, n_estimators=125, objective=binary:logistic, subsample=1.0, total=   8.8s\n",
      "[CV] colsample_bytree=1.0, gamma=0.5, learning_rate=0.1, max_depth=11, min_child_weight=5, n_estimators=100, objective=binary:logistic, subsample=0.5 \n",
      "[CV]  colsample_bytree=1.0, gamma=0.5, learning_rate=0.1, max_depth=11, min_child_weight=5, n_estimators=100, objective=binary:logistic, subsample=0.5, total=   8.2s\n",
      "[CV] colsample_bytree=1.0, gamma=0.5, learning_rate=0.1, max_depth=11, min_child_weight=5, n_estimators=100, objective=binary:logistic, subsample=0.5 \n",
      "[CV]  colsample_bytree=1.0, gamma=0.5, learning_rate=0.1, max_depth=11, min_child_weight=5, n_estimators=100, objective=binary:logistic, subsample=0.5, total=   9.2s\n",
      "[CV] colsample_bytree=1.0, gamma=0.5, learning_rate=0.1, max_depth=11, min_child_weight=5, n_estimators=100, objective=binary:logistic, subsample=0.5 \n",
      "[CV]  colsample_bytree=1.0, gamma=0.5, learning_rate=0.1, max_depth=11, min_child_weight=5, n_estimators=100, objective=binary:logistic, subsample=0.5, total=   9.1s\n",
      "[CV] colsample_bytree=1.0, gamma=0.5, learning_rate=0.1, max_depth=11, min_child_weight=5, n_estimators=100, objective=binary:logistic, subsample=0.5 \n",
      "[CV]  colsample_bytree=1.0, gamma=0.5, learning_rate=0.1, max_depth=11, min_child_weight=5, n_estimators=100, objective=binary:logistic, subsample=0.5, total=   8.8s\n",
      "[CV] colsample_bytree=1.0, gamma=0.5, learning_rate=0.1, max_depth=11, min_child_weight=5, n_estimators=100, objective=binary:logistic, subsample=0.5 \n",
      "[CV]  colsample_bytree=1.0, gamma=0.5, learning_rate=0.1, max_depth=11, min_child_weight=5, n_estimators=100, objective=binary:logistic, subsample=0.5, total=   9.7s\n",
      "[CV] colsample_bytree=1.0, gamma=0.5, learning_rate=0.1, max_depth=11, min_child_weight=5, n_estimators=100, objective=binary:logistic, subsample=1.0 \n",
      "[CV]  colsample_bytree=1.0, gamma=0.5, learning_rate=0.1, max_depth=11, min_child_weight=5, n_estimators=100, objective=binary:logistic, subsample=1.0, total=   7.9s\n",
      "[CV] colsample_bytree=1.0, gamma=0.5, learning_rate=0.1, max_depth=11, min_child_weight=5, n_estimators=100, objective=binary:logistic, subsample=1.0 \n",
      "[CV]  colsample_bytree=1.0, gamma=0.5, learning_rate=0.1, max_depth=11, min_child_weight=5, n_estimators=100, objective=binary:logistic, subsample=1.0, total=   7.1s\n",
      "[CV] colsample_bytree=1.0, gamma=0.5, learning_rate=0.1, max_depth=11, min_child_weight=5, n_estimators=100, objective=binary:logistic, subsample=1.0 \n",
      "[CV]  colsample_bytree=1.0, gamma=0.5, learning_rate=0.1, max_depth=11, min_child_weight=5, n_estimators=100, objective=binary:logistic, subsample=1.0, total=   7.1s\n",
      "[CV] colsample_bytree=1.0, gamma=0.5, learning_rate=0.1, max_depth=11, min_child_weight=5, n_estimators=100, objective=binary:logistic, subsample=1.0 \n",
      "[CV]  colsample_bytree=1.0, gamma=0.5, learning_rate=0.1, max_depth=11, min_child_weight=5, n_estimators=100, objective=binary:logistic, subsample=1.0, total=   7.2s\n",
      "[CV] colsample_bytree=1.0, gamma=0.5, learning_rate=0.1, max_depth=11, min_child_weight=5, n_estimators=100, objective=binary:logistic, subsample=1.0 \n",
      "[CV]  colsample_bytree=1.0, gamma=0.5, learning_rate=0.1, max_depth=11, min_child_weight=5, n_estimators=100, objective=binary:logistic, subsample=1.0, total=   7.3s\n",
      "[CV] colsample_bytree=1.0, gamma=0.5, learning_rate=0.1, max_depth=11, min_child_weight=5, n_estimators=125, objective=binary:logistic, subsample=0.5 \n",
      "[CV]  colsample_bytree=1.0, gamma=0.5, learning_rate=0.1, max_depth=11, min_child_weight=5, n_estimators=125, objective=binary:logistic, subsample=0.5, total=  10.5s\n",
      "[CV] colsample_bytree=1.0, gamma=0.5, learning_rate=0.1, max_depth=11, min_child_weight=5, n_estimators=125, objective=binary:logistic, subsample=0.5 \n",
      "[CV]  colsample_bytree=1.0, gamma=0.5, learning_rate=0.1, max_depth=11, min_child_weight=5, n_estimators=125, objective=binary:logistic, subsample=0.5, total=  11.3s\n",
      "[CV] colsample_bytree=1.0, gamma=0.5, learning_rate=0.1, max_depth=11, min_child_weight=5, n_estimators=125, objective=binary:logistic, subsample=0.5 \n",
      "[CV]  colsample_bytree=1.0, gamma=0.5, learning_rate=0.1, max_depth=11, min_child_weight=5, n_estimators=125, objective=binary:logistic, subsample=0.5, total=  11.5s\n",
      "[CV] colsample_bytree=1.0, gamma=0.5, learning_rate=0.1, max_depth=11, min_child_weight=5, n_estimators=125, objective=binary:logistic, subsample=0.5 \n",
      "[CV]  colsample_bytree=1.0, gamma=0.5, learning_rate=0.1, max_depth=11, min_child_weight=5, n_estimators=125, objective=binary:logistic, subsample=0.5, total=  10.9s\n",
      "[CV] colsample_bytree=1.0, gamma=0.5, learning_rate=0.1, max_depth=11, min_child_weight=5, n_estimators=125, objective=binary:logistic, subsample=0.5 \n",
      "[CV]  colsample_bytree=1.0, gamma=0.5, learning_rate=0.1, max_depth=11, min_child_weight=5, n_estimators=125, objective=binary:logistic, subsample=0.5, total=  11.0s\n",
      "[CV] colsample_bytree=1.0, gamma=0.5, learning_rate=0.1, max_depth=11, min_child_weight=5, n_estimators=125, objective=binary:logistic, subsample=1.0 \n",
      "[CV]  colsample_bytree=1.0, gamma=0.5, learning_rate=0.1, max_depth=11, min_child_weight=5, n_estimators=125, objective=binary:logistic, subsample=1.0, total=   8.8s\n",
      "[CV] colsample_bytree=1.0, gamma=0.5, learning_rate=0.1, max_depth=11, min_child_weight=5, n_estimators=125, objective=binary:logistic, subsample=1.0 \n",
      "[CV]  colsample_bytree=1.0, gamma=0.5, learning_rate=0.1, max_depth=11, min_child_weight=5, n_estimators=125, objective=binary:logistic, subsample=1.0, total=   9.5s\n",
      "[CV] colsample_bytree=1.0, gamma=0.5, learning_rate=0.1, max_depth=11, min_child_weight=5, n_estimators=125, objective=binary:logistic, subsample=1.0 \n",
      "[CV]  colsample_bytree=1.0, gamma=0.5, learning_rate=0.1, max_depth=11, min_child_weight=5, n_estimators=125, objective=binary:logistic, subsample=1.0, total=   8.8s\n",
      "[CV] colsample_bytree=1.0, gamma=0.5, learning_rate=0.1, max_depth=11, min_child_weight=5, n_estimators=125, objective=binary:logistic, subsample=1.0 \n",
      "[CV]  colsample_bytree=1.0, gamma=0.5, learning_rate=0.1, max_depth=11, min_child_weight=5, n_estimators=125, objective=binary:logistic, subsample=1.0, total=   8.8s\n",
      "[CV] colsample_bytree=1.0, gamma=0.5, learning_rate=0.1, max_depth=11, min_child_weight=5, n_estimators=125, objective=binary:logistic, subsample=1.0 \n",
      "[CV]  colsample_bytree=1.0, gamma=0.5, learning_rate=0.1, max_depth=11, min_child_weight=5, n_estimators=125, objective=binary:logistic, subsample=1.0, total=   9.2s\n",
      "[CV] colsample_bytree=1.0, gamma=1, learning_rate=0.1, max_depth=9, min_child_weight=1, n_estimators=100, objective=binary:logistic, subsample=0.5 \n"
     ]
    },
    {
     "name": "stdout",
     "output_type": "stream",
     "text": [
      "[CV]  colsample_bytree=1.0, gamma=1, learning_rate=0.1, max_depth=9, min_child_weight=1, n_estimators=100, objective=binary:logistic, subsample=0.5, total=   7.5s\n",
      "[CV] colsample_bytree=1.0, gamma=1, learning_rate=0.1, max_depth=9, min_child_weight=1, n_estimators=100, objective=binary:logistic, subsample=0.5 \n",
      "[CV]  colsample_bytree=1.0, gamma=1, learning_rate=0.1, max_depth=9, min_child_weight=1, n_estimators=100, objective=binary:logistic, subsample=0.5, total=   7.9s\n",
      "[CV] colsample_bytree=1.0, gamma=1, learning_rate=0.1, max_depth=9, min_child_weight=1, n_estimators=100, objective=binary:logistic, subsample=0.5 \n",
      "[CV]  colsample_bytree=1.0, gamma=1, learning_rate=0.1, max_depth=9, min_child_weight=1, n_estimators=100, objective=binary:logistic, subsample=0.5, total=   7.7s\n",
      "[CV] colsample_bytree=1.0, gamma=1, learning_rate=0.1, max_depth=9, min_child_weight=1, n_estimators=100, objective=binary:logistic, subsample=0.5 \n",
      "[CV]  colsample_bytree=1.0, gamma=1, learning_rate=0.1, max_depth=9, min_child_weight=1, n_estimators=100, objective=binary:logistic, subsample=0.5, total=   8.0s\n",
      "[CV] colsample_bytree=1.0, gamma=1, learning_rate=0.1, max_depth=9, min_child_weight=1, n_estimators=100, objective=binary:logistic, subsample=0.5 \n",
      "[CV]  colsample_bytree=1.0, gamma=1, learning_rate=0.1, max_depth=9, min_child_weight=1, n_estimators=100, objective=binary:logistic, subsample=0.5, total=   7.8s\n",
      "[CV] colsample_bytree=1.0, gamma=1, learning_rate=0.1, max_depth=9, min_child_weight=1, n_estimators=100, objective=binary:logistic, subsample=1.0 \n",
      "[CV]  colsample_bytree=1.0, gamma=1, learning_rate=0.1, max_depth=9, min_child_weight=1, n_estimators=100, objective=binary:logistic, subsample=1.0, total=   5.7s\n",
      "[CV] colsample_bytree=1.0, gamma=1, learning_rate=0.1, max_depth=9, min_child_weight=1, n_estimators=100, objective=binary:logistic, subsample=1.0 \n",
      "[CV]  colsample_bytree=1.0, gamma=1, learning_rate=0.1, max_depth=9, min_child_weight=1, n_estimators=100, objective=binary:logistic, subsample=1.0, total=   5.7s\n",
      "[CV] colsample_bytree=1.0, gamma=1, learning_rate=0.1, max_depth=9, min_child_weight=1, n_estimators=100, objective=binary:logistic, subsample=1.0 \n",
      "[CV]  colsample_bytree=1.0, gamma=1, learning_rate=0.1, max_depth=9, min_child_weight=1, n_estimators=100, objective=binary:logistic, subsample=1.0, total=   5.9s\n",
      "[CV] colsample_bytree=1.0, gamma=1, learning_rate=0.1, max_depth=9, min_child_weight=1, n_estimators=100, objective=binary:logistic, subsample=1.0 \n",
      "[CV]  colsample_bytree=1.0, gamma=1, learning_rate=0.1, max_depth=9, min_child_weight=1, n_estimators=100, objective=binary:logistic, subsample=1.0, total=   5.8s\n",
      "[CV] colsample_bytree=1.0, gamma=1, learning_rate=0.1, max_depth=9, min_child_weight=1, n_estimators=100, objective=binary:logistic, subsample=1.0 \n",
      "[CV]  colsample_bytree=1.0, gamma=1, learning_rate=0.1, max_depth=9, min_child_weight=1, n_estimators=100, objective=binary:logistic, subsample=1.0, total=   5.7s\n",
      "[CV] colsample_bytree=1.0, gamma=1, learning_rate=0.1, max_depth=9, min_child_weight=1, n_estimators=125, objective=binary:logistic, subsample=0.5 \n",
      "[CV]  colsample_bytree=1.0, gamma=1, learning_rate=0.1, max_depth=9, min_child_weight=1, n_estimators=125, objective=binary:logistic, subsample=0.5, total=   9.2s\n",
      "[CV] colsample_bytree=1.0, gamma=1, learning_rate=0.1, max_depth=9, min_child_weight=1, n_estimators=125, objective=binary:logistic, subsample=0.5 \n",
      "[CV]  colsample_bytree=1.0, gamma=1, learning_rate=0.1, max_depth=9, min_child_weight=1, n_estimators=125, objective=binary:logistic, subsample=0.5, total=  10.2s\n",
      "[CV] colsample_bytree=1.0, gamma=1, learning_rate=0.1, max_depth=9, min_child_weight=1, n_estimators=125, objective=binary:logistic, subsample=0.5 \n",
      "[CV]  colsample_bytree=1.0, gamma=1, learning_rate=0.1, max_depth=9, min_child_weight=1, n_estimators=125, objective=binary:logistic, subsample=0.5, total=   9.6s\n",
      "[CV] colsample_bytree=1.0, gamma=1, learning_rate=0.1, max_depth=9, min_child_weight=1, n_estimators=125, objective=binary:logistic, subsample=0.5 \n",
      "[CV]  colsample_bytree=1.0, gamma=1, learning_rate=0.1, max_depth=9, min_child_weight=1, n_estimators=125, objective=binary:logistic, subsample=0.5, total=  10.0s\n",
      "[CV] colsample_bytree=1.0, gamma=1, learning_rate=0.1, max_depth=9, min_child_weight=1, n_estimators=125, objective=binary:logistic, subsample=0.5 \n",
      "[CV]  colsample_bytree=1.0, gamma=1, learning_rate=0.1, max_depth=9, min_child_weight=1, n_estimators=125, objective=binary:logistic, subsample=0.5, total=   9.5s\n",
      "[CV] colsample_bytree=1.0, gamma=1, learning_rate=0.1, max_depth=9, min_child_weight=1, n_estimators=125, objective=binary:logistic, subsample=1.0 \n",
      "[CV]  colsample_bytree=1.0, gamma=1, learning_rate=0.1, max_depth=9, min_child_weight=1, n_estimators=125, objective=binary:logistic, subsample=1.0, total=   7.8s\n",
      "[CV] colsample_bytree=1.0, gamma=1, learning_rate=0.1, max_depth=9, min_child_weight=1, n_estimators=125, objective=binary:logistic, subsample=1.0 \n",
      "[CV]  colsample_bytree=1.0, gamma=1, learning_rate=0.1, max_depth=9, min_child_weight=1, n_estimators=125, objective=binary:logistic, subsample=1.0, total=   7.5s\n",
      "[CV] colsample_bytree=1.0, gamma=1, learning_rate=0.1, max_depth=9, min_child_weight=1, n_estimators=125, objective=binary:logistic, subsample=1.0 \n",
      "[CV]  colsample_bytree=1.0, gamma=1, learning_rate=0.1, max_depth=9, min_child_weight=1, n_estimators=125, objective=binary:logistic, subsample=1.0, total=   7.0s\n",
      "[CV] colsample_bytree=1.0, gamma=1, learning_rate=0.1, max_depth=9, min_child_weight=1, n_estimators=125, objective=binary:logistic, subsample=1.0 \n",
      "[CV]  colsample_bytree=1.0, gamma=1, learning_rate=0.1, max_depth=9, min_child_weight=1, n_estimators=125, objective=binary:logistic, subsample=1.0, total=   7.3s\n",
      "[CV] colsample_bytree=1.0, gamma=1, learning_rate=0.1, max_depth=9, min_child_weight=1, n_estimators=125, objective=binary:logistic, subsample=1.0 \n",
      "[CV]  colsample_bytree=1.0, gamma=1, learning_rate=0.1, max_depth=9, min_child_weight=1, n_estimators=125, objective=binary:logistic, subsample=1.0, total=   7.3s\n",
      "[CV] colsample_bytree=1.0, gamma=1, learning_rate=0.1, max_depth=9, min_child_weight=5, n_estimators=100, objective=binary:logistic, subsample=0.5 \n",
      "[CV]  colsample_bytree=1.0, gamma=1, learning_rate=0.1, max_depth=9, min_child_weight=5, n_estimators=100, objective=binary:logistic, subsample=0.5, total=   7.5s\n",
      "[CV] colsample_bytree=1.0, gamma=1, learning_rate=0.1, max_depth=9, min_child_weight=5, n_estimators=100, objective=binary:logistic, subsample=0.5 \n",
      "[CV]  colsample_bytree=1.0, gamma=1, learning_rate=0.1, max_depth=9, min_child_weight=5, n_estimators=100, objective=binary:logistic, subsample=0.5, total=   7.6s\n",
      "[CV] colsample_bytree=1.0, gamma=1, learning_rate=0.1, max_depth=9, min_child_weight=5, n_estimators=100, objective=binary:logistic, subsample=0.5 \n",
      "[CV]  colsample_bytree=1.0, gamma=1, learning_rate=0.1, max_depth=9, min_child_weight=5, n_estimators=100, objective=binary:logistic, subsample=0.5, total=   7.7s\n",
      "[CV] colsample_bytree=1.0, gamma=1, learning_rate=0.1, max_depth=9, min_child_weight=5, n_estimators=100, objective=binary:logistic, subsample=0.5 \n",
      "[CV]  colsample_bytree=1.0, gamma=1, learning_rate=0.1, max_depth=9, min_child_weight=5, n_estimators=100, objective=binary:logistic, subsample=0.5, total=   8.3s\n",
      "[CV] colsample_bytree=1.0, gamma=1, learning_rate=0.1, max_depth=9, min_child_weight=5, n_estimators=100, objective=binary:logistic, subsample=0.5 \n",
      "[CV]  colsample_bytree=1.0, gamma=1, learning_rate=0.1, max_depth=9, min_child_weight=5, n_estimators=100, objective=binary:logistic, subsample=0.5, total=   7.5s\n",
      "[CV] colsample_bytree=1.0, gamma=1, learning_rate=0.1, max_depth=9, min_child_weight=5, n_estimators=100, objective=binary:logistic, subsample=1.0 \n",
      "[CV]  colsample_bytree=1.0, gamma=1, learning_rate=0.1, max_depth=9, min_child_weight=5, n_estimators=100, objective=binary:logistic, subsample=1.0, total=   5.7s\n",
      "[CV] colsample_bytree=1.0, gamma=1, learning_rate=0.1, max_depth=9, min_child_weight=5, n_estimators=100, objective=binary:logistic, subsample=1.0 \n",
      "[CV]  colsample_bytree=1.0, gamma=1, learning_rate=0.1, max_depth=9, min_child_weight=5, n_estimators=100, objective=binary:logistic, subsample=1.0, total=   5.7s\n",
      "[CV] colsample_bytree=1.0, gamma=1, learning_rate=0.1, max_depth=9, min_child_weight=5, n_estimators=100, objective=binary:logistic, subsample=1.0 \n"
     ]
    },
    {
     "name": "stdout",
     "output_type": "stream",
     "text": [
      "[CV]  colsample_bytree=1.0, gamma=1, learning_rate=0.1, max_depth=9, min_child_weight=5, n_estimators=100, objective=binary:logistic, subsample=1.0, total=   5.6s\n",
      "[CV] colsample_bytree=1.0, gamma=1, learning_rate=0.1, max_depth=9, min_child_weight=5, n_estimators=100, objective=binary:logistic, subsample=1.0 \n",
      "[CV]  colsample_bytree=1.0, gamma=1, learning_rate=0.1, max_depth=9, min_child_weight=5, n_estimators=100, objective=binary:logistic, subsample=1.0, total=   5.9s\n",
      "[CV] colsample_bytree=1.0, gamma=1, learning_rate=0.1, max_depth=9, min_child_weight=5, n_estimators=100, objective=binary:logistic, subsample=1.0 \n",
      "[CV]  colsample_bytree=1.0, gamma=1, learning_rate=0.1, max_depth=9, min_child_weight=5, n_estimators=100, objective=binary:logistic, subsample=1.0, total=   6.1s\n",
      "[CV] colsample_bytree=1.0, gamma=1, learning_rate=0.1, max_depth=9, min_child_weight=5, n_estimators=125, objective=binary:logistic, subsample=0.5 \n",
      "[CV]  colsample_bytree=1.0, gamma=1, learning_rate=0.1, max_depth=9, min_child_weight=5, n_estimators=125, objective=binary:logistic, subsample=0.5, total=   9.1s\n",
      "[CV] colsample_bytree=1.0, gamma=1, learning_rate=0.1, max_depth=9, min_child_weight=5, n_estimators=125, objective=binary:logistic, subsample=0.5 \n",
      "[CV]  colsample_bytree=1.0, gamma=1, learning_rate=0.1, max_depth=9, min_child_weight=5, n_estimators=125, objective=binary:logistic, subsample=0.5, total=   9.3s\n",
      "[CV] colsample_bytree=1.0, gamma=1, learning_rate=0.1, max_depth=9, min_child_weight=5, n_estimators=125, objective=binary:logistic, subsample=0.5 \n",
      "[CV]  colsample_bytree=1.0, gamma=1, learning_rate=0.1, max_depth=9, min_child_weight=5, n_estimators=125, objective=binary:logistic, subsample=0.5, total=   9.1s\n",
      "[CV] colsample_bytree=1.0, gamma=1, learning_rate=0.1, max_depth=9, min_child_weight=5, n_estimators=125, objective=binary:logistic, subsample=0.5 \n",
      "[CV]  colsample_bytree=1.0, gamma=1, learning_rate=0.1, max_depth=9, min_child_weight=5, n_estimators=125, objective=binary:logistic, subsample=0.5, total=   9.3s\n",
      "[CV] colsample_bytree=1.0, gamma=1, learning_rate=0.1, max_depth=9, min_child_weight=5, n_estimators=125, objective=binary:logistic, subsample=0.5 \n",
      "[CV]  colsample_bytree=1.0, gamma=1, learning_rate=0.1, max_depth=9, min_child_weight=5, n_estimators=125, objective=binary:logistic, subsample=0.5, total=   9.6s\n",
      "[CV] colsample_bytree=1.0, gamma=1, learning_rate=0.1, max_depth=9, min_child_weight=5, n_estimators=125, objective=binary:logistic, subsample=1.0 \n",
      "[CV]  colsample_bytree=1.0, gamma=1, learning_rate=0.1, max_depth=9, min_child_weight=5, n_estimators=125, objective=binary:logistic, subsample=1.0, total=   7.2s\n",
      "[CV] colsample_bytree=1.0, gamma=1, learning_rate=0.1, max_depth=9, min_child_weight=5, n_estimators=125, objective=binary:logistic, subsample=1.0 \n",
      "[CV]  colsample_bytree=1.0, gamma=1, learning_rate=0.1, max_depth=9, min_child_weight=5, n_estimators=125, objective=binary:logistic, subsample=1.0, total=   8.0s\n",
      "[CV] colsample_bytree=1.0, gamma=1, learning_rate=0.1, max_depth=9, min_child_weight=5, n_estimators=125, objective=binary:logistic, subsample=1.0 \n",
      "[CV]  colsample_bytree=1.0, gamma=1, learning_rate=0.1, max_depth=9, min_child_weight=5, n_estimators=125, objective=binary:logistic, subsample=1.0, total=   7.4s\n",
      "[CV] colsample_bytree=1.0, gamma=1, learning_rate=0.1, max_depth=9, min_child_weight=5, n_estimators=125, objective=binary:logistic, subsample=1.0 \n",
      "[CV]  colsample_bytree=1.0, gamma=1, learning_rate=0.1, max_depth=9, min_child_weight=5, n_estimators=125, objective=binary:logistic, subsample=1.0, total=   8.0s\n",
      "[CV] colsample_bytree=1.0, gamma=1, learning_rate=0.1, max_depth=9, min_child_weight=5, n_estimators=125, objective=binary:logistic, subsample=1.0 \n",
      "[CV]  colsample_bytree=1.0, gamma=1, learning_rate=0.1, max_depth=9, min_child_weight=5, n_estimators=125, objective=binary:logistic, subsample=1.0, total=   7.2s\n",
      "[CV] colsample_bytree=1.0, gamma=1, learning_rate=0.1, max_depth=11, min_child_weight=1, n_estimators=100, objective=binary:logistic, subsample=0.5 \n",
      "[CV]  colsample_bytree=1.0, gamma=1, learning_rate=0.1, max_depth=11, min_child_weight=1, n_estimators=100, objective=binary:logistic, subsample=0.5, total=   9.0s\n",
      "[CV] colsample_bytree=1.0, gamma=1, learning_rate=0.1, max_depth=11, min_child_weight=1, n_estimators=100, objective=binary:logistic, subsample=0.5 \n",
      "[CV]  colsample_bytree=1.0, gamma=1, learning_rate=0.1, max_depth=11, min_child_weight=1, n_estimators=100, objective=binary:logistic, subsample=0.5, total=   9.2s\n",
      "[CV] colsample_bytree=1.0, gamma=1, learning_rate=0.1, max_depth=11, min_child_weight=1, n_estimators=100, objective=binary:logistic, subsample=0.5 \n",
      "[CV]  colsample_bytree=1.0, gamma=1, learning_rate=0.1, max_depth=11, min_child_weight=1, n_estimators=100, objective=binary:logistic, subsample=0.5, total=   9.8s\n",
      "[CV] colsample_bytree=1.0, gamma=1, learning_rate=0.1, max_depth=11, min_child_weight=1, n_estimators=100, objective=binary:logistic, subsample=0.5 \n",
      "[CV]  colsample_bytree=1.0, gamma=1, learning_rate=0.1, max_depth=11, min_child_weight=1, n_estimators=100, objective=binary:logistic, subsample=0.5, total=   9.4s\n",
      "[CV] colsample_bytree=1.0, gamma=1, learning_rate=0.1, max_depth=11, min_child_weight=1, n_estimators=100, objective=binary:logistic, subsample=0.5 \n",
      "[CV]  colsample_bytree=1.0, gamma=1, learning_rate=0.1, max_depth=11, min_child_weight=1, n_estimators=100, objective=binary:logistic, subsample=0.5, total=   9.9s\n",
      "[CV] colsample_bytree=1.0, gamma=1, learning_rate=0.1, max_depth=11, min_child_weight=1, n_estimators=100, objective=binary:logistic, subsample=1.0 \n",
      "[CV]  colsample_bytree=1.0, gamma=1, learning_rate=0.1, max_depth=11, min_child_weight=1, n_estimators=100, objective=binary:logistic, subsample=1.0, total=   7.4s\n",
      "[CV] colsample_bytree=1.0, gamma=1, learning_rate=0.1, max_depth=11, min_child_weight=1, n_estimators=100, objective=binary:logistic, subsample=1.0 \n",
      "[CV]  colsample_bytree=1.0, gamma=1, learning_rate=0.1, max_depth=11, min_child_weight=1, n_estimators=100, objective=binary:logistic, subsample=1.0, total=   7.2s\n",
      "[CV] colsample_bytree=1.0, gamma=1, learning_rate=0.1, max_depth=11, min_child_weight=1, n_estimators=100, objective=binary:logistic, subsample=1.0 \n",
      "[CV]  colsample_bytree=1.0, gamma=1, learning_rate=0.1, max_depth=11, min_child_weight=1, n_estimators=100, objective=binary:logistic, subsample=1.0, total=   6.8s\n",
      "[CV] colsample_bytree=1.0, gamma=1, learning_rate=0.1, max_depth=11, min_child_weight=1, n_estimators=100, objective=binary:logistic, subsample=1.0 \n",
      "[CV]  colsample_bytree=1.0, gamma=1, learning_rate=0.1, max_depth=11, min_child_weight=1, n_estimators=100, objective=binary:logistic, subsample=1.0, total=   7.1s\n",
      "[CV] colsample_bytree=1.0, gamma=1, learning_rate=0.1, max_depth=11, min_child_weight=1, n_estimators=100, objective=binary:logistic, subsample=1.0 \n",
      "[CV]  colsample_bytree=1.0, gamma=1, learning_rate=0.1, max_depth=11, min_child_weight=1, n_estimators=100, objective=binary:logistic, subsample=1.0, total=   7.1s\n",
      "[CV] colsample_bytree=1.0, gamma=1, learning_rate=0.1, max_depth=11, min_child_weight=1, n_estimators=125, objective=binary:logistic, subsample=0.5 \n",
      "[CV]  colsample_bytree=1.0, gamma=1, learning_rate=0.1, max_depth=11, min_child_weight=1, n_estimators=125, objective=binary:logistic, subsample=0.5, total=  11.5s\n",
      "[CV] colsample_bytree=1.0, gamma=1, learning_rate=0.1, max_depth=11, min_child_weight=1, n_estimators=125, objective=binary:logistic, subsample=0.5 \n",
      "[CV]  colsample_bytree=1.0, gamma=1, learning_rate=0.1, max_depth=11, min_child_weight=1, n_estimators=125, objective=binary:logistic, subsample=0.5, total=  12.0s\n",
      "[CV] colsample_bytree=1.0, gamma=1, learning_rate=0.1, max_depth=11, min_child_weight=1, n_estimators=125, objective=binary:logistic, subsample=0.5 \n",
      "[CV]  colsample_bytree=1.0, gamma=1, learning_rate=0.1, max_depth=11, min_child_weight=1, n_estimators=125, objective=binary:logistic, subsample=0.5, total=  11.8s\n",
      "[CV] colsample_bytree=1.0, gamma=1, learning_rate=0.1, max_depth=11, min_child_weight=1, n_estimators=125, objective=binary:logistic, subsample=0.5 \n",
      "[CV]  colsample_bytree=1.0, gamma=1, learning_rate=0.1, max_depth=11, min_child_weight=1, n_estimators=125, objective=binary:logistic, subsample=0.5, total=  12.1s\n",
      "[CV] colsample_bytree=1.0, gamma=1, learning_rate=0.1, max_depth=11, min_child_weight=1, n_estimators=125, objective=binary:logistic, subsample=0.5 \n"
     ]
    },
    {
     "name": "stdout",
     "output_type": "stream",
     "text": [
      "[CV]  colsample_bytree=1.0, gamma=1, learning_rate=0.1, max_depth=11, min_child_weight=1, n_estimators=125, objective=binary:logistic, subsample=0.5, total=  11.9s\n",
      "[CV] colsample_bytree=1.0, gamma=1, learning_rate=0.1, max_depth=11, min_child_weight=1, n_estimators=125, objective=binary:logistic, subsample=1.0 \n",
      "[CV]  colsample_bytree=1.0, gamma=1, learning_rate=0.1, max_depth=11, min_child_weight=1, n_estimators=125, objective=binary:logistic, subsample=1.0, total=   9.1s\n",
      "[CV] colsample_bytree=1.0, gamma=1, learning_rate=0.1, max_depth=11, min_child_weight=1, n_estimators=125, objective=binary:logistic, subsample=1.0 \n",
      "[CV]  colsample_bytree=1.0, gamma=1, learning_rate=0.1, max_depth=11, min_child_weight=1, n_estimators=125, objective=binary:logistic, subsample=1.0, total=   8.5s\n",
      "[CV] colsample_bytree=1.0, gamma=1, learning_rate=0.1, max_depth=11, min_child_weight=1, n_estimators=125, objective=binary:logistic, subsample=1.0 \n",
      "[CV]  colsample_bytree=1.0, gamma=1, learning_rate=0.1, max_depth=11, min_child_weight=1, n_estimators=125, objective=binary:logistic, subsample=1.0, total=   8.6s\n",
      "[CV] colsample_bytree=1.0, gamma=1, learning_rate=0.1, max_depth=11, min_child_weight=1, n_estimators=125, objective=binary:logistic, subsample=1.0 \n",
      "[CV]  colsample_bytree=1.0, gamma=1, learning_rate=0.1, max_depth=11, min_child_weight=1, n_estimators=125, objective=binary:logistic, subsample=1.0, total=   8.6s\n",
      "[CV] colsample_bytree=1.0, gamma=1, learning_rate=0.1, max_depth=11, min_child_weight=1, n_estimators=125, objective=binary:logistic, subsample=1.0 \n",
      "[CV]  colsample_bytree=1.0, gamma=1, learning_rate=0.1, max_depth=11, min_child_weight=1, n_estimators=125, objective=binary:logistic, subsample=1.0, total=   8.3s\n",
      "[CV] colsample_bytree=1.0, gamma=1, learning_rate=0.1, max_depth=11, min_child_weight=5, n_estimators=100, objective=binary:logistic, subsample=0.5 \n",
      "[CV]  colsample_bytree=1.0, gamma=1, learning_rate=0.1, max_depth=11, min_child_weight=5, n_estimators=100, objective=binary:logistic, subsample=0.5, total=   8.1s\n",
      "[CV] colsample_bytree=1.0, gamma=1, learning_rate=0.1, max_depth=11, min_child_weight=5, n_estimators=100, objective=binary:logistic, subsample=0.5 \n",
      "[CV]  colsample_bytree=1.0, gamma=1, learning_rate=0.1, max_depth=11, min_child_weight=5, n_estimators=100, objective=binary:logistic, subsample=0.5, total=   8.8s\n",
      "[CV] colsample_bytree=1.0, gamma=1, learning_rate=0.1, max_depth=11, min_child_weight=5, n_estimators=100, objective=binary:logistic, subsample=0.5 \n",
      "[CV]  colsample_bytree=1.0, gamma=1, learning_rate=0.1, max_depth=11, min_child_weight=5, n_estimators=100, objective=binary:logistic, subsample=0.5, total=   8.9s\n",
      "[CV] colsample_bytree=1.0, gamma=1, learning_rate=0.1, max_depth=11, min_child_weight=5, n_estimators=100, objective=binary:logistic, subsample=0.5 \n",
      "[CV]  colsample_bytree=1.0, gamma=1, learning_rate=0.1, max_depth=11, min_child_weight=5, n_estimators=100, objective=binary:logistic, subsample=0.5, total=   9.2s\n",
      "[CV] colsample_bytree=1.0, gamma=1, learning_rate=0.1, max_depth=11, min_child_weight=5, n_estimators=100, objective=binary:logistic, subsample=0.5 \n",
      "[CV]  colsample_bytree=1.0, gamma=1, learning_rate=0.1, max_depth=11, min_child_weight=5, n_estimators=100, objective=binary:logistic, subsample=0.5, total=   8.6s\n",
      "[CV] colsample_bytree=1.0, gamma=1, learning_rate=0.1, max_depth=11, min_child_weight=5, n_estimators=100, objective=binary:logistic, subsample=1.0 \n",
      "[CV]  colsample_bytree=1.0, gamma=1, learning_rate=0.1, max_depth=11, min_child_weight=5, n_estimators=100, objective=binary:logistic, subsample=1.0, total=   6.9s\n",
      "[CV] colsample_bytree=1.0, gamma=1, learning_rate=0.1, max_depth=11, min_child_weight=5, n_estimators=100, objective=binary:logistic, subsample=1.0 \n",
      "[CV]  colsample_bytree=1.0, gamma=1, learning_rate=0.1, max_depth=11, min_child_weight=5, n_estimators=100, objective=binary:logistic, subsample=1.0, total=   7.0s\n",
      "[CV] colsample_bytree=1.0, gamma=1, learning_rate=0.1, max_depth=11, min_child_weight=5, n_estimators=100, objective=binary:logistic, subsample=1.0 \n",
      "[CV]  colsample_bytree=1.0, gamma=1, learning_rate=0.1, max_depth=11, min_child_weight=5, n_estimators=100, objective=binary:logistic, subsample=1.0, total=   9.1s\n",
      "[CV] colsample_bytree=1.0, gamma=1, learning_rate=0.1, max_depth=11, min_child_weight=5, n_estimators=100, objective=binary:logistic, subsample=1.0 \n",
      "[CV]  colsample_bytree=1.0, gamma=1, learning_rate=0.1, max_depth=11, min_child_weight=5, n_estimators=100, objective=binary:logistic, subsample=1.0, total=   7.8s\n",
      "[CV] colsample_bytree=1.0, gamma=1, learning_rate=0.1, max_depth=11, min_child_weight=5, n_estimators=100, objective=binary:logistic, subsample=1.0 \n",
      "[CV]  colsample_bytree=1.0, gamma=1, learning_rate=0.1, max_depth=11, min_child_weight=5, n_estimators=100, objective=binary:logistic, subsample=1.0, total=   7.0s\n",
      "[CV] colsample_bytree=1.0, gamma=1, learning_rate=0.1, max_depth=11, min_child_weight=5, n_estimators=125, objective=binary:logistic, subsample=0.5 \n",
      "[CV]  colsample_bytree=1.0, gamma=1, learning_rate=0.1, max_depth=11, min_child_weight=5, n_estimators=125, objective=binary:logistic, subsample=0.5, total=   9.9s\n",
      "[CV] colsample_bytree=1.0, gamma=1, learning_rate=0.1, max_depth=11, min_child_weight=5, n_estimators=125, objective=binary:logistic, subsample=0.5 \n",
      "[CV]  colsample_bytree=1.0, gamma=1, learning_rate=0.1, max_depth=11, min_child_weight=5, n_estimators=125, objective=binary:logistic, subsample=0.5, total=  11.2s\n",
      "[CV] colsample_bytree=1.0, gamma=1, learning_rate=0.1, max_depth=11, min_child_weight=5, n_estimators=125, objective=binary:logistic, subsample=0.5 \n",
      "[CV]  colsample_bytree=1.0, gamma=1, learning_rate=0.1, max_depth=11, min_child_weight=5, n_estimators=125, objective=binary:logistic, subsample=0.5, total=  10.9s\n",
      "[CV] colsample_bytree=1.0, gamma=1, learning_rate=0.1, max_depth=11, min_child_weight=5, n_estimators=125, objective=binary:logistic, subsample=0.5 \n",
      "[CV]  colsample_bytree=1.0, gamma=1, learning_rate=0.1, max_depth=11, min_child_weight=5, n_estimators=125, objective=binary:logistic, subsample=0.5, total=  10.8s\n",
      "[CV] colsample_bytree=1.0, gamma=1, learning_rate=0.1, max_depth=11, min_child_weight=5, n_estimators=125, objective=binary:logistic, subsample=0.5 \n",
      "[CV]  colsample_bytree=1.0, gamma=1, learning_rate=0.1, max_depth=11, min_child_weight=5, n_estimators=125, objective=binary:logistic, subsample=0.5, total=  10.8s\n",
      "[CV] colsample_bytree=1.0, gamma=1, learning_rate=0.1, max_depth=11, min_child_weight=5, n_estimators=125, objective=binary:logistic, subsample=1.0 \n",
      "[CV]  colsample_bytree=1.0, gamma=1, learning_rate=0.1, max_depth=11, min_child_weight=5, n_estimators=125, objective=binary:logistic, subsample=1.0, total=   9.2s\n",
      "[CV] colsample_bytree=1.0, gamma=1, learning_rate=0.1, max_depth=11, min_child_weight=5, n_estimators=125, objective=binary:logistic, subsample=1.0 \n",
      "[CV]  colsample_bytree=1.0, gamma=1, learning_rate=0.1, max_depth=11, min_child_weight=5, n_estimators=125, objective=binary:logistic, subsample=1.0, total=   8.8s\n",
      "[CV] colsample_bytree=1.0, gamma=1, learning_rate=0.1, max_depth=11, min_child_weight=5, n_estimators=125, objective=binary:logistic, subsample=1.0 \n",
      "[CV]  colsample_bytree=1.0, gamma=1, learning_rate=0.1, max_depth=11, min_child_weight=5, n_estimators=125, objective=binary:logistic, subsample=1.0, total=   8.8s\n",
      "[CV] colsample_bytree=1.0, gamma=1, learning_rate=0.1, max_depth=11, min_child_weight=5, n_estimators=125, objective=binary:logistic, subsample=1.0 \n",
      "[CV]  colsample_bytree=1.0, gamma=1, learning_rate=0.1, max_depth=11, min_child_weight=5, n_estimators=125, objective=binary:logistic, subsample=1.0, total=   9.8s\n",
      "[CV] colsample_bytree=1.0, gamma=1, learning_rate=0.1, max_depth=11, min_child_weight=5, n_estimators=125, objective=binary:logistic, subsample=1.0 \n",
      "[CV]  colsample_bytree=1.0, gamma=1, learning_rate=0.1, max_depth=11, min_child_weight=5, n_estimators=125, objective=binary:logistic, subsample=1.0, total=   9.7s\n"
     ]
    },
    {
     "name": "stderr",
     "output_type": "stream",
     "text": [
      "[Parallel(n_jobs=1)]: Done 320 out of 320 | elapsed: 35.1min finished\n"
     ]
    },
    {
     "data": {
      "text/plain": [
       "GridSearchCV(cv=5, error_score=nan,\n",
       "             estimator=XGBClassifier(base_score=0.5, booster='gbtree',\n",
       "                                     colsample_bylevel=1, colsample_bynode=1,\n",
       "                                     colsample_bytree=1, gamma=0,\n",
       "                                     learning_rate=0.1, max_delta_step=0,\n",
       "                                     max_depth=3, min_child_weight=1,\n",
       "                                     missing=None, n_estimators=100, n_jobs=1,\n",
       "                                     nthread=None, objective='binary:logistic',\n",
       "                                     random_state=42, reg_alpha=0, reg_lambda=1,\n",
       "                                     scale_p...lent=None,\n",
       "                                     subsample=1, verbosity=1),\n",
       "             iid='deprecated', n_jobs=None,\n",
       "             param_grid={'colsample_bytree': [0.5, 1.0], 'gamma': [0.5, 1],\n",
       "                         'learning_rate': [0.1], 'max_depth': [9, 11],\n",
       "                         'min_child_weight': [1, 5], 'n_estimators': [100, 125],\n",
       "                         'objective': ['binary:logistic'],\n",
       "                         'subsample': [0.5, 1.0]},\n",
       "             pre_dispatch='2*n_jobs', refit=True, return_train_score=False,\n",
       "             scoring=None, verbose=2)"
      ]
     },
     "execution_count": 23,
     "metadata": {},
     "output_type": "execute_result"
    }
   ],
   "source": [
    "# CAUTION: Takes long time to run (more than 50 mins)\n",
    "# Fit GridSearch to the cleaned training data.\n",
    "gsX.fit(X_sm,y_sm)\n"
   ]
  },
  {
   "cell_type": "code",
   "execution_count": 24,
   "metadata": {},
   "outputs": [
    {
     "name": "stdout",
     "output_type": "stream",
     "text": [
      "Best parameters: {'colsample_bytree': 0.5, 'gamma': 0.5, 'learning_rate': 0.1, 'max_depth': 11, 'min_child_weight': 1, 'n_estimators': 125, 'objective': 'binary:logistic', 'subsample': 1.0}\n",
      "Best score: 0.9445431557336299\n"
     ]
    }
   ],
   "source": [
    "# Check the results of the grid search\n",
    "\n",
    "print(f\"Best parameters: {gsX.best_params_}\")\n",
    "print(f\"Best score: {gsX.best_score_}\")"
   ]
  },
  {
   "cell_type": "code",
   "execution_count": 25,
   "metadata": {},
   "outputs": [],
   "source": [
    "# Save model\n",
    "modelX = gsX.best_estimator_"
   ]
  },
  {
   "cell_type": "code",
   "execution_count": 26,
   "metadata": {
    "scrolled": true
   },
   "outputs": [
    {
     "name": "stdout",
     "output_type": "stream",
     "text": [
      "Accuracy on train set: 0.9804625898019975\n",
      "Accuracy on validate set: 0.9140534262485482\n"
     ]
    }
   ],
   "source": [
    "# Score model on train set and validate set\n",
    "print(f\"Accuracy on train set: {modelX.score(X_sm, y_sm)}\")\n",
    "print(f\"Accuracy on validate set: {modelX.score(X_val, y_val)}\")"
   ]
  },
  {
   "cell_type": "markdown",
   "metadata": {},
   "source": [
    "The model is overfitted with about 6% drop in validate accuracy compared to train accuracy. The accuracy is lower than the all previous models."
   ]
  },
  {
   "cell_type": "code",
   "execution_count": 27,
   "metadata": {},
   "outputs": [
    {
     "data": {
      "text/html": [
       "<div>\n",
       "<style scoped>\n",
       "    .dataframe tbody tr th:only-of-type {\n",
       "        vertical-align: middle;\n",
       "    }\n",
       "\n",
       "    .dataframe tbody tr th {\n",
       "        vertical-align: top;\n",
       "    }\n",
       "\n",
       "    .dataframe thead th {\n",
       "        text-align: right;\n",
       "    }\n",
       "</style>\n",
       "<table border=\"1\" class=\"dataframe\">\n",
       "  <thead>\n",
       "    <tr style=\"text-align: right;\">\n",
       "      <th></th>\n",
       "      <th>pred no wnv</th>\n",
       "      <th>pred wnv</th>\n",
       "    </tr>\n",
       "  </thead>\n",
       "  <tbody>\n",
       "    <tr>\n",
       "      <th>Actual no wnv</th>\n",
       "      <td>2326</td>\n",
       "      <td>120</td>\n",
       "    </tr>\n",
       "    <tr>\n",
       "      <th>Actual wnv</th>\n",
       "      <td>102</td>\n",
       "      <td>35</td>\n",
       "    </tr>\n",
       "  </tbody>\n",
       "</table>\n",
       "</div>"
      ],
      "text/plain": [
       "               pred no wnv  pred wnv\n",
       "Actual no wnv         2326       120\n",
       "Actual wnv             102        35"
      ]
     },
     "execution_count": 27,
     "metadata": {},
     "output_type": "execute_result"
    }
   ],
   "source": [
    "# Confusion matrix\n",
    "# Pass in true values, predicted values to confusion matrix\n",
    "# Convert confusion matrix into dataframe\n",
    "# Positive class (class 1) is wnv\n",
    "preds = gsX.predict(X_val)\n",
    "cm = confusion_matrix(y_val, preds)\n",
    "cm_df = pd.DataFrame(cm,columns=['pred no wnv','pred wnv'], index=['Actual no wnv','Actual wnv'])\n",
    "cm_df"
   ]
  },
  {
   "cell_type": "code",
   "execution_count": 28,
   "metadata": {},
   "outputs": [],
   "source": [
    "# return nparray as a 1-D array.\n",
    "confusion_matrix(y_val, preds).ravel()\n",
    "# Save TN/FP/FN/TP values.\n",
    "tn, fp, fn, tp = confusion_matrix(y_val,preds).ravel()"
   ]
  },
  {
   "cell_type": "code",
   "execution_count": 29,
   "metadata": {},
   "outputs": [
    {
     "name": "stdout",
     "output_type": "stream",
     "text": [
      "Sensitivity: 0.2555\n",
      "Precision: 0.2258\n",
      "F1: 0.2397\n"
     ]
    }
   ],
   "source": [
    "# Summary of metrics for log reg model\n",
    "sens = tp/(tp+fn)\n",
    "prec = tp/(tp+fp)\n",
    "f1 = 2*(prec*sens)/(prec+sens)\n",
    "print(f\"Sensitivity: {round(sens,4)}\")\n",
    "print(f\"Precision: {round(prec,4)}\")\n",
    "print(f\"F1: {round(f1,4)}\")"
   ]
  },
  {
   "cell_type": "code",
   "execution_count": 30,
   "metadata": {},
   "outputs": [
    {
     "data": {
      "text/html": [
       "<div>\n",
       "<style scoped>\n",
       "    .dataframe tbody tr th:only-of-type {\n",
       "        vertical-align: middle;\n",
       "    }\n",
       "\n",
       "    .dataframe tbody tr th {\n",
       "        vertical-align: top;\n",
       "    }\n",
       "\n",
       "    .dataframe thead th {\n",
       "        text-align: right;\n",
       "    }\n",
       "</style>\n",
       "<table border=\"1\" class=\"dataframe\">\n",
       "  <thead>\n",
       "    <tr style=\"text-align: right;\">\n",
       "      <th></th>\n",
       "      <th>validate_values</th>\n",
       "      <th>pred_probs</th>\n",
       "    </tr>\n",
       "  </thead>\n",
       "  <tbody>\n",
       "    <tr>\n",
       "      <th>5602</th>\n",
       "      <td>0</td>\n",
       "      <td>0.134990</td>\n",
       "    </tr>\n",
       "    <tr>\n",
       "      <th>1012</th>\n",
       "      <td>0</td>\n",
       "      <td>0.093172</td>\n",
       "    </tr>\n",
       "    <tr>\n",
       "      <th>7561</th>\n",
       "      <td>0</td>\n",
       "      <td>0.064027</td>\n",
       "    </tr>\n",
       "    <tr>\n",
       "      <th>7887</th>\n",
       "      <td>0</td>\n",
       "      <td>0.077021</td>\n",
       "    </tr>\n",
       "    <tr>\n",
       "      <th>4422</th>\n",
       "      <td>0</td>\n",
       "      <td>0.015078</td>\n",
       "    </tr>\n",
       "  </tbody>\n",
       "</table>\n",
       "</div>"
      ],
      "text/plain": [
       "      validate_values  pred_probs\n",
       "5602                0    0.134990\n",
       "1012                0    0.093172\n",
       "7561                0    0.064027\n",
       "7887                0    0.077021\n",
       "4422                0    0.015078"
      ]
     },
     "execution_count": 30,
     "metadata": {},
     "output_type": "execute_result"
    }
   ],
   "source": [
    "pred_proba = [i[1] for i in gsX.predict_proba(X_val)]\n",
    "\n",
    "pred_df = pd.DataFrame({'validate_values': y_val,\n",
    "                        'pred_probs':pred_proba})\n",
    "pred_df.head()"
   ]
  },
  {
   "cell_type": "code",
   "execution_count": 31,
   "metadata": {},
   "outputs": [
    {
     "data": {
      "text/plain": [
       "0.8464765951859435"
      ]
     },
     "execution_count": 31,
     "metadata": {},
     "output_type": "execute_result"
    }
   ],
   "source": [
    "# Calculate ROC AUC.\n",
    "roc_auc_score(pred_df['validate_values'],pred_df['pred_probs'])"
   ]
  },
  {
   "cell_type": "code",
   "execution_count": null,
   "metadata": {},
   "outputs": [],
   "source": []
  },
  {
   "cell_type": "code",
   "execution_count": null,
   "metadata": {},
   "outputs": [],
   "source": []
  },
  {
   "cell_type": "code",
   "execution_count": null,
   "metadata": {},
   "outputs": [],
   "source": []
  },
  {
   "cell_type": "code",
   "execution_count": null,
   "metadata": {},
   "outputs": [],
   "source": []
  },
  {
   "cell_type": "markdown",
   "metadata": {},
   "source": [
    "### Summary of Model Metrics "
   ]
  },
  {
   "cell_type": "code",
   "execution_count": 32,
   "metadata": {},
   "outputs": [
    {
     "data": {
      "text/html": [
       "<div>\n",
       "<style scoped>\n",
       "    .dataframe tbody tr th:only-of-type {\n",
       "        vertical-align: middle;\n",
       "    }\n",
       "\n",
       "    .dataframe tbody tr th {\n",
       "        vertical-align: top;\n",
       "    }\n",
       "\n",
       "    .dataframe thead th {\n",
       "        text-align: right;\n",
       "    }\n",
       "</style>\n",
       "<table border=\"1\" class=\"dataframe\">\n",
       "  <thead>\n",
       "    <tr style=\"text-align: right;\">\n",
       "      <th></th>\n",
       "      <th>LogReg</th>\n",
       "      <th>SVM</th>\n",
       "      <th>KNN</th>\n",
       "      <th>DT</th>\n",
       "      <th>RF(Smote O&amp;U)</th>\n",
       "      <th>GBc</th>\n",
       "      <th>XGBc</th>\n",
       "    </tr>\n",
       "  </thead>\n",
       "  <tbody>\n",
       "    <tr>\n",
       "      <th>accuracy(val)</th>\n",
       "      <td>0.945</td>\n",
       "      <td>0.918</td>\n",
       "      <td>0.934</td>\n",
       "      <td>0.814</td>\n",
       "      <td>0.852</td>\n",
       "      <td>0.909</td>\n",
       "      <td>0.914</td>\n",
       "    </tr>\n",
       "    <tr>\n",
       "      <th>sensitivity</th>\n",
       "      <td>0</td>\n",
       "      <td>0.226</td>\n",
       "      <td>0.066</td>\n",
       "      <td>0.65</td>\n",
       "      <td>0.524</td>\n",
       "      <td>0.226</td>\n",
       "      <td>0.285</td>\n",
       "    </tr>\n",
       "    <tr>\n",
       "      <th>precision</th>\n",
       "      <td>0</td>\n",
       "      <td>0.226</td>\n",
       "      <td>0.173</td>\n",
       "      <td>0.171</td>\n",
       "      <td>0.2</td>\n",
       "      <td>0.196</td>\n",
       "      <td>0.241</td>\n",
       "    </tr>\n",
       "    <tr>\n",
       "      <th>F1</th>\n",
       "      <td>NaN</td>\n",
       "      <td>0.226</td>\n",
       "      <td>0.095</td>\n",
       "      <td>0.271</td>\n",
       "      <td>0.29</td>\n",
       "      <td>0.21</td>\n",
       "      <td>0.261</td>\n",
       "    </tr>\n",
       "    <tr>\n",
       "      <th>roc_auc</th>\n",
       "      <td>0.791</td>\n",
       "      <td>0.795</td>\n",
       "      <td>0.721</td>\n",
       "      <td>0.804</td>\n",
       "      <td>0.698</td>\n",
       "      <td>0.847</td>\n",
       "      <td>0.849</td>\n",
       "    </tr>\n",
       "  </tbody>\n",
       "</table>\n",
       "</div>"
      ],
      "text/plain": [
       "              LogReg    SVM    KNN     DT RF(Smote O&U)    GBc   XGBc\n",
       "accuracy(val)  0.945  0.918  0.934  0.814         0.852  0.909  0.914\n",
       "sensitivity        0  0.226  0.066   0.65         0.524  0.226  0.285\n",
       "precision          0  0.226  0.173  0.171           0.2  0.196  0.241\n",
       "F1               NaN  0.226  0.095  0.271          0.29   0.21  0.261\n",
       "roc_auc        0.791  0.795  0.721  0.804         0.698  0.847  0.849"
      ]
     },
     "execution_count": 32,
     "metadata": {},
     "output_type": "execute_result"
    }
   ],
   "source": [
    "# Summary of Model scores in Dataframe\n",
    "summary_df = pd.DataFrame({'accuracy(val)' : [0.945, 0.918, 0.934, 0.814, 0.852, 0.909, 0.914],\\\n",
    "                           'sensitivity' :   [0,     0.226, 0.066, 0.650, 0.524, 0.226, 0.285],\\\n",
    "                           'precision' :     [0,     0.226, 0.173, 0.171, 0.200, 0.196, 0.241],\\\n",
    "                           'F1' :            ['NaN', 0.226, 0.095, 0.271, 0.290, 0.210, 0.261],\\\n",
    "                           'roc_auc' :       [0.791, 0.795, 0.721, 0.804, 0.698, 0.847, 0.849]})\n",
    "# Transpose dataframe\n",
    "summary_dft = summary_df.T\n",
    "# Rename columns\n",
    "summary_dft.columns = ['LogReg','SVM', 'KNN', 'DT', 'RF(Smote O&U)', 'GBc', 'XGBc']\n",
    "summary_dft"
   ]
  },
  {
   "cell_type": "markdown",
   "metadata": {},
   "source": [
    "We pick XGBosst classifier as the best model, based on F1 score and roc_auc. Next generate the predict probabilities on test set for kaggle submission."
   ]
  },
  {
   "cell_type": "code",
   "execution_count": 33,
   "metadata": {},
   "outputs": [],
   "source": [
    "# instantiate the best model with the best hyperparams\n",
    "best_model = modelX"
   ]
  },
  {
   "cell_type": "markdown",
   "metadata": {},
   "source": [
    "### Model Evaluation"
   ]
  },
  {
   "cell_type": "code",
   "execution_count": 34,
   "metadata": {},
   "outputs": [
    {
     "data": {
      "text/html": [
       "<div>\n",
       "<style scoped>\n",
       "    .dataframe tbody tr th:only-of-type {\n",
       "        vertical-align: middle;\n",
       "    }\n",
       "\n",
       "    .dataframe tbody tr th {\n",
       "        vertical-align: top;\n",
       "    }\n",
       "\n",
       "    .dataframe thead th {\n",
       "        text-align: right;\n",
       "    }\n",
       "</style>\n",
       "<table border=\"1\" class=\"dataframe\">\n",
       "  <thead>\n",
       "    <tr style=\"text-align: right;\">\n",
       "      <th></th>\n",
       "      <th>lat</th>\n",
       "      <th>long</th>\n",
       "      <th>wnv</th>\n",
       "      <th>num_mos</th>\n",
       "      <th>wk</th>\n",
       "      <th>yr</th>\n",
       "      <th>tavg</th>\n",
       "      <th>stnpress</th>\n",
       "      <th>dewpt</th>\n",
       "      <th>precip</th>\n",
       "      <th>...</th>\n",
       "      <th>trap_T230</th>\n",
       "      <th>trap_T231</th>\n",
       "      <th>trap_T232</th>\n",
       "      <th>trap_T233</th>\n",
       "      <th>trap_T235</th>\n",
       "      <th>trap_T236</th>\n",
       "      <th>trap_T237</th>\n",
       "      <th>trap_T238</th>\n",
       "      <th>trap_T900</th>\n",
       "      <th>trap_T903</th>\n",
       "    </tr>\n",
       "  </thead>\n",
       "  <tbody>\n",
       "    <tr>\n",
       "      <th>0</th>\n",
       "      <td>41.95469</td>\n",
       "      <td>-87.800991</td>\n",
       "      <td>0</td>\n",
       "      <td>1</td>\n",
       "      <td>22</td>\n",
       "      <td>2007</td>\n",
       "      <td>75.5</td>\n",
       "      <td>29.415</td>\n",
       "      <td>58.5</td>\n",
       "      <td>0.0</td>\n",
       "      <td>...</td>\n",
       "      <td>0</td>\n",
       "      <td>0</td>\n",
       "      <td>0</td>\n",
       "      <td>0</td>\n",
       "      <td>0</td>\n",
       "      <td>0</td>\n",
       "      <td>0</td>\n",
       "      <td>0</td>\n",
       "      <td>0</td>\n",
       "      <td>0</td>\n",
       "    </tr>\n",
       "  </tbody>\n",
       "</table>\n",
       "<p>1 rows × 155 columns</p>\n",
       "</div>"
      ],
      "text/plain": [
       "        lat       long  wnv  num_mos  wk    yr  tavg  stnpress  dewpt  precip  \\\n",
       "0  41.95469 -87.800991    0        1  22  2007  75.5    29.415   58.5     0.0   \n",
       "\n",
       "   ...  trap_T230  trap_T231  trap_T232  trap_T233  trap_T235  trap_T236  \\\n",
       "0  ...          0          0          0          0          0          0   \n",
       "\n",
       "   trap_T237  trap_T238  trap_T900  trap_T903  \n",
       "0          0          0          0          0  \n",
       "\n",
       "[1 rows x 155 columns]"
      ]
     },
     "execution_count": 34,
     "metadata": {},
     "output_type": "execute_result"
    }
   ],
   "source": [
    "# Check train set headers\n",
    "df_traincopy.head(1)"
   ]
  },
  {
   "cell_type": "code",
   "execution_count": 35,
   "metadata": {},
   "outputs": [
    {
     "data": {
      "text/html": [
       "<div>\n",
       "<style scoped>\n",
       "    .dataframe tbody tr th:only-of-type {\n",
       "        vertical-align: middle;\n",
       "    }\n",
       "\n",
       "    .dataframe tbody tr th {\n",
       "        vertical-align: top;\n",
       "    }\n",
       "\n",
       "    .dataframe thead th {\n",
       "        text-align: right;\n",
       "    }\n",
       "</style>\n",
       "<table border=\"1\" class=\"dataframe\">\n",
       "  <thead>\n",
       "    <tr style=\"text-align: right;\">\n",
       "      <th></th>\n",
       "      <th>lat</th>\n",
       "      <th>long</th>\n",
       "      <th>wk</th>\n",
       "      <th>yr</th>\n",
       "      <th>tavg</th>\n",
       "      <th>stnpress</th>\n",
       "      <th>dewpt</th>\n",
       "      <th>precip</th>\n",
       "      <th>windspeed</th>\n",
       "      <th>daylight</th>\n",
       "      <th>...</th>\n",
       "      <th>trap_T230</th>\n",
       "      <th>trap_T231</th>\n",
       "      <th>trap_T232</th>\n",
       "      <th>trap_T233</th>\n",
       "      <th>trap_T235</th>\n",
       "      <th>trap_T236</th>\n",
       "      <th>trap_T237</th>\n",
       "      <th>trap_T238</th>\n",
       "      <th>trap_T900</th>\n",
       "      <th>trap_T903</th>\n",
       "    </tr>\n",
       "  </thead>\n",
       "  <tbody>\n",
       "    <tr>\n",
       "      <th>0</th>\n",
       "      <td>41.95469</td>\n",
       "      <td>-87.800991</td>\n",
       "      <td>23</td>\n",
       "      <td>2008</td>\n",
       "      <td>75.0</td>\n",
       "      <td>29.31</td>\n",
       "      <td>55.5</td>\n",
       "      <td>0.0</td>\n",
       "      <td>9.15</td>\n",
       "      <td>15.166667</td>\n",
       "      <td>...</td>\n",
       "      <td>0</td>\n",
       "      <td>0</td>\n",
       "      <td>0</td>\n",
       "      <td>0</td>\n",
       "      <td>0</td>\n",
       "      <td>0</td>\n",
       "      <td>0</td>\n",
       "      <td>0</td>\n",
       "      <td>0</td>\n",
       "      <td>0</td>\n",
       "    </tr>\n",
       "  </tbody>\n",
       "</table>\n",
       "<p>1 rows × 153 columns</p>\n",
       "</div>"
      ],
      "text/plain": [
       "        lat       long  wk    yr  tavg  stnpress  dewpt  precip  windspeed  \\\n",
       "0  41.95469 -87.800991  23  2008  75.0     29.31   55.5     0.0       9.15   \n",
       "\n",
       "    daylight  ...  trap_T230  trap_T231  trap_T232  trap_T233  trap_T235  \\\n",
       "0  15.166667  ...          0          0          0          0          0   \n",
       "\n",
       "   trap_T236  trap_T237  trap_T238  trap_T900  trap_T903  \n",
       "0          0          0          0          0          0  \n",
       "\n",
       "[1 rows x 153 columns]"
      ]
     },
     "execution_count": 35,
     "metadata": {},
     "output_type": "execute_result"
    }
   ],
   "source": [
    "# Check test set headers\n",
    "df_testcopy.head(1)"
   ]
  },
  {
   "cell_type": "code",
   "execution_count": null,
   "metadata": {},
   "outputs": [],
   "source": []
  },
  {
   "cell_type": "code",
   "execution_count": 36,
   "metadata": {},
   "outputs": [],
   "source": [
    "# making a copy of the train_kaggle df\n",
    "X_train_kaggle = df_traincopy.copy().drop(['num_mos','wnv'],axis=1)\n",
    "y_train_kaggle = df_traincopy.copy()['wnv']\n",
    "\n",
    "X_test_kaggle = df_testcopy.copy()"
   ]
  },
  {
   "cell_type": "code",
   "execution_count": 37,
   "metadata": {},
   "outputs": [
    {
     "data": {
      "text/plain": [
       "Index([], dtype='object')"
      ]
     },
     "execution_count": 37,
     "metadata": {},
     "output_type": "execute_result"
    }
   ],
   "source": [
    "X_train_kaggle.columns.difference(X_test_kaggle.columns)"
   ]
  },
  {
   "cell_type": "code",
   "execution_count": 38,
   "metadata": {},
   "outputs": [
    {
     "data": {
      "text/plain": [
       "Index([], dtype='object')"
      ]
     },
     "execution_count": 38,
     "metadata": {},
     "output_type": "execute_result"
    }
   ],
   "source": [
    "X_test_kaggle.columns.difference(X_train_kaggle.columns)"
   ]
  },
  {
   "cell_type": "code",
   "execution_count": 39,
   "metadata": {},
   "outputs": [
    {
     "data": {
      "text/plain": [
       "(8610, 153)"
      ]
     },
     "execution_count": 39,
     "metadata": {},
     "output_type": "execute_result"
    }
   ],
   "source": [
    "#checking shape\n",
    "X_train_kaggle.shape"
   ]
  },
  {
   "cell_type": "code",
   "execution_count": 40,
   "metadata": {},
   "outputs": [
    {
     "data": {
      "text/html": [
       "<div>\n",
       "<style scoped>\n",
       "    .dataframe tbody tr th:only-of-type {\n",
       "        vertical-align: middle;\n",
       "    }\n",
       "\n",
       "    .dataframe tbody tr th {\n",
       "        vertical-align: top;\n",
       "    }\n",
       "\n",
       "    .dataframe thead th {\n",
       "        text-align: right;\n",
       "    }\n",
       "</style>\n",
       "<table border=\"1\" class=\"dataframe\">\n",
       "  <thead>\n",
       "    <tr style=\"text-align: right;\">\n",
       "      <th></th>\n",
       "      <th>lat</th>\n",
       "      <th>long</th>\n",
       "      <th>wk</th>\n",
       "      <th>yr</th>\n",
       "      <th>tavg</th>\n",
       "      <th>stnpress</th>\n",
       "      <th>dewpt</th>\n",
       "      <th>precip</th>\n",
       "      <th>windspeed</th>\n",
       "      <th>daylight</th>\n",
       "      <th>...</th>\n",
       "      <th>trap_T230</th>\n",
       "      <th>trap_T231</th>\n",
       "      <th>trap_T232</th>\n",
       "      <th>trap_T233</th>\n",
       "      <th>trap_T235</th>\n",
       "      <th>trap_T236</th>\n",
       "      <th>trap_T237</th>\n",
       "      <th>trap_T238</th>\n",
       "      <th>trap_T900</th>\n",
       "      <th>trap_T903</th>\n",
       "    </tr>\n",
       "  </thead>\n",
       "  <tbody>\n",
       "    <tr>\n",
       "      <th>0</th>\n",
       "      <td>41.954690</td>\n",
       "      <td>-87.800991</td>\n",
       "      <td>22</td>\n",
       "      <td>2007</td>\n",
       "      <td>75.5</td>\n",
       "      <td>29.415</td>\n",
       "      <td>58.5</td>\n",
       "      <td>0.0</td>\n",
       "      <td>5.8</td>\n",
       "      <td>15.6</td>\n",
       "      <td>...</td>\n",
       "      <td>0</td>\n",
       "      <td>0</td>\n",
       "      <td>0</td>\n",
       "      <td>0</td>\n",
       "      <td>0</td>\n",
       "      <td>0</td>\n",
       "      <td>0</td>\n",
       "      <td>0</td>\n",
       "      <td>0</td>\n",
       "      <td>0</td>\n",
       "    </tr>\n",
       "    <tr>\n",
       "      <th>1</th>\n",
       "      <td>41.954690</td>\n",
       "      <td>-87.800991</td>\n",
       "      <td>22</td>\n",
       "      <td>2007</td>\n",
       "      <td>75.5</td>\n",
       "      <td>29.415</td>\n",
       "      <td>58.5</td>\n",
       "      <td>0.0</td>\n",
       "      <td>5.8</td>\n",
       "      <td>15.6</td>\n",
       "      <td>...</td>\n",
       "      <td>0</td>\n",
       "      <td>0</td>\n",
       "      <td>0</td>\n",
       "      <td>0</td>\n",
       "      <td>0</td>\n",
       "      <td>0</td>\n",
       "      <td>0</td>\n",
       "      <td>0</td>\n",
       "      <td>0</td>\n",
       "      <td>0</td>\n",
       "    </tr>\n",
       "    <tr>\n",
       "      <th>2</th>\n",
       "      <td>41.994991</td>\n",
       "      <td>-87.769279</td>\n",
       "      <td>22</td>\n",
       "      <td>2007</td>\n",
       "      <td>75.5</td>\n",
       "      <td>29.415</td>\n",
       "      <td>58.5</td>\n",
       "      <td>0.0</td>\n",
       "      <td>5.8</td>\n",
       "      <td>15.6</td>\n",
       "      <td>...</td>\n",
       "      <td>0</td>\n",
       "      <td>0</td>\n",
       "      <td>0</td>\n",
       "      <td>0</td>\n",
       "      <td>0</td>\n",
       "      <td>0</td>\n",
       "      <td>0</td>\n",
       "      <td>0</td>\n",
       "      <td>0</td>\n",
       "      <td>0</td>\n",
       "    </tr>\n",
       "    <tr>\n",
       "      <th>3</th>\n",
       "      <td>41.974089</td>\n",
       "      <td>-87.824812</td>\n",
       "      <td>22</td>\n",
       "      <td>2007</td>\n",
       "      <td>75.5</td>\n",
       "      <td>29.415</td>\n",
       "      <td>58.5</td>\n",
       "      <td>0.0</td>\n",
       "      <td>5.8</td>\n",
       "      <td>15.6</td>\n",
       "      <td>...</td>\n",
       "      <td>0</td>\n",
       "      <td>0</td>\n",
       "      <td>0</td>\n",
       "      <td>0</td>\n",
       "      <td>0</td>\n",
       "      <td>0</td>\n",
       "      <td>0</td>\n",
       "      <td>0</td>\n",
       "      <td>0</td>\n",
       "      <td>0</td>\n",
       "    </tr>\n",
       "    <tr>\n",
       "      <th>4</th>\n",
       "      <td>41.974089</td>\n",
       "      <td>-87.824812</td>\n",
       "      <td>22</td>\n",
       "      <td>2007</td>\n",
       "      <td>75.5</td>\n",
       "      <td>29.415</td>\n",
       "      <td>58.5</td>\n",
       "      <td>0.0</td>\n",
       "      <td>5.8</td>\n",
       "      <td>15.6</td>\n",
       "      <td>...</td>\n",
       "      <td>0</td>\n",
       "      <td>0</td>\n",
       "      <td>0</td>\n",
       "      <td>0</td>\n",
       "      <td>0</td>\n",
       "      <td>0</td>\n",
       "      <td>0</td>\n",
       "      <td>0</td>\n",
       "      <td>0</td>\n",
       "      <td>0</td>\n",
       "    </tr>\n",
       "  </tbody>\n",
       "</table>\n",
       "<p>5 rows × 153 columns</p>\n",
       "</div>"
      ],
      "text/plain": [
       "         lat       long  wk    yr  tavg  stnpress  dewpt  precip  windspeed  \\\n",
       "0  41.954690 -87.800991  22  2007  75.5    29.415   58.5     0.0        5.8   \n",
       "1  41.954690 -87.800991  22  2007  75.5    29.415   58.5     0.0        5.8   \n",
       "2  41.994991 -87.769279  22  2007  75.5    29.415   58.5     0.0        5.8   \n",
       "3  41.974089 -87.824812  22  2007  75.5    29.415   58.5     0.0        5.8   \n",
       "4  41.974089 -87.824812  22  2007  75.5    29.415   58.5     0.0        5.8   \n",
       "\n",
       "   daylight  ...  trap_T230  trap_T231  trap_T232  trap_T233  trap_T235  \\\n",
       "0      15.6  ...          0          0          0          0          0   \n",
       "1      15.6  ...          0          0          0          0          0   \n",
       "2      15.6  ...          0          0          0          0          0   \n",
       "3      15.6  ...          0          0          0          0          0   \n",
       "4      15.6  ...          0          0          0          0          0   \n",
       "\n",
       "   trap_T236  trap_T237  trap_T238  trap_T900  trap_T903  \n",
       "0          0          0          0          0          0  \n",
       "1          0          0          0          0          0  \n",
       "2          0          0          0          0          0  \n",
       "3          0          0          0          0          0  \n",
       "4          0          0          0          0          0  \n",
       "\n",
       "[5 rows x 153 columns]"
      ]
     },
     "execution_count": 40,
     "metadata": {},
     "output_type": "execute_result"
    }
   ],
   "source": [
    "X_train_kaggle.head()"
   ]
  },
  {
   "cell_type": "code",
   "execution_count": 41,
   "metadata": {},
   "outputs": [
    {
     "data": {
      "text/html": [
       "<div>\n",
       "<style scoped>\n",
       "    .dataframe tbody tr th:only-of-type {\n",
       "        vertical-align: middle;\n",
       "    }\n",
       "\n",
       "    .dataframe tbody tr th {\n",
       "        vertical-align: top;\n",
       "    }\n",
       "\n",
       "    .dataframe thead th {\n",
       "        text-align: right;\n",
       "    }\n",
       "</style>\n",
       "<table border=\"1\" class=\"dataframe\">\n",
       "  <thead>\n",
       "    <tr style=\"text-align: right;\">\n",
       "      <th></th>\n",
       "      <th>lat</th>\n",
       "      <th>long</th>\n",
       "      <th>wk</th>\n",
       "      <th>yr</th>\n",
       "      <th>tavg</th>\n",
       "      <th>stnpress</th>\n",
       "      <th>dewpt</th>\n",
       "      <th>precip</th>\n",
       "      <th>windspeed</th>\n",
       "      <th>daylight</th>\n",
       "      <th>...</th>\n",
       "      <th>trap_T230</th>\n",
       "      <th>trap_T231</th>\n",
       "      <th>trap_T232</th>\n",
       "      <th>trap_T233</th>\n",
       "      <th>trap_T235</th>\n",
       "      <th>trap_T236</th>\n",
       "      <th>trap_T237</th>\n",
       "      <th>trap_T238</th>\n",
       "      <th>trap_T900</th>\n",
       "      <th>trap_T903</th>\n",
       "    </tr>\n",
       "  </thead>\n",
       "  <tbody>\n",
       "    <tr>\n",
       "      <th>0</th>\n",
       "      <td>41.95469</td>\n",
       "      <td>-87.800991</td>\n",
       "      <td>23</td>\n",
       "      <td>2008</td>\n",
       "      <td>75.0</td>\n",
       "      <td>29.31</td>\n",
       "      <td>55.5</td>\n",
       "      <td>0.0</td>\n",
       "      <td>9.15</td>\n",
       "      <td>15.166667</td>\n",
       "      <td>...</td>\n",
       "      <td>0</td>\n",
       "      <td>0</td>\n",
       "      <td>0</td>\n",
       "      <td>0</td>\n",
       "      <td>0</td>\n",
       "      <td>0</td>\n",
       "      <td>0</td>\n",
       "      <td>0</td>\n",
       "      <td>0</td>\n",
       "      <td>0</td>\n",
       "    </tr>\n",
       "    <tr>\n",
       "      <th>1</th>\n",
       "      <td>41.95469</td>\n",
       "      <td>-87.800991</td>\n",
       "      <td>23</td>\n",
       "      <td>2008</td>\n",
       "      <td>75.0</td>\n",
       "      <td>29.31</td>\n",
       "      <td>55.5</td>\n",
       "      <td>0.0</td>\n",
       "      <td>9.15</td>\n",
       "      <td>15.166667</td>\n",
       "      <td>...</td>\n",
       "      <td>0</td>\n",
       "      <td>0</td>\n",
       "      <td>0</td>\n",
       "      <td>0</td>\n",
       "      <td>0</td>\n",
       "      <td>0</td>\n",
       "      <td>0</td>\n",
       "      <td>0</td>\n",
       "      <td>0</td>\n",
       "      <td>0</td>\n",
       "    </tr>\n",
       "    <tr>\n",
       "      <th>2</th>\n",
       "      <td>41.95469</td>\n",
       "      <td>-87.800991</td>\n",
       "      <td>23</td>\n",
       "      <td>2008</td>\n",
       "      <td>75.0</td>\n",
       "      <td>29.31</td>\n",
       "      <td>55.5</td>\n",
       "      <td>0.0</td>\n",
       "      <td>9.15</td>\n",
       "      <td>15.166667</td>\n",
       "      <td>...</td>\n",
       "      <td>0</td>\n",
       "      <td>0</td>\n",
       "      <td>0</td>\n",
       "      <td>0</td>\n",
       "      <td>0</td>\n",
       "      <td>0</td>\n",
       "      <td>0</td>\n",
       "      <td>0</td>\n",
       "      <td>0</td>\n",
       "      <td>0</td>\n",
       "    </tr>\n",
       "    <tr>\n",
       "      <th>3</th>\n",
       "      <td>41.95469</td>\n",
       "      <td>-87.800991</td>\n",
       "      <td>23</td>\n",
       "      <td>2008</td>\n",
       "      <td>75.0</td>\n",
       "      <td>29.31</td>\n",
       "      <td>55.5</td>\n",
       "      <td>0.0</td>\n",
       "      <td>9.15</td>\n",
       "      <td>15.166667</td>\n",
       "      <td>...</td>\n",
       "      <td>0</td>\n",
       "      <td>0</td>\n",
       "      <td>0</td>\n",
       "      <td>0</td>\n",
       "      <td>0</td>\n",
       "      <td>0</td>\n",
       "      <td>0</td>\n",
       "      <td>0</td>\n",
       "      <td>0</td>\n",
       "      <td>0</td>\n",
       "    </tr>\n",
       "    <tr>\n",
       "      <th>4</th>\n",
       "      <td>41.95469</td>\n",
       "      <td>-87.800991</td>\n",
       "      <td>23</td>\n",
       "      <td>2008</td>\n",
       "      <td>75.0</td>\n",
       "      <td>29.31</td>\n",
       "      <td>55.5</td>\n",
       "      <td>0.0</td>\n",
       "      <td>9.15</td>\n",
       "      <td>15.166667</td>\n",
       "      <td>...</td>\n",
       "      <td>0</td>\n",
       "      <td>0</td>\n",
       "      <td>0</td>\n",
       "      <td>0</td>\n",
       "      <td>0</td>\n",
       "      <td>0</td>\n",
       "      <td>0</td>\n",
       "      <td>0</td>\n",
       "      <td>0</td>\n",
       "      <td>0</td>\n",
       "    </tr>\n",
       "  </tbody>\n",
       "</table>\n",
       "<p>5 rows × 153 columns</p>\n",
       "</div>"
      ],
      "text/plain": [
       "        lat       long  wk    yr  tavg  stnpress  dewpt  precip  windspeed  \\\n",
       "0  41.95469 -87.800991  23  2008  75.0     29.31   55.5     0.0       9.15   \n",
       "1  41.95469 -87.800991  23  2008  75.0     29.31   55.5     0.0       9.15   \n",
       "2  41.95469 -87.800991  23  2008  75.0     29.31   55.5     0.0       9.15   \n",
       "3  41.95469 -87.800991  23  2008  75.0     29.31   55.5     0.0       9.15   \n",
       "4  41.95469 -87.800991  23  2008  75.0     29.31   55.5     0.0       9.15   \n",
       "\n",
       "    daylight  ...  trap_T230  trap_T231  trap_T232  trap_T233  trap_T235  \\\n",
       "0  15.166667  ...          0          0          0          0          0   \n",
       "1  15.166667  ...          0          0          0          0          0   \n",
       "2  15.166667  ...          0          0          0          0          0   \n",
       "3  15.166667  ...          0          0          0          0          0   \n",
       "4  15.166667  ...          0          0          0          0          0   \n",
       "\n",
       "   trap_T236  trap_T237  trap_T238  trap_T900  trap_T903  \n",
       "0          0          0          0          0          0  \n",
       "1          0          0          0          0          0  \n",
       "2          0          0          0          0          0  \n",
       "3          0          0          0          0          0  \n",
       "4          0          0          0          0          0  \n",
       "\n",
       "[5 rows x 153 columns]"
      ]
     },
     "execution_count": 41,
     "metadata": {},
     "output_type": "execute_result"
    }
   ],
   "source": [
    "X_test_kaggle.head()"
   ]
  },
  {
   "cell_type": "code",
   "execution_count": 42,
   "metadata": {},
   "outputs": [
    {
     "data": {
      "text/plain": [
       "(116293, 153)"
      ]
     },
     "execution_count": 42,
     "metadata": {},
     "output_type": "execute_result"
    }
   ],
   "source": [
    "#checking shape\n",
    "X_test_kaggle.shape"
   ]
  },
  {
   "cell_type": "code",
   "execution_count": null,
   "metadata": {},
   "outputs": [],
   "source": [
    "# Scale variables\n",
    "# Commented out (since best model is based on decision trees, scaling not required)\n",
    "#ss = StandardScaler(n)\n",
    "#X_train_kaggle_ss = ss.fit_transform(X_train_kaggle)\n",
    "#X_test_kaggle_ss = ss.transform(X_test_kaggle)"
   ]
  },
  {
   "cell_type": "code",
   "execution_count": 43,
   "metadata": {},
   "outputs": [],
   "source": [
    "# Resampling using SMOTE oversmaple on minority class\n",
    "X_train_kaggle_sm, y_train_kaggle_sm = smote.fit_sample(X_train_kaggle, y_train_kaggle)"
   ]
  },
  {
   "cell_type": "code",
   "execution_count": 44,
   "metadata": {},
   "outputs": [
    {
     "data": {
      "text/plain": [
       "XGBClassifier(base_score=0.5, booster='gbtree', colsample_bylevel=1,\n",
       "              colsample_bynode=1, colsample_bytree=0.5, gamma=0.5,\n",
       "              learning_rate=0.1, max_delta_step=0, max_depth=11,\n",
       "              min_child_weight=1, missing=None, n_estimators=125, n_jobs=1,\n",
       "              nthread=None, objective='binary:logistic', random_state=42,\n",
       "              reg_alpha=0, reg_lambda=1, scale_pos_weight=1, seed=None,\n",
       "              silent=None, subsample=1.0, verbosity=1)"
      ]
     },
     "execution_count": 44,
     "metadata": {},
     "output_type": "execute_result"
    }
   ],
   "source": [
    "# to insert best model\n",
    "\n",
    "best_model.fit(X_train_kaggle_sm, y_train_kaggle_sm,)"
   ]
  },
  {
   "cell_type": "code",
   "execution_count": 45,
   "metadata": {},
   "outputs": [
    {
     "name": "stdout",
     "output_type": "stream",
     "text": [
      "Accuracy on train set: 0.9766343677174046\n"
     ]
    }
   ],
   "source": [
    "# Score model on train set and validate set\n",
    "print(f\"Accuracy on train set: {best_model.score(X_train_kaggle_sm,y_train_kaggle_sm)}\")"
   ]
  },
  {
   "cell_type": "code",
   "execution_count": 46,
   "metadata": {},
   "outputs": [],
   "source": [
    "# predicting kaggle output\n",
    "predict_kaggle = best_model.predict(X_test_kaggle)"
   ]
  },
  {
   "cell_type": "code",
   "execution_count": 48,
   "metadata": {},
   "outputs": [],
   "source": [
    "# probability predicition\n",
    "predict_proba_kaggle = best_model.predict_proba(X_test_kaggle)"
   ]
  },
  {
   "cell_type": "code",
   "execution_count": 49,
   "metadata": {},
   "outputs": [],
   "source": [
    "#Saving an output CSV file for submission\n",
    "output = pd.DataFrame({'Id': df_test['id'], 'WnvPresent': predict_proba_kaggle[:,1]})\n",
    "output.to_csv('my_submission_DSI.csv', index=False)"
   ]
  },
  {
   "cell_type": "markdown",
   "metadata": {},
   "source": [
    "### Conclusion and Recommendations"
   ]
  },
  {
   "cell_type": "code",
   "execution_count": null,
   "metadata": {},
   "outputs": [],
   "source": []
  }
 ],
 "metadata": {
  "colab": {
   "collapsed_sections": [],
   "name": "Copy of P4 Machine Learning wip.ipynb",
   "provenance": [
    {
     "file_id": "192zWqgFy8PhzuM0KE2ZSO6STKN_qio_A",
     "timestamp": 1590642613125
    }
   ]
  },
  "kernelspec": {
   "display_name": "Python 3",
   "language": "python",
   "name": "python3"
  },
  "language_info": {
   "codemirror_mode": {
    "name": "ipython",
    "version": 3
   },
   "file_extension": ".py",
   "mimetype": "text/x-python",
   "name": "python",
   "nbconvert_exporter": "python",
   "pygments_lexer": "ipython3",
   "version": "3.7.6"
  }
 },
 "nbformat": 4,
 "nbformat_minor": 1
}
