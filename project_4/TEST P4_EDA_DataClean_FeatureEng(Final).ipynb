{
 "cells": [
  {
   "cell_type": "markdown",
   "metadata": {
    "colab_type": "text",
    "id": "8UPAPNrfRrg-"
   },
   "source": [
    "# P4.01 EDA, Data Cleaning, Feature engineering"
   ]
  },
  {
   "cell_type": "markdown",
   "metadata": {
    "colab_type": "text",
    "id": "edfhqy0eqSTf"
   },
   "source": [
    "### Prelim EDA and Data Cleaning"
   ]
  },
  {
   "cell_type": "markdown",
   "metadata": {
    "colab_type": "text",
    "id": "FekQrhNdXLHa"
   },
   "source": [
    "**Note:** google colab doesn't support magic line, please comment-in `%matplotlib.inline` before running notebook in Jupyter."
   ]
  },
  {
   "cell_type": "code",
   "execution_count": 1,
   "metadata": {
    "colab": {
     "base_uri": "https://localhost:8080/",
     "height": 51
    },
    "colab_type": "code",
    "id": "no7Rn5sYqSTg",
    "outputId": "a9981b57-0b4e-473c-c493-835a91e2189a"
   },
   "outputs": [],
   "source": [
    "# Import libraries\n",
    "import pandas as pd\n",
    "import numpy as np\n",
    "import missingno as msno\n",
    "\n",
    "import matplotlib.pyplot as plt\n",
    "import seaborn as sns\n",
    "plt.style.use('seaborn-darkgrid')\n",
    "\n",
    "import warnings\n",
    "warnings.filterwarnings('ignore')\n",
    "\n",
    "%matplotlib inline"
   ]
  },
  {
   "cell_type": "code",
   "execution_count": 2,
   "metadata": {
    "colab": {},
    "colab_type": "code",
    "id": "0Sh32ESYqSTj"
   },
   "outputs": [],
   "source": [
    "# Read file from github as dataframe\n",
    "\n",
    "df_spray = pd.read_csv(\"https://raw.githubusercontent.com/AngShengJun/dsi14P4/master/assets/input/spray.csv\")\n",
    "df_test = pd.read_csv(\"https://raw.githubusercontent.com/AngShengJun/dsi14P4/master/assets/input/test.csv\")\n",
    "df_train = pd.read_csv(\"https://raw.githubusercontent.com/AngShengJun/dsi14P4/master/assets/input/train.csv\")\n",
    "df_weather = pd.read_csv(\"https://raw.githubusercontent.com/AngShengJun/dsi14P4/master/assets/input/weather.csv\")"
   ]
  },
  {
   "cell_type": "code",
   "execution_count": 3,
   "metadata": {
    "colab": {},
    "colab_type": "code",
    "id": "ak-ZT5AfqSTm"
   },
   "outputs": [],
   "source": [
    "# Define function for basic eda\n",
    "\n",
    "def data_explore(df):\n",
    "    #First two rows\n",
    "    print(\"First two rows of data:\")\n",
    "    display(df.head(2))\n",
    "    print()\n",
    "    # Print shape of dataframe\n",
    "    print(f\"Shape: {df.shape}\")\n",
    "    print()\n",
    "    # Print datatypes\n",
    "    print(\"Columns & Datatypes: \")\n",
    "    df.info()\n",
    "    print()\n",
    "    # Check for null values\n",
    "    print(\"Null values:\")\n",
    "    if df.isnull().values.any() == False:\n",
    "        print(\"None in Dataframe.\")\n",
    "    else:\n",
    "        for col in df:\n",
    "            print(f\"{col}:{df[col].isnull().sum()}\")\n",
    "    print()\n",
    "    # Count of distinct values\n",
    "    print(\"Unique values (by Columns)\")\n",
    "    for col in df:\n",
    "        print(f\"{col}:{len(df[col].unique().tolist())}\")\n",
    "    print()\n",
    "    # Inform if there are duplicates, if any\n",
    "    if df.duplicated(subset=None, keep='first').any() == False:\n",
    "      print(\"No duplicates present.\")\n",
    "    else:\n",
    "        dup = df[df.duplicated(subset=None, keep='first')]\n",
    "        print(f\"{len(dup)} duplicates in {len(df)} rows.\")"
   ]
  },
  {
   "cell_type": "code",
   "execution_count": 4,
   "metadata": {
    "colab": {},
    "colab_type": "code",
    "id": "Rl5VZP9KqST1"
   },
   "outputs": [],
   "source": [
    "# Define function to review duplicates\n",
    "# Only relevant for dataframe with duplicates\n",
    "def review_dup(df): \n",
    "    print(\"First 5 rows of duplicates:\")\n",
    "    display(df[df.duplicated(subset=None, keep='first')].head())"
   ]
  },
  {
   "cell_type": "code",
   "execution_count": 5,
   "metadata": {
    "colab": {},
    "colab_type": "code",
    "id": "Fg0apGPgqST9"
   },
   "outputs": [],
   "source": [
    "# Define function to drop duplicates and review rows\n",
    "# Only relevant for dataframe with duplicates\n",
    "def drop_dup(df):\n",
    "    print(f\"Initial rows: {df.shape[0]}\")\n",
    "    df.drop_duplicates(subset=None, inplace=True)\n",
    "    print(f\"Remaining rows: {df.shape[0]}\")"
   ]
  },
  {
   "cell_type": "markdown",
   "metadata": {
    "colab_type": "text",
    "id": "UtNLq8Ji4BJ_"
   },
   "source": [
    "### Spray data"
   ]
  },
  {
   "cell_type": "code",
   "execution_count": 6,
   "metadata": {
    "colab": {
     "base_uri": "https://localhost:8080/",
     "height": 621
    },
    "colab_type": "code",
    "id": "zHtTt0kvqSTo",
    "outputId": "901c6f4f-95b7-4923-bc60-f5fceee061a0"
   },
   "outputs": [
    {
     "name": "stdout",
     "output_type": "stream",
     "text": [
      "First two rows of data:\n"
     ]
    },
    {
     "data": {
      "text/html": [
       "<div>\n",
       "<style scoped>\n",
       "    .dataframe tbody tr th:only-of-type {\n",
       "        vertical-align: middle;\n",
       "    }\n",
       "\n",
       "    .dataframe tbody tr th {\n",
       "        vertical-align: top;\n",
       "    }\n",
       "\n",
       "    .dataframe thead th {\n",
       "        text-align: right;\n",
       "    }\n",
       "</style>\n",
       "<table border=\"1\" class=\"dataframe\">\n",
       "  <thead>\n",
       "    <tr style=\"text-align: right;\">\n",
       "      <th></th>\n",
       "      <th>Date</th>\n",
       "      <th>Time</th>\n",
       "      <th>Latitude</th>\n",
       "      <th>Longitude</th>\n",
       "    </tr>\n",
       "  </thead>\n",
       "  <tbody>\n",
       "    <tr>\n",
       "      <td>0</td>\n",
       "      <td>2011-08-29</td>\n",
       "      <td>6:56:58 PM</td>\n",
       "      <td>42.391623</td>\n",
       "      <td>-88.089163</td>\n",
       "    </tr>\n",
       "    <tr>\n",
       "      <td>1</td>\n",
       "      <td>2011-08-29</td>\n",
       "      <td>6:57:08 PM</td>\n",
       "      <td>42.391348</td>\n",
       "      <td>-88.089163</td>\n",
       "    </tr>\n",
       "  </tbody>\n",
       "</table>\n",
       "</div>"
      ],
      "text/plain": [
       "         Date        Time   Latitude  Longitude\n",
       "0  2011-08-29  6:56:58 PM  42.391623 -88.089163\n",
       "1  2011-08-29  6:57:08 PM  42.391348 -88.089163"
      ]
     },
     "metadata": {},
     "output_type": "display_data"
    },
    {
     "name": "stdout",
     "output_type": "stream",
     "text": [
      "\n",
      "Shape: (14835, 4)\n",
      "\n",
      "Columns & Datatypes: \n",
      "<class 'pandas.core.frame.DataFrame'>\n",
      "RangeIndex: 14835 entries, 0 to 14834\n",
      "Data columns (total 4 columns):\n",
      "Date         14835 non-null object\n",
      "Time         14251 non-null object\n",
      "Latitude     14835 non-null float64\n",
      "Longitude    14835 non-null float64\n",
      "dtypes: float64(2), object(2)\n",
      "memory usage: 463.7+ KB\n",
      "\n",
      "Null values:\n",
      "Date:0\n",
      "Time:584\n",
      "Latitude:0\n",
      "Longitude:0\n",
      "\n",
      "Unique values (by Columns)\n",
      "Date:10\n",
      "Time:8584\n",
      "Latitude:12887\n",
      "Longitude:13007\n",
      "\n",
      "541 duplicates in 14835 rows.\n"
     ]
    }
   ],
   "source": [
    "# Review spray data\n",
    "data_explore(df_spray)"
   ]
  },
  {
   "cell_type": "markdown",
   "metadata": {
    "colab_type": "text",
    "id": "WfA_WtQhqSTr"
   },
   "source": [
    "- 584 null values in `time` column. \n",
    "- 541 duplicates. \n",
    "- Further review to determine way to manage null value and duplicates."
   ]
  },
  {
   "cell_type": "code",
   "execution_count": 7,
   "metadata": {
    "colab": {},
    "colab_type": "code",
    "id": "rG5qd0a7RrhZ"
   },
   "outputs": [],
   "source": [
    "# Set column name to lowercase, shorten if possible.\n",
    "df_spray.columns = ['date', 'time', 'lat', 'long']\n",
    "# Convert date to datetime format\n",
    "df_spray['date'] = pd.to_datetime(df_spray['date'])"
   ]
  },
  {
   "cell_type": "code",
   "execution_count": 8,
   "metadata": {
    "colab": {
     "base_uri": "https://localhost:8080/",
     "height": 204
    },
    "colab_type": "code",
    "id": "ldmHs4I0v9uC",
    "outputId": "f3eef4c8-7775-456c-82e3-33407af8fa95"
   },
   "outputs": [
    {
     "data": {
      "text/html": [
       "<div>\n",
       "<style scoped>\n",
       "    .dataframe tbody tr th:only-of-type {\n",
       "        vertical-align: middle;\n",
       "    }\n",
       "\n",
       "    .dataframe tbody tr th {\n",
       "        vertical-align: top;\n",
       "    }\n",
       "\n",
       "    .dataframe thead th {\n",
       "        text-align: right;\n",
       "    }\n",
       "</style>\n",
       "<table border=\"1\" class=\"dataframe\">\n",
       "  <thead>\n",
       "    <tr style=\"text-align: right;\">\n",
       "      <th></th>\n",
       "      <th>date</th>\n",
       "      <th>time</th>\n",
       "      <th>lat</th>\n",
       "      <th>long</th>\n",
       "    </tr>\n",
       "  </thead>\n",
       "  <tbody>\n",
       "    <tr>\n",
       "      <td>1030</td>\n",
       "      <td>2011-09-07</td>\n",
       "      <td>NaN</td>\n",
       "      <td>41.987092</td>\n",
       "      <td>-87.794286</td>\n",
       "    </tr>\n",
       "    <tr>\n",
       "      <td>1031</td>\n",
       "      <td>2011-09-07</td>\n",
       "      <td>NaN</td>\n",
       "      <td>41.987620</td>\n",
       "      <td>-87.794382</td>\n",
       "    </tr>\n",
       "    <tr>\n",
       "      <td>1032</td>\n",
       "      <td>2011-09-07</td>\n",
       "      <td>NaN</td>\n",
       "      <td>41.988004</td>\n",
       "      <td>-87.794574</td>\n",
       "    </tr>\n",
       "    <tr>\n",
       "      <td>1033</td>\n",
       "      <td>2011-09-07</td>\n",
       "      <td>NaN</td>\n",
       "      <td>41.988292</td>\n",
       "      <td>-87.795486</td>\n",
       "    </tr>\n",
       "    <tr>\n",
       "      <td>1034</td>\n",
       "      <td>2011-09-07</td>\n",
       "      <td>NaN</td>\n",
       "      <td>41.988100</td>\n",
       "      <td>-87.796014</td>\n",
       "    </tr>\n",
       "  </tbody>\n",
       "</table>\n",
       "</div>"
      ],
      "text/plain": [
       "           date time        lat       long\n",
       "1030 2011-09-07  NaN  41.987092 -87.794286\n",
       "1031 2011-09-07  NaN  41.987620 -87.794382\n",
       "1032 2011-09-07  NaN  41.988004 -87.794574\n",
       "1033 2011-09-07  NaN  41.988292 -87.795486\n",
       "1034 2011-09-07  NaN  41.988100 -87.796014"
      ]
     },
     "execution_count": 8,
     "metadata": {},
     "output_type": "execute_result"
    }
   ],
   "source": [
    "# Review NaN value in spray data; first 5 rows\n",
    "df_spray.loc[df_spray['time'].isnull()].head()"
   ]
  },
  {
   "cell_type": "markdown",
   "metadata": {
    "colab_type": "text",
    "id": "ZJBazfskRrhf"
   },
   "source": [
    "The missing values seems to be in the Time, but we can review the entire dataframe using Missingno method."
   ]
  },
  {
   "cell_type": "code",
   "execution_count": 9,
   "metadata": {
    "colab": {
     "base_uri": "https://localhost:8080/",
     "height": 622
    },
    "colab_type": "code",
    "id": "mdHLeqksflIq",
    "outputId": "d1f34d99-2329-4cbd-9144-6befb3b60e3b"
   },
   "outputs": [
    {
     "data": {
      "image/png": "[encoded data removed]",
      "text/plain": [
       "<Figure size 1800x720 with 2 Axes>"
      ]
     },
     "metadata": {
      "needs_background": "light"
     },
     "output_type": "display_data"
    }
   ],
   "source": [
    "#Visualize missing values as a matrix using Missingno\n",
    "#shows the amount and positions of missing values within the dataframe\n",
    "#right hand side is line plot for each row's data completeness\n",
    "#all columns completed except Time coloumn (beginning part of the dataframe)\n",
    "msno.matrix(df_spray);"
   ]
  },
  {
   "cell_type": "markdown",
   "metadata": {
    "colab_type": "text",
    "id": "2f65QKAvyyp3"
   },
   "source": [
    "Missingno matrix facilitates locating visually, missing values within a dataframe. In this instance, `time` column has missing values in the upper part of the spray data. We could rely on `date`; seems adequate (for now) to inform on areas sprayed over time. We can always revisit to impute the NaN values for `time` later if the time values are selected as predictor."
   ]
  },
  {
   "cell_type": "code",
   "execution_count": 10,
   "metadata": {
    "colab": {
     "base_uri": "https://localhost:8080/",
     "height": 221
    },
    "colab_type": "code",
    "id": "3R0DFkdHqST4",
    "outputId": "22cbed04-c691-40c8-ec0d-20c9433c50cf"
   },
   "outputs": [
    {
     "name": "stdout",
     "output_type": "stream",
     "text": [
      "First 5 rows of duplicates:\n"
     ]
    },
    {
     "data": {
      "text/html": [
       "<div>\n",
       "<style scoped>\n",
       "    .dataframe tbody tr th:only-of-type {\n",
       "        vertical-align: middle;\n",
       "    }\n",
       "\n",
       "    .dataframe tbody tr th {\n",
       "        vertical-align: top;\n",
       "    }\n",
       "\n",
       "    .dataframe thead th {\n",
       "        text-align: right;\n",
       "    }\n",
       "</style>\n",
       "<table border=\"1\" class=\"dataframe\">\n",
       "  <thead>\n",
       "    <tr style=\"text-align: right;\">\n",
       "      <th></th>\n",
       "      <th>date</th>\n",
       "      <th>time</th>\n",
       "      <th>lat</th>\n",
       "      <th>long</th>\n",
       "    </tr>\n",
       "  </thead>\n",
       "  <tbody>\n",
       "    <tr>\n",
       "      <td>485</td>\n",
       "      <td>2011-09-07</td>\n",
       "      <td>7:43:40 PM</td>\n",
       "      <td>41.983917</td>\n",
       "      <td>-87.793088</td>\n",
       "    </tr>\n",
       "    <tr>\n",
       "      <td>490</td>\n",
       "      <td>2011-09-07</td>\n",
       "      <td>7:44:32 PM</td>\n",
       "      <td>41.986460</td>\n",
       "      <td>-87.794225</td>\n",
       "    </tr>\n",
       "    <tr>\n",
       "      <td>491</td>\n",
       "      <td>2011-09-07</td>\n",
       "      <td>7:44:32 PM</td>\n",
       "      <td>41.986460</td>\n",
       "      <td>-87.794225</td>\n",
       "    </tr>\n",
       "    <tr>\n",
       "      <td>492</td>\n",
       "      <td>2011-09-07</td>\n",
       "      <td>7:44:32 PM</td>\n",
       "      <td>41.986460</td>\n",
       "      <td>-87.794225</td>\n",
       "    </tr>\n",
       "    <tr>\n",
       "      <td>493</td>\n",
       "      <td>2011-09-07</td>\n",
       "      <td>7:44:32 PM</td>\n",
       "      <td>41.986460</td>\n",
       "      <td>-87.794225</td>\n",
       "    </tr>\n",
       "  </tbody>\n",
       "</table>\n",
       "</div>"
      ],
      "text/plain": [
       "          date        time        lat       long\n",
       "485 2011-09-07  7:43:40 PM  41.983917 -87.793088\n",
       "490 2011-09-07  7:44:32 PM  41.986460 -87.794225\n",
       "491 2011-09-07  7:44:32 PM  41.986460 -87.794225\n",
       "492 2011-09-07  7:44:32 PM  41.986460 -87.794225\n",
       "493 2011-09-07  7:44:32 PM  41.986460 -87.794225"
      ]
     },
     "metadata": {},
     "output_type": "display_data"
    }
   ],
   "source": [
    "# Review duplicate in dataframe\n",
    "review_dup(df_spray)"
   ]
  },
  {
   "cell_type": "code",
   "execution_count": 11,
   "metadata": {
    "colab": {
     "base_uri": "https://localhost:8080/",
     "height": 238
    },
    "colab_type": "code",
    "id": "SIBUhVwJepTh",
    "outputId": "4424417e-0362-48a8-a0c9-a4ff558b50b8"
   },
   "outputs": [
    {
     "name": "stdout",
     "output_type": "stream",
     "text": [
      "Initial rows: 14835\n",
      "Remaining rows: 14294\n"
     ]
    },
    {
     "data": {
      "text/html": [
       "<div>\n",
       "<style scoped>\n",
       "    .dataframe tbody tr th:only-of-type {\n",
       "        vertical-align: middle;\n",
       "    }\n",
       "\n",
       "    .dataframe tbody tr th {\n",
       "        vertical-align: top;\n",
       "    }\n",
       "\n",
       "    .dataframe thead th {\n",
       "        text-align: right;\n",
       "    }\n",
       "</style>\n",
       "<table border=\"1\" class=\"dataframe\">\n",
       "  <thead>\n",
       "    <tr style=\"text-align: right;\">\n",
       "      <th></th>\n",
       "      <th>date</th>\n",
       "      <th>time</th>\n",
       "      <th>lat</th>\n",
       "      <th>long</th>\n",
       "    </tr>\n",
       "  </thead>\n",
       "  <tbody>\n",
       "    <tr>\n",
       "      <td>0</td>\n",
       "      <td>2011-08-29</td>\n",
       "      <td>6:56:58 PM</td>\n",
       "      <td>42.391623</td>\n",
       "      <td>-88.089163</td>\n",
       "    </tr>\n",
       "    <tr>\n",
       "      <td>1</td>\n",
       "      <td>2011-08-29</td>\n",
       "      <td>6:57:08 PM</td>\n",
       "      <td>42.391348</td>\n",
       "      <td>-88.089163</td>\n",
       "    </tr>\n",
       "    <tr>\n",
       "      <td>2</td>\n",
       "      <td>2011-08-29</td>\n",
       "      <td>6:57:18 PM</td>\n",
       "      <td>42.391022</td>\n",
       "      <td>-88.089157</td>\n",
       "    </tr>\n",
       "    <tr>\n",
       "      <td>3</td>\n",
       "      <td>2011-08-29</td>\n",
       "      <td>6:57:28 PM</td>\n",
       "      <td>42.390637</td>\n",
       "      <td>-88.089158</td>\n",
       "    </tr>\n",
       "    <tr>\n",
       "      <td>4</td>\n",
       "      <td>2011-08-29</td>\n",
       "      <td>6:57:38 PM</td>\n",
       "      <td>42.390410</td>\n",
       "      <td>-88.088858</td>\n",
       "    </tr>\n",
       "  </tbody>\n",
       "</table>\n",
       "</div>"
      ],
      "text/plain": [
       "        date        time        lat       long\n",
       "0 2011-08-29  6:56:58 PM  42.391623 -88.089163\n",
       "1 2011-08-29  6:57:08 PM  42.391348 -88.089163\n",
       "2 2011-08-29  6:57:18 PM  42.391022 -88.089157\n",
       "3 2011-08-29  6:57:28 PM  42.390637 -88.089158\n",
       "4 2011-08-29  6:57:38 PM  42.390410 -88.088858"
      ]
     },
     "execution_count": 11,
     "metadata": {},
     "output_type": "execute_result"
    }
   ],
   "source": [
    "# Drop duplicates, reset index\n",
    "drop_dup(df_spray)\n",
    "df_spray.reset_index(inplace=True,drop=True)\n",
    "df_spray.head()"
   ]
  },
  {
   "cell_type": "code",
   "execution_count": 12,
   "metadata": {
    "colab": {
     "base_uri": "https://localhost:8080/",
     "height": 577
    },
    "colab_type": "code",
    "id": "AwqE31Zp7B2h",
    "outputId": "2540f5c3-d0f3-4f63-8672-de62bfeeef22"
   },
   "outputs": [
    {
     "data": {
      "text/html": [
       "<div>\n",
       "<style scoped>\n",
       "    .dataframe tbody tr th:only-of-type {\n",
       "        vertical-align: middle;\n",
       "    }\n",
       "\n",
       "    .dataframe tbody tr th {\n",
       "        vertical-align: top;\n",
       "    }\n",
       "\n",
       "    .dataframe thead th {\n",
       "        text-align: right;\n",
       "    }\n",
       "</style>\n",
       "<table border=\"1\" class=\"dataframe\">\n",
       "  <thead>\n",
       "    <tr style=\"text-align: right;\">\n",
       "      <th></th>\n",
       "      <th>Id</th>\n",
       "      <th>Block</th>\n",
       "      <th>Latitude</th>\n",
       "      <th>Longitude</th>\n",
       "      <th>AddressAccuracy</th>\n",
       "    </tr>\n",
       "  </thead>\n",
       "  <tbody>\n",
       "    <tr>\n",
       "      <td>count</td>\n",
       "      <td>116293.000000</td>\n",
       "      <td>116293.000000</td>\n",
       "      <td>116293.000000</td>\n",
       "      <td>116293.000000</td>\n",
       "      <td>116293.000000</td>\n",
       "    </tr>\n",
       "    <tr>\n",
       "      <td>mean</td>\n",
       "      <td>58147.000000</td>\n",
       "      <td>41.131100</td>\n",
       "      <td>41.849389</td>\n",
       "      <td>-87.693658</td>\n",
       "      <td>7.954357</td>\n",
       "    </tr>\n",
       "    <tr>\n",
       "      <td>std</td>\n",
       "      <td>33571.041765</td>\n",
       "      <td>24.864726</td>\n",
       "      <td>0.106593</td>\n",
       "      <td>0.080699</td>\n",
       "      <td>1.252733</td>\n",
       "    </tr>\n",
       "    <tr>\n",
       "      <td>min</td>\n",
       "      <td>1.000000</td>\n",
       "      <td>10.000000</td>\n",
       "      <td>41.644612</td>\n",
       "      <td>-87.930995</td>\n",
       "      <td>3.000000</td>\n",
       "    </tr>\n",
       "    <tr>\n",
       "      <td>25%</td>\n",
       "      <td>29074.000000</td>\n",
       "      <td>18.000000</td>\n",
       "      <td>41.753411</td>\n",
       "      <td>-87.750938</td>\n",
       "      <td>8.000000</td>\n",
       "    </tr>\n",
       "    <tr>\n",
       "      <td>50%</td>\n",
       "      <td>58147.000000</td>\n",
       "      <td>39.000000</td>\n",
       "      <td>41.862292</td>\n",
       "      <td>-87.694991</td>\n",
       "      <td>8.000000</td>\n",
       "    </tr>\n",
       "    <tr>\n",
       "      <td>75%</td>\n",
       "      <td>87220.000000</td>\n",
       "      <td>61.000000</td>\n",
       "      <td>41.951866</td>\n",
       "      <td>-87.648860</td>\n",
       "      <td>9.000000</td>\n",
       "    </tr>\n",
       "    <tr>\n",
       "      <td>max</td>\n",
       "      <td>116293.000000</td>\n",
       "      <td>98.000000</td>\n",
       "      <td>42.017430</td>\n",
       "      <td>-87.531635</td>\n",
       "      <td>9.000000</td>\n",
       "    </tr>\n",
       "  </tbody>\n",
       "</table>\n",
       "</div>"
      ],
      "text/plain": [
       "                  Id          Block       Latitude      Longitude  \\\n",
       "count  116293.000000  116293.000000  116293.000000  116293.000000   \n",
       "mean    58147.000000      41.131100      41.849389     -87.693658   \n",
       "std     33571.041765      24.864726       0.106593       0.080699   \n",
       "min         1.000000      10.000000      41.644612     -87.930995   \n",
       "25%     29074.000000      18.000000      41.753411     -87.750938   \n",
       "50%     58147.000000      39.000000      41.862292     -87.694991   \n",
       "75%     87220.000000      61.000000      41.951866     -87.648860   \n",
       "max    116293.000000      98.000000      42.017430     -87.531635   \n",
       "\n",
       "       AddressAccuracy  \n",
       "count    116293.000000  \n",
       "mean          7.954357  \n",
       "std           1.252733  \n",
       "min           3.000000  \n",
       "25%           8.000000  \n",
       "50%           8.000000  \n",
       "75%           9.000000  \n",
       "max           9.000000  "
      ]
     },
     "metadata": {},
     "output_type": "display_data"
    },
    {
     "data": {
      "text/html": [
       "<div>\n",
       "<style scoped>\n",
       "    .dataframe tbody tr th:only-of-type {\n",
       "        vertical-align: middle;\n",
       "    }\n",
       "\n",
       "    .dataframe tbody tr th {\n",
       "        vertical-align: top;\n",
       "    }\n",
       "\n",
       "    .dataframe thead th {\n",
       "        text-align: right;\n",
       "    }\n",
       "</style>\n",
       "<table border=\"1\" class=\"dataframe\">\n",
       "  <thead>\n",
       "    <tr style=\"text-align: right;\">\n",
       "      <th></th>\n",
       "      <th>Block</th>\n",
       "      <th>Latitude</th>\n",
       "      <th>Longitude</th>\n",
       "      <th>AddressAccuracy</th>\n",
       "      <th>NumMosquitos</th>\n",
       "      <th>WnvPresent</th>\n",
       "    </tr>\n",
       "  </thead>\n",
       "  <tbody>\n",
       "    <tr>\n",
       "      <td>count</td>\n",
       "      <td>10506.000000</td>\n",
       "      <td>10506.000000</td>\n",
       "      <td>10506.000000</td>\n",
       "      <td>10506.000000</td>\n",
       "      <td>10506.000000</td>\n",
       "      <td>10506.000000</td>\n",
       "    </tr>\n",
       "    <tr>\n",
       "      <td>mean</td>\n",
       "      <td>35.687797</td>\n",
       "      <td>41.841139</td>\n",
       "      <td>-87.699908</td>\n",
       "      <td>7.819532</td>\n",
       "      <td>12.853512</td>\n",
       "      <td>0.052446</td>\n",
       "    </tr>\n",
       "    <tr>\n",
       "      <td>std</td>\n",
       "      <td>24.339468</td>\n",
       "      <td>0.112742</td>\n",
       "      <td>0.096514</td>\n",
       "      <td>1.452921</td>\n",
       "      <td>16.133816</td>\n",
       "      <td>0.222936</td>\n",
       "    </tr>\n",
       "    <tr>\n",
       "      <td>min</td>\n",
       "      <td>10.000000</td>\n",
       "      <td>41.644612</td>\n",
       "      <td>-87.930995</td>\n",
       "      <td>3.000000</td>\n",
       "      <td>1.000000</td>\n",
       "      <td>0.000000</td>\n",
       "    </tr>\n",
       "    <tr>\n",
       "      <td>25%</td>\n",
       "      <td>12.000000</td>\n",
       "      <td>41.732984</td>\n",
       "      <td>-87.760070</td>\n",
       "      <td>8.000000</td>\n",
       "      <td>2.000000</td>\n",
       "      <td>0.000000</td>\n",
       "    </tr>\n",
       "    <tr>\n",
       "      <td>50%</td>\n",
       "      <td>33.000000</td>\n",
       "      <td>41.846283</td>\n",
       "      <td>-87.694991</td>\n",
       "      <td>8.000000</td>\n",
       "      <td>5.000000</td>\n",
       "      <td>0.000000</td>\n",
       "    </tr>\n",
       "    <tr>\n",
       "      <td>75%</td>\n",
       "      <td>52.000000</td>\n",
       "      <td>41.954690</td>\n",
       "      <td>-87.627796</td>\n",
       "      <td>9.000000</td>\n",
       "      <td>17.000000</td>\n",
       "      <td>0.000000</td>\n",
       "    </tr>\n",
       "    <tr>\n",
       "      <td>max</td>\n",
       "      <td>98.000000</td>\n",
       "      <td>42.017430</td>\n",
       "      <td>-87.531635</td>\n",
       "      <td>9.000000</td>\n",
       "      <td>50.000000</td>\n",
       "      <td>1.000000</td>\n",
       "    </tr>\n",
       "  </tbody>\n",
       "</table>\n",
       "</div>"
      ],
      "text/plain": [
       "              Block      Latitude     Longitude  AddressAccuracy  \\\n",
       "count  10506.000000  10506.000000  10506.000000     10506.000000   \n",
       "mean      35.687797     41.841139    -87.699908         7.819532   \n",
       "std       24.339468      0.112742      0.096514         1.452921   \n",
       "min       10.000000     41.644612    -87.930995         3.000000   \n",
       "25%       12.000000     41.732984    -87.760070         8.000000   \n",
       "50%       33.000000     41.846283    -87.694991         8.000000   \n",
       "75%       52.000000     41.954690    -87.627796         9.000000   \n",
       "max       98.000000     42.017430    -87.531635         9.000000   \n",
       "\n",
       "       NumMosquitos    WnvPresent  \n",
       "count  10506.000000  10506.000000  \n",
       "mean      12.853512      0.052446  \n",
       "std       16.133816      0.222936  \n",
       "min        1.000000      0.000000  \n",
       "25%        2.000000      0.000000  \n",
       "50%        5.000000      0.000000  \n",
       "75%       17.000000      0.000000  \n",
       "max       50.000000      1.000000  "
      ]
     },
     "metadata": {},
     "output_type": "display_data"
    }
   ],
   "source": [
    "# Checking the range of lat and lon between spray, train and test data\n",
    "display(df_test.describe())\n",
    "display(df_train.describe())"
   ]
  },
  {
   "cell_type": "code",
   "execution_count": 13,
   "metadata": {
    "colab": {
     "base_uri": "https://localhost:8080/",
     "height": 297
    },
    "colab_type": "code",
    "id": "gNZYicQ972Py",
    "outputId": "5d3061e5-5a57-441d-a736-1f6551ae730d"
   },
   "outputs": [
    {
     "data": {
      "text/html": [
       "<div>\n",
       "<style scoped>\n",
       "    .dataframe tbody tr th:only-of-type {\n",
       "        vertical-align: middle;\n",
       "    }\n",
       "\n",
       "    .dataframe tbody tr th {\n",
       "        vertical-align: top;\n",
       "    }\n",
       "\n",
       "    .dataframe thead th {\n",
       "        text-align: right;\n",
       "    }\n",
       "</style>\n",
       "<table border=\"1\" class=\"dataframe\">\n",
       "  <thead>\n",
       "    <tr style=\"text-align: right;\">\n",
       "      <th></th>\n",
       "      <th>lat</th>\n",
       "      <th>long</th>\n",
       "    </tr>\n",
       "  </thead>\n",
       "  <tbody>\n",
       "    <tr>\n",
       "      <td>count</td>\n",
       "      <td>14294.000000</td>\n",
       "      <td>14294.000000</td>\n",
       "    </tr>\n",
       "    <tr>\n",
       "      <td>mean</td>\n",
       "      <td>41.901739</td>\n",
       "      <td>-87.734512</td>\n",
       "    </tr>\n",
       "    <tr>\n",
       "      <td>std</td>\n",
       "      <td>0.105100</td>\n",
       "      <td>0.067599</td>\n",
       "    </tr>\n",
       "    <tr>\n",
       "      <td>min</td>\n",
       "      <td>41.713925</td>\n",
       "      <td>-88.096468</td>\n",
       "    </tr>\n",
       "    <tr>\n",
       "      <td>25%</td>\n",
       "      <td>41.782669</td>\n",
       "      <td>-87.789607</td>\n",
       "    </tr>\n",
       "    <tr>\n",
       "      <td>50%</td>\n",
       "      <td>41.937578</td>\n",
       "      <td>-87.724781</td>\n",
       "    </tr>\n",
       "    <tr>\n",
       "      <td>75%</td>\n",
       "      <td>41.977217</td>\n",
       "      <td>-87.692107</td>\n",
       "    </tr>\n",
       "    <tr>\n",
       "      <td>max</td>\n",
       "      <td>42.395983</td>\n",
       "      <td>-87.586727</td>\n",
       "    </tr>\n",
       "  </tbody>\n",
       "</table>\n",
       "</div>"
      ],
      "text/plain": [
       "                lat          long\n",
       "count  14294.000000  14294.000000\n",
       "mean      41.901739    -87.734512\n",
       "std        0.105100      0.067599\n",
       "min       41.713925    -88.096468\n",
       "25%       41.782669    -87.789607\n",
       "50%       41.937578    -87.724781\n",
       "75%       41.977217    -87.692107\n",
       "max       42.395983    -87.586727"
      ]
     },
     "execution_count": 13,
     "metadata": {},
     "output_type": "execute_result"
    }
   ],
   "source": [
    "# Dropping row in spray data where lat-long values beyond train and test lat-lon.\n",
    "# Remove those where long > -88.0; latitude > 42.1\n",
    "df_spray.describe()"
   ]
  },
  {
   "cell_type": "code",
   "execution_count": 14,
   "metadata": {
    "colab": {},
    "colab_type": "code",
    "id": "7lekoUEgILK2"
   },
   "outputs": [],
   "source": [
    "# long within test and train long range\n",
    "# Remove rows with lat > 42.1, assign to df_s\n",
    "df_s = df_spray[df_spray['lat'] <= 42.1]"
   ]
  },
  {
   "cell_type": "code",
   "execution_count": 15,
   "metadata": {
    "colab": {
     "base_uri": "https://localhost:8080/",
     "height": 297
    },
    "colab_type": "code",
    "id": "Teg0jLOxI64Z",
    "outputId": "f90a3972-5fb8-4d0a-935b-e7c839a8881b"
   },
   "outputs": [
    {
     "data": {
      "text/html": [
       "<div>\n",
       "<style scoped>\n",
       "    .dataframe tbody tr th:only-of-type {\n",
       "        vertical-align: middle;\n",
       "    }\n",
       "\n",
       "    .dataframe tbody tr th {\n",
       "        vertical-align: top;\n",
       "    }\n",
       "\n",
       "    .dataframe thead th {\n",
       "        text-align: right;\n",
       "    }\n",
       "</style>\n",
       "<table border=\"1\" class=\"dataframe\">\n",
       "  <thead>\n",
       "    <tr style=\"text-align: right;\">\n",
       "      <th></th>\n",
       "      <th>lat</th>\n",
       "      <th>long</th>\n",
       "    </tr>\n",
       "  </thead>\n",
       "  <tbody>\n",
       "    <tr>\n",
       "      <td>count</td>\n",
       "      <td>14199.000000</td>\n",
       "      <td>14199.000000</td>\n",
       "    </tr>\n",
       "    <tr>\n",
       "      <td>mean</td>\n",
       "      <td>41.898456</td>\n",
       "      <td>-87.732111</td>\n",
       "    </tr>\n",
       "    <tr>\n",
       "      <td>std</td>\n",
       "      <td>0.097461</td>\n",
       "      <td>0.061096</td>\n",
       "    </tr>\n",
       "    <tr>\n",
       "      <td>min</td>\n",
       "      <td>41.713925</td>\n",
       "      <td>-87.871023</td>\n",
       "    </tr>\n",
       "    <tr>\n",
       "      <td>25%</td>\n",
       "      <td>41.782290</td>\n",
       "      <td>-87.788612</td>\n",
       "    </tr>\n",
       "    <tr>\n",
       "      <td>50%</td>\n",
       "      <td>41.937205</td>\n",
       "      <td>-87.724390</td>\n",
       "    </tr>\n",
       "    <tr>\n",
       "      <td>75%</td>\n",
       "      <td>41.976710</td>\n",
       "      <td>-87.691572</td>\n",
       "    </tr>\n",
       "    <tr>\n",
       "      <td>max</td>\n",
       "      <td>42.018907</td>\n",
       "      <td>-87.586727</td>\n",
       "    </tr>\n",
       "  </tbody>\n",
       "</table>\n",
       "</div>"
      ],
      "text/plain": [
       "                lat          long\n",
       "count  14199.000000  14199.000000\n",
       "mean      41.898456    -87.732111\n",
       "std        0.097461      0.061096\n",
       "min       41.713925    -87.871023\n",
       "25%       41.782290    -87.788612\n",
       "50%       41.937205    -87.724390\n",
       "75%       41.976710    -87.691572\n",
       "max       42.018907    -87.586727"
      ]
     },
     "execution_count": 15,
     "metadata": {},
     "output_type": "execute_result"
    }
   ],
   "source": [
    "# Check lat max is within range\n",
    "df_s.describe()"
   ]
  },
  {
   "cell_type": "code",
   "execution_count": 16,
   "metadata": {
    "colab": {
     "base_uri": "https://localhost:8080/",
     "height": 204
    },
    "colab_type": "code",
    "id": "Eyn8ioSVRrh2",
    "outputId": "e6298095-9b50-4d20-99b7-a7c3e18bb867"
   },
   "outputs": [
    {
     "name": "stdout",
     "output_type": "stream",
     "text": [
      "<class 'pandas.core.frame.DataFrame'>\n",
      "Int64Index: 14199 entries, 95 to 14293\n",
      "Data columns (total 4 columns):\n",
      "date    14199 non-null datetime64[ns]\n",
      "time    13615 non-null object\n",
      "lat     14199 non-null float64\n",
      "long    14199 non-null float64\n",
      "dtypes: datetime64[ns](1), float64(2), object(1)\n",
      "memory usage: 554.6+ KB\n"
     ]
    }
   ],
   "source": [
    "# Checking off datatypes of cleaned spray data\n",
    "df_s.info()"
   ]
  },
  {
   "cell_type": "markdown",
   "metadata": {
    "colab_type": "text",
    "id": "srXIpIwR4Hsr"
   },
   "source": [
    "### Test data"
   ]
  },
  {
   "cell_type": "code",
   "execution_count": 17,
   "metadata": {
    "colab": {
     "base_uri": "https://localhost:8080/",
     "height": 808
    },
    "colab_type": "code",
    "id": "5s_h9lQkqSTs",
    "outputId": "9b2a67f7-975c-4ca5-9635-c1a7d18abdbf"
   },
   "outputs": [
    {
     "name": "stdout",
     "output_type": "stream",
     "text": [
      "First two rows of data:\n"
     ]
    },
    {
     "data": {
      "text/html": [
       "<div>\n",
       "<style scoped>\n",
       "    .dataframe tbody tr th:only-of-type {\n",
       "        vertical-align: middle;\n",
       "    }\n",
       "\n",
       "    .dataframe tbody tr th {\n",
       "        vertical-align: top;\n",
       "    }\n",
       "\n",
       "    .dataframe thead th {\n",
       "        text-align: right;\n",
       "    }\n",
       "</style>\n",
       "<table border=\"1\" class=\"dataframe\">\n",
       "  <thead>\n",
       "    <tr style=\"text-align: right;\">\n",
       "      <th></th>\n",
       "      <th>Id</th>\n",
       "      <th>Date</th>\n",
       "      <th>Address</th>\n",
       "      <th>Species</th>\n",
       "      <th>Block</th>\n",
       "      <th>Street</th>\n",
       "      <th>Trap</th>\n",
       "      <th>AddressNumberAndStreet</th>\n",
       "      <th>Latitude</th>\n",
       "      <th>Longitude</th>\n",
       "      <th>AddressAccuracy</th>\n",
       "    </tr>\n",
       "  </thead>\n",
       "  <tbody>\n",
       "    <tr>\n",
       "      <td>0</td>\n",
       "      <td>1</td>\n",
       "      <td>2008-06-11</td>\n",
       "      <td>4100 North Oak Park Avenue, Chicago, IL 60634,...</td>\n",
       "      <td>CULEX PIPIENS/RESTUANS</td>\n",
       "      <td>41</td>\n",
       "      <td>N OAK PARK AVE</td>\n",
       "      <td>T002</td>\n",
       "      <td>4100  N OAK PARK AVE, Chicago, IL</td>\n",
       "      <td>41.95469</td>\n",
       "      <td>-87.800991</td>\n",
       "      <td>9</td>\n",
       "    </tr>\n",
       "    <tr>\n",
       "      <td>1</td>\n",
       "      <td>2</td>\n",
       "      <td>2008-06-11</td>\n",
       "      <td>4100 North Oak Park Avenue, Chicago, IL 60634,...</td>\n",
       "      <td>CULEX RESTUANS</td>\n",
       "      <td>41</td>\n",
       "      <td>N OAK PARK AVE</td>\n",
       "      <td>T002</td>\n",
       "      <td>4100  N OAK PARK AVE, Chicago, IL</td>\n",
       "      <td>41.95469</td>\n",
       "      <td>-87.800991</td>\n",
       "      <td>9</td>\n",
       "    </tr>\n",
       "  </tbody>\n",
       "</table>\n",
       "</div>"
      ],
      "text/plain": [
       "   Id        Date                                            Address  \\\n",
       "0   1  2008-06-11  4100 North Oak Park Avenue, Chicago, IL 60634,...   \n",
       "1   2  2008-06-11  4100 North Oak Park Avenue, Chicago, IL 60634,...   \n",
       "\n",
       "                  Species  Block           Street  Trap  \\\n",
       "0  CULEX PIPIENS/RESTUANS     41   N OAK PARK AVE  T002   \n",
       "1          CULEX RESTUANS     41   N OAK PARK AVE  T002   \n",
       "\n",
       "              AddressNumberAndStreet  Latitude  Longitude  AddressAccuracy  \n",
       "0  4100  N OAK PARK AVE, Chicago, IL  41.95469 -87.800991                9  \n",
       "1  4100  N OAK PARK AVE, Chicago, IL  41.95469 -87.800991                9  "
      ]
     },
     "metadata": {},
     "output_type": "display_data"
    },
    {
     "name": "stdout",
     "output_type": "stream",
     "text": [
      "\n",
      "Shape: (116293, 11)\n",
      "\n",
      "Columns & Datatypes: \n",
      "<class 'pandas.core.frame.DataFrame'>\n",
      "RangeIndex: 116293 entries, 0 to 116292\n",
      "Data columns (total 11 columns):\n",
      "Id                        116293 non-null int64\n",
      "Date                      116293 non-null object\n",
      "Address                   116293 non-null object\n",
      "Species                   116293 non-null object\n",
      "Block                     116293 non-null int64\n",
      "Street                    116293 non-null object\n",
      "Trap                      116293 non-null object\n",
      "AddressNumberAndStreet    116293 non-null object\n",
      "Latitude                  116293 non-null float64\n",
      "Longitude                 116293 non-null float64\n",
      "AddressAccuracy           116293 non-null int64\n",
      "dtypes: float64(2), int64(3), object(6)\n",
      "memory usage: 9.8+ MB\n",
      "\n",
      "Null values:\n",
      "None in Dataframe.\n",
      "\n",
      "Unique values (by Columns)\n",
      "Id:116293\n",
      "Date:95\n",
      "Address:151\n",
      "Species:8\n",
      "Block:65\n",
      "Street:139\n",
      "Trap:149\n",
      "AddressNumberAndStreet:151\n",
      "Latitude:151\n",
      "Longitude:151\n",
      "AddressAccuracy:4\n",
      "\n",
      "No duplicates present.\n"
     ]
    }
   ],
   "source": [
    "# Review test data\n",
    "data_explore(df_test)"
   ]
  },
  {
   "cell_type": "markdown",
   "metadata": {
    "colab_type": "text",
    "id": "x1YtpvrsiCTR"
   },
   "source": [
    "The `Latitiude` and `Longitude` information should be sufficient as proxies for Address information. `Address`, `Block`, `Street`, `AddressNumberAndStreet`,`AddressAccuracy` not need to use."
   ]
  },
  {
   "cell_type": "code",
   "execution_count": 18,
   "metadata": {
    "colab": {},
    "colab_type": "code",
    "id": "wWNDEm6cRrh-"
   },
   "outputs": [],
   "source": [
    "# Address columns are redunant, drop them\n",
    "df_test.drop(['Address', 'Block', 'Street', 'AddressNumberAndStreet','AddressAccuracy'], axis=1,inplace=True)\n",
    "#Set column name to lowercase, shorten if possible.\n",
    "df_test.columns = ['id','date','spc','trap','lat','long']\n",
    "# Convert date to datetime format\n",
    "df_test['date'] = pd.to_datetime(df_test['date'])"
   ]
  },
  {
   "cell_type": "code",
   "execution_count": 19,
   "metadata": {
    "colab": {
     "base_uri": "https://localhost:8080/",
     "height": 238
    },
    "colab_type": "code",
    "id": "wKYu4xhZRriA",
    "outputId": "f391397d-739a-4991-9a0c-c0f054fe6dbe"
   },
   "outputs": [
    {
     "name": "stdout",
     "output_type": "stream",
     "text": [
      "<class 'pandas.core.frame.DataFrame'>\n",
      "RangeIndex: 116293 entries, 0 to 116292\n",
      "Data columns (total 6 columns):\n",
      "id      116293 non-null int64\n",
      "date    116293 non-null datetime64[ns]\n",
      "spc     116293 non-null object\n",
      "trap    116293 non-null object\n",
      "lat     116293 non-null float64\n",
      "long    116293 non-null float64\n",
      "dtypes: datetime64[ns](1), float64(2), int64(1), object(2)\n",
      "memory usage: 5.3+ MB\n"
     ]
    }
   ],
   "source": [
    "# Checking off datatype of cleaned test set\n",
    "df_test.info()"
   ]
  },
  {
   "cell_type": "markdown",
   "metadata": {
    "colab_type": "text",
    "id": "ZKU7ASXz4Yeu"
   },
   "source": [
    "### Train data"
   ]
  },
  {
   "cell_type": "code",
   "execution_count": 20,
   "metadata": {
    "colab": {
     "base_uri": "https://localhost:8080/",
     "height": 842
    },
    "colab_type": "code",
    "id": "C3WyLiU6qSTw",
    "outputId": "f8024de4-d543-47a3-d6fb-fd209bcd85a5"
   },
   "outputs": [
    {
     "name": "stdout",
     "output_type": "stream",
     "text": [
      "First two rows of data:\n"
     ]
    },
    {
     "data": {
      "text/html": [
       "<div>\n",
       "<style scoped>\n",
       "    .dataframe tbody tr th:only-of-type {\n",
       "        vertical-align: middle;\n",
       "    }\n",
       "\n",
       "    .dataframe tbody tr th {\n",
       "        vertical-align: top;\n",
       "    }\n",
       "\n",
       "    .dataframe thead th {\n",
       "        text-align: right;\n",
       "    }\n",
       "</style>\n",
       "<table border=\"1\" class=\"dataframe\">\n",
       "  <thead>\n",
       "    <tr style=\"text-align: right;\">\n",
       "      <th></th>\n",
       "      <th>Date</th>\n",
       "      <th>Address</th>\n",
       "      <th>Species</th>\n",
       "      <th>Block</th>\n",
       "      <th>Street</th>\n",
       "      <th>Trap</th>\n",
       "      <th>AddressNumberAndStreet</th>\n",
       "      <th>Latitude</th>\n",
       "      <th>Longitude</th>\n",
       "      <th>AddressAccuracy</th>\n",
       "      <th>NumMosquitos</th>\n",
       "      <th>WnvPresent</th>\n",
       "    </tr>\n",
       "  </thead>\n",
       "  <tbody>\n",
       "    <tr>\n",
       "      <td>0</td>\n",
       "      <td>2007-05-29</td>\n",
       "      <td>4100 North Oak Park Avenue, Chicago, IL 60634,...</td>\n",
       "      <td>CULEX PIPIENS/RESTUANS</td>\n",
       "      <td>41</td>\n",
       "      <td>N OAK PARK AVE</td>\n",
       "      <td>T002</td>\n",
       "      <td>4100  N OAK PARK AVE, Chicago, IL</td>\n",
       "      <td>41.95469</td>\n",
       "      <td>-87.800991</td>\n",
       "      <td>9</td>\n",
       "      <td>1</td>\n",
       "      <td>0</td>\n",
       "    </tr>\n",
       "    <tr>\n",
       "      <td>1</td>\n",
       "      <td>2007-05-29</td>\n",
       "      <td>4100 North Oak Park Avenue, Chicago, IL 60634,...</td>\n",
       "      <td>CULEX RESTUANS</td>\n",
       "      <td>41</td>\n",
       "      <td>N OAK PARK AVE</td>\n",
       "      <td>T002</td>\n",
       "      <td>4100  N OAK PARK AVE, Chicago, IL</td>\n",
       "      <td>41.95469</td>\n",
       "      <td>-87.800991</td>\n",
       "      <td>9</td>\n",
       "      <td>1</td>\n",
       "      <td>0</td>\n",
       "    </tr>\n",
       "  </tbody>\n",
       "</table>\n",
       "</div>"
      ],
      "text/plain": [
       "         Date                                            Address  \\\n",
       "0  2007-05-29  4100 North Oak Park Avenue, Chicago, IL 60634,...   \n",
       "1  2007-05-29  4100 North Oak Park Avenue, Chicago, IL 60634,...   \n",
       "\n",
       "                  Species  Block           Street  Trap  \\\n",
       "0  CULEX PIPIENS/RESTUANS     41   N OAK PARK AVE  T002   \n",
       "1          CULEX RESTUANS     41   N OAK PARK AVE  T002   \n",
       "\n",
       "              AddressNumberAndStreet  Latitude  Longitude  AddressAccuracy  \\\n",
       "0  4100  N OAK PARK AVE, Chicago, IL  41.95469 -87.800991                9   \n",
       "1  4100  N OAK PARK AVE, Chicago, IL  41.95469 -87.800991                9   \n",
       "\n",
       "   NumMosquitos  WnvPresent  \n",
       "0             1           0  \n",
       "1             1           0  "
      ]
     },
     "metadata": {},
     "output_type": "display_data"
    },
    {
     "name": "stdout",
     "output_type": "stream",
     "text": [
      "\n",
      "Shape: (10506, 12)\n",
      "\n",
      "Columns & Datatypes: \n",
      "<class 'pandas.core.frame.DataFrame'>\n",
      "RangeIndex: 10506 entries, 0 to 10505\n",
      "Data columns (total 12 columns):\n",
      "Date                      10506 non-null object\n",
      "Address                   10506 non-null object\n",
      "Species                   10506 non-null object\n",
      "Block                     10506 non-null int64\n",
      "Street                    10506 non-null object\n",
      "Trap                      10506 non-null object\n",
      "AddressNumberAndStreet    10506 non-null object\n",
      "Latitude                  10506 non-null float64\n",
      "Longitude                 10506 non-null float64\n",
      "AddressAccuracy           10506 non-null int64\n",
      "NumMosquitos              10506 non-null int64\n",
      "WnvPresent                10506 non-null int64\n",
      "dtypes: float64(2), int64(4), object(6)\n",
      "memory usage: 985.1+ KB\n",
      "\n",
      "Null values:\n",
      "None in Dataframe.\n",
      "\n",
      "Unique values (by Columns)\n",
      "Date:95\n",
      "Address:138\n",
      "Species:7\n",
      "Block:64\n",
      "Street:128\n",
      "Trap:136\n",
      "AddressNumberAndStreet:138\n",
      "Latitude:138\n",
      "Longitude:138\n",
      "AddressAccuracy:4\n",
      "NumMosquitos:50\n",
      "WnvPresent:2\n",
      "\n",
      "813 duplicates in 10506 rows.\n"
     ]
    }
   ],
   "source": [
    "# Review train data\n",
    "data_explore(df_train)"
   ]
  },
  {
   "cell_type": "markdown",
   "metadata": {
    "colab_type": "text",
    "id": "bvlF_ZBAcFgE"
   },
   "source": [
    "On test and train datasets, there is more test data than train data. The train data contains columns `NumMosquitos` and `WnvPresent`, which are notably absent in test data. There are no missing values and 813 duplicates in train set.\n",
    "\n",
    "Management of duplicates for train data needs a different take, because of the newline-entry once mosquito count for particular species exceeds 50 for any traps (info from Kaggle). Dropping duplicates may work, but doesn't fully address instances whether mosquitos number more than 100 (2nd line entry would be dropped). So another approach could be to sum mosquitos across rows where the date, trap, and species are the same. \n",
    "\n",
    "We start by applying similar drop address and column renaming treatment first, then address the mosquito count across the rows."
   ]
  },
  {
   "cell_type": "code",
   "execution_count": 21,
   "metadata": {
    "colab": {},
    "colab_type": "code",
    "id": "HPQdlkRiRriH"
   },
   "outputs": [],
   "source": [
    "# Address columns are redunant, drop them\n",
    "df_train.drop(['Address', 'Block', 'Street', 'AddressNumberAndStreet','AddressAccuracy'], axis=1,inplace=True)\n",
    "#Set column name to lowercase, shorten if possible.\n",
    "df_train.columns = ['date','spc','trap','lat','long','num_mos','wnv']\n",
    "# Convert date to datetime format\n",
    "df_train['date'] = pd.to_datetime(df_train['date'])"
   ]
  },
  {
   "cell_type": "code",
   "execution_count": 22,
   "metadata": {
    "colab": {
     "base_uri": "https://localhost:8080/",
     "height": 255
    },
    "colab_type": "code",
    "id": "shr8CWsL9AzI",
    "outputId": "ef96c499-56f7-4103-ed74-9ce12b5fc873"
   },
   "outputs": [
    {
     "name": "stdout",
     "output_type": "stream",
     "text": [
      "<class 'pandas.core.frame.DataFrame'>\n",
      "RangeIndex: 10506 entries, 0 to 10505\n",
      "Data columns (total 7 columns):\n",
      "date       10506 non-null datetime64[ns]\n",
      "spc        10506 non-null object\n",
      "trap       10506 non-null object\n",
      "lat        10506 non-null float64\n",
      "long       10506 non-null float64\n",
      "num_mos    10506 non-null int64\n",
      "wnv        10506 non-null int64\n",
      "dtypes: datetime64[ns](1), float64(2), int64(2), object(2)\n",
      "memory usage: 574.7+ KB\n"
     ]
    }
   ],
   "source": [
    "# Review datatypes \n",
    "df_train.info()"
   ]
  },
  {
   "cell_type": "code",
   "execution_count": 23,
   "metadata": {
    "colab": {},
    "colab_type": "code",
    "id": "IK72DbCYRriM"
   },
   "outputs": [],
   "source": [
    "# groupby date, trap, species, lat, lon; sum the mosquito count \n",
    "\"\"\"First create a copy of df_train.\"\"\"\n",
    "df_traincopy = df_train.copy()\n",
    "\n",
    "df_tc = df_traincopy.groupby(['date','trap','spc','lat','long','wnv'])[[\"num_mos\"]].sum().reset_index()"
   ]
  },
  {
   "cell_type": "code",
   "execution_count": 26,
   "metadata": {},
   "outputs": [],
   "source": [
    "df_tc_1 = df_traincopy.groupby(['date','trap','spc','lat','long','wnv']).sum()[[\"num_mos\"]].reset_index()"
   ]
  },
  {
   "cell_type": "code",
   "execution_count": 27,
   "metadata": {},
   "outputs": [
    {
     "data": {
      "text/html": [
       "<div>\n",
       "<style scoped>\n",
       "    .dataframe tbody tr th:only-of-type {\n",
       "        vertical-align: middle;\n",
       "    }\n",
       "\n",
       "    .dataframe tbody tr th {\n",
       "        vertical-align: top;\n",
       "    }\n",
       "\n",
       "    .dataframe thead th {\n",
       "        text-align: right;\n",
       "    }\n",
       "</style>\n",
       "<table border=\"1\" class=\"dataframe\">\n",
       "  <thead>\n",
       "    <tr style=\"text-align: right;\">\n",
       "      <th></th>\n",
       "      <th>date</th>\n",
       "      <th>trap</th>\n",
       "      <th>spc</th>\n",
       "      <th>lat</th>\n",
       "      <th>long</th>\n",
       "      <th>wnv</th>\n",
       "      <th>num_mos</th>\n",
       "    </tr>\n",
       "  </thead>\n",
       "  <tbody>\n",
       "    <tr>\n",
       "      <td>0</td>\n",
       "      <td>2007-05-29</td>\n",
       "      <td>T002</td>\n",
       "      <td>CULEX PIPIENS/RESTUANS</td>\n",
       "      <td>41.954690</td>\n",
       "      <td>-87.800991</td>\n",
       "      <td>0</td>\n",
       "      <td>1</td>\n",
       "    </tr>\n",
       "    <tr>\n",
       "      <td>1</td>\n",
       "      <td>2007-05-29</td>\n",
       "      <td>T002</td>\n",
       "      <td>CULEX RESTUANS</td>\n",
       "      <td>41.954690</td>\n",
       "      <td>-87.800991</td>\n",
       "      <td>0</td>\n",
       "      <td>1</td>\n",
       "    </tr>\n",
       "    <tr>\n",
       "      <td>2</td>\n",
       "      <td>2007-05-29</td>\n",
       "      <td>T007</td>\n",
       "      <td>CULEX RESTUANS</td>\n",
       "      <td>41.994991</td>\n",
       "      <td>-87.769279</td>\n",
       "      <td>0</td>\n",
       "      <td>1</td>\n",
       "    </tr>\n",
       "    <tr>\n",
       "      <td>3</td>\n",
       "      <td>2007-05-29</td>\n",
       "      <td>T015</td>\n",
       "      <td>CULEX PIPIENS/RESTUANS</td>\n",
       "      <td>41.974089</td>\n",
       "      <td>-87.824812</td>\n",
       "      <td>0</td>\n",
       "      <td>1</td>\n",
       "    </tr>\n",
       "    <tr>\n",
       "      <td>4</td>\n",
       "      <td>2007-05-29</td>\n",
       "      <td>T015</td>\n",
       "      <td>CULEX RESTUANS</td>\n",
       "      <td>41.974089</td>\n",
       "      <td>-87.824812</td>\n",
       "      <td>0</td>\n",
       "      <td>4</td>\n",
       "    </tr>\n",
       "    <tr>\n",
       "      <td>...</td>\n",
       "      <td>...</td>\n",
       "      <td>...</td>\n",
       "      <td>...</td>\n",
       "      <td>...</td>\n",
       "      <td>...</td>\n",
       "      <td>...</td>\n",
       "      <td>...</td>\n",
       "    </tr>\n",
       "    <tr>\n",
       "      <td>8605</td>\n",
       "      <td>2013-09-26</td>\n",
       "      <td>T233</td>\n",
       "      <td>CULEX PIPIENS/RESTUANS</td>\n",
       "      <td>42.009876</td>\n",
       "      <td>-87.807277</td>\n",
       "      <td>0</td>\n",
       "      <td>5</td>\n",
       "    </tr>\n",
       "    <tr>\n",
       "      <td>8606</td>\n",
       "      <td>2013-09-26</td>\n",
       "      <td>T235</td>\n",
       "      <td>CULEX PIPIENS/RESTUANS</td>\n",
       "      <td>41.776428</td>\n",
       "      <td>-87.627096</td>\n",
       "      <td>0</td>\n",
       "      <td>1</td>\n",
       "    </tr>\n",
       "    <tr>\n",
       "      <td>8607</td>\n",
       "      <td>2013-09-26</td>\n",
       "      <td>T900</td>\n",
       "      <td>CULEX PIPIENS</td>\n",
       "      <td>41.974689</td>\n",
       "      <td>-87.890615</td>\n",
       "      <td>0</td>\n",
       "      <td>37</td>\n",
       "    </tr>\n",
       "    <tr>\n",
       "      <td>8608</td>\n",
       "      <td>2013-09-26</td>\n",
       "      <td>T900</td>\n",
       "      <td>CULEX PIPIENS/RESTUANS</td>\n",
       "      <td>41.974689</td>\n",
       "      <td>-87.890615</td>\n",
       "      <td>0</td>\n",
       "      <td>4</td>\n",
       "    </tr>\n",
       "    <tr>\n",
       "      <td>8609</td>\n",
       "      <td>2013-09-26</td>\n",
       "      <td>T900</td>\n",
       "      <td>CULEX PIPIENS/RESTUANS</td>\n",
       "      <td>41.974689</td>\n",
       "      <td>-87.890615</td>\n",
       "      <td>1</td>\n",
       "      <td>39</td>\n",
       "    </tr>\n",
       "  </tbody>\n",
       "</table>\n",
       "<p>8610 rows × 7 columns</p>\n",
       "</div>"
      ],
      "text/plain": [
       "           date  trap                     spc        lat       long  wnv  \\\n",
       "0    2007-05-29  T002  CULEX PIPIENS/RESTUANS  41.954690 -87.800991    0   \n",
       "1    2007-05-29  T002          CULEX RESTUANS  41.954690 -87.800991    0   \n",
       "2    2007-05-29  T007          CULEX RESTUANS  41.994991 -87.769279    0   \n",
       "3    2007-05-29  T015  CULEX PIPIENS/RESTUANS  41.974089 -87.824812    0   \n",
       "4    2007-05-29  T015          CULEX RESTUANS  41.974089 -87.824812    0   \n",
       "...         ...   ...                     ...        ...        ...  ...   \n",
       "8605 2013-09-26  T233  CULEX PIPIENS/RESTUANS  42.009876 -87.807277    0   \n",
       "8606 2013-09-26  T235  CULEX PIPIENS/RESTUANS  41.776428 -87.627096    0   \n",
       "8607 2013-09-26  T900           CULEX PIPIENS  41.974689 -87.890615    0   \n",
       "8608 2013-09-26  T900  CULEX PIPIENS/RESTUANS  41.974689 -87.890615    0   \n",
       "8609 2013-09-26  T900  CULEX PIPIENS/RESTUANS  41.974689 -87.890615    1   \n",
       "\n",
       "      num_mos  \n",
       "0           1  \n",
       "1           1  \n",
       "2           1  \n",
       "3           1  \n",
       "4           4  \n",
       "...       ...  \n",
       "8605        5  \n",
       "8606        1  \n",
       "8607       37  \n",
       "8608        4  \n",
       "8609       39  \n",
       "\n",
       "[8610 rows x 7 columns]"
      ]
     },
     "execution_count": 27,
     "metadata": {},
     "output_type": "execute_result"
    }
   ],
   "source": [
    "df_tc_1"
   ]
  },
  {
   "cell_type": "code",
   "execution_count": 25,
   "metadata": {},
   "outputs": [
    {
     "data": {
      "text/html": [
       "<div>\n",
       "<style scoped>\n",
       "    .dataframe tbody tr th:only-of-type {\n",
       "        vertical-align: middle;\n",
       "    }\n",
       "\n",
       "    .dataframe tbody tr th {\n",
       "        vertical-align: top;\n",
       "    }\n",
       "\n",
       "    .dataframe thead th {\n",
       "        text-align: right;\n",
       "    }\n",
       "</style>\n",
       "<table border=\"1\" class=\"dataframe\">\n",
       "  <thead>\n",
       "    <tr style=\"text-align: right;\">\n",
       "      <th></th>\n",
       "      <th>date</th>\n",
       "      <th>trap</th>\n",
       "      <th>spc</th>\n",
       "      <th>lat</th>\n",
       "      <th>long</th>\n",
       "      <th>wnv</th>\n",
       "      <th>num_mos</th>\n",
       "    </tr>\n",
       "  </thead>\n",
       "  <tbody>\n",
       "    <tr>\n",
       "      <td>0</td>\n",
       "      <td>2007-05-29</td>\n",
       "      <td>T002</td>\n",
       "      <td>CULEX PIPIENS/RESTUANS</td>\n",
       "      <td>41.954690</td>\n",
       "      <td>-87.800991</td>\n",
       "      <td>0</td>\n",
       "      <td>1</td>\n",
       "    </tr>\n",
       "    <tr>\n",
       "      <td>1</td>\n",
       "      <td>2007-05-29</td>\n",
       "      <td>T002</td>\n",
       "      <td>CULEX RESTUANS</td>\n",
       "      <td>41.954690</td>\n",
       "      <td>-87.800991</td>\n",
       "      <td>0</td>\n",
       "      <td>1</td>\n",
       "    </tr>\n",
       "    <tr>\n",
       "      <td>2</td>\n",
       "      <td>2007-05-29</td>\n",
       "      <td>T007</td>\n",
       "      <td>CULEX RESTUANS</td>\n",
       "      <td>41.994991</td>\n",
       "      <td>-87.769279</td>\n",
       "      <td>0</td>\n",
       "      <td>1</td>\n",
       "    </tr>\n",
       "    <tr>\n",
       "      <td>3</td>\n",
       "      <td>2007-05-29</td>\n",
       "      <td>T015</td>\n",
       "      <td>CULEX PIPIENS/RESTUANS</td>\n",
       "      <td>41.974089</td>\n",
       "      <td>-87.824812</td>\n",
       "      <td>0</td>\n",
       "      <td>1</td>\n",
       "    </tr>\n",
       "    <tr>\n",
       "      <td>4</td>\n",
       "      <td>2007-05-29</td>\n",
       "      <td>T015</td>\n",
       "      <td>CULEX RESTUANS</td>\n",
       "      <td>41.974089</td>\n",
       "      <td>-87.824812</td>\n",
       "      <td>0</td>\n",
       "      <td>4</td>\n",
       "    </tr>\n",
       "    <tr>\n",
       "      <td>...</td>\n",
       "      <td>...</td>\n",
       "      <td>...</td>\n",
       "      <td>...</td>\n",
       "      <td>...</td>\n",
       "      <td>...</td>\n",
       "      <td>...</td>\n",
       "      <td>...</td>\n",
       "    </tr>\n",
       "    <tr>\n",
       "      <td>8605</td>\n",
       "      <td>2013-09-26</td>\n",
       "      <td>T233</td>\n",
       "      <td>CULEX PIPIENS/RESTUANS</td>\n",
       "      <td>42.009876</td>\n",
       "      <td>-87.807277</td>\n",
       "      <td>0</td>\n",
       "      <td>5</td>\n",
       "    </tr>\n",
       "    <tr>\n",
       "      <td>8606</td>\n",
       "      <td>2013-09-26</td>\n",
       "      <td>T235</td>\n",
       "      <td>CULEX PIPIENS/RESTUANS</td>\n",
       "      <td>41.776428</td>\n",
       "      <td>-87.627096</td>\n",
       "      <td>0</td>\n",
       "      <td>1</td>\n",
       "    </tr>\n",
       "    <tr>\n",
       "      <td>8607</td>\n",
       "      <td>2013-09-26</td>\n",
       "      <td>T900</td>\n",
       "      <td>CULEX PIPIENS</td>\n",
       "      <td>41.974689</td>\n",
       "      <td>-87.890615</td>\n",
       "      <td>0</td>\n",
       "      <td>37</td>\n",
       "    </tr>\n",
       "    <tr>\n",
       "      <td>8608</td>\n",
       "      <td>2013-09-26</td>\n",
       "      <td>T900</td>\n",
       "      <td>CULEX PIPIENS/RESTUANS</td>\n",
       "      <td>41.974689</td>\n",
       "      <td>-87.890615</td>\n",
       "      <td>0</td>\n",
       "      <td>4</td>\n",
       "    </tr>\n",
       "    <tr>\n",
       "      <td>8609</td>\n",
       "      <td>2013-09-26</td>\n",
       "      <td>T900</td>\n",
       "      <td>CULEX PIPIENS/RESTUANS</td>\n",
       "      <td>41.974689</td>\n",
       "      <td>-87.890615</td>\n",
       "      <td>1</td>\n",
       "      <td>39</td>\n",
       "    </tr>\n",
       "  </tbody>\n",
       "</table>\n",
       "<p>8610 rows × 7 columns</p>\n",
       "</div>"
      ],
      "text/plain": [
       "           date  trap                     spc        lat       long  wnv  \\\n",
       "0    2007-05-29  T002  CULEX PIPIENS/RESTUANS  41.954690 -87.800991    0   \n",
       "1    2007-05-29  T002          CULEX RESTUANS  41.954690 -87.800991    0   \n",
       "2    2007-05-29  T007          CULEX RESTUANS  41.994991 -87.769279    0   \n",
       "3    2007-05-29  T015  CULEX PIPIENS/RESTUANS  41.974089 -87.824812    0   \n",
       "4    2007-05-29  T015          CULEX RESTUANS  41.974089 -87.824812    0   \n",
       "...         ...   ...                     ...        ...        ...  ...   \n",
       "8605 2013-09-26  T233  CULEX PIPIENS/RESTUANS  42.009876 -87.807277    0   \n",
       "8606 2013-09-26  T235  CULEX PIPIENS/RESTUANS  41.776428 -87.627096    0   \n",
       "8607 2013-09-26  T900           CULEX PIPIENS  41.974689 -87.890615    0   \n",
       "8608 2013-09-26  T900  CULEX PIPIENS/RESTUANS  41.974689 -87.890615    0   \n",
       "8609 2013-09-26  T900  CULEX PIPIENS/RESTUANS  41.974689 -87.890615    1   \n",
       "\n",
       "      num_mos  \n",
       "0           1  \n",
       "1           1  \n",
       "2           1  \n",
       "3           1  \n",
       "4           4  \n",
       "...       ...  \n",
       "8605        5  \n",
       "8606        1  \n",
       "8607       37  \n",
       "8608        4  \n",
       "8609       39  \n",
       "\n",
       "[8610 rows x 7 columns]"
      ]
     },
     "execution_count": 25,
     "metadata": {},
     "output_type": "execute_result"
    }
   ],
   "source": [
    "df_tc"
   ]
  },
  {
   "cell_type": "code",
   "execution_count": null,
   "metadata": {
    "colab": {
     "base_uri": "https://localhost:8080/",
     "height": 51
    },
    "colab_type": "code",
    "id": "0Q_tOGjQRriP",
    "outputId": "fa9dd7ea-dc86-4dd3-c784-dad7c2980bb7"
   },
   "outputs": [],
   "source": [
    "# Get a sensing of the effect of suming up mosquitos on dataframe shape\n",
    "print(df_traincopy.shape)\n",
    "df_tc.shape"
   ]
  },
  {
   "cell_type": "code",
   "execution_count": null,
   "metadata": {},
   "outputs": [],
   "source": [
    "df_tc.describe()"
   ]
  },
  {
   "cell_type": "code",
   "execution_count": null,
   "metadata": {
    "colab": {},
    "colab_type": "code",
    "id": "YDfQEgfERriT",
    "outputId": "f4c834d2-53c5-4331-9c31-5e7817e8df4e"
   },
   "outputs": [],
   "source": [
    "# Checking off cleaned train data\n",
    "df_tc.info()"
   ]
  },
  {
   "cell_type": "markdown",
   "metadata": {
    "colab_type": "text",
    "id": "akoYWYO44Me0"
   },
   "source": [
    "### Weather data"
   ]
  },
  {
   "cell_type": "code",
   "execution_count": null,
   "metadata": {
    "colab": {
     "base_uri": "https://localhost:8080/",
     "height": 1000
    },
    "colab_type": "code",
    "id": "l4WzSMK5qSTy",
    "outputId": "c0d3072e-d7f8-41e2-df72-785ff3f14bbc"
   },
   "outputs": [],
   "source": [
    "# Review weather data\n",
    "data_explore(df_weather)"
   ]
  },
  {
   "cell_type": "markdown",
   "metadata": {
    "colab_type": "text",
    "id": "4VSNt4j8RriY"
   },
   "source": [
    "No null values reflected, but, from data dict, we inferred there are missing values `M` and trace values `T`. First address `M` values."
   ]
  },
  {
   "cell_type": "code",
   "execution_count": null,
   "metadata": {
    "colab": {
     "base_uri": "https://localhost:8080/",
     "height": 408
    },
    "colab_type": "code",
    "id": "4uVH4Rf7OrmP",
    "outputId": "4d1874bf-22ff-4b6a-ab49-fa833205038a"
   },
   "outputs": [],
   "source": [
    "#replacing M with np.nan to check the sum of null values\n",
    "df_weather.replace('M', np.NaN, inplace=True)\n",
    "df_weather.isnull().sum().sort_values(ascending=False)"
   ]
  },
  {
   "cell_type": "code",
   "execution_count": null,
   "metadata": {
    "colab": {
     "base_uri": "https://localhost:8080/",
     "height": 529
    },
    "colab_type": "code",
    "id": "rMUwgjl0e1zN",
    "outputId": "a22b2af5-a1bb-4376-bcfb-6fc3807cef1b"
   },
   "outputs": [],
   "source": [
    "#Visualize missing values as a matrix \n",
    "#shows the amount and positions of missing values.\n",
    "#right hand side is line plot for each row's data completeness\n",
    "#Water1,Depart,SnowfallDepth have high missing value\n",
    "#a few missing values on Tavg,Cool, Heat,SeaLevel, StnPressure, WetBulb,AvgSpeed,PrecipTotal\n",
    "#we will decide which columns to keep\n",
    "msno.matrix(df_weather);"
   ]
  },
  {
   "cell_type": "markdown",
   "metadata": {
    "colab_type": "text",
    "id": "-QvrwjfuqSUE"
   },
   "source": [
    "Decision points for weather data cleaning.\n",
    "- 'M' values (missing values): Converted to NaN, not use columns with more than 1000 M entries.\n",
    "- 'T' (trace values): T stands for trace values, more than 0 but lower than the smallest measurement. Replace 'T' values with 0.5* the minimum unit\n",
    "- Temperature: `Cool` and `Heat` is difference of `Tavg` and 65F base. Need not use. Similarly, can choose not to use `Tmax`, `Tmin`. `Tavg` is sufficient. \n",
    "- Pressure: Use `Stnpressure`(Inches Hg). Not use `Sea level`. Missing values can impute using median values (robust to outliers). \n",
    "- Humidity: Use `Dewpoint`(F) over `Wetbulb`(F); no missing value.\n",
    "- Wind Speed: Use `ResultSpeed`(MPH). Not use `AvgSpeed`, `ResultDir`.\n",
    "- DayLight: Keep `station2`, impute '-' values under `Sunrise` and `Sunset` (missing not at random). Feature engineer `daylight` length, then drop `Sunrise` and `Sunset`.\n",
    "- Rain: `PrecipTotal` missing values impute from last valid value.\n",
    "- `CodeSum` not use. Is descriptor of weather phenomenon; redundant.\n",
    "- `Date`: Convert to Datetime format.\n",
    "\n",
    "At this stage, we keep things flexible by picking the potential weather features to use, instead of dropping irrelvant ones."
   ]
  },
  {
   "cell_type": "code",
   "execution_count": null,
   "metadata": {
    "colab": {},
    "colab_type": "code",
    "id": "1W7JFFJdRrif",
    "outputId": "5e08d7d3-a9e7-405a-8ea6-5dab73774317"
   },
   "outputs": [],
   "source": [
    "# Preview of lowercasing column names\n",
    "df_weather.columns.str.lower()"
   ]
  },
  {
   "cell_type": "code",
   "execution_count": null,
   "metadata": {
    "colab": {
     "base_uri": "https://localhost:8080/",
     "height": 289
    },
    "colab_type": "code",
    "id": "en3LL5YU6zrH",
    "outputId": "be9a232b-12ed-49a8-a1d0-3d51e6475dea"
   },
   "outputs": [],
   "source": [
    "# Lowercase the column names\n",
    "df_weather.columns = df_weather.columns.str.lower()\n",
    "# Weather columns to use\n",
    "wcols_keep = ['tavg','stnpressure','dewpoint','preciptotal','date','sunrise','sunset','resultspeed','station']\n",
    "# copy of dataframe\n",
    "df_w = df_weather[wcols_keep].copy()\n",
    "df_w.info()"
   ]
  },
  {
   "cell_type": "code",
   "execution_count": null,
   "metadata": {
    "colab": {},
    "colab_type": "code",
    "id": "WuNr1IUKRrip"
   },
   "outputs": [],
   "source": [
    "#Set column name to lowercase, shorten if possible.\n",
    "df_w.columns = ['tavg','stnpress','dewpt','precip','date','sunrise','sunset','windspeed','stn']\n",
    "# Convert date to datetime format\n",
    "df_w['date'] = pd.to_datetime(df_w['date'])"
   ]
  },
  {
   "cell_type": "code",
   "execution_count": null,
   "metadata": {
    "colab": {
     "base_uri": "https://localhost:8080/",
     "height": 102
    },
    "colab_type": "code",
    "id": "qvtGfy88tdwZ",
    "outputId": "dd34549a-a16f-4b91-8f42-0dfc775a56a3"
   },
   "outputs": [],
   "source": [
    "#looking up the missing value in stnpress\n",
    "#4 missing values \n",
    "df_w[df_w['stnpress'].isnull()].any(axis = 1)"
   ]
  },
  {
   "cell_type": "code",
   "execution_count": null,
   "metadata": {
    "colab": {
     "base_uri": "https://localhost:8080/",
     "height": 221
    },
    "colab_type": "code",
    "id": "Yim7X86A1z44",
    "outputId": "484267f2-2c77-47d7-dc56-5ae9e4a89bf6"
   },
   "outputs": [],
   "source": [
    "#looking up the missing value in tavg\n",
    "#11 missing values \n",
    "df_w[df_w['tavg'].isnull()].any(axis = 1)"
   ]
  },
  {
   "cell_type": "code",
   "execution_count": null,
   "metadata": {
    "colab": {
     "base_uri": "https://localhost:8080/",
     "height": 111
    },
    "colab_type": "code",
    "id": "9V3c4_iMkGZF",
    "outputId": "e766097a-d952-4008-995e-2d5510a6454b"
   },
   "outputs": [],
   "source": [
    "# Code block for weather data Imputation\n",
    "\n",
    "# Impute tavg\n",
    "# Calculate the temperature average \n",
    "fill_Tavg = round((df_weather['tmax'] + df_weather['tmin'])/2, 2)\n",
    "fill_Tavg =fill_Tavg.astype(int)\n",
    "# Impute the missing value by the calculated Temperature average\n",
    "# along the index of Tavg with missing value\n",
    "for avg in df_w[df_w['tavg'].isna()].index:\n",
    "    df_w['tavg'].loc[avg] = fill_Tavg[avg]\n",
    "\n",
    "# Code to impute stnpress\n",
    "df_w['stnpress'].fillna(df_w['stnpress'].median(),inplace=True)\n",
    "\n",
    "# Code to impute precip\n",
    "df_w['precip'].fillna(method='ffill', inplace=True)\n",
    "\n",
    "# Code to impute Sunrise and Sunset for Station 2\n",
    "# Difference in sunrise/set times between stations should not be significant\n",
    "\"\"\"Replace '-' for values with NaN.\"\"\"\n",
    "\"\"\"Use last valid observation forward to next valid one.\"\"\"\n",
    "df_w['sunrise'].replace('-', np.NaN, inplace=True)\n",
    "df_w['sunrise'].fillna(method='ffill', inplace=True)\n",
    "df_w['sunset'].replace('-', np.NaN, inplace=True)\n",
    "df_w['sunset'].fillna(method='ffill', inplace=True)\n",
    "\n",
    "# Code to calculate daylight\n",
    "df_w['sunrise']=pd.to_numeric(df_w['sunrise'])\n",
    "df_w['sunset']=pd.to_numeric(df_w['sunset'])\n",
    "df_w['daylight'] = df_w['sunset']-df_w['sunrise']\n",
    "df_w['daylight'] = df_w['daylight'].map(lambda x: int(str(x)[:2]) + int(str(x)[-2:])/60)\n",
    "# Review featured engineered daylight column\n",
    "df_w.head(2)"
   ]
  },
  {
   "cell_type": "code",
   "execution_count": null,
   "metadata": {
    "colab": {
     "base_uri": "https://localhost:8080/",
     "height": 204
    },
    "colab_type": "code",
    "id": "5oRCJU3rnRUy",
    "outputId": "ce743193-16b8-43af-a341-51056e801e3b"
   },
   "outputs": [],
   "source": [
    "# Impute T values\n",
    "# Review where T values are\n",
    "df_w.isin(['  T']).sum()"
   ]
  },
  {
   "cell_type": "code",
   "execution_count": null,
   "metadata": {
    "colab": {
     "base_uri": "https://localhost:8080/",
     "height": 34
    },
    "colab_type": "code",
    "id": "QIoKWTMk4fWz",
    "outputId": "243c4234-e21a-40a2-d094-f27d9eb1ac6f"
   },
   "outputs": [],
   "source": [
    "# Getting the list of unique values for PrecipTotal\n",
    "sorted(tuple(df_w['precip'].unique()))[:5]"
   ]
  },
  {
   "cell_type": "code",
   "execution_count": null,
   "metadata": {
    "colab": {},
    "colab_type": "code",
    "id": "xBCPDIPw3w7L"
   },
   "outputs": [],
   "source": [
    "# Use the minimum measurement (non-zero)\n",
    "# Assign to min_measurement variable\n",
    "min_measurement = sorted(tuple(df_w['precip'].unique()))[2]\n",
    "# Use half the minimum value to replace 'T'\n",
    "df_w['precip'].replace('  T',float(min_measurement) * 0.5, inplace=True)"
   ]
  },
  {
   "cell_type": "code",
   "execution_count": null,
   "metadata": {
    "colab": {
     "base_uri": "https://localhost:8080/",
     "height": 306
    },
    "colab_type": "code",
    "id": "2wqh6O8aEIPu",
    "outputId": "c38b9743-4430-4778-dd84-ce60835ba2c4"
   },
   "outputs": [],
   "source": [
    "# Review datatypes after imputation\n",
    "df_w.info()"
   ]
  },
  {
   "cell_type": "code",
   "execution_count": null,
   "metadata": {
    "colab": {},
    "colab_type": "code",
    "id": "n8sChgvSEcFh"
   },
   "outputs": [],
   "source": [
    "# Code block for datatype conversion\n",
    "df_w['tavg'] = df_w['tavg'].astype(int)\n",
    "df_w['stnpress'] = df_w['stnpress'].astype(float)\n",
    "df_w['dewpt'] = df_w['dewpt'].astype(float)\n",
    "df_w['precip'] = df_w['precip'].astype(float)"
   ]
  },
  {
   "cell_type": "code",
   "execution_count": null,
   "metadata": {
    "colab": {
     "base_uri": "https://localhost:8080/",
     "height": 306
    },
    "colab_type": "code",
    "id": "7TSf42rS7BXc",
    "outputId": "e716f496-4593-45a8-d2b8-ca3a74e19d44"
   },
   "outputs": [],
   "source": [
    "# Checking off datatype of cleaned weather set\n",
    "df_w.info()"
   ]
  },
  {
   "cell_type": "markdown",
   "metadata": {
    "colab_type": "text",
    "id": "YhV6npYJ60CO"
   },
   "source": [
    "### EDA"
   ]
  },
  {
   "cell_type": "markdown",
   "metadata": {
    "colab_type": "text",
    "id": "bMP_vMe9Aw__"
   },
   "source": [
    "### EDA of train dataset "
   ]
  },
  {
   "cell_type": "code",
   "execution_count": null,
   "metadata": {
    "colab": {},
    "colab_type": "code",
    "id": "Zqqog0vqAuIh"
   },
   "outputs": [],
   "source": [
    "# Add week and Year columns\n",
    "df_tc['wk'] = (df_tc['date'].dt.strftime('%W')).astype(int)\n",
    "df_tc['yr'] = (df_tc['date'].dt.strftime('%Y')).astype(int)"
   ]
  },
  {
   "cell_type": "code",
   "execution_count": null,
   "metadata": {
    "colab": {
     "base_uri": "https://localhost:8080/",
     "height": 879
    },
    "colab_type": "code",
    "id": "c4so-cv8AuXA",
    "outputId": "7f29852b-d28f-4a62-b402-5b18ead377e1"
   },
   "outputs": [],
   "source": [
    "# Distribution of the numerical variables\n",
    "df_tc.hist(figsize=(10, 15));"
   ]
  },
  {
   "cell_type": "markdown",
   "metadata": {
    "colab_type": "text",
    "id": "VnEz2dFsKVWr"
   },
   "source": [
    "From the histograms, (left to right, top to bottom)\n",
    "- Lat and Lon values represent region of chicago.\n",
    "- Number of mosquitos consolidated from same traps mostly number above 200, but not more than 500 (right-skewed).\n",
    "- Mosquito population generally peaks in at onset of week 27 and continues to week 34 (early July - late Aug).\n",
    "- Wvn class is imbalanced; majority negative.\n",
    "- More mosquito observations (traps deployed) in 2007 than other years."
   ]
  },
  {
   "cell_type": "markdown",
   "metadata": {
    "colab_type": "text",
    "id": "ONi0UGyRF1ch"
   },
   "source": [
    "### EDA of Weather"
   ]
  },
  {
   "cell_type": "markdown",
   "metadata": {
    "colab_type": "text",
    "id": "-2mWE0Pg_6aG"
   },
   "source": [
    "Having 2 different weather stations creates too many variables, therefore we are looking into merging them into 1 but this is dependent on the factors having little to no variance."
   ]
  },
  {
   "cell_type": "code",
   "execution_count": null,
   "metadata": {
    "colab": {},
    "colab_type": "code",
    "id": "_U9Pha39O_x8"
   },
   "outputs": [],
   "source": [
    "#function boxplot:\n",
    "def subplot_boxplots(dataframe, list_of_columns):\n",
    "     # Makes sure you have enough rows\n",
    "    nrows = int(np.ceil(len(list_of_columns)/5)) \n",
    "    \n",
    "    fig, ax = plt.subplots(nrows=nrows, ncols=4, figsize=(16,9), sharey=True) \n",
    "    plt.subplots_adjust(hspace=0.3)\n",
    "    \n",
    "    # Ravel turns a matrix into a vector, which is easier to iterate\n",
    "    ax = ax.ravel()\n",
    "    \n",
    "    # Gives us an index value to get into all our lists\n",
    "    for i, column in enumerate(list_of_columns): \n",
    "        #plotting a boxplot\n",
    "        sns.boxplot(x=dataframe['stn'], y=dataframe[column], ax=ax[i])\n",
    "        #setting y label\n",
    "        ax[i].set_ylabel(column,fontsize=13)\n",
    "        #setting x label\n",
    "        ax[i].set_xlabel('stn',fontsize=13)"
   ]
  },
  {
   "cell_type": "code",
   "execution_count": null,
   "metadata": {
    "colab": {
     "base_uri": "https://localhost:8080/",
     "height": 554
    },
    "colab_type": "code",
    "id": "rIZb-m1UPUWe",
    "outputId": "257b74bf-ec26-4706-fe1b-9104c4a082f1"
   },
   "outputs": [],
   "source": [
    "list_of_columns = (df_w.drop(['sunrise','sunset','date'],axis=1).columns)\n",
    "subplot_boxplots(df_w,list_of_columns)"
   ]
  },
  {
   "cell_type": "markdown",
   "metadata": {
    "colab_type": "text",
    "id": "oPsi8ubtK9oO"
   },
   "source": [
    "In general, the weather variables between stations don't vary significantly. We can opt to use weather variables from either stations or average values from both stations. We opted for the later."
   ]
  },
  {
   "cell_type": "code",
   "execution_count": null,
   "metadata": {
    "colab": {
     "base_uri": "https://localhost:8080/",
     "height": 572
    },
    "colab_type": "code",
    "id": "Vb_6H6yJJvIn",
    "outputId": "dcfeedd3-7192-4beb-f706-ded512d9f2f7"
   },
   "outputs": [],
   "source": [
    "# Lineplot overlap of the two stations for precip\n",
    "# Set figuresize\n",
    "plt.figure(figsize=(14,6))\n",
    "# Plot\n",
    "plt.plot(df_w[df_w['stn']==1]['precip'],label='stn1')\n",
    "plt.plot(df_w[df_w['stn']==2]['precip'],alpha=00.8,label='stn2')\n",
    "# Customization\n",
    "plt.title('Precipation over Stations 1 & 2', fontsize=14)\n",
    "plt.xlabel('Observations', fontsize=14)\n",
    "plt.ylabel('Precip (Inches)', fontsize=14)\n",
    "plt.legend(title='', loc='upper right', prop={'size': 14})\n",
    "ax = plt.gca()\n",
    "ax.tick_params(axis = 'both', which = 'major', labelsize = 14)\n",
    "ax.tick_params(axis = 'both', which = 'minor', labelsize = 14);"
   ]
  },
  {
   "cell_type": "code",
   "execution_count": null,
   "metadata": {
    "colab": {},
    "colab_type": "code",
    "id": "WEsKgIX4SQw7"
   },
   "outputs": [],
   "source": [
    "# Since the two weather stations have little variance among its features, \n",
    "# we will average them out into a single station\n",
    "\n",
    "df_w_1 = df_w.iloc[::2,:].drop(['sunrise', 'sunset', 'date'],axis=1)\n",
    "df_w_2 = df_w.iloc[1::2,:].drop(['sunrise', 'sunset', 'date'],axis=1)"
   ]
  },
  {
   "cell_type": "code",
   "execution_count": null,
   "metadata": {
    "colab": {
     "base_uri": "https://localhost:8080/",
     "height": 204
    },
    "colab_type": "code",
    "id": "plHeLzMVFnjC",
    "outputId": "ab8fdc9d-9554-4caf-85d2-f0367f44cbdb"
   },
   "outputs": [],
   "source": [
    "# Checking if df_w_1 is station 1 only\n",
    "df_w_1.reset_index(inplace=True)\n",
    "df_w_1.head()"
   ]
  },
  {
   "cell_type": "code",
   "execution_count": null,
   "metadata": {
    "colab": {
     "base_uri": "https://localhost:8080/",
     "height": 204
    },
    "colab_type": "code",
    "id": "fgHRTmsxFo0b",
    "outputId": "cbf13e4f-e2c4-4466-885a-4e873c76716b"
   },
   "outputs": [],
   "source": [
    "# Checking if df_w_2 is station 2 only\n",
    "df_w_2.reset_index(inplace=True)\n",
    "df_w_2.head()"
   ]
  },
  {
   "cell_type": "code",
   "execution_count": null,
   "metadata": {
    "colab": {
     "base_uri": "https://localhost:8080/",
     "height": 204
    },
    "colab_type": "code",
    "id": "6Og2jPHYFrqY",
    "outputId": "76a957e8-fc9d-482e-a47e-ffe34a8ed220"
   },
   "outputs": [],
   "source": [
    "# Getting the mean of station 1 and station 2\n",
    "df_w_mean = df_w_1.add(df_w_2)/2\n",
    "df_w_mean.head()"
   ]
  },
  {
   "cell_type": "code",
   "execution_count": null,
   "metadata": {
    "colab": {},
    "colab_type": "code",
    "id": "-uApSy5UFtAb"
   },
   "outputs": [],
   "source": [
    "# checking final df_w_mean\n",
    "df_w_mean.drop(['index','stn'],axis=1, inplace=True)"
   ]
  },
  {
   "cell_type": "code",
   "execution_count": null,
   "metadata": {
    "colab": {},
    "colab_type": "code",
    "id": "K-q6sgg6LqTW"
   },
   "outputs": [],
   "source": [
    "# adding back date to df_w_mean\n",
    "df_w_mean['date'] = df_w.iloc[::2,:].reset_index()['date']"
   ]
  },
  {
   "cell_type": "markdown",
   "metadata": {
    "colab_type": "text",
    "id": "9XHA-W0TKCZa"
   },
   "source": [
    "### Merging of Weather and Train/ Test\n"
   ]
  },
  {
   "cell_type": "code",
   "execution_count": null,
   "metadata": {
    "colab": {
     "base_uri": "https://localhost:8080/",
     "height": 204
    },
    "colab_type": "code",
    "id": "3gMchIFgLsOi",
    "outputId": "75428312-d3f3-4fb0-de51-1768a0bee455"
   },
   "outputs": [],
   "source": [
    "df_w_mean.head()"
   ]
  },
  {
   "cell_type": "code",
   "execution_count": null,
   "metadata": {
    "colab": {
     "base_uri": "https://localhost:8080/",
     "height": 309
    },
    "colab_type": "code",
    "id": "muCjWxY9Lm20",
    "outputId": "c459583c-1adb-4820-8feb-c7ab24e86aba"
   },
   "outputs": [],
   "source": [
    "# Merge train data(left) and cleaned weather(right) on Date\n",
    "df_train_w = pd.merge(df_tc, df_w_mean, on='date')\n",
    "df_train_w.head()"
   ]
  },
  {
   "cell_type": "code",
   "execution_count": null,
   "metadata": {
    "colab": {},
    "colab_type": "code",
    "id": "kWU5FVyURrj3",
    "outputId": "136e6f00-b50a-4330-93f0-314e371fa113"
   },
   "outputs": [],
   "source": [
    "# Merge test data(left) and cleaned weather(right) on Date\n",
    "df_test_w = pd.merge(df_test, df_w_mean, on='date')\n",
    "df_test_w.head()"
   ]
  },
  {
   "cell_type": "markdown",
   "metadata": {
    "colab_type": "text",
    "id": "x4LWP8FcnSNw"
   },
   "source": [
    "### EDA on Mosquitoes"
   ]
  },
  {
   "cell_type": "code",
   "execution_count": null,
   "metadata": {
    "colab": {},
    "colab_type": "code",
    "id": "OH06rcJG633L"
   },
   "outputs": [],
   "source": [
    "# Review Wnv vectors\n",
    "\"\"\"Extract species, NumMosquitos, WnvPresent from merged weather/ train data,\n",
    "Assign to df_mosWnv\"\"\"\n",
    "df_mosWnv = pd.DataFrame(df_train_w[['spc','num_mos','wnv']])"
   ]
  },
  {
   "cell_type": "code",
   "execution_count": null,
   "metadata": {
    "colab": {
     "base_uri": "https://localhost:8080/",
     "height": 297
    },
    "colab_type": "code",
    "id": "dkPilbTVDtx2",
    "outputId": "63ed9c28-d5c4-4f82-dc64-ee697756eb64"
   },
   "outputs": [],
   "source": [
    "# Species and Wnv vector by count\n",
    "df = df_mosWnv.groupby('spc').sum()\n",
    "df"
   ]
  },
  {
   "cell_type": "code",
   "execution_count": null,
   "metadata": {
    "colab": {
     "base_uri": "https://localhost:8080/",
     "height": 525
    },
    "colab_type": "code",
    "id": "wQHiRoYzEwf9",
    "outputId": "4088c271-30b6-444d-a394-3bd75052122f"
   },
   "outputs": [],
   "source": [
    "# Subplots for Species distribution(left), vectors distribution (right)\n",
    "f = plt.figure(figsize=(12,5))\n",
    "\n",
    "# 1row,2col,1stplot\n",
    "plt.subplot(1,2,1)\n",
    "mos_pop = df_mosWnv.groupby('spc')['num_mos'].sum().plot(kind='bar')\n",
    "plt.title('Mosquito count (by Species)',fontsize=14)\n",
    "plt.xticks(fontsize=12)\n",
    "plt.yticks(fontsize=12);\n",
    "# 1row,2col,2ndplot\n",
    "plt.subplot(1,2,2)\n",
    "mos_pop = df_mosWnv.groupby('spc')['wnv'].sum().plot(kind='bar')\n",
    "plt.title('Mosquito count (WnV Species)',fontsize=14)\n",
    "plt.xticks(fontsize=12)\n",
    "plt.yticks(fontsize=12);"
   ]
  },
  {
   "cell_type": "code",
   "execution_count": null,
   "metadata": {
    "colab": {
     "base_uri": "https://localhost:8080/",
     "height": 742
    },
    "colab_type": "code",
    "id": "eanntRwt91Xe",
    "outputId": "bbfd3dbd-6b7a-40c7-eff2-829554e0c9e9"
   },
   "outputs": [],
   "source": [
    "# Distribution of mosquitos count & Wnv vector per Trap, by Species\n",
    "# Set \n",
    "fig = plt.figure(figsize=(10,5))\n",
    "# Plot\n",
    "ax = sns.stripplot(x=\"spc\", y=\"num_mos\", hue=\"wnv\",data=df_train_w,orient='v',size=6)\n",
    "#Customization\n",
    "plt.title('Distribution of mosquitos count & Wnv vector (per Trap, by Species)', fontsize=14)\n",
    "xt = plt.xticks(rotation=90)\n",
    "plt.xlabel(' ', fontsize=0)\n",
    "plt.ylabel(' ', fontsize=0)\n",
    "ax = plt.gca()\n",
    "ax.tick_params(axis = 'both', which = 'major', labelsize = 12)\n",
    "ax.tick_params(axis = 'both', which = 'minor', labelsize = 12);"
   ]
  },
  {
   "cell_type": "markdown",
   "metadata": {
    "colab_type": "text",
    "id": "f4tlUHdaNpX6"
   },
   "source": [
    "Of the 8 listed species, technically only 2 species are vectors of WNV."
   ]
  },
  {
   "cell_type": "markdown",
   "metadata": {
    "colab_type": "text",
    "id": "2Idi4sYRnWoY"
   },
   "source": [
    "### EDA of Traps, Mosquitos, Wnv, Spray coverage"
   ]
  },
  {
   "cell_type": "code",
   "execution_count": null,
   "metadata": {
    "colab": {
     "base_uri": "https://localhost:8080/",
     "height": 238
    },
    "colab_type": "code",
    "id": "LDwPJMjH_P1S",
    "outputId": "86526372-debe-4dff-c615-8e66500781ff"
   },
   "outputs": [],
   "source": [
    "# Review quantity and location of traps\n",
    "# If traps and location tally, the traps should not be repeated \n",
    "# after duplicates removed\n",
    "\n",
    "# Make a copy from train data\n",
    "df_traps_train = df_train_w[['trap', 'lat','long']].copy()\n",
    "# Remove duplicates\n",
    "df_traps_train.drop_duplicates(inplace=True)\n",
    "\n",
    "# Return number of traps\n",
    "print(f\"Traps in train data: {len(df_traps_train)}\")\n",
    "# Return distinct instances of traps\n",
    "print(f\"Distinct traps: {len(df_traps_train['trap'].value_counts())}\")\n",
    "\n",
    "# Check the inconsistency in traps, if any\n",
    "print(\"Repeated traps:\")\n",
    "print(df_traps_train['trap'].value_counts().sort_values(ascending=False).head(2))\n",
    "print()\n",
    "\n",
    "# Do the same for Test set\n",
    "df_traps_test = df_test[['trap', 'lat','long']].copy()\n",
    "df_traps_test.drop_duplicates(inplace=True)\n",
    "print(f\"Traps in test data: {len(df_traps_test)}\")\n",
    "print(f\"Distinct traps: {len(df_traps_test['trap'].value_counts())}\")\n",
    "print(\"Repeated traps:\")\n",
    "print(df_traps_test['trap'].value_counts().sort_values(ascending=False).head(2))"
   ]
  },
  {
   "cell_type": "code",
   "execution_count": null,
   "metadata": {
    "colab": {
     "base_uri": "https://localhost:8080/",
     "height": 363
    },
    "colab_type": "code",
    "id": "N20kxoBa_P9h",
    "outputId": "20cfe76d-600b-4789-c62a-0c379101e524"
   },
   "outputs": [],
   "source": [
    "# Identify repeated traps\n",
    "# Train set\n",
    "print(\"Train set:\")\n",
    "display(df_traps_train.loc[(df_traps_train['trap']=='T035')|(df_traps_train['trap']=='T009')])\n",
    "\n",
    "# Test set\n",
    "print(\"Test set:\")\n",
    "display(df_traps_test.loc[(df_traps_test['trap']=='T035')|(df_traps_test['trap']=='T009')])"
   ]
  },
  {
   "cell_type": "code",
   "execution_count": null,
   "metadata": {
    "colab": {
     "base_uri": "https://localhost:8080/",
     "height": 34
    },
    "colab_type": "code",
    "id": "at8PAonFYreL",
    "outputId": "a9ea24df-f471-4858-d1c8-bfb71b6ad81d"
   },
   "outputs": [],
   "source": [
    "# Change Trap name to deconflict\n",
    "# Update the trap in cleaned (train+weather) data to Trap name + A\n",
    "# For train, update on df_train_w\n",
    "df_train_w.loc[2840,'trap']='T009A'\n",
    "df_train_w.loc[4819,'trap']='T035A'\n",
    "# For test, update on origin df_test, since we used copy to seek the error traps\n",
    "df_test_w.loc[928,'trap']='T009A'\n",
    "df_test_w.loc[1096,'trap']='T035A'\n",
    "# Sanity check\n",
    "print(f\"Distinct traps should be 151 after rename: {len(df_test_w['trap'].value_counts())}\")"
   ]
  },
  {
   "cell_type": "markdown",
   "metadata": {
    "colab_type": "text",
    "id": "WkTkOoY8RrkO"
   },
   "source": [
    "### Collective trap deployed, Wnv presence and spray coverage over 2007 to 2013"
   ]
  },
  {
   "cell_type": "code",
   "execution_count": null,
   "metadata": {
    "colab": {
     "base_uri": "https://localhost:8080/",
     "height": 1000
    },
    "colab_type": "code",
    "id": "Z7bPQ3xjTNWz",
    "outputId": "87d8b9df-0d6e-4cb6-d1c6-26ae54e085a5"
   },
   "outputs": [],
   "source": [
    "# Code from src folder file 'measurement_locations.ipynb\n",
    "\n",
    "url ='https://raw.githubusercontent.com/AngShengJun/dsi14P4/master/assets/input/mapdata_copyright_openstreetmap_contributors.txt'\n",
    "mapdata = np.loadtxt(url)\n",
    "# In lieu of cleaned trap info, updated trap source.\n",
    "#traps = pd.read_csv(\"https://raw.githubusercontent.com/AngShengJun/dsi14P4/master/assets/input/train.csv\")[['Date', 'Trap','Longitude', 'Latitude', 'WnvPresent']]\n",
    "traps = df_train_w[['date', 'trap','long', 'lat', 'wnv']]\n",
    "\n",
    "aspect = mapdata.shape[0] * 1.0 / mapdata.shape[1]\n",
    "lon_lat_box = (-88, -87.5, 41.6, 42.1)\n",
    "\n",
    "plt.figure(figsize=(14,18))\n",
    "plt.imshow(mapdata, \n",
    "           cmap=plt.get_cmap('gray'), \n",
    "           extent=lon_lat_box, \n",
    "           aspect=aspect)\n",
    "\n",
    "# weather station 1\n",
    "lats_station1 = 41.995\n",
    "long_station1 =  -87.933\n",
    "w_stn_1_scatter = plt.scatter(x=long_station1, y=lats_station1, c='b', s=50)\n",
    "\n",
    "# weather station 2\n",
    "lats_station2 = 41.786 \n",
    "long_station2 = -87.752\n",
    "w_stn_2_scatter = plt.scatter(x=long_station2, y=lats_station2, c='b', s=50)\n",
    "\n",
    "# spray data\n",
    "lats_spray = df_s['lat']\n",
    "long_spray = df_s['long']\n",
    "spray_scatter = plt.scatter(x=long_spray, y=lats_spray, c='g', s=35)\n",
    "\n",
    "# trap data\n",
    "locations = traps[['long', 'lat']].drop_duplicates().values\n",
    "trap_scatter = plt.scatter(locations[:,0], locations[:,1], marker='x', c='blue', s=50)\n",
    "\n",
    "# trap data with presence of WNV\n",
    "lats_wnv = traps[traps['wnv'] == 1]['lat']\n",
    "long_wnv = traps[traps['wnv'] == 1]['long']\n",
    "wnv_scatter = plt.scatter(x=long_wnv, y=lats_wnv, marker='x', c='crimson', s=50)\n",
    "\n",
    "# Legend\n",
    "plt.legend({'Weather Station 1': w_stn_1_scatter, 'Weather Station 2':w_stn_2_scatter, \n",
    "            'Spray':spray_scatter, 'Traps with no WNV':trap_scatter, 'Traps with WNV':wnv_scatter});\n"
   ]
  },
  {
   "cell_type": "markdown",
   "metadata": {
    "colab_type": "text",
    "id": "uK6JRKajRrkR"
   },
   "source": [
    "We see plenty of traps with Wnv, where spraying did not reach. Besides this, is there any trend in trap deployment, and wnv presence before (2007-2009) and after spray (2011-2013)? Let's investigate further. "
   ]
  },
  {
   "cell_type": "code",
   "execution_count": null,
   "metadata": {
    "colab": {},
    "colab_type": "code",
    "id": "Gu-PpoLSRrkR",
    "outputId": "fb25487a-9f2e-4033-ac91-391159aa4585"
   },
   "outputs": [],
   "source": [
    "# Spraying conducted in 2011 and 2013\n",
    "df_s['date'].dt.year.unique()"
   ]
  },
  {
   "cell_type": "code",
   "execution_count": null,
   "metadata": {
    "colab": {},
    "colab_type": "code",
    "id": "VM6YTF7HRrkT",
    "outputId": "09c609fc-09eb-4cb6-f2d0-5409386916e8"
   },
   "outputs": [],
   "source": [
    "# year period in train data\n",
    "df_train_w['date'].dt.year.unique()"
   ]
  },
  {
   "cell_type": "code",
   "execution_count": null,
   "metadata": {
    "colab": {},
    "colab_type": "code",
    "id": "8hRr8TsQRrkV",
    "outputId": "668d94b9-0b6e-447c-8ece-e64a9cd9b247"
   },
   "outputs": [],
   "source": [
    "# Identify index where 2011 starts\n",
    "df_train_w.loc[(df_train_w['yr'])==2011].head(2)"
   ]
  },
  {
   "cell_type": "markdown",
   "metadata": {
    "colab_type": "text",
    "id": "LAwTXCTmRrkY"
   },
   "source": [
    "Index for before spray is from 0 to 4757 of df_train_w."
   ]
  },
  {
   "cell_type": "markdown",
   "metadata": {
    "colab_type": "text",
    "id": "vOiOYwjfRrkZ"
   },
   "source": [
    "### Map of Trap deployed, Wnv presence before spray(2007-2009) and after (2011-2013)"
   ]
  },
  {
   "cell_type": "code",
   "execution_count": null,
   "metadata": {
    "colab": {},
    "colab_type": "code",
    "id": "3jpMumHtRrkZ"
   },
   "outputs": [],
   "source": [
    "# Paramters for mapping\n",
    "url ='https://raw.githubusercontent.com/AngShengJun/dsi14P4/master/assets/input/mapdata_copyright_openstreetmap_contributors.txt'\n",
    "mapdata = np.loadtxt(url)\n",
    "\n",
    "# Set Mapping aspect\n",
    "aspect = mapdata.shape[0] * 1.0 / mapdata.shape[1]\n",
    "lon_lat_box = (-88, -87.5, 41.6, 42.1)\n",
    "\n",
    "# Before spray traps data\n",
    "traps_bspray = df_train_w[['date', 'trap','long', 'lat', 'wnv']][0:4758]\n",
    "# After spray traps data\n",
    "traps_aspray = df_train_w[['date', 'trap','long', 'lat', 'wnv']][4759:]\n",
    "# Station 1\n",
    "lats_station1 = 41.995\n",
    "long_station1 =  -87.933\n",
    "# Station 2\n",
    "lats_station2 = 41.786 \n",
    "long_station2 = -87.752\n",
    "\n",
    "# spray data\n",
    "lats_spray = df_s['lat']\n",
    "long_spray = df_s['long']\n",
    "\n",
    "# trap data before spray (2007,2009)\n",
    "locations_b = traps_bspray[['long', 'lat']].drop_duplicates().values\n",
    "# trap data with WNV before spray (2007,2009)\n",
    "lats_wnv_b = traps_bspray[traps_bspray['wnv'] == 1]['lat']\n",
    "long_wnv_b = traps_bspray[traps_bspray['wnv'] == 1]['long']\n",
    "\n",
    "# trap data after spray (2011,2013)\n",
    "locations_a = traps_aspray[['long', 'lat']].drop_duplicates().values\n",
    "# trap data with WNV after spray (2011,2013)\n",
    "lats_wnv_a = traps_aspray[traps_aspray['wnv'] == 1]['lat']\n",
    "long_wnv_a = traps_aspray[traps_aspray['wnv'] == 1]['long']\n"
   ]
  },
  {
   "cell_type": "code",
   "execution_count": null,
   "metadata": {
    "colab": {},
    "colab_type": "code",
    "id": "6BMXEacLRrkd",
    "outputId": "fce01608-8836-4163-b453-1283f46fd324"
   },
   "outputs": [],
   "source": [
    "# Plot the maps, Code from src folder file 'measurement_locations.ipynb, modified to suit needs\n",
    "# Set Figure size\n",
    "plt.figure(figsize=(14,16))\n",
    "\n",
    "# Before spray(left)\n",
    "plt.subplot(1,2,1)\n",
    "plt.imshow(mapdata, cmap=plt.get_cmap('gray'), extent=lon_lat_box, aspect=aspect)\n",
    "# weather station 1\n",
    "w_stn_1_scatter = plt.scatter(x=long_station1, y=lats_station1, c='b', s=50)\n",
    "# weather station 2\n",
    "w_stn_2_scatter = plt.scatter(x=long_station2, y=lats_station2, c='b', s=50)\n",
    "# trap data\n",
    "trap_scatter_b = plt.scatter(locations_b[:,0], locations_b[:,1], marker='x', c='blue', s=50)\n",
    "# trap data with WNV\n",
    "wnv_scatter_b = plt.scatter(x=long_wnv_b, y=lats_wnv_b, marker='x', c='crimson', s=50)\n",
    "# Legend and Title\n",
    "plt.legend({'Weather Station 1': w_stn_1_scatter, 'Weather Station 2':w_stn_2_scatter,\n",
    "            'Traps with no WNV':trap_scatter_b, 'Traps with WNV':wnv_scatter_b});\n",
    "plt.title('Traps (2007 & 2009)')\n",
    "\n",
    "# After spray(right)\n",
    "plt.subplot(1,2,2)\n",
    "plt.imshow(mapdata, cmap=plt.get_cmap('gray'), extent=lon_lat_box, aspect=aspect)\n",
    "# weather station 1\n",
    "w_stn_1_scatter = plt.scatter(x=long_station1, y=lats_station1, c='b', s=50)\n",
    "# weather station 2\n",
    "w_stn_2_scatter = plt.scatter(x=long_station2, y=lats_station2, c='b', s=50)\n",
    "# spray data\n",
    "spray_scatter = plt.scatter(x=long_spray, y=lats_spray, c='g', s=35)\n",
    "# trap data\n",
    "trap_scatter_a = plt.scatter(locations_a[:,0], locations_a[:,1], marker='x', c='blue', s=50)\n",
    "# trap data with WNV\n",
    "wnv_scatter_a = plt.scatter(x=long_wnv_a, y=lats_wnv_a, marker='x', c='crimson', s=50)\n",
    "# Legend & Title\n",
    "plt.legend({'Weather Station 1': w_stn_1_scatter, 'Weather Station 2':w_stn_2_scatter, \n",
    "            'Spray':spray_scatter, 'Traps with no WNV':trap_scatter_a, 'Traps with WNV':wnv_scatter_a})\n",
    "plt.title('Traps and Spray (2011 & 2013)');"
   ]
  },
  {
   "cell_type": "markdown",
   "metadata": {
    "colab_type": "text",
    "id": "F1PBnNZoRrkf"
   },
   "source": [
    "It appears the number of traps decreased in years 2011 and 2013. Spraying commenced in year 2011. Did the instances of mosquitos (and Wnv) decreased from 2011 onwards? Let's investigate deeper."
   ]
  },
  {
   "cell_type": "code",
   "execution_count": null,
   "metadata": {
    "colab": {},
    "colab_type": "code",
    "id": "AVHsybfDRrkg",
    "outputId": "2dfecc5f-8bee-46df-817d-3486da67adc5"
   },
   "outputs": [],
   "source": [
    "# Identify index where 2007,2009,2011,2013 starts\n",
    "yr_lst=[2007,2009,2011,2013]\n",
    "print('Index in df_train_w for start of each year:')\n",
    "for i in yr_lst:\n",
    "    print(df_train_w.loc[(df_train_w['yr'])==i].head(1).index)"
   ]
  },
  {
   "cell_type": "code",
   "execution_count": null,
   "metadata": {
    "colab": {},
    "colab_type": "code",
    "id": "T1-hplqzRrkj"
   },
   "outputs": [],
   "source": [
    "# Mos n Wnv for each yr period\n",
    "mos_2007 = df_train_w[['spc','trap','num_mos','wnv']][0:2837]\n",
    "mos_2009 = df_train_w[['spc','trap','num_mos','wnv']][2837:4758]\n",
    "mos_2011 = df_train_w[['spc','trap','num_mos','wnv']][4758:6552]\n",
    "mos_2013 = df_train_w[['spc','trap','num_mos','wnv']][6552:]\n"
   ]
  },
  {
   "cell_type": "markdown",
   "metadata": {
    "colab_type": "text",
    "id": "mX94Z2FQRrkl"
   },
   "source": [
    "### Mos count for each year"
   ]
  },
  {
   "cell_type": "code",
   "execution_count": null,
   "metadata": {
    "colab": {},
    "colab_type": "code",
    "id": "FP5ITpK-Rrkm",
    "outputId": "366d726a-a1f1-4f89-f854-c295042292d9"
   },
   "outputs": [],
   "source": [
    "# Set figure size\n",
    "f = plt.figure(figsize=(15,4))\n",
    "\n",
    "# Subplots for Species distribution(left), vectors distribution (right), y-axis shared\n",
    "# 2row,2col,1stplot (Top left)\n",
    "ax1 = plt.subplot(1,4,1)\n",
    "mos_2007.groupby('spc')['num_mos'].sum().plot(kind='bar')\n",
    "plt.title('Mos qty (2007) no spray',fontsize=12)\n",
    "\n",
    "# 2row,2col,2ndplot (Top right)\n",
    "ax2 = plt.subplot(1,4,2,sharey=ax1)\n",
    "mos_2009.groupby('spc')['num_mos'].sum().plot(kind='bar')\n",
    "plt.title('Mos qty (2009) no spray',fontsize=12)\n",
    "\n",
    "# 2row,2col,3rdplot (Bottom left)\n",
    "ax3 = plt.subplot(1,4,3,sharey=ax1)\n",
    "mos_2011.groupby('spc')['num_mos'].sum().plot(kind='bar')\n",
    "plt.title('Mos qty (2011) spray',fontsize=12)\n",
    "\n",
    "# 2row,2col,4thplot (Bottom right)\n",
    "ax4 = plt.subplot(1,4,4,sharey=ax1)\n",
    "mos_2013.groupby('spc')['num_mos'].sum().plot(kind='bar')\n",
    "plt.title('Mos qty (2013) spray',fontsize=12);"
   ]
  },
  {
   "cell_type": "markdown",
   "metadata": {
    "colab_type": "text",
    "id": "zLPxRZ7iRrko"
   },
   "source": [
    "- Mosquito trapped decreased between 2007 and 2009. This is due to the decreased number of traps deployed in 2009.\n",
    "- Spraying has some effect in decreasing mosquito quantity (between 2009 & 2011) captured in traps. We could infer that spraying in general, has an effect in controlling the general mosquito population. \n",
    "\n",
    "Number of trapped mosquitos increased in 2013. Some potential factors:\n",
    " - Increased trap quantity\n",
    " - Trap location changed\n",
    " - Increased collection from traps\n",
    " - Abnormal favourably weather conditions\n",
    " - Decrease spraying\n",
    " \n",
    "We investigate these accordingly."
   ]
  },
  {
   "cell_type": "markdown",
   "metadata": {
    "colab_type": "text",
    "id": "H6IM8_iGRrkt"
   },
   "source": [
    "### Wnv prevalence for each year"
   ]
  },
  {
   "cell_type": "code",
   "execution_count": null,
   "metadata": {
    "colab": {},
    "colab_type": "code",
    "id": "aZr3MOlIRrkv",
    "outputId": "075654b3-29d6-4211-e0e5-07a6964ec0bb"
   },
   "outputs": [],
   "source": [
    "# Mos count for each year\n",
    "# Set figure size\n",
    "f = plt.figure(figsize=(15,4))\n",
    "\n",
    "# Subplots for Species distribution(left), vectors distribution (right), y-axis shared\n",
    "# 2row,2col,1stplot (Top left)\n",
    "ax1 = plt.subplot(1,4,1)\n",
    "mos_2007.groupby('spc')['wnv'].sum().plot(kind='bar')\n",
    "plt.title('Wnv count (2007) no spray',fontsize=12)\n",
    "\n",
    "# 2row,2col,2ndplot (Top right)\n",
    "ax2 = plt.subplot(1,4,2,sharey=ax1)\n",
    "mos_2009.groupby('spc')['wnv'].sum().plot(kind='bar')\n",
    "plt.title('Wnv count (2009) no spray',fontsize=12)\n",
    "\n",
    "# 2row,2col,3rdplot (Bottom left)\n",
    "ax3 = plt.subplot(1,4,3,sharey=ax1)\n",
    "mos_2011.groupby('spc')['wnv'].sum().plot(kind='bar')\n",
    "plt.title('Wnv count (2011) spray',fontsize=12)\n",
    "\n",
    "# 2row,2col,4thplot (Bottom right)\n",
    "ax4 = plt.subplot(1,4,4,sharey=ax1)\n",
    "mos_2013.groupby('spc')['wnv'].sum().plot(kind='bar')\n",
    "plt.title('Wnv count (2013) spray',fontsize=12);"
   ]
  },
  {
   "cell_type": "markdown",
   "metadata": {
    "colab_type": "text",
    "id": "ZezlpK_qRrkz"
   },
   "source": [
    "There is a a spike in Wnv cases (outbreak) in 2013.\n",
    "\n",
    "> Indented block\n",
    "\n"
   ]
  },
  {
   "cell_type": "code",
   "execution_count": null,
   "metadata": {
    "colab": {},
    "colab_type": "code",
    "id": "X4hlYVhzRrkz",
    "outputId": "54a4d8f6-df11-4783-ea9b-2966aebff301"
   },
   "outputs": [],
   "source": [
    "# Investigate if the trend in mosquito count is correlated with number of traps deployed\n",
    "mos_yrlst = [mos_2007,mos_2009,mos_2011,mos_2013]\n",
    "yr_mark = 2007\n",
    "for i in mos_yrlst:\n",
    "    print(f\"yr:{yr_mark}, traps deployed:{len(i['trap'].unique())}, collectns:{i['trap'].value_counts().sum()}\")\n",
    "    yr_mark+=2 "
   ]
  },
  {
   "cell_type": "markdown",
   "metadata": {
    "colab_type": "text",
    "id": "yXsb3HCNRrk2"
   },
   "source": [
    "Indeed, the number of traps deployed decreased in 2009 onwards. This correlates with the decrease in traps in the map for period 2011-2013, and is likely the explanation for the drop in trapped mosquitos in year 2009."
   ]
  },
  {
   "cell_type": "code",
   "execution_count": null,
   "metadata": {
    "colab": {},
    "colab_type": "code",
    "id": "aN0WIz13Rrk2"
   },
   "outputs": [],
   "source": [
    "# Put the figures into dataframe for plotting\n",
    "data = {'yr':  ['2007','2009','2011','2013'],\n",
    "        'traps_dplyd': [116,74,81,74],\n",
    "        'collect' : [2837,1921,1794,2058]}\n",
    "\n",
    "df_trp = pd.DataFrame(data,columns=['yr','traps_dplyd','collect'])\n",
    "df_trp['yr'] = pd.to_datetime(df_trp['yr'])\n",
    "df_trp['yr'] = df_trp['yr'].dt.year"
   ]
  },
  {
   "cell_type": "code",
   "execution_count": null,
   "metadata": {
    "colab": {},
    "colab_type": "code",
    "id": "3qFBpFCIRrk4",
    "outputId": "a3d69e72-ae4e-412a-a84d-278e3ba8fece"
   },
   "outputs": [],
   "source": [
    "# Checking off datatypes\n",
    "df_trp.info()"
   ]
  },
  {
   "cell_type": "code",
   "execution_count": null,
   "metadata": {
    "colab": {},
    "colab_type": "code",
    "id": "vllpBU3HRrk7",
    "outputId": "a07cd7ec-db88-4b5a-b5a8-2163e5983d88"
   },
   "outputs": [],
   "source": [
    "f = plt.figure(figsize=(16,8))\n",
    "\n",
    "# Subplots for Species distribution(left), vectors distribution (right), y-axis shared\n",
    "# 2row,2col,1stplot (Top left)\n",
    "ax1 = plt.subplot(2,1,1)\n",
    "plt.plot(df_trp['yr'], df_trp['traps_dplyd'])\n",
    "plt.title('Trap deployed over years',fontsize=14)\n",
    "plt.yticks(fontsize=12)\n",
    "plt.xticks(fontsize=12)\n",
    "# 2row,2col,2ndplot (Top right)\n",
    "ax2 = plt.subplot(2,1,2)\n",
    "plt.plot(df_trp['yr'], df_trp['collect'])\n",
    "plt.title('Collections from traps over years',fontsize=14)\n",
    "plt.yticks(fontsize=12)\n",
    "plt.xticks(fontsize=12);"
   ]
  },
  {
   "cell_type": "markdown",
   "metadata": {
    "colab_type": "text",
    "id": "nEnTDftDRrk9"
   },
   "source": [
    "With the number of traps deployed and collections being generally consistent for 2009, 2011 and 2013, we could opt\n",
    "them out as contributors to increase in mosquito trapped and Wnv cases in year 2013. Next we investigate Trap locations."
   ]
  },
  {
   "cell_type": "code",
   "execution_count": null,
   "metadata": {
    "colab": {},
    "colab_type": "code",
    "id": "502aMsguRrk9"
   },
   "outputs": [],
   "source": [
    "# Investigate difference in traps deployed between 2011 and 2013\n",
    "trap_lst11 = np.array(mos_2011['trap'])\n",
    "trap_lst13 = np.array(mos_2013['trap'])"
   ]
  },
  {
   "cell_type": "code",
   "execution_count": null,
   "metadata": {
    "colab": {},
    "colab_type": "code",
    "id": "U_FByd-gRrlD",
    "outputId": "6bad67c6-0ff6-4e87-c7bb-5215abd5380f"
   },
   "outputs": [],
   "source": [
    "# Unique traps in deployed in 2013 but not in 2011.\n",
    "np.setdiff1d(trap_lst13, trap_lst11)\n",
    "# the two new traps are T054C (with wnv), and T094B (no wnv)"
   ]
  },
  {
   "cell_type": "code",
   "execution_count": null,
   "metadata": {
    "colab": {},
    "colab_type": "code",
    "id": "xml_bdpwRrlF"
   },
   "outputs": [],
   "source": [
    "# dataframe for wnv outbreak analysis\n",
    "df_2013wnv_pos = pd.DataFrame(df_train_w.loc[(df_train_w['yr']==2013)&(df_train_w['wnv']==1)])\n",
    "df_2013wnv_neg = pd.DataFrame(df_train_w.loc[(df_train_w['yr']==2013)&(df_train_w['wnv']==0)])"
   ]
  },
  {
   "cell_type": "code",
   "execution_count": null,
   "metadata": {
    "colab": {},
    "colab_type": "code",
    "id": "m4LDf6m2RrlI",
    "outputId": "f7327b80-b2e0-41e2-fc51-df0455f4568d"
   },
   "outputs": [],
   "source": [
    "# How much wnv cases did these two new traps contribute?\n",
    "print(df_2013wnv_pos.loc[df_2013wnv_pos['trap']=='T054C']['num_mos'])\n",
    "print(df_2013wnv_neg.loc[df_2013wnv_neg['trap']=='T094B']['num_mos'])"
   ]
  },
  {
   "cell_type": "markdown",
   "metadata": {
    "colab_type": "text",
    "id": "oRfsSo4YRrlL"
   },
   "source": [
    "T054C trap alone only accounted for 45 wnv cases (hardly significant) for 2013. The new traps couldn't account for the spike in wnv for 2013. That leaves abnormal weather conditions that favoured mosquito breeding (thereby increased trapped mosquitos and Wnv positives). \n",
    "\n",
    "Before that, we take a detour to examine if the location of the traps (with wnv) deployed for 2013 would provide good insights into the area for targetted spraying. Two questions come to mind: \n",
    "\n",
    "- Where are the traps with Wnv mosquitos, relative to spray areas for year 2013? \n",
    "- Was there any compelling reasons for the spray areas of 2013?\n",
    "- Was spraying frequency reduced in year 2013?"
   ]
  },
  {
   "cell_type": "code",
   "execution_count": null,
   "metadata": {
    "colab": {},
    "colab_type": "code",
    "id": "zPbJ_hX8RrlM",
    "outputId": "6634c234-49aa-4269-cadd-d7b71d176bb1"
   },
   "outputs": [],
   "source": [
    "# Create a year column for spray data\n",
    "df_s['yr'] = pd.to_datetime(df_s['date'])\n",
    "df_s['yr'] = df_s['yr'].dt.year\n",
    "df_s.head()"
   ]
  },
  {
   "cell_type": "code",
   "execution_count": null,
   "metadata": {
    "colab": {},
    "colab_type": "code",
    "id": "XO_GB1hYRrlP",
    "outputId": "71f3b49f-bab3-46d1-b5d2-a814b38a39c8"
   },
   "outputs": [],
   "source": [
    "# Review the count of traps with wnv incidences for 2013\n",
    "display(df_2013wnv_pos.groupby(['trap']).sum()[['num_mos']].sort_values(['num_mos'],ascending=False)[:5])"
   ]
  },
  {
   "cell_type": "code",
   "execution_count": null,
   "metadata": {
    "colab": {},
    "colab_type": "code",
    "id": "a7WRUk0GRrlR"
   },
   "outputs": [],
   "source": [
    "# Emphirically consider traps with more than 100 mosquitos as traps with high incidences, for year 2013\n",
    "df_2013_pos = df_2013wnv_pos.groupby(['trap',\\\n",
    "                                      'lat',\\\n",
    "                                      'long']).sum()[['num_mos']].sort_values(['num_mos'],ascending=False).reset_index()\n",
    "df_2013_posh = df_2013_pos.loc[df_2013_pos['num_mos']>100]\n",
    "df_2013_posl = df_2013_pos.loc[df_2013_pos['num_mos']<100]"
   ]
  },
  {
   "cell_type": "code",
   "execution_count": null,
   "metadata": {
    "colab": {},
    "colab_type": "code",
    "id": "xfeYf9BkRrlT"
   },
   "outputs": [],
   "source": [
    "# Paramters for mapping\n",
    "# Code from src folder file 'measurement_locations.ipynb, modified to suit needs\n",
    "\n",
    "# spray area for 2013\n",
    "spray13 = df_s.loc[(df_s['yr']==2013)]\n",
    "lats_spray = spray13['lat']\n",
    "long_spray = spray13['long']\n",
    "# trap data with high WNV count year 2013\n",
    "lats_wnvh = df_2013_posh['lat']\n",
    "long_wnvh = df_2013_posh['long']\n",
    "# all other trap with wnv year 2013\n",
    "lats_wnvl = df_2013_posl['lat']\n",
    "long_wnvl = df_2013_posl['long']\n",
    "\n",
    "# trap data for year 2011\n",
    "traps_2011 = df_train_w[['date', 'trap','long', 'lat', 'wnv']][4758:6552]\n",
    "locations_2011 = traps_2011[['long', 'lat']].drop_duplicates().values\n",
    "# trap data with WNV after spray (2011,2013)\n",
    "lats_wnv_2011 = traps_2011[traps_2011['wnv'] == 1]['lat']\n",
    "long_wnv_2011 = traps_2011[traps_2011['wnv'] == 1]['long']"
   ]
  },
  {
   "cell_type": "code",
   "execution_count": null,
   "metadata": {
    "colab": {},
    "colab_type": "code",
    "id": "I22Mf5beRrlV",
    "outputId": "575fcf08-5a52-4c42-f502-d599b5f0c815"
   },
   "outputs": [],
   "source": [
    "# Code from src folder file 'measurement_locations.ipynb, modified to suit needs\n",
    "# Set Figure size\n",
    "plt.figure(figsize=(14,16))\n",
    "\n",
    "# 2013 Hi-wnv traps and spray region\n",
    "plt.subplot(1,2,1)\n",
    "plt.imshow(mapdata, cmap=plt.get_cmap('gray'), extent=lon_lat_box, aspect=aspect)\n",
    "# weather station 1\n",
    "w_stn_1_scatter = plt.scatter(x=long_station1, y=lats_station1, c='b', s=50)\n",
    "# weather station 2\n",
    "w_stn_2_scatter = plt.scatter(x=long_station2, y=lats_station2, c='b', s=50)\n",
    "# spray area for 2013\n",
    "spray_scatter = plt.scatter(x=long_spray, y=lats_spray, c='g', s=35)\n",
    "# trap data with high WNV count\n",
    "trap_scatter = plt.scatter(x=long_wnvh, y=lats_wnvh, marker='*', c='black', s=50)\n",
    "# rest of trap with wnv\n",
    "trap_scatterl = plt.scatter(x=long_wnvl, y=lats_wnvl, marker='x', c='crimson', s=50)\n",
    "# Legend\n",
    "plt.legend({'Weather Station 1': w_stn_1_scatter, 'Weather Station 2':w_stn_2_scatter, \n",
    "            'Spray':spray_scatter, 'Traps (>100 WNV)':trap_scatter, 'Traps (<100 WNV)':trap_scatterl});\n",
    "plt.title('Hi-Wnv Traps and Spray (2013)');\n",
    "\n",
    "# Overlay 2013 spray with 2011 traps\n",
    "plt.subplot(1,2,2)\n",
    "plt.imshow(mapdata, cmap=plt.get_cmap('gray'), extent=lon_lat_box, aspect=aspect)\n",
    "# weather station 1\n",
    "w_stn_1_scatter = plt.scatter(x=long_station1, y=lats_station1, c='b', s=50)\n",
    "# weather station 2\n",
    "w_stn_2_scatter = plt.scatter(x=long_station2, y=lats_station2, c='b', s=50)\n",
    "# spray area for 2013\n",
    "spray_scatter = plt.scatter(x=long_spray, y=lats_spray, c='g', s=35)\n",
    "# trap data\n",
    "traps_2011 = plt.scatter(locations_2011[:,0], locations_2011[:,1], marker='x', c='blue', s=50)\n",
    "# trap data with WNV\n",
    "wnv_scatter_2011 = plt.scatter(x=long_wnv_2011, y=lats_wnv_2011, marker='x', c='crimson', s=50)\n",
    "# Legend\n",
    "plt.legend({'Weather Station 1': w_stn_1_scatter, 'Weather Station 2':w_stn_2_scatter, \n",
    "            'Spray':spray_scatter, 'Traps with no WNV':traps_2011, 'Traps with WNV':wnv_scatter_2011})\n",
    "plt.title('2011 traps versus 2013 Spray');"
   ]
  },
  {
   "cell_type": "markdown",
   "metadata": {
    "colab_type": "text",
    "id": "iKofRyLORrla"
   },
   "source": [
    "- (Left Map) In 2013, the spraying operation missed some areas with high incidences of Wnv (above 100). \n",
    "- (Right Map) 2011 wnv incidences didn't not seem to be the determining factor for 2013 spray areas.\n",
    "\n",
    "- Next spray ops should focus on locations of traps with high wnv (black star).\n",
    "- We review optimal frequency for spraying ops in subsequent eda.\n",
    "\n",
    "Remaining areas to investigate:\n",
    "- What weather conditions led to spike in mosquitos for 2013?\n",
    "- Was there a reduction in spray frequency for 2013?  "
   ]
  },
  {
   "cell_type": "markdown",
   "metadata": {
    "colab_type": "text",
    "id": "kbLPHVzPRrla"
   },
   "source": [
    "### Time series plots"
   ]
  },
  {
   "cell_type": "markdown",
   "metadata": {
    "colab_type": "text",
    "id": "fsPXx8RZRrlb"
   },
   "source": [
    "We observed that the Mosquito population generally peaks in at onset of week 27 and continues to week 34 (early July - late Aug). In this section, we set out to identify the weather conditions that favoured mosquito population growth. Also we take opportunity to study frequency of spray on mosquito population."
   ]
  },
  {
   "cell_type": "code",
   "execution_count": null,
   "metadata": {
    "colab": {},
    "colab_type": "code",
    "id": "cmNb9_9JRrlb"
   },
   "outputs": [],
   "source": [
    "# Copy of cleaned merged train-weather data for referencing\n",
    "df_nt = df_train_w.groupby(['date','trap','spc','lat','long','wnv',\\\n",
    "                            'daylight','windspeed','precip']).sum()[[\"num_mos\"]].reset_index()\n",
    "df_nt_2007 = df_nt[df_nt['date'].dt.year==2007]\n",
    "df_nt_2009 = df_nt[df_nt['date'].dt.year==2009]\n",
    "df_nt_2011= df_nt[df_nt['date'].dt.year==2011]\n",
    "df_nt_2013 = df_nt[df_nt['date'].dt.year==2013]\n",
    "\n",
    "#created a copy to set date as index.\n",
    "df_train_w_2 = df_train_w.copy()\n",
    "df_train_w_2.set_index(pd.DatetimeIndex(df_train_w_2['date']), inplace=True)\n",
    "\n",
    "#creating timestamps\n",
    "ts_2007 = pd.to_datetime('1/1/2007')\n",
    "ts_2008 = pd.to_datetime('1/1/2008')\n",
    "ts_2009 = pd.to_datetime('1/1/2009')\n",
    "ts_2010 = pd.to_datetime('1/1/2010')\n",
    "ts_2011 = pd.to_datetime('1/1/2011')\n",
    "ts_2012 = pd.to_datetime('1/1/2012')\n",
    "ts_2013 = pd.to_datetime('1/1/2013')"
   ]
  },
  {
   "cell_type": "markdown",
   "metadata": {
    "colab_type": "text",
    "id": "K7OTI9dlRrle"
   },
   "source": [
    "### Mosquitos trapped versus daylight over 4 years\n",
    "\n",
    "1.   List item\n",
    "2.   List item\n",
    "\n"
   ]
  },
  {
   "cell_type": "code",
   "execution_count": null,
   "metadata": {
    "colab": {},
    "colab_type": "code",
    "id": "6YWuEcHTRrle",
    "outputId": "5c7c5304-3917-44cc-a39d-fcbe1f5d6f65"
   },
   "outputs": [],
   "source": [
    "# mosquito trapped versus daylight over the 4 years\n",
    "fig, (ax1, ax2, ax3, ax4)  = plt.subplots(nrows=4,ncols=1, figsize=(16,9), sharey=True)\n",
    "plt.subplots_adjust(hspace=0.5)\n",
    "plt.suptitle('daylight')\n",
    "\n",
    "#2007\n",
    "ax5=ax1.twinx()\n",
    "ax1.plot(df_nt_2007.groupby('date')['num_mos'].sum())\n",
    "ax5.plot(df_train_w_2[df_train_w_2['date'] < ts_2008]['daylight'], color='darkorange', label='daylight')\n",
    "ax1.set_title('2007')\n",
    "ax5.legend()\n",
    "\n",
    "#2009\n",
    "ax6=ax2.twinx()\n",
    "ax6.plot(df_train_w_2[(df_train_w_2['date'] < ts_2010) & (df_train_w_2['date'] > ts_2009)]['daylight'], color='darkorange')\n",
    "ax2.plot(df_nt_2009.groupby('date')['num_mos'].sum())\n",
    "ax2.set_title('2009')\n",
    "\n",
    "#2011\n",
    "ax7=ax3.twinx()\n",
    "ax7.plot(df_train_w_2[(df_train_w_2['date'] < ts_2012) & (df_train_w_2['date'] > ts_2010)]['daylight'], color='darkorange')\n",
    "ax3.plot(df_nt_2011.groupby('date')['num_mos'].sum())\n",
    "ax3.vlines(x=pd.to_datetime('2011-09-07', format='%Y-%m-%d'),ymin=0,ymax=4000,color='r')\n",
    "ax3.set_title('2011')\n",
    "\n",
    "#2013\n",
    "ax8=ax4.twinx()\n",
    "ax8.plot(df_train_w_2[(df_train_w_2['date'] > ts_2013)]['daylight'], color='darkorange')\n",
    "ax4.plot(df_nt_2013.groupby('date')['num_mos'].sum(),label='Mos')\n",
    "for x in df_s['date'].unique()[1:]:\n",
    "    ax4.vlines(x=pd.to_datetime(x),ymin=0,ymax=4000,color='r',alpha=0.6)\n",
    "ax4.set_title('2013')\n",
    "ax4.legend();"
   ]
  },
  {
   "cell_type": "markdown",
   "metadata": {
    "colab_type": "text",
    "id": "MRCrh4F1Rrlh"
   },
   "source": [
    "Daylight is not a strong contributor to mosquito population growth. The daylight pattern is generally consistent , while mosquito trapped vary across the four years."
   ]
  },
  {
   "cell_type": "markdown",
   "metadata": {
    "colab_type": "text",
    "id": "fr8Z2bN4Rrlj"
   },
   "source": [
    "### Mosquito trapped versus average temperature over the 4 years"
   ]
  },
  {
   "cell_type": "code",
   "execution_count": null,
   "metadata": {
    "colab": {},
    "colab_type": "code",
    "id": "MQw-4gubRrlj",
    "outputId": "64cf6cef-fb8f-43f7-a26b-ae833fb80a92"
   },
   "outputs": [],
   "source": [
    "fig, (ax1, ax2, ax3, ax4)  = plt.subplots(nrows=4,ncols=1, figsize=(16,9), sharey=True)\n",
    "plt.subplots_adjust(hspace=0.5)\n",
    "plt.suptitle('num_mos')\n",
    "\n",
    "#2007\n",
    "ax5=ax1.twinx()\n",
    "ax1.plot(df_nt_2007.groupby('date')['num_mos'].sum())\n",
    "ax5.plot(df_train_w_2[df_train_w_2['date'] < ts_2008]['tavg'], color='darkorange', label='tavg')\n",
    "ax1.set_title('2007')\n",
    "ax5.legend()\n",
    "\n",
    "#2009\n",
    "ax6=ax2.twinx()\n",
    "ax6.plot(df_train_w_2[(df_train_w_2['date'] < ts_2010) & (df_train_w_2['date'] > ts_2009)]['tavg'], color='darkorange')\n",
    "ax2.plot(df_nt_2009.groupby('date')['num_mos'].sum())\n",
    "ax2.set_title('2009')\n",
    "\n",
    "#2011\n",
    "ax7=ax3.twinx()\n",
    "ax7.plot(df_train_w_2[(df_train_w_2['date'] < ts_2012) & (df_train_w_2['date'] > ts_2010)]['tavg'], color='darkorange')\n",
    "ax3.plot(df_nt_2011.groupby('date')['num_mos'].sum())\n",
    "ax3.vlines(x=pd.to_datetime('2011-09-07', format='%Y-%m-%d'),ymin=0,ymax=4000,color='r')\n",
    "ax3.set_title('2011')\n",
    "\n",
    "#2013\n",
    "ax8=ax4.twinx()\n",
    "ax8.plot(df_train_w_2[(df_train_w_2['date'] > ts_2013)]['tavg'], color='darkorange')\n",
    "ax4.plot(df_nt_2013.groupby('date')['num_mos'].sum(),label='Mos')\n",
    "for x in df_s['date'].unique()[1:]:\n",
    "    ax4.vlines(x=pd.to_datetime(x),ymin=0,ymax=4000,color='r',alpha=0.6)\n",
    "ax4.set_title('2013')\n",
    "ax4.legend();"
   ]
  },
  {
   "cell_type": "markdown",
   "metadata": {
    "colab_type": "text",
    "id": "_sioSquKRrll"
   },
   "source": [
    "Lower Tavg decreases mosquito activity, as evidenced by the downwards trend in the autumn months (september onwards). Focusing on 2013 July, for temperatures above 70F, generally the mosquito population is not negatively affected. There should be some other weather conditions that affects more strongly, mosquito population, and by extension, number trapped."
   ]
  },
  {
   "cell_type": "markdown",
   "metadata": {
    "colab_type": "text",
    "id": "1t87zMewRrll"
   },
   "source": [
    "### Mosquito trapped versus average windspeed over the 4 years"
   ]
  },
  {
   "cell_type": "code",
   "execution_count": null,
   "metadata": {
    "colab": {},
    "colab_type": "code",
    "id": "xe5ORzTeRrlm",
    "outputId": "452c1313-9460-417b-ae59-e20e604aab76"
   },
   "outputs": [],
   "source": [
    "fig, (ax1, ax2, ax3, ax4)  = plt.subplots(nrows=4,ncols=1, figsize=(16,9), sharey=True)\n",
    "plt.subplots_adjust(hspace=0.5)\n",
    "plt.suptitle('num_mos')\n",
    "\n",
    "#2007\n",
    "ax5=ax1.twinx()\n",
    "ax1.plot(df_nt_2007.groupby('date')['num_mos'].sum())\n",
    "ax5.plot(df_train_w_2[df_train_w_2['date'] < ts_2008]['windspeed'], color='darkorange', label='windspeed')\n",
    "ax1.set_title('2007')\n",
    "ax5.legend()\n",
    "\n",
    "#2009\n",
    "ax6=ax2.twinx()\n",
    "ax6.plot(df_train_w_2[(df_train_w_2['date'] < ts_2010) & (df_train_w_2['date'] > ts_2009)]['windspeed'], color='darkorange')\n",
    "ax2.plot(df_nt_2009.groupby('date')['num_mos'].sum())\n",
    "ax2.set_title('2009')\n",
    "\n",
    "#2011\n",
    "ax7=ax3.twinx()\n",
    "ax7.plot(df_train_w_2[(df_train_w_2['date'] < ts_2012) & (df_train_w_2['date'] > ts_2010)]['windspeed'], color='darkorange')\n",
    "ax3.plot(df_nt_2011.groupby('date')['num_mos'].sum())\n",
    "ax3.vlines(x=pd.to_datetime('2011-09-07', format='%Y-%m-%d'),ymin=0,ymax=4000,color='r')\n",
    "ax3.set_title('2011')\n",
    "\n",
    "#2013\n",
    "ax8=ax4.twinx()\n",
    "ax8.plot(df_train_w_2[(df_train_w_2['date'] > ts_2013)]['windspeed'], color='darkorange')\n",
    "ax4.plot(df_nt_2013.groupby('date')['num_mos'].sum(),label='Mos')\n",
    "for x in df_s['date'].unique()[1:]:\n",
    "    ax4.vlines(x=pd.to_datetime(x),ymin=0,ymax=4000,color='r',alpha=0.6)\n",
    "ax4.set_title('2013')\n",
    "ax4.legend();"
   ]
  },
  {
   "cell_type": "markdown",
   "metadata": {
    "colab_type": "text",
    "id": "IUfdJhs_Rrlq"
   },
   "source": [
    "High windspeeds is not favourable for mosquito breeding in general. For example, in month of July for both 2011 and 2013, decreasing windspeeds saw an increase in mosquito trapped and vice versa."
   ]
  },
  {
   "cell_type": "markdown",
   "metadata": {
    "colab_type": "text",
    "id": "yq7VhVv-Rrls"
   },
   "source": [
    "### Mosquito trapped versus precipitation over the 4 years"
   ]
  },
  {
   "cell_type": "code",
   "execution_count": null,
   "metadata": {
    "colab": {},
    "colab_type": "code",
    "id": "Au3ctzlpRrlt",
    "outputId": "4fa03b44-d30b-4ad3-d2f5-d0d280d4c502"
   },
   "outputs": [],
   "source": [
    "#Number of mosquitoes vs Precip\n",
    "fig, (ax1, ax2, ax3, ax4)  = plt.subplots(nrows=4,ncols=1, figsize=(16,9), sharey=True)\n",
    "plt.subplots_adjust(hspace=0.5)\n",
    "plt.suptitle('Number of Mosquitoes vs Precipitation By Year')\n",
    "\n",
    "#2007\n",
    "ax5=ax1.twinx()\n",
    "ax1.plot(df_nt_2007.groupby('date')['num_mos'].sum())\n",
    "ax5.plot(df_train_w_2[df_train_w_2['date'] < ts_2008]['precip'], color='darkorange', label='precip')\n",
    "ax1.set_title('2007')\n",
    "ax5.legend()\n",
    "\n",
    "#2009\n",
    "ax6=ax2.twinx()\n",
    "ax6.plot(df_train_w_2[(df_train_w_2['date'] < ts_2010) & (df_train_w_2['date'] > ts_2009)]['precip'], color='darkorange')\n",
    "ax2.plot(df_nt_2009.groupby('date')['num_mos'].sum())\n",
    "ax2.set_title('2009')\n",
    "\n",
    "#2011\n",
    "ax7=ax3.twinx()\n",
    "ax7.plot(df_train_w_2[(df_train_w_2['date'] < ts_2012) & (df_train_w_2['date'] > ts_2010)]['precip'], color='darkorange')\n",
    "ax3.plot(df_nt_2011.groupby('date')['num_mos'].sum())\n",
    "ax3.vlines(x=pd.to_datetime('2011-09-07', format='%Y-%m-%d'),ymin=0,ymax=6000,color='r')\n",
    "ax3.set_title('2011')\n",
    "\n",
    "#2013\n",
    "ax8=ax4.twinx()\n",
    "ax8.plot(df_train_w_2[(df_train_w_2['date'] > ts_2013)]['precip'], color='darkorange',label='precip')\n",
    "ax4.plot(df_nt_2013.groupby('date')['num_mos'].sum(),label='Mos')\n",
    "for x in df_s['date'].unique()[1:]:\n",
    "    ax4.vlines(x=pd.to_datetime(x),ymin=0,ymax=6000,color='r',alpha=0.6)\n",
    "ax4.set_title('2013')\n",
    "ax4.legend();"
   ]
  },
  {
   "cell_type": "markdown",
   "metadata": {
    "colab_type": "text",
    "id": "RPpHf6F0Rrlv"
   },
   "source": [
    "High rainfall prior to Jul in 2013 preceeded the mosquito increase. Note the relatively high number of spraying in 2013 after Jul, but not before. We can see that spraying kept the general mosquito population in check. Repeated spraying in Aug to Sept did not drive the mosquito trapped down due to spraying of specific regions.\n",
    "\n",
    "In summary:\n",
    "- Mosquito trapped decreased between 2007 and 2009, due to the decreased number of traps deployed in 2009 and onwards.\n",
    "- Spraying has some effect in decreasing mosquito quantity (between 2009 & 2011) captured in traps. We could infer that spraying in general, has an effect in controlling the general mosquito population. \n",
    "\n",
    "- The spike in mosquitos trapped and by extension, wnv instances is not due to\n",
    " - increased trap quantity\n",
    " - change in trap locations\n",
    " - increased collection from traps\n",
    "\n",
    "The increase in mosquito quantity is due to\n",
    " - heavy rainfall from mid-June to mid-Jul, supported by relatively high temperatures (average) and windspeeds (less than 10mph).\n",
    " - No spraying in months prior to Jul.\n",
    "\n",
    "We also note the spraying in 2013 has missed areas of traps with high wnv (more than 100). **To improve cost-effectiveness of spraying, the spraying should be focus in the months of Jun to Jul, and targeted in region of traps with high wnv**."
   ]
  },
  {
   "cell_type": "markdown",
   "metadata": {
    "colab_type": "text",
    "id": "g5jFVNg2Rrlv"
   },
   "source": [
    "## Feature Engineering"
   ]
  },
  {
   "cell_type": "code",
   "execution_count": null,
   "metadata": {
    "colab": {},
    "colab_type": "code",
    "id": "Nf_AdattRrl0"
   },
   "outputs": [],
   "source": [
    "# Feature engineer the 'wk', 'yr' for test\n",
    "df_test_w['wk'] = (df_test_w['date'].dt.strftime('%W')).astype(int)\n",
    "df_test_w['yr'] = (df_test_w['date'].dt.strftime('%Y')).astype(int)\n"
   ]
  },
  {
   "cell_type": "code",
   "execution_count": null,
   "metadata": {
    "colab": {},
    "colab_type": "code",
    "id": "pwO8rTaxRrl8",
    "outputId": "6bb9effe-5aec-47ea-8d1c-145736228c36"
   },
   "outputs": [],
   "source": [
    "# Review the species in train data and test data\n",
    "print(df_train_w['spc'].unique())\n",
    "print(df_test_w['spc'].unique())"
   ]
  },
  {
   "cell_type": "markdown",
   "metadata": {
    "colab_type": "text",
    "id": "KQJyI-F9Rrl-"
   },
   "source": [
    "There is a new species in the test set `UNSPECIFIED CULEX`. We have to remove this in the test data during label encoding."
   ]
  },
  {
   "cell_type": "code",
   "execution_count": null,
   "metadata": {
    "colab": {},
    "colab_type": "code",
    "id": "6WfF947z79TG"
   },
   "outputs": [],
   "source": [
    "# one-hot encoding for species\n",
    "df_test_w = pd.get_dummies(df_test_w,columns=['spc'],drop_first=True)\n",
    "\"\"\"CULEX ERRATICUS dropped as reference category, drop UNSPECIFIED CULEX as well.\"\"\"\n",
    "df_test_w.drop('spc_UNSPECIFIED CULEX',axis=1,inplace=True)\n",
    "df_train_w = pd.get_dummies(df_train_w,columns=['spc'],drop_first=True)"
   ]
  },
  {
   "cell_type": "code",
   "execution_count": null,
   "metadata": {
    "colab": {},
    "colab_type": "code",
    "id": "FviF6-IKRrmB",
    "outputId": "70e679c4-ae5c-4015-b9a7-b9ea71d1aec4"
   },
   "outputs": [],
   "source": [
    "# Review encoding of train set\n",
    "df_train_w.head(1)"
   ]
  },
  {
   "cell_type": "code",
   "execution_count": null,
   "metadata": {
    "colab": {},
    "colab_type": "code",
    "id": "T7nLB_R4RrmC",
    "outputId": "8dd11642-6b34-45b5-eb41-e5b7978fff58"
   },
   "outputs": [],
   "source": [
    "# Review encoding of test set\n",
    "df_test_w.head(1)"
   ]
  },
  {
   "cell_type": "code",
   "execution_count": null,
   "metadata": {
    "colab": {},
    "colab_type": "code",
    "id": "YxJpALITRrmE",
    "outputId": "77e5e4b1-f16a-4fad-f752-55349e99a3b6"
   },
   "outputs": [],
   "source": [
    "# Review the species in train data and test data\n",
    "print(f\" no. of unique test traps: {len(df_train_w['trap'].unique())}\")\n",
    "print(f\" no. of unique test traps: {len(df_test_w['trap'].unique())}\")"
   ]
  },
  {
   "cell_type": "code",
   "execution_count": null,
   "metadata": {
    "colab": {},
    "colab_type": "code",
    "id": "faorvcRSRrmI",
    "outputId": "72bfe9b1-074c-4685-a81e-2c26e08175a1"
   },
   "outputs": [],
   "source": [
    "# Review unique trap in train\n",
    "df_train_w['trap'].unique()"
   ]
  },
  {
   "cell_type": "code",
   "execution_count": null,
   "metadata": {
    "colab": {},
    "colab_type": "code",
    "id": "HIYR3KpTRrmK",
    "outputId": "c3e21799-94e2-4bf7-df9c-7d344bc8e185"
   },
   "outputs": [],
   "source": [
    "# Review the unique trap in test\n",
    "df_test_w['trap'].unique()"
   ]
  },
  {
   "cell_type": "code",
   "execution_count": null,
   "metadata": {
    "colab": {},
    "colab_type": "code",
    "id": "SInNxfImRrmM"
   },
   "outputs": [],
   "source": [
    "# one hot encoing for traps\n",
    "df_train_w = pd.get_dummies(df_train_w,columns=['trap'],drop_first=True)\n",
    "df_test_w = pd.get_dummies(df_test_w,columns=['trap'],drop_first=True)"
   ]
  },
  {
   "cell_type": "code",
   "execution_count": null,
   "metadata": {
    "colab": {},
    "colab_type": "code",
    "id": "fCGLo-n1RrmN",
    "outputId": "48f6f536-b9ad-4593-d474-48f180348b22"
   },
   "outputs": [],
   "source": [
    "# Identify the trap differences betwwen train & test\n",
    "df_test_w.columns.difference(df_train_w.columns)"
   ]
  },
  {
   "cell_type": "code",
   "execution_count": null,
   "metadata": {
    "colab": {},
    "colab_type": "code",
    "id": "_DZqHFLkRrmP"
   },
   "outputs": [],
   "source": [
    "# Trap T002 dropped as reference category, drop traps in not train & test\n",
    "df_test_w.drop(['trap_T002A', 'trap_T002B', 'trap_T065A', 'trap_T090A', 'trap_T090B', 'trap_T090C', 'trap_T128A',\\\n",
    "             'trap_T200A', 'trap_T200B', 'trap_T218A', 'trap_T218B', 'trap_T218C', 'trap_T234'],\\\n",
    "             axis=1,inplace=True)"
   ]
  },
  {
   "cell_type": "code",
   "execution_count": null,
   "metadata": {
    "colab": {},
    "colab_type": "code",
    "id": "FJsZ-1Q9RrmR",
    "outputId": "7c3bede4-eaeb-4513-a90e-b19c50b120f6"
   },
   "outputs": [],
   "source": [
    "# Checking-off trap harmonised between test and train\n",
    "df_test_w.columns.difference(df_train_w.columns)"
   ]
  },
  {
   "cell_type": "code",
   "execution_count": null,
   "metadata": {
    "colab": {},
    "colab_type": "code",
    "id": "YPj9z4UURrmU",
    "outputId": "2d744490-3de7-48d3-ae02-40f57c7d84cf"
   },
   "outputs": [],
   "source": [
    "df_train_w.columns.difference(df_test_w.columns)"
   ]
  },
  {
   "cell_type": "code",
   "execution_count": null,
   "metadata": {
    "colab": {},
    "colab_type": "code",
    "id": "ZncSsUY4RrmW",
    "outputId": "4475f16a-246a-431d-eba0-43c21467d472"
   },
   "outputs": [],
   "source": [
    "df_test_w.shape"
   ]
  },
  {
   "cell_type": "code",
   "execution_count": null,
   "metadata": {
    "colab": {},
    "colab_type": "code",
    "id": "Z-LPSQw9RrmY",
    "outputId": "ec36e107-8c95-4c59-8a3c-c682fb51d3dd"
   },
   "outputs": [],
   "source": [
    "df_train_w.shape"
   ]
  },
  {
   "cell_type": "markdown",
   "metadata": {
    "colab_type": "text",
    "id": "QzSn_r5nfHjo"
   },
   "source": [
    "# Saving to csv\n"
   ]
  },
  {
   "cell_type": "markdown",
   "metadata": {
    "colab_type": "text",
    "id": "P7xV5MdGRrmd"
   },
   "source": [
    "#### names of cleaned dataframe:\n",
    "- spray : df_s\n",
    "- test: df_test_w\n",
    "- train: df_tc\n",
    "- weather: df_w\n",
    "- merged train and weather : df_train_w"
   ]
  },
  {
   "cell_type": "code",
   "execution_count": null,
   "metadata": {
    "colab": {},
    "colab_type": "code",
    "id": "ldECf1oVTNPG"
   },
   "outputs": [],
   "source": [
    "# saving to CSV. All final working files will be uploaded onto github\n",
    "df_train_w.to_csv('./df_train_weather_cleaned.csv')\n",
    "df_s.to_csv('./df_spray_cleaned.csv')\n",
    "df_test_w.to_csv('./df_test_weather_cleaned.csv')"
   ]
  },
  {
   "cell_type": "code",
   "execution_count": null,
   "metadata": {
    "colab": {},
    "colab_type": "code",
    "id": "sY5mWE7DRrmf"
   },
   "outputs": [],
   "source": []
  }
 ],
 "metadata": {
  "colab": {
   "collapsed_sections": [],
   "name": "P4 EDA-DataClean-FeatureEng(Final).ipynb",
   "provenance": []
  },
  "kernelspec": {
   "display_name": "Python 3",
   "language": "python",
   "name": "python3"
  },
  "language_info": {
   "codemirror_mode": {
    "name": "ipython",
    "version": 3
   },
   "file_extension": ".py",
   "mimetype": "text/x-python",
   "name": "python",
   "nbconvert_exporter": "python",
   "pygments_lexer": "ipython3",
   "version": "3.7.4"
  }
 },
 "nbformat": 4,
 "nbformat_minor": 1
}
