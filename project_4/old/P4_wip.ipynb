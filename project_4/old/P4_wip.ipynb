{
 "cells": [
  {
   "cell_type": "markdown",
   "metadata": {
    "colab_type": "text",
    "id": "edfhqy0eqSTf"
   },
   "source": [
    "### Prelim EDA"
   ]
  },
  {
   "cell_type": "markdown",
   "metadata": {
    "colab_type": "text",
    "id": "FekQrhNdXLHa"
   },
   "source": [
    "**note** google colab doesn't have magic line, comment-in `line magic` in jupyter notebook"
   ]
  },
  {
   "cell_type": "code",
   "execution_count": 2,
   "metadata": {
    "colab": {
     "base_uri": "https://localhost:8080/",
     "height": 71
    },
    "colab_type": "code",
    "id": "no7Rn5sYqSTg",
    "outputId": "1f53c653-8fe4-48f9-9088-6a5aaa342996"
   },
   "outputs": [],
   "source": [
    "# Import libraries\n",
    "import pandas as pd\n",
    "import numpy as np\n",
    "import missingno as msno\n",
    "\n",
    "\n",
    "import matplotlib.pyplot as plt\n",
    "import seaborn as sns\n",
    "\n",
    "%matplotlib inline"
   ]
  },
  {
   "cell_type": "code",
   "execution_count": 3,
   "metadata": {
    "colab": {},
    "colab_type": "code",
    "id": "0Sh32ESYqSTj"
   },
   "outputs": [],
   "source": [
    "# Read file from github as dataframe\n",
    "\n",
    "df_spray = pd.read_csv('./datasets/predict-west-nile-virus/spray.csv/spray.csv')\n",
    "df_test = pd.read_csv('./datasets/predict-west-nile-virus/test.csv/test.csv')\n",
    "df_train = pd.read_csv('./datasets/predict-west-nile-virus/train.csv/train.csv')\n",
    "df_weather = pd.read_csv('./datasets/predict-west-nile-virus/weather.csv/weather.csv')"
   ]
  },
  {
   "cell_type": "code",
   "execution_count": 4,
   "metadata": {
    "colab": {},
    "colab_type": "code",
    "id": "ak-ZT5AfqSTm"
   },
   "outputs": [],
   "source": [
    "# Define function for basic eda\n",
    "# df.info can indicate null values, if any, so shall we keep null value function ?\n",
    "\n",
    "def data_explore(df):\n",
    "    #First two rows\n",
    "    print(\"First two rows of data:\")\n",
    "    display(df.head(2))\n",
    "    print()\n",
    "    # Print shape of dataframe\n",
    "    print(f\"Shape: {df.shape}\")\n",
    "    print()\n",
    "    # Print datatypes\n",
    "    print(\"Columns & Datatypes: \")\n",
    "    df.info()\n",
    "    print()\n",
    "    # Check for null values\n",
    "    print(\"Null values:\")\n",
    "    if df.isnull().values.any() == False:\n",
    "        print(\"None in Dataframe.\")\n",
    "    else:\n",
    "        for col in df:\n",
    "            print(f\"{col}:{df[col].isnull().sum()}\")\n",
    "    print()\n",
    "    # Count of distinct values\n",
    "    print(\"Unique values (by Columns)\")\n",
    "    for col in df:\n",
    "        print(f\"{col}:{len(df[col].unique().tolist())}\")\n",
    "    print()\n",
    "    # Inform if there are duplicates, if any\n",
    "    if df.duplicated(subset=None, keep='first').any() == False:\n",
    "      print(\"No duplicates present.\")\n",
    "    else:\n",
    "        dup = df[df.duplicated(subset=None, keep='first')]\n",
    "        print(f\"{len(dup)} duplicates in {len(df)} rows.\")"
   ]
  },
  {
   "cell_type": "code",
   "execution_count": 5,
   "metadata": {
    "colab": {},
    "colab_type": "code",
    "id": "Rl5VZP9KqST1"
   },
   "outputs": [],
   "source": [
    "# Define function to review duplicates\n",
    "# Only relevant for dataframe with duplicates\n",
    "def review_dup(df): \n",
    "    print(\"First 5 rows of duplicates:\")\n",
    "    display(df[df.duplicated(subset=None, keep='first')].head())"
   ]
  },
  {
   "cell_type": "code",
   "execution_count": 6,
   "metadata": {
    "colab": {},
    "colab_type": "code",
    "id": "Fg0apGPgqST9"
   },
   "outputs": [],
   "source": [
    "# Define function to drop duplicates\n",
    "# Only relevant for dataframe with duplicates\n",
    "# need to reset index\n",
    "def drop_dup(df):\n",
    "    print(f\"Initial rows: {df.shape[0]}\")\n",
    "    df.drop_duplicates(subset=None, inplace=True)\n",
    "    print(f\"Remaining rows: {df.shape[0]}\")"
   ]
  },
  {
   "cell_type": "markdown",
   "metadata": {
    "colab_type": "text",
    "id": "UtNLq8Ji4BJ_"
   },
   "source": [
    "### Spray data"
   ]
  },
  {
   "cell_type": "code",
   "execution_count": 7,
   "metadata": {
    "colab": {
     "base_uri": "https://localhost:8080/",
     "height": 621
    },
    "colab_type": "code",
    "id": "zHtTt0kvqSTo",
    "outputId": "449cb2ae-2b87-4f70-801c-9a5a443f06e5"
   },
   "outputs": [
    {
     "name": "stdout",
     "output_type": "stream",
     "text": [
      "First two rows of data:\n"
     ]
    },
    {
     "data": {
      "text/html": [
       "<div>\n",
       "<style scoped>\n",
       "    .dataframe tbody tr th:only-of-type {\n",
       "        vertical-align: middle;\n",
       "    }\n",
       "\n",
       "    .dataframe tbody tr th {\n",
       "        vertical-align: top;\n",
       "    }\n",
       "\n",
       "    .dataframe thead th {\n",
       "        text-align: right;\n",
       "    }\n",
       "</style>\n",
       "<table border=\"1\" class=\"dataframe\">\n",
       "  <thead>\n",
       "    <tr style=\"text-align: right;\">\n",
       "      <th></th>\n",
       "      <th>Date</th>\n",
       "      <th>Time</th>\n",
       "      <th>Latitude</th>\n",
       "      <th>Longitude</th>\n",
       "    </tr>\n",
       "  </thead>\n",
       "  <tbody>\n",
       "    <tr>\n",
       "      <td>0</td>\n",
       "      <td>2011-08-29</td>\n",
       "      <td>6:56:58 PM</td>\n",
       "      <td>42.391623</td>\n",
       "      <td>-88.089163</td>\n",
       "    </tr>\n",
       "    <tr>\n",
       "      <td>1</td>\n",
       "      <td>2011-08-29</td>\n",
       "      <td>6:57:08 PM</td>\n",
       "      <td>42.391348</td>\n",
       "      <td>-88.089163</td>\n",
       "    </tr>\n",
       "  </tbody>\n",
       "</table>\n",
       "</div>"
      ],
      "text/plain": [
       "         Date        Time   Latitude  Longitude\n",
       "0  2011-08-29  6:56:58 PM  42.391623 -88.089163\n",
       "1  2011-08-29  6:57:08 PM  42.391348 -88.089163"
      ]
     },
     "metadata": {},
     "output_type": "display_data"
    },
    {
     "name": "stdout",
     "output_type": "stream",
     "text": [
      "\n",
      "Shape: (14835, 4)\n",
      "\n",
      "Columns & Datatypes: \n",
      "<class 'pandas.core.frame.DataFrame'>\n",
      "RangeIndex: 14835 entries, 0 to 14834\n",
      "Data columns (total 4 columns):\n",
      "Date         14835 non-null object\n",
      "Time         14251 non-null object\n",
      "Latitude     14835 non-null float64\n",
      "Longitude    14835 non-null float64\n",
      "dtypes: float64(2), object(2)\n",
      "memory usage: 463.7+ KB\n",
      "\n",
      "Null values:\n",
      "Date:0\n",
      "Time:584\n",
      "Latitude:0\n",
      "Longitude:0\n",
      "\n",
      "Unique values (by Columns)\n",
      "Date:10\n",
      "Time:8584\n",
      "Latitude:12887\n",
      "Longitude:13007\n",
      "\n",
      "541 duplicates in 14835 rows.\n"
     ]
    }
   ],
   "source": [
    "# Review spray data\n",
    "data_explore(df_spray)"
   ]
  },
  {
   "cell_type": "markdown",
   "metadata": {
    "colab_type": "text",
    "id": "WfA_WtQhqSTr"
   },
   "source": [
    "584 null values in `time` column. 541 duplicates. Further review to determine way to manage null value and duplicates."
   ]
  },
  {
   "cell_type": "code",
   "execution_count": 8,
   "metadata": {
    "colab": {
     "base_uri": "https://localhost:8080/",
     "height": 419
    },
    "colab_type": "code",
    "id": "ldmHs4I0v9uC",
    "outputId": "bc7edc7d-698a-49cf-b2a5-7280bb4ad4fd"
   },
   "outputs": [
    {
     "data": {
      "text/html": [
       "<div>\n",
       "<style scoped>\n",
       "    .dataframe tbody tr th:only-of-type {\n",
       "        vertical-align: middle;\n",
       "    }\n",
       "\n",
       "    .dataframe tbody tr th {\n",
       "        vertical-align: top;\n",
       "    }\n",
       "\n",
       "    .dataframe thead th {\n",
       "        text-align: right;\n",
       "    }\n",
       "</style>\n",
       "<table border=\"1\" class=\"dataframe\">\n",
       "  <thead>\n",
       "    <tr style=\"text-align: right;\">\n",
       "      <th></th>\n",
       "      <th>Date</th>\n",
       "      <th>Time</th>\n",
       "      <th>Latitude</th>\n",
       "      <th>Longitude</th>\n",
       "    </tr>\n",
       "  </thead>\n",
       "  <tbody>\n",
       "    <tr>\n",
       "      <td>1030</td>\n",
       "      <td>2011-09-07</td>\n",
       "      <td>NaN</td>\n",
       "      <td>41.987092</td>\n",
       "      <td>-87.794286</td>\n",
       "    </tr>\n",
       "    <tr>\n",
       "      <td>1031</td>\n",
       "      <td>2011-09-07</td>\n",
       "      <td>NaN</td>\n",
       "      <td>41.987620</td>\n",
       "      <td>-87.794382</td>\n",
       "    </tr>\n",
       "    <tr>\n",
       "      <td>1032</td>\n",
       "      <td>2011-09-07</td>\n",
       "      <td>NaN</td>\n",
       "      <td>41.988004</td>\n",
       "      <td>-87.794574</td>\n",
       "    </tr>\n",
       "    <tr>\n",
       "      <td>1033</td>\n",
       "      <td>2011-09-07</td>\n",
       "      <td>NaN</td>\n",
       "      <td>41.988292</td>\n",
       "      <td>-87.795486</td>\n",
       "    </tr>\n",
       "    <tr>\n",
       "      <td>1034</td>\n",
       "      <td>2011-09-07</td>\n",
       "      <td>NaN</td>\n",
       "      <td>41.988100</td>\n",
       "      <td>-87.796014</td>\n",
       "    </tr>\n",
       "    <tr>\n",
       "      <td>...</td>\n",
       "      <td>...</td>\n",
       "      <td>...</td>\n",
       "      <td>...</td>\n",
       "      <td>...</td>\n",
       "    </tr>\n",
       "    <tr>\n",
       "      <td>1609</td>\n",
       "      <td>2011-09-07</td>\n",
       "      <td>NaN</td>\n",
       "      <td>41.995876</td>\n",
       "      <td>-87.811615</td>\n",
       "    </tr>\n",
       "    <tr>\n",
       "      <td>1610</td>\n",
       "      <td>2011-09-07</td>\n",
       "      <td>NaN</td>\n",
       "      <td>41.995972</td>\n",
       "      <td>-87.810271</td>\n",
       "    </tr>\n",
       "    <tr>\n",
       "      <td>1611</td>\n",
       "      <td>2011-09-07</td>\n",
       "      <td>NaN</td>\n",
       "      <td>41.995684</td>\n",
       "      <td>-87.810319</td>\n",
       "    </tr>\n",
       "    <tr>\n",
       "      <td>1612</td>\n",
       "      <td>2011-09-07</td>\n",
       "      <td>NaN</td>\n",
       "      <td>41.994724</td>\n",
       "      <td>-87.810415</td>\n",
       "    </tr>\n",
       "    <tr>\n",
       "      <td>1613</td>\n",
       "      <td>2011-09-07</td>\n",
       "      <td>NaN</td>\n",
       "      <td>41.993092</td>\n",
       "      <td>-87.810415</td>\n",
       "    </tr>\n",
       "  </tbody>\n",
       "</table>\n",
       "<p>584 rows × 4 columns</p>\n",
       "</div>"
      ],
      "text/plain": [
       "            Date Time   Latitude  Longitude\n",
       "1030  2011-09-07  NaN  41.987092 -87.794286\n",
       "1031  2011-09-07  NaN  41.987620 -87.794382\n",
       "1032  2011-09-07  NaN  41.988004 -87.794574\n",
       "1033  2011-09-07  NaN  41.988292 -87.795486\n",
       "1034  2011-09-07  NaN  41.988100 -87.796014\n",
       "...          ...  ...        ...        ...\n",
       "1609  2011-09-07  NaN  41.995876 -87.811615\n",
       "1610  2011-09-07  NaN  41.995972 -87.810271\n",
       "1611  2011-09-07  NaN  41.995684 -87.810319\n",
       "1612  2011-09-07  NaN  41.994724 -87.810415\n",
       "1613  2011-09-07  NaN  41.993092 -87.810415\n",
       "\n",
       "[584 rows x 4 columns]"
      ]
     },
     "execution_count": 8,
     "metadata": {},
     "output_type": "execute_result"
    }
   ],
   "source": [
    "# Review NaN value in spray data\n",
    "df_spray.loc[df_spray['Time'].isnull()]"
   ]
  },
  {
   "cell_type": "code",
   "execution_count": 9,
   "metadata": {
    "colab": {
     "base_uri": "https://localhost:8080/",
     "height": 529
    },
    "colab_type": "code",
    "id": "mdHLeqksflIq",
    "outputId": "1743c0e8-a4ec-4142-fee7-b6135d324925"
   },
   "outputs": [
    {
     "data": {
      "text/plain": [
       "<matplotlib.axes._subplots.AxesSubplot at 0x1f81e928388>"
      ]
     },
     "execution_count": 9,
     "metadata": {},
     "output_type": "execute_result"
    },
    {
     "data": {
      "image/png": "[encoded data removed]",
      "text/plain": [
       "<Figure size 1800x720 with 2 Axes>"
      ]
     },
     "metadata": {
      "needs_background": "light"
     },
     "output_type": "display_data"
    }
   ],
   "source": [
    "#Visualize missing values as a matrix \n",
    "#shows the amount and positions of missing values.\n",
    "#right hand side is line plot for each row's data completeness\n",
    "#all columns competed expcet Time coloumns\n",
    "#Time columns has missing values in the beginning part of the dataframe\n",
    "msno.matrix(df_spray) "
   ]
  },
  {
   "cell_type": "markdown",
   "metadata": {
    "colab_type": "text",
    "id": "2f65QKAvyyp3"
   },
   "source": [
    "For Date-time data, Date column seems adequate to inform on areas sprayed over time. Can revisit to impute the NaN value later if the time values are selected as predictor."
   ]
  },
  {
   "cell_type": "code",
   "execution_count": 10,
   "metadata": {
    "colab": {
     "base_uri": "https://localhost:8080/",
     "height": 221
    },
    "colab_type": "code",
    "id": "3R0DFkdHqST4",
    "outputId": "230d6aba-24b3-4438-b1f3-6df72428a811"
   },
   "outputs": [
    {
     "name": "stdout",
     "output_type": "stream",
     "text": [
      "First 5 rows of duplicates:\n"
     ]
    },
    {
     "data": {
      "text/html": [
       "<div>\n",
       "<style scoped>\n",
       "    .dataframe tbody tr th:only-of-type {\n",
       "        vertical-align: middle;\n",
       "    }\n",
       "\n",
       "    .dataframe tbody tr th {\n",
       "        vertical-align: top;\n",
       "    }\n",
       "\n",
       "    .dataframe thead th {\n",
       "        text-align: right;\n",
       "    }\n",
       "</style>\n",
       "<table border=\"1\" class=\"dataframe\">\n",
       "  <thead>\n",
       "    <tr style=\"text-align: right;\">\n",
       "      <th></th>\n",
       "      <th>Date</th>\n",
       "      <th>Time</th>\n",
       "      <th>Latitude</th>\n",
       "      <th>Longitude</th>\n",
       "    </tr>\n",
       "  </thead>\n",
       "  <tbody>\n",
       "    <tr>\n",
       "      <td>485</td>\n",
       "      <td>2011-09-07</td>\n",
       "      <td>7:43:40 PM</td>\n",
       "      <td>41.983917</td>\n",
       "      <td>-87.793088</td>\n",
       "    </tr>\n",
       "    <tr>\n",
       "      <td>490</td>\n",
       "      <td>2011-09-07</td>\n",
       "      <td>7:44:32 PM</td>\n",
       "      <td>41.986460</td>\n",
       "      <td>-87.794225</td>\n",
       "    </tr>\n",
       "    <tr>\n",
       "      <td>491</td>\n",
       "      <td>2011-09-07</td>\n",
       "      <td>7:44:32 PM</td>\n",
       "      <td>41.986460</td>\n",
       "      <td>-87.794225</td>\n",
       "    </tr>\n",
       "    <tr>\n",
       "      <td>492</td>\n",
       "      <td>2011-09-07</td>\n",
       "      <td>7:44:32 PM</td>\n",
       "      <td>41.986460</td>\n",
       "      <td>-87.794225</td>\n",
       "    </tr>\n",
       "    <tr>\n",
       "      <td>493</td>\n",
       "      <td>2011-09-07</td>\n",
       "      <td>7:44:32 PM</td>\n",
       "      <td>41.986460</td>\n",
       "      <td>-87.794225</td>\n",
       "    </tr>\n",
       "  </tbody>\n",
       "</table>\n",
       "</div>"
      ],
      "text/plain": [
       "           Date        Time   Latitude  Longitude\n",
       "485  2011-09-07  7:43:40 PM  41.983917 -87.793088\n",
       "490  2011-09-07  7:44:32 PM  41.986460 -87.794225\n",
       "491  2011-09-07  7:44:32 PM  41.986460 -87.794225\n",
       "492  2011-09-07  7:44:32 PM  41.986460 -87.794225\n",
       "493  2011-09-07  7:44:32 PM  41.986460 -87.794225"
      ]
     },
     "metadata": {},
     "output_type": "display_data"
    }
   ],
   "source": [
    "# Review duplicate in dataframe\n",
    "review_dup(df_spray)"
   ]
  },
  {
   "cell_type": "code",
   "execution_count": 11,
   "metadata": {
    "colab": {
     "base_uri": "https://localhost:8080/",
     "height": 238
    },
    "colab_type": "code",
    "id": "SIBUhVwJepTh",
    "outputId": "05a8fd62-b3d2-458f-9a2d-3d95db865b3b"
   },
   "outputs": [
    {
     "name": "stdout",
     "output_type": "stream",
     "text": [
      "Initial rows: 14835\n",
      "Remaining rows: 14294\n"
     ]
    },
    {
     "data": {
      "text/html": [
       "<div>\n",
       "<style scoped>\n",
       "    .dataframe tbody tr th:only-of-type {\n",
       "        vertical-align: middle;\n",
       "    }\n",
       "\n",
       "    .dataframe tbody tr th {\n",
       "        vertical-align: top;\n",
       "    }\n",
       "\n",
       "    .dataframe thead th {\n",
       "        text-align: right;\n",
       "    }\n",
       "</style>\n",
       "<table border=\"1\" class=\"dataframe\">\n",
       "  <thead>\n",
       "    <tr style=\"text-align: right;\">\n",
       "      <th></th>\n",
       "      <th>Date</th>\n",
       "      <th>Time</th>\n",
       "      <th>Latitude</th>\n",
       "      <th>Longitude</th>\n",
       "    </tr>\n",
       "  </thead>\n",
       "  <tbody>\n",
       "    <tr>\n",
       "      <td>0</td>\n",
       "      <td>2011-08-29</td>\n",
       "      <td>6:56:58 PM</td>\n",
       "      <td>42.391623</td>\n",
       "      <td>-88.089163</td>\n",
       "    </tr>\n",
       "    <tr>\n",
       "      <td>1</td>\n",
       "      <td>2011-08-29</td>\n",
       "      <td>6:57:08 PM</td>\n",
       "      <td>42.391348</td>\n",
       "      <td>-88.089163</td>\n",
       "    </tr>\n",
       "    <tr>\n",
       "      <td>2</td>\n",
       "      <td>2011-08-29</td>\n",
       "      <td>6:57:18 PM</td>\n",
       "      <td>42.391022</td>\n",
       "      <td>-88.089157</td>\n",
       "    </tr>\n",
       "    <tr>\n",
       "      <td>3</td>\n",
       "      <td>2011-08-29</td>\n",
       "      <td>6:57:28 PM</td>\n",
       "      <td>42.390637</td>\n",
       "      <td>-88.089158</td>\n",
       "    </tr>\n",
       "    <tr>\n",
       "      <td>4</td>\n",
       "      <td>2011-08-29</td>\n",
       "      <td>6:57:38 PM</td>\n",
       "      <td>42.390410</td>\n",
       "      <td>-88.088858</td>\n",
       "    </tr>\n",
       "  </tbody>\n",
       "</table>\n",
       "</div>"
      ],
      "text/plain": [
       "         Date        Time   Latitude  Longitude\n",
       "0  2011-08-29  6:56:58 PM  42.391623 -88.089163\n",
       "1  2011-08-29  6:57:08 PM  42.391348 -88.089163\n",
       "2  2011-08-29  6:57:18 PM  42.391022 -88.089157\n",
       "3  2011-08-29  6:57:28 PM  42.390637 -88.089158\n",
       "4  2011-08-29  6:57:38 PM  42.390410 -88.088858"
      ]
     },
     "execution_count": 11,
     "metadata": {},
     "output_type": "execute_result"
    }
   ],
   "source": [
    "# Drop duplicates, reset index\n",
    "drop_dup(df_spray)\n",
    "df_spray.reset_index(inplace=True,drop=True)\n",
    "df_spray.head()"
   ]
  },
  {
   "cell_type": "code",
   "execution_count": 12,
   "metadata": {
    "colab": {
     "base_uri": "https://localhost:8080/",
     "height": 297
    },
    "colab_type": "code",
    "id": "AwqE31Zp7B2h",
    "outputId": "895f3cfc-f9c6-4487-be4e-ff0e9c80277b"
   },
   "outputs": [
    {
     "data": {
      "text/html": [
       "<div>\n",
       "<style scoped>\n",
       "    .dataframe tbody tr th:only-of-type {\n",
       "        vertical-align: middle;\n",
       "    }\n",
       "\n",
       "    .dataframe tbody tr th {\n",
       "        vertical-align: top;\n",
       "    }\n",
       "\n",
       "    .dataframe thead th {\n",
       "        text-align: right;\n",
       "    }\n",
       "</style>\n",
       "<table border=\"1\" class=\"dataframe\">\n",
       "  <thead>\n",
       "    <tr style=\"text-align: right;\">\n",
       "      <th></th>\n",
       "      <th>Id</th>\n",
       "      <th>Block</th>\n",
       "      <th>Latitude</th>\n",
       "      <th>Longitude</th>\n",
       "      <th>AddressAccuracy</th>\n",
       "    </tr>\n",
       "  </thead>\n",
       "  <tbody>\n",
       "    <tr>\n",
       "      <td>count</td>\n",
       "      <td>116293.000000</td>\n",
       "      <td>116293.000000</td>\n",
       "      <td>116293.000000</td>\n",
       "      <td>116293.000000</td>\n",
       "      <td>116293.000000</td>\n",
       "    </tr>\n",
       "    <tr>\n",
       "      <td>mean</td>\n",
       "      <td>58147.000000</td>\n",
       "      <td>41.131100</td>\n",
       "      <td>41.849389</td>\n",
       "      <td>-87.693658</td>\n",
       "      <td>7.954357</td>\n",
       "    </tr>\n",
       "    <tr>\n",
       "      <td>std</td>\n",
       "      <td>33571.041765</td>\n",
       "      <td>24.864726</td>\n",
       "      <td>0.106593</td>\n",
       "      <td>0.080699</td>\n",
       "      <td>1.252733</td>\n",
       "    </tr>\n",
       "    <tr>\n",
       "      <td>min</td>\n",
       "      <td>1.000000</td>\n",
       "      <td>10.000000</td>\n",
       "      <td>41.644612</td>\n",
       "      <td>-87.930995</td>\n",
       "      <td>3.000000</td>\n",
       "    </tr>\n",
       "    <tr>\n",
       "      <td>25%</td>\n",
       "      <td>29074.000000</td>\n",
       "      <td>18.000000</td>\n",
       "      <td>41.753411</td>\n",
       "      <td>-87.750938</td>\n",
       "      <td>8.000000</td>\n",
       "    </tr>\n",
       "    <tr>\n",
       "      <td>50%</td>\n",
       "      <td>58147.000000</td>\n",
       "      <td>39.000000</td>\n",
       "      <td>41.862292</td>\n",
       "      <td>-87.694991</td>\n",
       "      <td>8.000000</td>\n",
       "    </tr>\n",
       "    <tr>\n",
       "      <td>75%</td>\n",
       "      <td>87220.000000</td>\n",
       "      <td>61.000000</td>\n",
       "      <td>41.951866</td>\n",
       "      <td>-87.648860</td>\n",
       "      <td>9.000000</td>\n",
       "    </tr>\n",
       "    <tr>\n",
       "      <td>max</td>\n",
       "      <td>116293.000000</td>\n",
       "      <td>98.000000</td>\n",
       "      <td>42.017430</td>\n",
       "      <td>-87.531635</td>\n",
       "      <td>9.000000</td>\n",
       "    </tr>\n",
       "  </tbody>\n",
       "</table>\n",
       "</div>"
      ],
      "text/plain": [
       "                  Id          Block       Latitude      Longitude  \\\n",
       "count  116293.000000  116293.000000  116293.000000  116293.000000   \n",
       "mean    58147.000000      41.131100      41.849389     -87.693658   \n",
       "std     33571.041765      24.864726       0.106593       0.080699   \n",
       "min         1.000000      10.000000      41.644612     -87.930995   \n",
       "25%     29074.000000      18.000000      41.753411     -87.750938   \n",
       "50%     58147.000000      39.000000      41.862292     -87.694991   \n",
       "75%     87220.000000      61.000000      41.951866     -87.648860   \n",
       "max    116293.000000      98.000000      42.017430     -87.531635   \n",
       "\n",
       "       AddressAccuracy  \n",
       "count    116293.000000  \n",
       "mean          7.954357  \n",
       "std           1.252733  \n",
       "min           3.000000  \n",
       "25%           8.000000  \n",
       "50%           8.000000  \n",
       "75%           9.000000  \n",
       "max           9.000000  "
      ]
     },
     "execution_count": 12,
     "metadata": {},
     "output_type": "execute_result"
    }
   ],
   "source": [
    "# Dropping rows that latitude and longitude\n",
    "# lie outside the range of the train and test data\n",
    "df_test.describe()"
   ]
  },
  {
   "cell_type": "code",
   "execution_count": 13,
   "metadata": {
    "colab": {
     "base_uri": "https://localhost:8080/",
     "height": 297
    },
    "colab_type": "code",
    "id": "gNZYicQ972Py",
    "outputId": "51e5f523-5d82-4493-976b-0e73f38e31a4"
   },
   "outputs": [
    {
     "data": {
      "text/html": [
       "<div>\n",
       "<style scoped>\n",
       "    .dataframe tbody tr th:only-of-type {\n",
       "        vertical-align: middle;\n",
       "    }\n",
       "\n",
       "    .dataframe tbody tr th {\n",
       "        vertical-align: top;\n",
       "    }\n",
       "\n",
       "    .dataframe thead th {\n",
       "        text-align: right;\n",
       "    }\n",
       "</style>\n",
       "<table border=\"1\" class=\"dataframe\">\n",
       "  <thead>\n",
       "    <tr style=\"text-align: right;\">\n",
       "      <th></th>\n",
       "      <th>Latitude</th>\n",
       "      <th>Longitude</th>\n",
       "    </tr>\n",
       "  </thead>\n",
       "  <tbody>\n",
       "    <tr>\n",
       "      <td>count</td>\n",
       "      <td>14294.000000</td>\n",
       "      <td>14294.000000</td>\n",
       "    </tr>\n",
       "    <tr>\n",
       "      <td>mean</td>\n",
       "      <td>41.901739</td>\n",
       "      <td>-87.734512</td>\n",
       "    </tr>\n",
       "    <tr>\n",
       "      <td>std</td>\n",
       "      <td>0.105100</td>\n",
       "      <td>0.067599</td>\n",
       "    </tr>\n",
       "    <tr>\n",
       "      <td>min</td>\n",
       "      <td>41.713925</td>\n",
       "      <td>-88.096468</td>\n",
       "    </tr>\n",
       "    <tr>\n",
       "      <td>25%</td>\n",
       "      <td>41.782669</td>\n",
       "      <td>-87.789607</td>\n",
       "    </tr>\n",
       "    <tr>\n",
       "      <td>50%</td>\n",
       "      <td>41.937578</td>\n",
       "      <td>-87.724781</td>\n",
       "    </tr>\n",
       "    <tr>\n",
       "      <td>75%</td>\n",
       "      <td>41.977217</td>\n",
       "      <td>-87.692107</td>\n",
       "    </tr>\n",
       "    <tr>\n",
       "      <td>max</td>\n",
       "      <td>42.395983</td>\n",
       "      <td>-87.586727</td>\n",
       "    </tr>\n",
       "  </tbody>\n",
       "</table>\n",
       "</div>"
      ],
      "text/plain": [
       "           Latitude     Longitude\n",
       "count  14294.000000  14294.000000\n",
       "mean      41.901739    -87.734512\n",
       "std        0.105100      0.067599\n",
       "min       41.713925    -88.096468\n",
       "25%       41.782669    -87.789607\n",
       "50%       41.937578    -87.724781\n",
       "75%       41.977217    -87.692107\n",
       "max       42.395983    -87.586727"
      ]
     },
     "execution_count": 13,
     "metadata": {},
     "output_type": "execute_result"
    }
   ],
   "source": [
    "# we have to remove rows with longitude greater than -88.0\n",
    "# and latitude greatrea than 42.1\n",
    "df_spray.describe()"
   ]
  },
  {
   "cell_type": "code",
   "execution_count": 14,
   "metadata": {
    "colab": {},
    "colab_type": "code",
    "id": "7lekoUEgILK2"
   },
   "outputs": [],
   "source": [
    "df_s = df_spray[df_spray['Latitude'] <= 42.1]"
   ]
  },
  {
   "cell_type": "code",
   "execution_count": 15,
   "metadata": {
    "colab": {
     "base_uri": "https://localhost:8080/",
     "height": 297
    },
    "colab_type": "code",
    "id": "Teg0jLOxI64Z",
    "outputId": "b51e3bac-6fd9-4805-dbce-1879def3f694"
   },
   "outputs": [
    {
     "data": {
      "text/html": [
       "<div>\n",
       "<style scoped>\n",
       "    .dataframe tbody tr th:only-of-type {\n",
       "        vertical-align: middle;\n",
       "    }\n",
       "\n",
       "    .dataframe tbody tr th {\n",
       "        vertical-align: top;\n",
       "    }\n",
       "\n",
       "    .dataframe thead th {\n",
       "        text-align: right;\n",
       "    }\n",
       "</style>\n",
       "<table border=\"1\" class=\"dataframe\">\n",
       "  <thead>\n",
       "    <tr style=\"text-align: right;\">\n",
       "      <th></th>\n",
       "      <th>Latitude</th>\n",
       "      <th>Longitude</th>\n",
       "    </tr>\n",
       "  </thead>\n",
       "  <tbody>\n",
       "    <tr>\n",
       "      <td>count</td>\n",
       "      <td>14199.000000</td>\n",
       "      <td>14199.000000</td>\n",
       "    </tr>\n",
       "    <tr>\n",
       "      <td>mean</td>\n",
       "      <td>41.898456</td>\n",
       "      <td>-87.732111</td>\n",
       "    </tr>\n",
       "    <tr>\n",
       "      <td>std</td>\n",
       "      <td>0.097461</td>\n",
       "      <td>0.061096</td>\n",
       "    </tr>\n",
       "    <tr>\n",
       "      <td>min</td>\n",
       "      <td>41.713925</td>\n",
       "      <td>-87.871023</td>\n",
       "    </tr>\n",
       "    <tr>\n",
       "      <td>25%</td>\n",
       "      <td>41.782290</td>\n",
       "      <td>-87.788612</td>\n",
       "    </tr>\n",
       "    <tr>\n",
       "      <td>50%</td>\n",
       "      <td>41.937205</td>\n",
       "      <td>-87.724390</td>\n",
       "    </tr>\n",
       "    <tr>\n",
       "      <td>75%</td>\n",
       "      <td>41.976710</td>\n",
       "      <td>-87.691572</td>\n",
       "    </tr>\n",
       "    <tr>\n",
       "      <td>max</td>\n",
       "      <td>42.018907</td>\n",
       "      <td>-87.586727</td>\n",
       "    </tr>\n",
       "  </tbody>\n",
       "</table>\n",
       "</div>"
      ],
      "text/plain": [
       "           Latitude     Longitude\n",
       "count  14199.000000  14199.000000\n",
       "mean      41.898456    -87.732111\n",
       "std        0.097461      0.061096\n",
       "min       41.713925    -87.871023\n",
       "25%       41.782290    -87.788612\n",
       "50%       41.937205    -87.724390\n",
       "75%       41.976710    -87.691572\n",
       "max       42.018907    -87.586727"
      ]
     },
     "execution_count": 15,
     "metadata": {},
     "output_type": "execute_result"
    }
   ],
   "source": [
    "df_s.describe()"
   ]
  },
  {
   "cell_type": "markdown",
   "metadata": {
    "colab_type": "text",
    "id": "srXIpIwR4Hsr"
   },
   "source": [
    "### Test data"
   ]
  },
  {
   "cell_type": "code",
   "execution_count": 16,
   "metadata": {
    "colab": {
     "base_uri": "https://localhost:8080/",
     "height": 842
    },
    "colab_type": "code",
    "id": "5s_h9lQkqSTs",
    "outputId": "a3d3664b-5fbf-4598-de27-44790be857ab"
   },
   "outputs": [
    {
     "name": "stdout",
     "output_type": "stream",
     "text": [
      "First two rows of data:\n"
     ]
    },
    {
     "data": {
      "text/html": [
       "<div>\n",
       "<style scoped>\n",
       "    .dataframe tbody tr th:only-of-type {\n",
       "        vertical-align: middle;\n",
       "    }\n",
       "\n",
       "    .dataframe tbody tr th {\n",
       "        vertical-align: top;\n",
       "    }\n",
       "\n",
       "    .dataframe thead th {\n",
       "        text-align: right;\n",
       "    }\n",
       "</style>\n",
       "<table border=\"1\" class=\"dataframe\">\n",
       "  <thead>\n",
       "    <tr style=\"text-align: right;\">\n",
       "      <th></th>\n",
       "      <th>Id</th>\n",
       "      <th>Date</th>\n",
       "      <th>Address</th>\n",
       "      <th>Species</th>\n",
       "      <th>Block</th>\n",
       "      <th>Street</th>\n",
       "      <th>Trap</th>\n",
       "      <th>AddressNumberAndStreet</th>\n",
       "      <th>Latitude</th>\n",
       "      <th>Longitude</th>\n",
       "      <th>AddressAccuracy</th>\n",
       "    </tr>\n",
       "  </thead>\n",
       "  <tbody>\n",
       "    <tr>\n",
       "      <td>0</td>\n",
       "      <td>1</td>\n",
       "      <td>2008-06-11</td>\n",
       "      <td>4100 North Oak Park Avenue, Chicago, IL 60634,...</td>\n",
       "      <td>CULEX PIPIENS/RESTUANS</td>\n",
       "      <td>41</td>\n",
       "      <td>N OAK PARK AVE</td>\n",
       "      <td>T002</td>\n",
       "      <td>4100  N OAK PARK AVE, Chicago, IL</td>\n",
       "      <td>41.95469</td>\n",
       "      <td>-87.800991</td>\n",
       "      <td>9</td>\n",
       "    </tr>\n",
       "    <tr>\n",
       "      <td>1</td>\n",
       "      <td>2</td>\n",
       "      <td>2008-06-11</td>\n",
       "      <td>4100 North Oak Park Avenue, Chicago, IL 60634,...</td>\n",
       "      <td>CULEX RESTUANS</td>\n",
       "      <td>41</td>\n",
       "      <td>N OAK PARK AVE</td>\n",
       "      <td>T002</td>\n",
       "      <td>4100  N OAK PARK AVE, Chicago, IL</td>\n",
       "      <td>41.95469</td>\n",
       "      <td>-87.800991</td>\n",
       "      <td>9</td>\n",
       "    </tr>\n",
       "  </tbody>\n",
       "</table>\n",
       "</div>"
      ],
      "text/plain": [
       "   Id        Date                                            Address  \\\n",
       "0   1  2008-06-11  4100 North Oak Park Avenue, Chicago, IL 60634,...   \n",
       "1   2  2008-06-11  4100 North Oak Park Avenue, Chicago, IL 60634,...   \n",
       "\n",
       "                  Species  Block           Street  Trap  \\\n",
       "0  CULEX PIPIENS/RESTUANS     41   N OAK PARK AVE  T002   \n",
       "1          CULEX RESTUANS     41   N OAK PARK AVE  T002   \n",
       "\n",
       "              AddressNumberAndStreet  Latitude  Longitude  AddressAccuracy  \n",
       "0  4100  N OAK PARK AVE, Chicago, IL  41.95469 -87.800991                9  \n",
       "1  4100  N OAK PARK AVE, Chicago, IL  41.95469 -87.800991                9  "
      ]
     },
     "metadata": {},
     "output_type": "display_data"
    },
    {
     "name": "stdout",
     "output_type": "stream",
     "text": [
      "\n",
      "Shape: (116293, 11)\n",
      "\n",
      "Columns & Datatypes: \n",
      "<class 'pandas.core.frame.DataFrame'>\n",
      "RangeIndex: 116293 entries, 0 to 116292\n",
      "Data columns (total 11 columns):\n",
      "Id                        116293 non-null int64\n",
      "Date                      116293 non-null object\n",
      "Address                   116293 non-null object\n",
      "Species                   116293 non-null object\n",
      "Block                     116293 non-null int64\n",
      "Street                    116293 non-null object\n",
      "Trap                      116293 non-null object\n",
      "AddressNumberAndStreet    116293 non-null object\n",
      "Latitude                  116293 non-null float64\n",
      "Longitude                 116293 non-null float64\n",
      "AddressAccuracy           116293 non-null int64\n",
      "dtypes: float64(2), int64(3), object(6)\n",
      "memory usage: 9.8+ MB\n",
      "\n",
      "Null values:\n",
      "None in Dataframe.\n",
      "\n",
      "Unique values (by Columns)\n",
      "Id:116293\n",
      "Date:95\n",
      "Address:151\n",
      "Species:8\n",
      "Block:65\n",
      "Street:139\n",
      "Trap:149\n",
      "AddressNumberAndStreet:151\n",
      "Latitude:151\n",
      "Longitude:151\n",
      "AddressAccuracy:4\n",
      "\n",
      "No duplicates present.\n"
     ]
    }
   ],
   "source": [
    "# Review test data\n",
    "data_explore(df_test)"
   ]
  },
  {
   "cell_type": "markdown",
   "metadata": {
    "colab_type": "text",
    "id": "ZKU7ASXz4Yeu"
   },
   "source": [
    "### Train data"
   ]
  },
  {
   "cell_type": "code",
   "execution_count": 17,
   "metadata": {
    "colab": {
     "base_uri": "https://localhost:8080/",
     "height": 978
    },
    "colab_type": "code",
    "id": "C3WyLiU6qSTw",
    "outputId": "90860b0c-529b-4673-a239-db8f5d4476ef"
   },
   "outputs": [
    {
     "name": "stdout",
     "output_type": "stream",
     "text": [
      "First two rows of data:\n"
     ]
    },
    {
     "data": {
      "text/html": [
       "<div>\n",
       "<style scoped>\n",
       "    .dataframe tbody tr th:only-of-type {\n",
       "        vertical-align: middle;\n",
       "    }\n",
       "\n",
       "    .dataframe tbody tr th {\n",
       "        vertical-align: top;\n",
       "    }\n",
       "\n",
       "    .dataframe thead th {\n",
       "        text-align: right;\n",
       "    }\n",
       "</style>\n",
       "<table border=\"1\" class=\"dataframe\">\n",
       "  <thead>\n",
       "    <tr style=\"text-align: right;\">\n",
       "      <th></th>\n",
       "      <th>Date</th>\n",
       "      <th>Address</th>\n",
       "      <th>Species</th>\n",
       "      <th>Block</th>\n",
       "      <th>Street</th>\n",
       "      <th>Trap</th>\n",
       "      <th>AddressNumberAndStreet</th>\n",
       "      <th>Latitude</th>\n",
       "      <th>Longitude</th>\n",
       "      <th>AddressAccuracy</th>\n",
       "      <th>NumMosquitos</th>\n",
       "      <th>WnvPresent</th>\n",
       "    </tr>\n",
       "  </thead>\n",
       "  <tbody>\n",
       "    <tr>\n",
       "      <td>0</td>\n",
       "      <td>2007-05-29</td>\n",
       "      <td>4100 North Oak Park Avenue, Chicago, IL 60634,...</td>\n",
       "      <td>CULEX PIPIENS/RESTUANS</td>\n",
       "      <td>41</td>\n",
       "      <td>N OAK PARK AVE</td>\n",
       "      <td>T002</td>\n",
       "      <td>4100  N OAK PARK AVE, Chicago, IL</td>\n",
       "      <td>41.95469</td>\n",
       "      <td>-87.800991</td>\n",
       "      <td>9</td>\n",
       "      <td>1</td>\n",
       "      <td>0</td>\n",
       "    </tr>\n",
       "    <tr>\n",
       "      <td>1</td>\n",
       "      <td>2007-05-29</td>\n",
       "      <td>4100 North Oak Park Avenue, Chicago, IL 60634,...</td>\n",
       "      <td>CULEX RESTUANS</td>\n",
       "      <td>41</td>\n",
       "      <td>N OAK PARK AVE</td>\n",
       "      <td>T002</td>\n",
       "      <td>4100  N OAK PARK AVE, Chicago, IL</td>\n",
       "      <td>41.95469</td>\n",
       "      <td>-87.800991</td>\n",
       "      <td>9</td>\n",
       "      <td>1</td>\n",
       "      <td>0</td>\n",
       "    </tr>\n",
       "  </tbody>\n",
       "</table>\n",
       "</div>"
      ],
      "text/plain": [
       "         Date                                            Address  \\\n",
       "0  2007-05-29  4100 North Oak Park Avenue, Chicago, IL 60634,...   \n",
       "1  2007-05-29  4100 North Oak Park Avenue, Chicago, IL 60634,...   \n",
       "\n",
       "                  Species  Block           Street  Trap  \\\n",
       "0  CULEX PIPIENS/RESTUANS     41   N OAK PARK AVE  T002   \n",
       "1          CULEX RESTUANS     41   N OAK PARK AVE  T002   \n",
       "\n",
       "              AddressNumberAndStreet  Latitude  Longitude  AddressAccuracy  \\\n",
       "0  4100  N OAK PARK AVE, Chicago, IL  41.95469 -87.800991                9   \n",
       "1  4100  N OAK PARK AVE, Chicago, IL  41.95469 -87.800991                9   \n",
       "\n",
       "   NumMosquitos  WnvPresent  \n",
       "0             1           0  \n",
       "1             1           0  "
      ]
     },
     "metadata": {},
     "output_type": "display_data"
    },
    {
     "name": "stdout",
     "output_type": "stream",
     "text": [
      "\n",
      "Shape: (10506, 12)\n",
      "\n",
      "Columns & Datatypes: \n",
      "<class 'pandas.core.frame.DataFrame'>\n",
      "RangeIndex: 10506 entries, 0 to 10505\n",
      "Data columns (total 12 columns):\n",
      "Date                      10506 non-null object\n",
      "Address                   10506 non-null object\n",
      "Species                   10506 non-null object\n",
      "Block                     10506 non-null int64\n",
      "Street                    10506 non-null object\n",
      "Trap                      10506 non-null object\n",
      "AddressNumberAndStreet    10506 non-null object\n",
      "Latitude                  10506 non-null float64\n",
      "Longitude                 10506 non-null float64\n",
      "AddressAccuracy           10506 non-null int64\n",
      "NumMosquitos              10506 non-null int64\n",
      "WnvPresent                10506 non-null int64\n",
      "dtypes: float64(2), int64(4), object(6)\n",
      "memory usage: 985.1+ KB\n",
      "\n",
      "Null values:\n",
      "None in Dataframe.\n",
      "\n",
      "Unique values (by Columns)\n",
      "Date:95\n",
      "Address:138\n",
      "Species:7\n",
      "Block:64\n",
      "Street:128\n",
      "Trap:136\n",
      "AddressNumberAndStreet:138\n",
      "Latitude:138\n",
      "Longitude:138\n",
      "AddressAccuracy:4\n",
      "NumMosquitos:50\n",
      "WnvPresent:2\n",
      "\n",
      "813 duplicates in 10506 rows.\n"
     ]
    }
   ],
   "source": [
    "# Review train data\n",
    "data_explore(df_train)"
   ]
  },
  {
   "cell_type": "markdown",
   "metadata": {
    "colab_type": "text",
    "id": "bvlF_ZBAcFgE"
   },
   "source": [
    "On test and train datasets, observe there is more test data than train data. The columns `NumMosquitos` and `WnvPresent` are absent in test data. No NaN, 813 duplicates in train set."
   ]
  },
  {
   "cell_type": "code",
   "execution_count": 18,
   "metadata": {
    "colab": {
     "base_uri": "https://localhost:8080/",
     "height": 751
    },
    "colab_type": "code",
    "id": "_zIDG5IrqST6",
    "outputId": "c6421bd3-7dd0-4606-c8a9-beb28269bd7a"
   },
   "outputs": [
    {
     "name": "stdout",
     "output_type": "stream",
     "text": [
      "First 5 rows of duplicates:\n"
     ]
    },
    {
     "data": {
      "text/html": [
       "<div>\n",
       "<style scoped>\n",
       "    .dataframe tbody tr th:only-of-type {\n",
       "        vertical-align: middle;\n",
       "    }\n",
       "\n",
       "    .dataframe tbody tr th {\n",
       "        vertical-align: top;\n",
       "    }\n",
       "\n",
       "    .dataframe thead th {\n",
       "        text-align: right;\n",
       "    }\n",
       "</style>\n",
       "<table border=\"1\" class=\"dataframe\">\n",
       "  <thead>\n",
       "    <tr style=\"text-align: right;\">\n",
       "      <th></th>\n",
       "      <th>Date</th>\n",
       "      <th>Address</th>\n",
       "      <th>Species</th>\n",
       "      <th>Block</th>\n",
       "      <th>Street</th>\n",
       "      <th>Trap</th>\n",
       "      <th>AddressNumberAndStreet</th>\n",
       "      <th>Latitude</th>\n",
       "      <th>Longitude</th>\n",
       "      <th>AddressAccuracy</th>\n",
       "      <th>NumMosquitos</th>\n",
       "      <th>WnvPresent</th>\n",
       "    </tr>\n",
       "  </thead>\n",
       "  <tbody>\n",
       "    <tr>\n",
       "      <td>99</td>\n",
       "      <td>2007-06-26</td>\n",
       "      <td>2200 West 113th Street, Chicago, IL 60643, USA</td>\n",
       "      <td>CULEX PIPIENS/RESTUANS</td>\n",
       "      <td>22</td>\n",
       "      <td>W 113TH ST</td>\n",
       "      <td>T086</td>\n",
       "      <td>2200  W 113TH ST, Chicago, IL</td>\n",
       "      <td>41.688324</td>\n",
       "      <td>-87.676709</td>\n",
       "      <td>8</td>\n",
       "      <td>1</td>\n",
       "      <td>0</td>\n",
       "    </tr>\n",
       "    <tr>\n",
       "      <td>295</td>\n",
       "      <td>2007-07-11</td>\n",
       "      <td>2200 West 113th Street, Chicago, IL 60643, USA</td>\n",
       "      <td>CULEX PIPIENS/RESTUANS</td>\n",
       "      <td>22</td>\n",
       "      <td>W 113TH ST</td>\n",
       "      <td>T086</td>\n",
       "      <td>2200  W 113TH ST, Chicago, IL</td>\n",
       "      <td>41.688324</td>\n",
       "      <td>-87.676709</td>\n",
       "      <td>8</td>\n",
       "      <td>50</td>\n",
       "      <td>0</td>\n",
       "    </tr>\n",
       "    <tr>\n",
       "      <td>351</td>\n",
       "      <td>2007-07-11</td>\n",
       "      <td>3500 West 116th Street, Chicago, IL 60655, USA</td>\n",
       "      <td>CULEX PIPIENS/RESTUANS</td>\n",
       "      <td>35</td>\n",
       "      <td>W 116TH ST</td>\n",
       "      <td>T158</td>\n",
       "      <td>3500  W 116TH ST, Chicago, IL</td>\n",
       "      <td>41.682587</td>\n",
       "      <td>-87.707973</td>\n",
       "      <td>9</td>\n",
       "      <td>50</td>\n",
       "      <td>0</td>\n",
       "    </tr>\n",
       "    <tr>\n",
       "      <td>353</td>\n",
       "      <td>2007-07-11</td>\n",
       "      <td>3500 West 116th Street, Chicago, IL 60655, USA</td>\n",
       "      <td>CULEX PIPIENS/RESTUANS</td>\n",
       "      <td>35</td>\n",
       "      <td>W 116TH ST</td>\n",
       "      <td>T158</td>\n",
       "      <td>3500  W 116TH ST, Chicago, IL</td>\n",
       "      <td>41.682587</td>\n",
       "      <td>-87.707973</td>\n",
       "      <td>9</td>\n",
       "      <td>50</td>\n",
       "      <td>0</td>\n",
       "    </tr>\n",
       "    <tr>\n",
       "      <td>512</td>\n",
       "      <td>2007-07-18</td>\n",
       "      <td>3300 West Randolph Street, Chicago, IL 60612, USA</td>\n",
       "      <td>CULEX RESTUANS</td>\n",
       "      <td>33</td>\n",
       "      <td>E RANDOLPH ST</td>\n",
       "      <td>T044</td>\n",
       "      <td>3300  E RANDOLPH ST, Chicago, IL</td>\n",
       "      <td>41.883284</td>\n",
       "      <td>-87.705085</td>\n",
       "      <td>8</td>\n",
       "      <td>1</td>\n",
       "      <td>0</td>\n",
       "    </tr>\n",
       "  </tbody>\n",
       "</table>\n",
       "</div>"
      ],
      "text/plain": [
       "           Date                                            Address  \\\n",
       "99   2007-06-26     2200 West 113th Street, Chicago, IL 60643, USA   \n",
       "295  2007-07-11     2200 West 113th Street, Chicago, IL 60643, USA   \n",
       "351  2007-07-11     3500 West 116th Street, Chicago, IL 60655, USA   \n",
       "353  2007-07-11     3500 West 116th Street, Chicago, IL 60655, USA   \n",
       "512  2007-07-18  3300 West Randolph Street, Chicago, IL 60612, USA   \n",
       "\n",
       "                    Species  Block          Street  Trap  \\\n",
       "99   CULEX PIPIENS/RESTUANS     22      W 113TH ST  T086   \n",
       "295  CULEX PIPIENS/RESTUANS     22      W 113TH ST  T086   \n",
       "351  CULEX PIPIENS/RESTUANS     35      W 116TH ST  T158   \n",
       "353  CULEX PIPIENS/RESTUANS     35      W 116TH ST  T158   \n",
       "512          CULEX RESTUANS     33   E RANDOLPH ST  T044   \n",
       "\n",
       "               AddressNumberAndStreet   Latitude  Longitude  AddressAccuracy  \\\n",
       "99      2200  W 113TH ST, Chicago, IL  41.688324 -87.676709                8   \n",
       "295     2200  W 113TH ST, Chicago, IL  41.688324 -87.676709                8   \n",
       "351     3500  W 116TH ST, Chicago, IL  41.682587 -87.707973                9   \n",
       "353     3500  W 116TH ST, Chicago, IL  41.682587 -87.707973                9   \n",
       "512  3300  E RANDOLPH ST, Chicago, IL  41.883284 -87.705085                8   \n",
       "\n",
       "     NumMosquitos  WnvPresent  \n",
       "99              1           0  \n",
       "295            50           0  \n",
       "351            50           0  \n",
       "353            50           0  \n",
       "512             1           0  "
      ]
     },
     "metadata": {},
     "output_type": "display_data"
    }
   ],
   "source": [
    "# Review duplicate in dataframe\n",
    "review_dup(df_train)"
   ]
  },
  {
   "cell_type": "markdown",
   "metadata": {
    "colab_type": "text",
    "id": "x1YtpvrsiCTR"
   },
   "source": [
    "The `Latitiude` and `Longitude` information should be sufficient as proxies for Address information. `Address`, `Block`, `Street`, `AddressNumberAndStreet`,`AddressAccuracy` not need to use."
   ]
  },
  {
   "cell_type": "code",
   "execution_count": 19,
   "metadata": {
    "colab": {
     "base_uri": "https://localhost:8080/",
     "height": 51
    },
    "colab_type": "code",
    "id": "qzv1fahj6cZL",
    "outputId": "45036f08-501a-415c-ed8d-198aabdf6496"
   },
   "outputs": [
    {
     "name": "stdout",
     "output_type": "stream",
     "text": [
      "Initial rows: 10506\n",
      "Remaining rows: 9693\n"
     ]
    }
   ],
   "source": [
    "# Drop duplicates, reset index\n",
    "drop_dup(df_train)\n",
    "df_train.reset_index(inplace=True,drop=True)"
   ]
  },
  {
   "cell_type": "code",
   "execution_count": 20,
   "metadata": {
    "colab": {},
    "colab_type": "code",
    "id": "oLE4CwxI9AiT"
   },
   "outputs": [],
   "source": [
    "#drop Address, Block, Street, AddressNumberAndStreet \n",
    "drop_cols =['Address', 'Block', 'Street', 'AddressNumberAndStreet','AddressAccuracy']\n",
    "df_train.drop(drop_cols, axis=1,inplace=True)\n",
    "df_test.drop(drop_cols,axis=1,inplace=True)"
   ]
  },
  {
   "cell_type": "code",
   "execution_count": 21,
   "metadata": {
    "colab": {
     "base_uri": "https://localhost:8080/",
     "height": 204
    },
    "colab_type": "code",
    "id": "Fq1yUhWc9Av5",
    "outputId": "78fc9764-1c72-4cf0-adb4-a8088000b6b1"
   },
   "outputs": [
    {
     "data": {
      "text/html": [
       "<div>\n",
       "<style scoped>\n",
       "    .dataframe tbody tr th:only-of-type {\n",
       "        vertical-align: middle;\n",
       "    }\n",
       "\n",
       "    .dataframe tbody tr th {\n",
       "        vertical-align: top;\n",
       "    }\n",
       "\n",
       "    .dataframe thead th {\n",
       "        text-align: right;\n",
       "    }\n",
       "</style>\n",
       "<table border=\"1\" class=\"dataframe\">\n",
       "  <thead>\n",
       "    <tr style=\"text-align: right;\">\n",
       "      <th></th>\n",
       "      <th>Date</th>\n",
       "      <th>Species</th>\n",
       "      <th>Trap</th>\n",
       "      <th>Latitude</th>\n",
       "      <th>Longitude</th>\n",
       "      <th>NumMosquitos</th>\n",
       "      <th>WnvPresent</th>\n",
       "    </tr>\n",
       "  </thead>\n",
       "  <tbody>\n",
       "    <tr>\n",
       "      <td>0</td>\n",
       "      <td>2007-05-29</td>\n",
       "      <td>CULEX PIPIENS/RESTUANS</td>\n",
       "      <td>T002</td>\n",
       "      <td>41.954690</td>\n",
       "      <td>-87.800991</td>\n",
       "      <td>1</td>\n",
       "      <td>0</td>\n",
       "    </tr>\n",
       "    <tr>\n",
       "      <td>1</td>\n",
       "      <td>2007-05-29</td>\n",
       "      <td>CULEX RESTUANS</td>\n",
       "      <td>T002</td>\n",
       "      <td>41.954690</td>\n",
       "      <td>-87.800991</td>\n",
       "      <td>1</td>\n",
       "      <td>0</td>\n",
       "    </tr>\n",
       "    <tr>\n",
       "      <td>2</td>\n",
       "      <td>2007-05-29</td>\n",
       "      <td>CULEX RESTUANS</td>\n",
       "      <td>T007</td>\n",
       "      <td>41.994991</td>\n",
       "      <td>-87.769279</td>\n",
       "      <td>1</td>\n",
       "      <td>0</td>\n",
       "    </tr>\n",
       "    <tr>\n",
       "      <td>3</td>\n",
       "      <td>2007-05-29</td>\n",
       "      <td>CULEX PIPIENS/RESTUANS</td>\n",
       "      <td>T015</td>\n",
       "      <td>41.974089</td>\n",
       "      <td>-87.824812</td>\n",
       "      <td>1</td>\n",
       "      <td>0</td>\n",
       "    </tr>\n",
       "    <tr>\n",
       "      <td>4</td>\n",
       "      <td>2007-05-29</td>\n",
       "      <td>CULEX RESTUANS</td>\n",
       "      <td>T015</td>\n",
       "      <td>41.974089</td>\n",
       "      <td>-87.824812</td>\n",
       "      <td>4</td>\n",
       "      <td>0</td>\n",
       "    </tr>\n",
       "  </tbody>\n",
       "</table>\n",
       "</div>"
      ],
      "text/plain": [
       "         Date                 Species  Trap   Latitude  Longitude  \\\n",
       "0  2007-05-29  CULEX PIPIENS/RESTUANS  T002  41.954690 -87.800991   \n",
       "1  2007-05-29          CULEX RESTUANS  T002  41.954690 -87.800991   \n",
       "2  2007-05-29          CULEX RESTUANS  T007  41.994991 -87.769279   \n",
       "3  2007-05-29  CULEX PIPIENS/RESTUANS  T015  41.974089 -87.824812   \n",
       "4  2007-05-29          CULEX RESTUANS  T015  41.974089 -87.824812   \n",
       "\n",
       "   NumMosquitos  WnvPresent  \n",
       "0             1           0  \n",
       "1             1           0  \n",
       "2             1           0  \n",
       "3             1           0  \n",
       "4             4           0  "
      ]
     },
     "execution_count": 21,
     "metadata": {},
     "output_type": "execute_result"
    }
   ],
   "source": [
    "df_train.head()"
   ]
  },
  {
   "cell_type": "code",
   "execution_count": 22,
   "metadata": {
    "colab": {
     "base_uri": "https://localhost:8080/",
     "height": 255
    },
    "colab_type": "code",
    "id": "shr8CWsL9AzI",
    "outputId": "72f4c556-33f2-4b64-9adb-07f1b3b7d166"
   },
   "outputs": [
    {
     "name": "stdout",
     "output_type": "stream",
     "text": [
      "<class 'pandas.core.frame.DataFrame'>\n",
      "RangeIndex: 9693 entries, 0 to 9692\n",
      "Data columns (total 7 columns):\n",
      "Date            9693 non-null object\n",
      "Species         9693 non-null object\n",
      "Trap            9693 non-null object\n",
      "Latitude        9693 non-null float64\n",
      "Longitude       9693 non-null float64\n",
      "NumMosquitos    9693 non-null int64\n",
      "WnvPresent      9693 non-null int64\n",
      "dtypes: float64(2), int64(2), object(3)\n",
      "memory usage: 530.2+ KB\n"
     ]
    }
   ],
   "source": [
    "df_train.info()"
   ]
  },
  {
   "cell_type": "code",
   "execution_count": 23,
   "metadata": {
    "colab": {},
    "colab_type": "code",
    "id": "HBgeZXhbCcpA"
   },
   "outputs": [],
   "source": [
    "#making the variable into correct datatype\n",
    "# Make Date into datetime\n",
    "df_train['Date'] = pd.to_datetime(df_train['Date'])\n",
    "df_test['Date']= pd.to_datetime(df_test['Date'])"
   ]
  },
  {
   "cell_type": "markdown",
   "metadata": {
    "colab_type": "text",
    "id": "akoYWYO44Me0"
   },
   "source": [
    "### Weather data"
   ]
  },
  {
   "cell_type": "code",
   "execution_count": 24,
   "metadata": {
    "colab": {
     "base_uri": "https://localhost:8080/",
     "height": 1000
    },
    "colab_type": "code",
    "id": "l4WzSMK5qSTy",
    "outputId": "7695ca58-5329-4f3c-9991-955c31e78ac6"
   },
   "outputs": [
    {
     "name": "stdout",
     "output_type": "stream",
     "text": [
      "First two rows of data:\n"
     ]
    },
    {
     "data": {
      "text/html": [
       "<div>\n",
       "<style scoped>\n",
       "    .dataframe tbody tr th:only-of-type {\n",
       "        vertical-align: middle;\n",
       "    }\n",
       "\n",
       "    .dataframe tbody tr th {\n",
       "        vertical-align: top;\n",
       "    }\n",
       "\n",
       "    .dataframe thead th {\n",
       "        text-align: right;\n",
       "    }\n",
       "</style>\n",
       "<table border=\"1\" class=\"dataframe\">\n",
       "  <thead>\n",
       "    <tr style=\"text-align: right;\">\n",
       "      <th></th>\n",
       "      <th>Station</th>\n",
       "      <th>Date</th>\n",
       "      <th>Tmax</th>\n",
       "      <th>Tmin</th>\n",
       "      <th>Tavg</th>\n",
       "      <th>Depart</th>\n",
       "      <th>DewPoint</th>\n",
       "      <th>WetBulb</th>\n",
       "      <th>Heat</th>\n",
       "      <th>Cool</th>\n",
       "      <th>...</th>\n",
       "      <th>CodeSum</th>\n",
       "      <th>Depth</th>\n",
       "      <th>Water1</th>\n",
       "      <th>SnowFall</th>\n",
       "      <th>PrecipTotal</th>\n",
       "      <th>StnPressure</th>\n",
       "      <th>SeaLevel</th>\n",
       "      <th>ResultSpeed</th>\n",
       "      <th>ResultDir</th>\n",
       "      <th>AvgSpeed</th>\n",
       "    </tr>\n",
       "  </thead>\n",
       "  <tbody>\n",
       "    <tr>\n",
       "      <td>0</td>\n",
       "      <td>1</td>\n",
       "      <td>2007-05-01</td>\n",
       "      <td>83</td>\n",
       "      <td>50</td>\n",
       "      <td>67</td>\n",
       "      <td>14</td>\n",
       "      <td>51</td>\n",
       "      <td>56</td>\n",
       "      <td>0</td>\n",
       "      <td>2</td>\n",
       "      <td>...</td>\n",
       "      <td></td>\n",
       "      <td>0</td>\n",
       "      <td>M</td>\n",
       "      <td>0.0</td>\n",
       "      <td>0.00</td>\n",
       "      <td>29.10</td>\n",
       "      <td>29.82</td>\n",
       "      <td>1.7</td>\n",
       "      <td>27</td>\n",
       "      <td>9.2</td>\n",
       "    </tr>\n",
       "    <tr>\n",
       "      <td>1</td>\n",
       "      <td>2</td>\n",
       "      <td>2007-05-01</td>\n",
       "      <td>84</td>\n",
       "      <td>52</td>\n",
       "      <td>68</td>\n",
       "      <td>M</td>\n",
       "      <td>51</td>\n",
       "      <td>57</td>\n",
       "      <td>0</td>\n",
       "      <td>3</td>\n",
       "      <td>...</td>\n",
       "      <td></td>\n",
       "      <td>M</td>\n",
       "      <td>M</td>\n",
       "      <td>M</td>\n",
       "      <td>0.00</td>\n",
       "      <td>29.18</td>\n",
       "      <td>29.82</td>\n",
       "      <td>2.7</td>\n",
       "      <td>25</td>\n",
       "      <td>9.6</td>\n",
       "    </tr>\n",
       "  </tbody>\n",
       "</table>\n",
       "<p>2 rows × 22 columns</p>\n",
       "</div>"
      ],
      "text/plain": [
       "   Station        Date  Tmax  Tmin Tavg Depart  DewPoint WetBulb Heat Cool  \\\n",
       "0        1  2007-05-01    83    50   67     14        51      56    0    2   \n",
       "1        2  2007-05-01    84    52   68      M        51      57    0    3   \n",
       "\n",
       "   ... CodeSum Depth Water1 SnowFall PrecipTotal StnPressure SeaLevel  \\\n",
       "0  ...             0      M      0.0        0.00       29.10    29.82   \n",
       "1  ...             M      M        M        0.00       29.18    29.82   \n",
       "\n",
       "  ResultSpeed ResultDir  AvgSpeed  \n",
       "0         1.7        27       9.2  \n",
       "1         2.7        25       9.6  \n",
       "\n",
       "[2 rows x 22 columns]"
      ]
     },
     "metadata": {},
     "output_type": "display_data"
    },
    {
     "name": "stdout",
     "output_type": "stream",
     "text": [
      "\n",
      "Shape: (2944, 22)\n",
      "\n",
      "Columns & Datatypes: \n",
      "<class 'pandas.core.frame.DataFrame'>\n",
      "RangeIndex: 2944 entries, 0 to 2943\n",
      "Data columns (total 22 columns):\n",
      "Station        2944 non-null int64\n",
      "Date           2944 non-null object\n",
      "Tmax           2944 non-null int64\n",
      "Tmin           2944 non-null int64\n",
      "Tavg           2944 non-null object\n",
      "Depart         2944 non-null object\n",
      "DewPoint       2944 non-null int64\n",
      "WetBulb        2944 non-null object\n",
      "Heat           2944 non-null object\n",
      "Cool           2944 non-null object\n",
      "Sunrise        2944 non-null object\n",
      "Sunset         2944 non-null object\n",
      "CodeSum        2944 non-null object\n",
      "Depth          2944 non-null object\n",
      "Water1         2944 non-null object\n",
      "SnowFall       2944 non-null object\n",
      "PrecipTotal    2944 non-null object\n",
      "StnPressure    2944 non-null object\n",
      "SeaLevel       2944 non-null object\n",
      "ResultSpeed    2944 non-null float64\n",
      "ResultDir      2944 non-null int64\n",
      "AvgSpeed       2944 non-null object\n",
      "dtypes: float64(1), int64(5), object(16)\n",
      "memory usage: 506.1+ KB\n",
      "\n",
      "Null values:\n",
      "None in Dataframe.\n",
      "\n",
      "Unique values (by Columns)\n",
      "Station:2\n",
      "Date:1472\n",
      "Tmax:63\n",
      "Tmin:54\n",
      "Tavg:60\n",
      "Depart:42\n",
      "DewPoint:54\n",
      "WetBulb:48\n",
      "Heat:31\n",
      "Cool:31\n",
      "Sunrise:122\n",
      "Sunset:119\n",
      "CodeSum:98\n",
      "Depth:2\n",
      "Water1:1\n",
      "SnowFall:4\n",
      "PrecipTotal:168\n",
      "StnPressure:104\n",
      "SeaLevel:102\n",
      "ResultSpeed:190\n",
      "ResultDir:36\n",
      "AvgSpeed:178\n",
      "\n",
      "No duplicates present.\n"
     ]
    }
   ],
   "source": [
    "# Review weather data\n",
    "data_explore(df_weather)"
   ]
  },
  {
   "cell_type": "markdown",
   "metadata": {
    "colab_type": "text",
    "id": "m75p2_mvqST1"
   },
   "source": [
    "From data dictionary of weather data, `M` infers missing value. For further review and processing."
   ]
  },
  {
   "cell_type": "code",
   "execution_count": 25,
   "metadata": {
    "colab": {
     "base_uri": "https://localhost:8080/",
     "height": 408
    },
    "colab_type": "code",
    "id": "4uVH4Rf7OrmP",
    "outputId": "5809973f-9f7c-4105-fcd9-52d4ff917ead"
   },
   "outputs": [
    {
     "data": {
      "text/plain": [
       "Water1         2944\n",
       "Depart         1472\n",
       "SnowFall       1472\n",
       "Depth          1472\n",
       "Tavg             11\n",
       "Cool             11\n",
       "Heat             11\n",
       "SeaLevel          9\n",
       "StnPressure       4\n",
       "WetBulb           4\n",
       "AvgSpeed          3\n",
       "PrecipTotal       2\n",
       "Date              0\n",
       "Tmax              0\n",
       "Tmin              0\n",
       "Sunrise           0\n",
       "DewPoint          0\n",
       "ResultDir         0\n",
       "Sunset            0\n",
       "CodeSum           0\n",
       "ResultSpeed       0\n",
       "Station           0\n",
       "dtype: int64"
      ]
     },
     "execution_count": 25,
     "metadata": {},
     "output_type": "execute_result"
    }
   ],
   "source": [
    "#replacing M with np.nan to check the sum of null values\n",
    "df_weather.replace('M', np.NaN, inplace=True)\n",
    "df_weather.isnull().sum().sort_values(ascending=False)"
   ]
  },
  {
   "cell_type": "code",
   "execution_count": 26,
   "metadata": {
    "colab": {
     "base_uri": "https://localhost:8080/",
     "height": 541
    },
    "colab_type": "code",
    "id": "rMUwgjl0e1zN",
    "outputId": "21239847-9873-436a-97d2-b84c0c293499"
   },
   "outputs": [
    {
     "data": {
      "text/plain": [
       "<matplotlib.axes._subplots.AxesSubplot at 0x1f81ebc65c8>"
      ]
     },
     "execution_count": 26,
     "metadata": {},
     "output_type": "execute_result"
    },
    {
     "data": {
      "image/png": "[encoded data removed]",
      "text/plain": [
       "<Figure size 1800x720 with 2 Axes>"
      ]
     },
     "metadata": {
      "needs_background": "light"
     },
     "output_type": "display_data"
    }
   ],
   "source": [
    "#Visualize missing values as a matrix \n",
    "#shows the amount and positions of missing values.\n",
    "#right hand side is line plot for each row's data completeness\n",
    "#Water1,Depart,SnowfallDepth have high missing value\n",
    "#a few missing values on Tavg,Cool, Heat,SeaLevel, StnPressure, WetBulb,AvgSpeed,PrecipTotal\n",
    "#we will decide which columns to keep\n",
    "msno.matrix(df_weather) "
   ]
  },
  {
   "cell_type": "markdown",
   "metadata": {
    "colab_type": "text",
    "id": "-QvrwjfuqSUE"
   },
   "source": [
    "Decision points for weather data cleaning.\n",
    "- Many 'M' values (missing values): Dont use columns with more than 1000 M entries.\n",
    "- Replace 'T' values with 0.5* the minimum unit\n",
    "- Temperature: `Cool` and `Heat` is difference of Tavg and 65F base. We could impute missing values or not use.  Similarly, can choose not to use `Tmax`, `Tmin`. \n",
    "- Pressure: Use `Stnpressure`(Inches Hg). Not use `Sea level`. Can impute by last closest/mode/median values.\n",
    "- Humidity: Use `Dewpoint`(F); no missing data over `Wetbulb`(F).\n",
    "- Wind Speed: Use `ResultSpeed`(MPH). Not use `AvgSpeed`, `ResultDir`.\n",
    "- DayLight: Keep `Sunrise` and `Sunset`; feature engineer `daylight` length, then drop `Sunrise` and `Sunset`.\n",
    "- `CodeSum` not use. Is descriptor of weather phenomenon; redundant\n",
    "- Keep `station2`, impute '-' values.\n"
   ]
  },
  {
   "cell_type": "code",
   "execution_count": 27,
   "metadata": {
    "colab": {
     "base_uri": "https://localhost:8080/",
     "height": 289
    },
    "colab_type": "code",
    "id": "en3LL5YU6zrH",
    "outputId": "10f77160-a0c4-4a74-c656-e6232dc8038a"
   },
   "outputs": [
    {
     "name": "stdout",
     "output_type": "stream",
     "text": [
      "<class 'pandas.core.frame.DataFrame'>\n",
      "RangeIndex: 2944 entries, 0 to 2943\n",
      "Data columns (total 9 columns):\n",
      "Tavg           2933 non-null object\n",
      "StnPressure    2940 non-null object\n",
      "DewPoint       2944 non-null int64\n",
      "PrecipTotal    2942 non-null object\n",
      "Date           2944 non-null object\n",
      "Sunrise        2944 non-null object\n",
      "Sunset         2944 non-null object\n",
      "ResultSpeed    2944 non-null float64\n",
      "Station        2944 non-null int64\n",
      "dtypes: float64(1), int64(2), object(6)\n",
      "memory usage: 207.1+ KB\n"
     ]
    }
   ],
   "source": [
    "# Weather columns to use\n",
    "wcols_keep = ['Tavg','StnPressure','DewPoint','PrecipTotal','Date','Sunrise','Sunset','ResultSpeed','Station']\n",
    "# copy of dataframe\n",
    "df_w = df_weather[wcols_keep].copy()\n",
    "df_w.info()"
   ]
  },
  {
   "cell_type": "code",
   "execution_count": 28,
   "metadata": {
    "colab": {
     "base_uri": "https://localhost:8080/",
     "height": 102
    },
    "colab_type": "code",
    "id": "qvtGfy88tdwZ",
    "outputId": "a83140c4-9131-4b81-895d-3c0bc39c5061"
   },
   "outputs": [
    {
     "data": {
      "text/plain": [
       "87      True\n",
       "848     True\n",
       "2410    True\n",
       "2411    True\n",
       "dtype: bool"
      ]
     },
     "execution_count": 28,
     "metadata": {},
     "output_type": "execute_result"
    }
   ],
   "source": [
    "#looking up the missing value in StnPressure\n",
    "#4 missing values \n",
    "df_w[df_w['StnPressure'].isnull()].any(axis = 1)"
   ]
  },
  {
   "cell_type": "code",
   "execution_count": 29,
   "metadata": {
    "colab": {
     "base_uri": "https://localhost:8080/",
     "height": 221
    },
    "colab_type": "code",
    "id": "Yim7X86A1z44",
    "outputId": "bf829078-7eeb-45e2-aa72-1993197938bb"
   },
   "outputs": [
    {
     "data": {
      "text/plain": [
       "7       True\n",
       "505     True\n",
       "675     True\n",
       "1637    True\n",
       "2067    True\n",
       "2211    True\n",
       "2501    True\n",
       "2511    True\n",
       "2525    True\n",
       "2579    True\n",
       "2811    True\n",
       "dtype: bool"
      ]
     },
     "execution_count": 29,
     "metadata": {},
     "output_type": "execute_result"
    }
   ],
   "source": [
    "#looking up the missing value in Tavg\n",
    "#11 missing values \n",
    "df_w[df_w['Tavg'].isnull()].any(axis = 1)"
   ]
  },
  {
   "cell_type": "code",
   "execution_count": 30,
   "metadata": {
    "colab": {
     "base_uri": "https://localhost:8080/",
     "height": 444
    },
    "colab_type": "code",
    "id": "9V3c4_iMkGZF",
    "outputId": "be1f3ed3-8dd1-449c-a046-4c46b714c777"
   },
   "outputs": [
    {
     "name": "stderr",
     "output_type": "stream",
     "text": [
      "C:\\Users\\user\\Anaconda3\\lib\\site-packages\\pandas\\core\\indexing.py:205: SettingWithCopyWarning: \n",
      "A value is trying to be set on a copy of a slice from a DataFrame\n",
      "\n",
      "See the caveats in the documentation: http://pandas.pydata.org/pandas-docs/stable/user_guide/indexing.html#returning-a-view-versus-a-copy\n",
      "  self._setitem_with_indexer(indexer, value)\n"
     ]
    },
    {
     "data": {
      "text/html": [
       "<div>\n",
       "<style scoped>\n",
       "    .dataframe tbody tr th:only-of-type {\n",
       "        vertical-align: middle;\n",
       "    }\n",
       "\n",
       "    .dataframe tbody tr th {\n",
       "        vertical-align: top;\n",
       "    }\n",
       "\n",
       "    .dataframe thead th {\n",
       "        text-align: right;\n",
       "    }\n",
       "</style>\n",
       "<table border=\"1\" class=\"dataframe\">\n",
       "  <thead>\n",
       "    <tr style=\"text-align: right;\">\n",
       "      <th></th>\n",
       "      <th>Tavg</th>\n",
       "      <th>StnPressure</th>\n",
       "      <th>DewPoint</th>\n",
       "      <th>PrecipTotal</th>\n",
       "      <th>Date</th>\n",
       "      <th>Sunrise</th>\n",
       "      <th>Sunset</th>\n",
       "      <th>ResultSpeed</th>\n",
       "      <th>Station</th>\n",
       "      <th>daylight</th>\n",
       "    </tr>\n",
       "  </thead>\n",
       "  <tbody>\n",
       "    <tr>\n",
       "      <td>0</td>\n",
       "      <td>67</td>\n",
       "      <td>29.10</td>\n",
       "      <td>51</td>\n",
       "      <td>0.00</td>\n",
       "      <td>2007-05-01</td>\n",
       "      <td>448</td>\n",
       "      <td>1849</td>\n",
       "      <td>1.7</td>\n",
       "      <td>1</td>\n",
       "      <td>14.016667</td>\n",
       "    </tr>\n",
       "    <tr>\n",
       "      <td>1</td>\n",
       "      <td>68</td>\n",
       "      <td>29.18</td>\n",
       "      <td>51</td>\n",
       "      <td>0.00</td>\n",
       "      <td>2007-05-01</td>\n",
       "      <td>448</td>\n",
       "      <td>1849</td>\n",
       "      <td>2.7</td>\n",
       "      <td>2</td>\n",
       "      <td>14.016667</td>\n",
       "    </tr>\n",
       "    <tr>\n",
       "      <td>2</td>\n",
       "      <td>51</td>\n",
       "      <td>29.38</td>\n",
       "      <td>42</td>\n",
       "      <td>0.00</td>\n",
       "      <td>2007-05-02</td>\n",
       "      <td>447</td>\n",
       "      <td>1850</td>\n",
       "      <td>13.0</td>\n",
       "      <td>1</td>\n",
       "      <td>14.050000</td>\n",
       "    </tr>\n",
       "    <tr>\n",
       "      <td>3</td>\n",
       "      <td>52</td>\n",
       "      <td>29.44</td>\n",
       "      <td>42</td>\n",
       "      <td>0.00</td>\n",
       "      <td>2007-05-02</td>\n",
       "      <td>447</td>\n",
       "      <td>1850</td>\n",
       "      <td>13.3</td>\n",
       "      <td>2</td>\n",
       "      <td>14.050000</td>\n",
       "    </tr>\n",
       "    <tr>\n",
       "      <td>4</td>\n",
       "      <td>56</td>\n",
       "      <td>29.39</td>\n",
       "      <td>40</td>\n",
       "      <td>0.00</td>\n",
       "      <td>2007-05-03</td>\n",
       "      <td>446</td>\n",
       "      <td>1851</td>\n",
       "      <td>11.7</td>\n",
       "      <td>1</td>\n",
       "      <td>14.083333</td>\n",
       "    </tr>\n",
       "    <tr>\n",
       "      <td>5</td>\n",
       "      <td>58</td>\n",
       "      <td>29.46</td>\n",
       "      <td>40</td>\n",
       "      <td>0.00</td>\n",
       "      <td>2007-05-03</td>\n",
       "      <td>446</td>\n",
       "      <td>1851</td>\n",
       "      <td>12.9</td>\n",
       "      <td>2</td>\n",
       "      <td>14.083333</td>\n",
       "    </tr>\n",
       "    <tr>\n",
       "      <td>6</td>\n",
       "      <td>58</td>\n",
       "      <td>29.31</td>\n",
       "      <td>41</td>\n",
       "      <td>T</td>\n",
       "      <td>2007-05-04</td>\n",
       "      <td>444</td>\n",
       "      <td>1852</td>\n",
       "      <td>10.4</td>\n",
       "      <td>1</td>\n",
       "      <td>14.133333</td>\n",
       "    </tr>\n",
       "    <tr>\n",
       "      <td>7</td>\n",
       "      <td>64</td>\n",
       "      <td>29.36</td>\n",
       "      <td>42</td>\n",
       "      <td>0.00</td>\n",
       "      <td>2007-05-04</td>\n",
       "      <td>444</td>\n",
       "      <td>1852</td>\n",
       "      <td>10.1</td>\n",
       "      <td>2</td>\n",
       "      <td>14.133333</td>\n",
       "    </tr>\n",
       "    <tr>\n",
       "      <td>8</td>\n",
       "      <td>60</td>\n",
       "      <td>29.40</td>\n",
       "      <td>38</td>\n",
       "      <td>T</td>\n",
       "      <td>2007-05-05</td>\n",
       "      <td>443</td>\n",
       "      <td>1853</td>\n",
       "      <td>11.7</td>\n",
       "      <td>1</td>\n",
       "      <td>14.166667</td>\n",
       "    </tr>\n",
       "    <tr>\n",
       "      <td>9</td>\n",
       "      <td>60</td>\n",
       "      <td>29.46</td>\n",
       "      <td>39</td>\n",
       "      <td>T</td>\n",
       "      <td>2007-05-05</td>\n",
       "      <td>443</td>\n",
       "      <td>1853</td>\n",
       "      <td>11.2</td>\n",
       "      <td>2</td>\n",
       "      <td>14.166667</td>\n",
       "    </tr>\n",
       "  </tbody>\n",
       "</table>\n",
       "</div>"
      ],
      "text/plain": [
       "  Tavg StnPressure  DewPoint PrecipTotal       Date  Sunrise  Sunset  \\\n",
       "0   67       29.10        51        0.00 2007-05-01      448    1849   \n",
       "1   68       29.18        51        0.00 2007-05-01      448    1849   \n",
       "2   51       29.38        42        0.00 2007-05-02      447    1850   \n",
       "3   52       29.44        42        0.00 2007-05-02      447    1850   \n",
       "4   56       29.39        40        0.00 2007-05-03      446    1851   \n",
       "5   58       29.46        40        0.00 2007-05-03      446    1851   \n",
       "6   58       29.31        41           T 2007-05-04      444    1852   \n",
       "7   64       29.36        42        0.00 2007-05-04      444    1852   \n",
       "8   60       29.40        38           T 2007-05-05      443    1853   \n",
       "9   60       29.46        39           T 2007-05-05      443    1853   \n",
       "\n",
       "   ResultSpeed  Station   daylight  \n",
       "0          1.7        1  14.016667  \n",
       "1          2.7        2  14.016667  \n",
       "2         13.0        1  14.050000  \n",
       "3         13.3        2  14.050000  \n",
       "4         11.7        1  14.083333  \n",
       "5         12.9        2  14.083333  \n",
       "6         10.4        1  14.133333  \n",
       "7         10.1        2  14.133333  \n",
       "8         11.7        1  14.166667  \n",
       "9         11.2        2  14.166667  "
      ]
     },
     "execution_count": 30,
     "metadata": {},
     "output_type": "execute_result"
    }
   ],
   "source": [
    "# Code block for weather data imputation/ conversion\n",
    "# Code to impute Tavg\n",
    "#calculateing the temperature average \n",
    "fill_Tavg = round((df_weather['Tmax'] + df_weather['Tmin'])/2, 2)\n",
    "fill_Tavg =fill_Tavg.astype(int)\n",
    "#looking for the index of missing value \n",
    "df_w[df_w['Tavg'].isna()].index\n",
    "#impute the missing value by the calculated Temperature average\n",
    "for avg in df_w[df_w['Tavg'].isna()].index:\n",
    "    df_w['Tavg'].loc[avg] = int(fill_Tavg[avg])\n",
    "\n",
    "# Code to impute Stnpressure\n",
    "df_w['StnPressure'].fillna(df_w['StnPressure'].median(),inplace=True)\n",
    "\n",
    "\n",
    "# Code to impute Wetbulb\n",
    "\n",
    "# Code to impute PrecipTotal\n",
    "df_w['PrecipTotal'].fillna(method='ffill', inplace=True)\n",
    "# Code to convert Date\n",
    "df_w['Date'] = pd.to_datetime(df_w['Date'])\n",
    "\n",
    "# Code to impute Sunrise and Sunset for Station 2.\n",
    "# Difference in sunrise/set times between stations should not be significant\n",
    "\"\"\"Replace '-' for values with NaN.\"\"\"\n",
    "\"\"\"Use last valid observation forward to next valid one.\"\"\"\n",
    "df_w['Sunrise'].replace('-', np.NaN, inplace=True)\n",
    "df_w['Sunrise'].fillna(method='ffill', inplace=True)\n",
    "df_w['Sunset'].replace('-', np.NaN, inplace=True)\n",
    "df_w['Sunset'].fillna(method='ffill', inplace=True)\n",
    "\n",
    "# Code to calculate daylight\n",
    "df_w['Sunrise']=pd.to_numeric(df_w['Sunrise'])\n",
    "df_w['Sunset']=pd.to_numeric(df_w['Sunset'])\n",
    "df_w['daylight'] = df_w['Sunset']-df_w['Sunrise']\n",
    "df_w['daylight'] = df_w['daylight'].map(lambda x: int(str(x)[:2]) + int(str(x)[-2:])/60)\n",
    "df_w.head(10)"
   ]
  },
  {
   "cell_type": "code",
   "execution_count": 31,
   "metadata": {
    "colab": {
     "base_uri": "https://localhost:8080/",
     "height": 204
    },
    "colab_type": "code",
    "id": "5oRCJU3rnRUy",
    "outputId": "0525cae9-9151-412e-8614-839b727bf9cc"
   },
   "outputs": [
    {
     "data": {
      "text/plain": [
       "Tavg             0\n",
       "StnPressure      0\n",
       "DewPoint         0\n",
       "PrecipTotal    318\n",
       "Date             0\n",
       "Sunrise          0\n",
       "Sunset           0\n",
       "ResultSpeed      0\n",
       "Station          0\n",
       "daylight         0\n",
       "dtype: int64"
      ]
     },
     "execution_count": 31,
     "metadata": {},
     "output_type": "execute_result"
    }
   ],
   "source": [
    "# imputing T values. T stands for trace values, more than 0 but lower than the smallest measurement\n",
    "# only PreciptTotal needs to have imputed T\n",
    "df_w.isin(['  T']).sum()"
   ]
  },
  {
   "cell_type": "code",
   "execution_count": 32,
   "metadata": {
    "colab": {
     "base_uri": "https://localhost:8080/",
     "height": 34
    },
    "colab_type": "code",
    "id": "QIoKWTMk4fWz",
    "outputId": "7c9dab96-04ed-4c24-e66c-5d571b2b0905"
   },
   "outputs": [
    {
     "data": {
      "text/plain": [
       "['  T', '0.00', '0.01', '0.02', '0.03']"
      ]
     },
     "execution_count": 32,
     "metadata": {},
     "output_type": "execute_result"
    }
   ],
   "source": [
    "# getting the list of unique values for PrecipTotal\n",
    "sorted(tuple(df_w['PrecipTotal'].unique()))[:5]"
   ]
  },
  {
   "cell_type": "code",
   "execution_count": 33,
   "metadata": {
    "colab": {},
    "colab_type": "code",
    "id": "xBCPDIPw3w7L"
   },
   "outputs": [],
   "source": [
    "# taking the minimum measurement\n",
    "min_measurement = sorted(tuple(df_w['PrecipTotal'].unique()))[2]"
   ]
  },
  {
   "cell_type": "code",
   "execution_count": 34,
   "metadata": {
    "colab": {},
    "colab_type": "code",
    "id": "m9CwihG5ufY-"
   },
   "outputs": [],
   "source": [
    "# we will take half the minimum value\n",
    "df_w['PrecipTotal'].replace('  T',float(min_measurement) * 0.5, inplace=True)"
   ]
  },
  {
   "cell_type": "code",
   "execution_count": 35,
   "metadata": {
    "colab": {
     "base_uri": "https://localhost:8080/",
     "height": 306
    },
    "colab_type": "code",
    "id": "2wqh6O8aEIPu",
    "outputId": "5e1b170c-8018-4067-e650-b44baaff5c0b"
   },
   "outputs": [
    {
     "name": "stdout",
     "output_type": "stream",
     "text": [
      "<class 'pandas.core.frame.DataFrame'>\n",
      "RangeIndex: 2944 entries, 0 to 2943\n",
      "Data columns (total 10 columns):\n",
      "Tavg           2944 non-null object\n",
      "StnPressure    2944 non-null object\n",
      "DewPoint       2944 non-null int64\n",
      "PrecipTotal    2944 non-null object\n",
      "Date           2944 non-null datetime64[ns]\n",
      "Sunrise        2944 non-null int64\n",
      "Sunset         2944 non-null int64\n",
      "ResultSpeed    2944 non-null float64\n",
      "Station        2944 non-null int64\n",
      "daylight       2944 non-null float64\n",
      "dtypes: datetime64[ns](1), float64(2), int64(4), object(3)\n",
      "memory usage: 230.1+ KB\n"
     ]
    }
   ],
   "source": [
    "#checking the datatype \n",
    "df_w.info()"
   ]
  },
  {
   "cell_type": "code",
   "execution_count": 36,
   "metadata": {
    "colab": {},
    "colab_type": "code",
    "id": "n8sChgvSEcFh"
   },
   "outputs": [],
   "source": [
    "#making the variable weather to correct datatype\n",
    "\n",
    "df_w['Tavg'] = df_w['Tavg'].astype(int)\n",
    "df_w['StnPressure'] = df_w['StnPressure'].astype(float)\n",
    "df_w['DewPoint'] = df_w['DewPoint'].astype(float)\n",
    "df_w['PrecipTotal'] = df_w['PrecipTotal'].astype(float)\n",
    "\n"
   ]
  },
  {
   "cell_type": "code",
   "execution_count": 37,
   "metadata": {
    "colab": {},
    "colab_type": "code",
    "id": "0E1Sr00EGmwp"
   },
   "outputs": [],
   "source": [
    "#making the sunrise and sunset into correct datatype\n",
    "# Make Date into datetime\n",
    "df_w['Sunrise'] = pd.to_datetime(df_w['Sunrise'])\n",
    "df_w['Sunset'] = pd.to_datetime(df_w['Sunset'])\n"
   ]
  },
  {
   "cell_type": "code",
   "execution_count": 38,
   "metadata": {
    "colab": {
     "base_uri": "https://localhost:8080/",
     "height": 306
    },
    "colab_type": "code",
    "id": "7TSf42rS7BXc",
    "outputId": "de33892a-92c9-4f78-fd7c-90576ad1e9b2"
   },
   "outputs": [
    {
     "name": "stdout",
     "output_type": "stream",
     "text": [
      "<class 'pandas.core.frame.DataFrame'>\n",
      "RangeIndex: 2944 entries, 0 to 2943\n",
      "Data columns (total 10 columns):\n",
      "Tavg           2944 non-null int32\n",
      "StnPressure    2944 non-null float64\n",
      "DewPoint       2944 non-null float64\n",
      "PrecipTotal    2944 non-null float64\n",
      "Date           2944 non-null datetime64[ns]\n",
      "Sunrise        2944 non-null datetime64[ns]\n",
      "Sunset         2944 non-null datetime64[ns]\n",
      "ResultSpeed    2944 non-null float64\n",
      "Station        2944 non-null int64\n",
      "daylight       2944 non-null float64\n",
      "dtypes: datetime64[ns](3), float64(5), int32(1), int64(1)\n",
      "memory usage: 218.6 KB\n"
     ]
    }
   ],
   "source": [
    "df_w.info()"
   ]
  },
  {
   "cell_type": "markdown",
   "metadata": {
    "colab_type": "text",
    "id": "YhV6npYJ60CO"
   },
   "source": [
    "### EDA"
   ]
  },
  {
   "cell_type": "markdown",
   "metadata": {
    "colab_type": "text",
    "id": "-2mWE0Pg_6aG"
   },
   "source": [
    "Having 2 different weather stations creates too many variables, therefore we are looking into merging them into 1 but this is dependent on the factors having little to no variance."
   ]
  },
  {
   "cell_type": "code",
   "execution_count": 39,
   "metadata": {
    "colab": {},
    "colab_type": "code",
    "id": "_U9Pha39O_x8"
   },
   "outputs": [],
   "source": [
    "#function boxplot:\n",
    "def subplot_boxplots(dataframe, list_of_columns):\n",
    "     # Makes sure you have enough rows\n",
    "    nrows = int(np.ceil(len(list_of_columns)/5)) \n",
    "    \n",
    "  \n",
    "    fig, ax = plt.subplots(nrows=nrows, ncols=4, figsize=(16,9), sharey=True) \n",
    "    plt.subplots_adjust(hspace=0.3)\n",
    "    \n",
    "    # Ravel turns a matrix into a vector, which is easier to iterate\n",
    "    ax = ax.ravel()\n",
    "    \n",
    "    # Gives us an index value to get into all our lists\n",
    "    for i, column in enumerate(list_of_columns): \n",
    "        #plotting a boxplot\n",
    "        sns.boxplot(x=dataframe['Station'], y=dataframe[column], ax=ax[i])\n",
    "        #setting y label\n",
    "        ax[i].set_ylabel(column,fontsize=13)\n",
    "        #setting x label\n",
    "        ax[i].set_xlabel('Station',fontsize=13)"
   ]
  },
  {
   "cell_type": "code",
   "execution_count": 40,
   "metadata": {
    "colab": {
     "base_uri": "https://localhost:8080/",
     "height": 554
    },
    "colab_type": "code",
    "id": "rIZb-m1UPUWe",
    "outputId": "d385a098-4992-4f24-8640-a816296d9bbb"
   },
   "outputs": [
    {
     "data": {
      "image/png": "[encoded data removed]",
      "text/plain": [
       "<Figure size 1152x648 with 8 Axes>"
      ]
     },
     "metadata": {
      "needs_background": "light"
     },
     "output_type": "display_data"
    }
   ],
   "source": [
    "list_of_columns = (df_w.drop(['Sunrise', 'Sunset', 'Date'],axis=1).columns)\n",
    "subplot_boxplots(df_w,list_of_columns)"
   ]
  },
  {
   "cell_type": "code",
   "execution_count": 41,
   "metadata": {
    "colab": {
     "base_uri": "https://localhost:8080/",
     "height": 554
    },
    "colab_type": "code",
    "id": "Vb_6H6yJJvIn",
    "outputId": "8253510b-82f4-4206-ab26-6494936cd436"
   },
   "outputs": [
    {
     "data": {
      "text/plain": [
       "[<matplotlib.lines.Line2D at 0x1f81f6da088>]"
      ]
     },
     "execution_count": 41,
     "metadata": {},
     "output_type": "execute_result"
    },
    {
     "data": {
      "image/png": "[encoded data removed]",
      "text/plain": [
       "<Figure size 1152x648 with 1 Axes>"
      ]
     },
     "metadata": {
      "needs_background": "light"
     },
     "output_type": "display_data"
    }
   ],
   "source": [
    "# lineplot overlap of the two stations for preciptotal\n",
    "plt.figure(figsize=(16,9))\n",
    "plt.plot(df_w[df_w['Station']==1]['PrecipTotal'])\n",
    "plt.plot(df_w[df_w['Station']==2]['PrecipTotal'],alpha=00.8)"
   ]
  },
  {
   "cell_type": "code",
   "execution_count": 42,
   "metadata": {
    "colab": {},
    "colab_type": "code",
    "id": "WEsKgIX4SQw7"
   },
   "outputs": [],
   "source": [
    "# since the two weather stations have little variance among its features, \n",
    "# we will average them out into a single station\n",
    "\n",
    "df_w_1 = df_w.iloc[::2,:].drop(['Sunrise', 'Sunset', 'Date'],axis=1)\n",
    "df_w_2 = df_w.iloc[1::2,:].drop(['Sunrise', 'Sunset', 'Date'],axis=1)"
   ]
  },
  {
   "cell_type": "code",
   "execution_count": 43,
   "metadata": {},
   "outputs": [],
   "source": [
    "# checking if df_w_1 is station 1 only\n",
    "df_w_1.reset_index(inplace=True)"
   ]
  },
  {
   "cell_type": "code",
   "execution_count": 44,
   "metadata": {},
   "outputs": [],
   "source": [
    "# checking if df_w_1 is station 2 only\n",
    "df_w_2.reset_index(inplace=True)"
   ]
  },
  {
   "cell_type": "code",
   "execution_count": 45,
   "metadata": {},
   "outputs": [],
   "source": [
    "# getting the mean of station 1 and station 2\n",
    "df_w_mean = df_w_1.add(df_w_2)/2"
   ]
  },
  {
   "cell_type": "code",
   "execution_count": 46,
   "metadata": {},
   "outputs": [
    {
     "data": {
      "text/html": [
       "<div>\n",
       "<style scoped>\n",
       "    .dataframe tbody tr th:only-of-type {\n",
       "        vertical-align: middle;\n",
       "    }\n",
       "\n",
       "    .dataframe tbody tr th {\n",
       "        vertical-align: top;\n",
       "    }\n",
       "\n",
       "    .dataframe thead th {\n",
       "        text-align: right;\n",
       "    }\n",
       "</style>\n",
       "<table border=\"1\" class=\"dataframe\">\n",
       "  <thead>\n",
       "    <tr style=\"text-align: right;\">\n",
       "      <th></th>\n",
       "      <th>index</th>\n",
       "      <th>Tavg</th>\n",
       "      <th>StnPressure</th>\n",
       "      <th>DewPoint</th>\n",
       "      <th>PrecipTotal</th>\n",
       "      <th>ResultSpeed</th>\n",
       "      <th>Station</th>\n",
       "      <th>daylight</th>\n",
       "    </tr>\n",
       "  </thead>\n",
       "  <tbody>\n",
       "    <tr>\n",
       "      <td>0</td>\n",
       "      <td>0.5</td>\n",
       "      <td>67.5</td>\n",
       "      <td>29.140</td>\n",
       "      <td>51.0</td>\n",
       "      <td>0.0000</td>\n",
       "      <td>2.20</td>\n",
       "      <td>1.5</td>\n",
       "      <td>14.016667</td>\n",
       "    </tr>\n",
       "    <tr>\n",
       "      <td>1</td>\n",
       "      <td>2.5</td>\n",
       "      <td>51.5</td>\n",
       "      <td>29.410</td>\n",
       "      <td>42.0</td>\n",
       "      <td>0.0000</td>\n",
       "      <td>13.15</td>\n",
       "      <td>1.5</td>\n",
       "      <td>14.050000</td>\n",
       "    </tr>\n",
       "    <tr>\n",
       "      <td>2</td>\n",
       "      <td>4.5</td>\n",
       "      <td>57.0</td>\n",
       "      <td>29.425</td>\n",
       "      <td>40.0</td>\n",
       "      <td>0.0000</td>\n",
       "      <td>12.30</td>\n",
       "      <td>1.5</td>\n",
       "      <td>14.083333</td>\n",
       "    </tr>\n",
       "    <tr>\n",
       "      <td>3</td>\n",
       "      <td>6.5</td>\n",
       "      <td>61.0</td>\n",
       "      <td>29.335</td>\n",
       "      <td>41.5</td>\n",
       "      <td>0.0025</td>\n",
       "      <td>10.25</td>\n",
       "      <td>1.5</td>\n",
       "      <td>14.133333</td>\n",
       "    </tr>\n",
       "    <tr>\n",
       "      <td>4</td>\n",
       "      <td>8.5</td>\n",
       "      <td>60.0</td>\n",
       "      <td>29.430</td>\n",
       "      <td>38.5</td>\n",
       "      <td>0.0050</td>\n",
       "      <td>11.45</td>\n",
       "      <td>1.5</td>\n",
       "      <td>14.166667</td>\n",
       "    </tr>\n",
       "  </tbody>\n",
       "</table>\n",
       "</div>"
      ],
      "text/plain": [
       "   index  Tavg  StnPressure  DewPoint  PrecipTotal  ResultSpeed  Station  \\\n",
       "0    0.5  67.5       29.140      51.0       0.0000         2.20      1.5   \n",
       "1    2.5  51.5       29.410      42.0       0.0000        13.15      1.5   \n",
       "2    4.5  57.0       29.425      40.0       0.0000        12.30      1.5   \n",
       "3    6.5  61.0       29.335      41.5       0.0025        10.25      1.5   \n",
       "4    8.5  60.0       29.430      38.5       0.0050        11.45      1.5   \n",
       "\n",
       "    daylight  \n",
       "0  14.016667  \n",
       "1  14.050000  \n",
       "2  14.083333  \n",
       "3  14.133333  \n",
       "4  14.166667  "
      ]
     },
     "execution_count": 46,
     "metadata": {},
     "output_type": "execute_result"
    }
   ],
   "source": [
    "df_w_mean.head()"
   ]
  },
  {
   "cell_type": "code",
   "execution_count": 47,
   "metadata": {},
   "outputs": [],
   "source": [
    "# checking final df_w_mean\n",
    "df_w_mean.drop(['index','Station'],axis=1, inplace=True)"
   ]
  },
  {
   "cell_type": "code",
   "execution_count": 48,
   "metadata": {},
   "outputs": [
    {
     "data": {
      "text/html": [
       "<div>\n",
       "<style scoped>\n",
       "    .dataframe tbody tr th:only-of-type {\n",
       "        vertical-align: middle;\n",
       "    }\n",
       "\n",
       "    .dataframe tbody tr th {\n",
       "        vertical-align: top;\n",
       "    }\n",
       "\n",
       "    .dataframe thead th {\n",
       "        text-align: right;\n",
       "    }\n",
       "</style>\n",
       "<table border=\"1\" class=\"dataframe\">\n",
       "  <thead>\n",
       "    <tr style=\"text-align: right;\">\n",
       "      <th></th>\n",
       "      <th>Tavg</th>\n",
       "      <th>StnPressure</th>\n",
       "      <th>DewPoint</th>\n",
       "      <th>PrecipTotal</th>\n",
       "      <th>Date</th>\n",
       "      <th>Sunrise</th>\n",
       "      <th>Sunset</th>\n",
       "      <th>ResultSpeed</th>\n",
       "      <th>Station</th>\n",
       "      <th>daylight</th>\n",
       "    </tr>\n",
       "  </thead>\n",
       "  <tbody>\n",
       "    <tr>\n",
       "      <td>0</td>\n",
       "      <td>67</td>\n",
       "      <td>29.10</td>\n",
       "      <td>51.0</td>\n",
       "      <td>0.000</td>\n",
       "      <td>2007-05-01</td>\n",
       "      <td>1970-01-01 00:00:00.000000448</td>\n",
       "      <td>1970-01-01 00:00:00.000001849</td>\n",
       "      <td>1.7</td>\n",
       "      <td>1</td>\n",
       "      <td>14.016667</td>\n",
       "    </tr>\n",
       "    <tr>\n",
       "      <td>1</td>\n",
       "      <td>68</td>\n",
       "      <td>29.18</td>\n",
       "      <td>51.0</td>\n",
       "      <td>0.000</td>\n",
       "      <td>2007-05-01</td>\n",
       "      <td>1970-01-01 00:00:00.000000448</td>\n",
       "      <td>1970-01-01 00:00:00.000001849</td>\n",
       "      <td>2.7</td>\n",
       "      <td>2</td>\n",
       "      <td>14.016667</td>\n",
       "    </tr>\n",
       "    <tr>\n",
       "      <td>2</td>\n",
       "      <td>51</td>\n",
       "      <td>29.38</td>\n",
       "      <td>42.0</td>\n",
       "      <td>0.000</td>\n",
       "      <td>2007-05-02</td>\n",
       "      <td>1970-01-01 00:00:00.000000447</td>\n",
       "      <td>1970-01-01 00:00:00.000001850</td>\n",
       "      <td>13.0</td>\n",
       "      <td>1</td>\n",
       "      <td>14.050000</td>\n",
       "    </tr>\n",
       "    <tr>\n",
       "      <td>3</td>\n",
       "      <td>52</td>\n",
       "      <td>29.44</td>\n",
       "      <td>42.0</td>\n",
       "      <td>0.000</td>\n",
       "      <td>2007-05-02</td>\n",
       "      <td>1970-01-01 00:00:00.000000447</td>\n",
       "      <td>1970-01-01 00:00:00.000001850</td>\n",
       "      <td>13.3</td>\n",
       "      <td>2</td>\n",
       "      <td>14.050000</td>\n",
       "    </tr>\n",
       "    <tr>\n",
       "      <td>4</td>\n",
       "      <td>56</td>\n",
       "      <td>29.39</td>\n",
       "      <td>40.0</td>\n",
       "      <td>0.000</td>\n",
       "      <td>2007-05-03</td>\n",
       "      <td>1970-01-01 00:00:00.000000446</td>\n",
       "      <td>1970-01-01 00:00:00.000001851</td>\n",
       "      <td>11.7</td>\n",
       "      <td>1</td>\n",
       "      <td>14.083333</td>\n",
       "    </tr>\n",
       "    <tr>\n",
       "      <td>...</td>\n",
       "      <td>...</td>\n",
       "      <td>...</td>\n",
       "      <td>...</td>\n",
       "      <td>...</td>\n",
       "      <td>...</td>\n",
       "      <td>...</td>\n",
       "      <td>...</td>\n",
       "      <td>...</td>\n",
       "      <td>...</td>\n",
       "      <td>...</td>\n",
       "    </tr>\n",
       "    <tr>\n",
       "      <td>2939</td>\n",
       "      <td>45</td>\n",
       "      <td>29.42</td>\n",
       "      <td>34.0</td>\n",
       "      <td>0.000</td>\n",
       "      <td>2014-10-29</td>\n",
       "      <td>1970-01-01 00:00:00.000000620</td>\n",
       "      <td>1970-01-01 00:00:00.000001650</td>\n",
       "      <td>8.5</td>\n",
       "      <td>2</td>\n",
       "      <td>10.500000</td>\n",
       "    </tr>\n",
       "    <tr>\n",
       "      <td>2940</td>\n",
       "      <td>42</td>\n",
       "      <td>29.34</td>\n",
       "      <td>34.0</td>\n",
       "      <td>0.000</td>\n",
       "      <td>2014-10-30</td>\n",
       "      <td>1970-01-01 00:00:00.000000622</td>\n",
       "      <td>1970-01-01 00:00:00.000001649</td>\n",
       "      <td>5.1</td>\n",
       "      <td>1</td>\n",
       "      <td>10.450000</td>\n",
       "    </tr>\n",
       "    <tr>\n",
       "      <td>2941</td>\n",
       "      <td>45</td>\n",
       "      <td>29.41</td>\n",
       "      <td>35.0</td>\n",
       "      <td>0.005</td>\n",
       "      <td>2014-10-30</td>\n",
       "      <td>1970-01-01 00:00:00.000000622</td>\n",
       "      <td>1970-01-01 00:00:00.000001649</td>\n",
       "      <td>5.9</td>\n",
       "      <td>2</td>\n",
       "      <td>10.450000</td>\n",
       "    </tr>\n",
       "    <tr>\n",
       "      <td>2942</td>\n",
       "      <td>40</td>\n",
       "      <td>29.49</td>\n",
       "      <td>25.0</td>\n",
       "      <td>0.030</td>\n",
       "      <td>2014-10-31</td>\n",
       "      <td>1970-01-01 00:00:00.000000623</td>\n",
       "      <td>1970-01-01 00:00:00.000001647</td>\n",
       "      <td>22.6</td>\n",
       "      <td>1</td>\n",
       "      <td>10.400000</td>\n",
       "    </tr>\n",
       "    <tr>\n",
       "      <td>2943</td>\n",
       "      <td>42</td>\n",
       "      <td>29.54</td>\n",
       "      <td>29.0</td>\n",
       "      <td>0.040</td>\n",
       "      <td>2014-10-31</td>\n",
       "      <td>1970-01-01 00:00:00.000000623</td>\n",
       "      <td>1970-01-01 00:00:00.000001647</td>\n",
       "      <td>21.7</td>\n",
       "      <td>2</td>\n",
       "      <td>10.400000</td>\n",
       "    </tr>\n",
       "  </tbody>\n",
       "</table>\n",
       "<p>2944 rows × 10 columns</p>\n",
       "</div>"
      ],
      "text/plain": [
       "      Tavg  StnPressure  DewPoint  PrecipTotal       Date  \\\n",
       "0       67        29.10      51.0        0.000 2007-05-01   \n",
       "1       68        29.18      51.0        0.000 2007-05-01   \n",
       "2       51        29.38      42.0        0.000 2007-05-02   \n",
       "3       52        29.44      42.0        0.000 2007-05-02   \n",
       "4       56        29.39      40.0        0.000 2007-05-03   \n",
       "...    ...          ...       ...          ...        ...   \n",
       "2939    45        29.42      34.0        0.000 2014-10-29   \n",
       "2940    42        29.34      34.0        0.000 2014-10-30   \n",
       "2941    45        29.41      35.0        0.005 2014-10-30   \n",
       "2942    40        29.49      25.0        0.030 2014-10-31   \n",
       "2943    42        29.54      29.0        0.040 2014-10-31   \n",
       "\n",
       "                           Sunrise                        Sunset  ResultSpeed  \\\n",
       "0    1970-01-01 00:00:00.000000448 1970-01-01 00:00:00.000001849          1.7   \n",
       "1    1970-01-01 00:00:00.000000448 1970-01-01 00:00:00.000001849          2.7   \n",
       "2    1970-01-01 00:00:00.000000447 1970-01-01 00:00:00.000001850         13.0   \n",
       "3    1970-01-01 00:00:00.000000447 1970-01-01 00:00:00.000001850         13.3   \n",
       "4    1970-01-01 00:00:00.000000446 1970-01-01 00:00:00.000001851         11.7   \n",
       "...                            ...                           ...          ...   \n",
       "2939 1970-01-01 00:00:00.000000620 1970-01-01 00:00:00.000001650          8.5   \n",
       "2940 1970-01-01 00:00:00.000000622 1970-01-01 00:00:00.000001649          5.1   \n",
       "2941 1970-01-01 00:00:00.000000622 1970-01-01 00:00:00.000001649          5.9   \n",
       "2942 1970-01-01 00:00:00.000000623 1970-01-01 00:00:00.000001647         22.6   \n",
       "2943 1970-01-01 00:00:00.000000623 1970-01-01 00:00:00.000001647         21.7   \n",
       "\n",
       "      Station   daylight  \n",
       "0           1  14.016667  \n",
       "1           2  14.016667  \n",
       "2           1  14.050000  \n",
       "3           2  14.050000  \n",
       "4           1  14.083333  \n",
       "...       ...        ...  \n",
       "2939        2  10.500000  \n",
       "2940        1  10.450000  \n",
       "2941        2  10.450000  \n",
       "2942        1  10.400000  \n",
       "2943        2  10.400000  \n",
       "\n",
       "[2944 rows x 10 columns]"
      ]
     },
     "execution_count": 48,
     "metadata": {},
     "output_type": "execute_result"
    }
   ],
   "source": [
    "df_w"
   ]
  },
  {
   "cell_type": "code",
   "execution_count": 49,
   "metadata": {},
   "outputs": [],
   "source": [
    "# adding back date to df_w_mean\n",
    "df_w_mean['Date'] = df_w.iloc[::2,:].reset_index()['Date']"
   ]
  },
  {
   "cell_type": "code",
   "execution_count": 50,
   "metadata": {},
   "outputs": [
    {
     "data": {
      "text/html": [
       "<div>\n",
       "<style scoped>\n",
       "    .dataframe tbody tr th:only-of-type {\n",
       "        vertical-align: middle;\n",
       "    }\n",
       "\n",
       "    .dataframe tbody tr th {\n",
       "        vertical-align: top;\n",
       "    }\n",
       "\n",
       "    .dataframe thead th {\n",
       "        text-align: right;\n",
       "    }\n",
       "</style>\n",
       "<table border=\"1\" class=\"dataframe\">\n",
       "  <thead>\n",
       "    <tr style=\"text-align: right;\">\n",
       "      <th></th>\n",
       "      <th>Tavg</th>\n",
       "      <th>StnPressure</th>\n",
       "      <th>DewPoint</th>\n",
       "      <th>PrecipTotal</th>\n",
       "      <th>ResultSpeed</th>\n",
       "      <th>daylight</th>\n",
       "      <th>Date</th>\n",
       "    </tr>\n",
       "  </thead>\n",
       "  <tbody>\n",
       "    <tr>\n",
       "      <td>0</td>\n",
       "      <td>67.5</td>\n",
       "      <td>29.140</td>\n",
       "      <td>51.0</td>\n",
       "      <td>0.0000</td>\n",
       "      <td>2.20</td>\n",
       "      <td>14.016667</td>\n",
       "      <td>2007-05-01</td>\n",
       "    </tr>\n",
       "    <tr>\n",
       "      <td>1</td>\n",
       "      <td>51.5</td>\n",
       "      <td>29.410</td>\n",
       "      <td>42.0</td>\n",
       "      <td>0.0000</td>\n",
       "      <td>13.15</td>\n",
       "      <td>14.050000</td>\n",
       "      <td>2007-05-02</td>\n",
       "    </tr>\n",
       "    <tr>\n",
       "      <td>2</td>\n",
       "      <td>57.0</td>\n",
       "      <td>29.425</td>\n",
       "      <td>40.0</td>\n",
       "      <td>0.0000</td>\n",
       "      <td>12.30</td>\n",
       "      <td>14.083333</td>\n",
       "      <td>2007-05-03</td>\n",
       "    </tr>\n",
       "    <tr>\n",
       "      <td>3</td>\n",
       "      <td>61.0</td>\n",
       "      <td>29.335</td>\n",
       "      <td>41.5</td>\n",
       "      <td>0.0025</td>\n",
       "      <td>10.25</td>\n",
       "      <td>14.133333</td>\n",
       "      <td>2007-05-04</td>\n",
       "    </tr>\n",
       "    <tr>\n",
       "      <td>4</td>\n",
       "      <td>60.0</td>\n",
       "      <td>29.430</td>\n",
       "      <td>38.5</td>\n",
       "      <td>0.0050</td>\n",
       "      <td>11.45</td>\n",
       "      <td>14.166667</td>\n",
       "      <td>2007-05-05</td>\n",
       "    </tr>\n",
       "    <tr>\n",
       "      <td>...</td>\n",
       "      <td>...</td>\n",
       "      <td>...</td>\n",
       "      <td>...</td>\n",
       "      <td>...</td>\n",
       "      <td>...</td>\n",
       "      <td>...</td>\n",
       "      <td>...</td>\n",
       "    </tr>\n",
       "    <tr>\n",
       "      <td>1467</td>\n",
       "      <td>65.5</td>\n",
       "      <td>28.960</td>\n",
       "      <td>51.5</td>\n",
       "      <td>0.0100</td>\n",
       "      <td>12.35</td>\n",
       "      <td>10.583333</td>\n",
       "      <td>2014-10-27</td>\n",
       "    </tr>\n",
       "    <tr>\n",
       "      <td>1468</td>\n",
       "      <td>57.0</td>\n",
       "      <td>29.190</td>\n",
       "      <td>39.0</td>\n",
       "      <td>0.0175</td>\n",
       "      <td>14.40</td>\n",
       "      <td>10.533333</td>\n",
       "      <td>2014-10-28</td>\n",
       "    </tr>\n",
       "    <tr>\n",
       "      <td>1469</td>\n",
       "      <td>44.0</td>\n",
       "      <td>29.390</td>\n",
       "      <td>33.0</td>\n",
       "      <td>0.0000</td>\n",
       "      <td>9.00</td>\n",
       "      <td>10.500000</td>\n",
       "      <td>2014-10-29</td>\n",
       "    </tr>\n",
       "    <tr>\n",
       "      <td>1470</td>\n",
       "      <td>43.5</td>\n",
       "      <td>29.375</td>\n",
       "      <td>34.5</td>\n",
       "      <td>0.0025</td>\n",
       "      <td>5.50</td>\n",
       "      <td>10.450000</td>\n",
       "      <td>2014-10-30</td>\n",
       "    </tr>\n",
       "    <tr>\n",
       "      <td>1471</td>\n",
       "      <td>41.0</td>\n",
       "      <td>29.515</td>\n",
       "      <td>27.0</td>\n",
       "      <td>0.0350</td>\n",
       "      <td>22.15</td>\n",
       "      <td>10.400000</td>\n",
       "      <td>2014-10-31</td>\n",
       "    </tr>\n",
       "  </tbody>\n",
       "</table>\n",
       "<p>1472 rows × 7 columns</p>\n",
       "</div>"
      ],
      "text/plain": [
       "      Tavg  StnPressure  DewPoint  PrecipTotal  ResultSpeed   daylight  \\\n",
       "0     67.5       29.140      51.0       0.0000         2.20  14.016667   \n",
       "1     51.5       29.410      42.0       0.0000        13.15  14.050000   \n",
       "2     57.0       29.425      40.0       0.0000        12.30  14.083333   \n",
       "3     61.0       29.335      41.5       0.0025        10.25  14.133333   \n",
       "4     60.0       29.430      38.5       0.0050        11.45  14.166667   \n",
       "...    ...          ...       ...          ...          ...        ...   \n",
       "1467  65.5       28.960      51.5       0.0100        12.35  10.583333   \n",
       "1468  57.0       29.190      39.0       0.0175        14.40  10.533333   \n",
       "1469  44.0       29.390      33.0       0.0000         9.00  10.500000   \n",
       "1470  43.5       29.375      34.5       0.0025         5.50  10.450000   \n",
       "1471  41.0       29.515      27.0       0.0350        22.15  10.400000   \n",
       "\n",
       "           Date  \n",
       "0    2007-05-01  \n",
       "1    2007-05-02  \n",
       "2    2007-05-03  \n",
       "3    2007-05-04  \n",
       "4    2007-05-05  \n",
       "...         ...  \n",
       "1467 2014-10-27  \n",
       "1468 2014-10-28  \n",
       "1469 2014-10-29  \n",
       "1470 2014-10-30  \n",
       "1471 2014-10-31  \n",
       "\n",
       "[1472 rows x 7 columns]"
      ]
     },
     "execution_count": 50,
     "metadata": {},
     "output_type": "execute_result"
    }
   ],
   "source": [
    "df_w_mean"
   ]
  },
  {
   "cell_type": "code",
   "execution_count": 51,
   "metadata": {},
   "outputs": [
    {
     "data": {
      "text/html": [
       "<div>\n",
       "<style scoped>\n",
       "    .dataframe tbody tr th:only-of-type {\n",
       "        vertical-align: middle;\n",
       "    }\n",
       "\n",
       "    .dataframe tbody tr th {\n",
       "        vertical-align: top;\n",
       "    }\n",
       "\n",
       "    .dataframe thead th {\n",
       "        text-align: right;\n",
       "    }\n",
       "</style>\n",
       "<table border=\"1\" class=\"dataframe\">\n",
       "  <thead>\n",
       "    <tr style=\"text-align: right;\">\n",
       "      <th></th>\n",
       "      <th>Date</th>\n",
       "      <th>Species</th>\n",
       "      <th>Trap</th>\n",
       "      <th>Latitude</th>\n",
       "      <th>Longitude</th>\n",
       "      <th>NumMosquitos</th>\n",
       "      <th>WnvPresent</th>\n",
       "    </tr>\n",
       "  </thead>\n",
       "  <tbody>\n",
       "    <tr>\n",
       "      <td>0</td>\n",
       "      <td>2007-05-29</td>\n",
       "      <td>CULEX PIPIENS/RESTUANS</td>\n",
       "      <td>T002</td>\n",
       "      <td>41.954690</td>\n",
       "      <td>-87.800991</td>\n",
       "      <td>1</td>\n",
       "      <td>0</td>\n",
       "    </tr>\n",
       "    <tr>\n",
       "      <td>1</td>\n",
       "      <td>2007-05-29</td>\n",
       "      <td>CULEX RESTUANS</td>\n",
       "      <td>T002</td>\n",
       "      <td>41.954690</td>\n",
       "      <td>-87.800991</td>\n",
       "      <td>1</td>\n",
       "      <td>0</td>\n",
       "    </tr>\n",
       "    <tr>\n",
       "      <td>2</td>\n",
       "      <td>2007-05-29</td>\n",
       "      <td>CULEX RESTUANS</td>\n",
       "      <td>T007</td>\n",
       "      <td>41.994991</td>\n",
       "      <td>-87.769279</td>\n",
       "      <td>1</td>\n",
       "      <td>0</td>\n",
       "    </tr>\n",
       "    <tr>\n",
       "      <td>3</td>\n",
       "      <td>2007-05-29</td>\n",
       "      <td>CULEX PIPIENS/RESTUANS</td>\n",
       "      <td>T015</td>\n",
       "      <td>41.974089</td>\n",
       "      <td>-87.824812</td>\n",
       "      <td>1</td>\n",
       "      <td>0</td>\n",
       "    </tr>\n",
       "    <tr>\n",
       "      <td>4</td>\n",
       "      <td>2007-05-29</td>\n",
       "      <td>CULEX RESTUANS</td>\n",
       "      <td>T015</td>\n",
       "      <td>41.974089</td>\n",
       "      <td>-87.824812</td>\n",
       "      <td>4</td>\n",
       "      <td>0</td>\n",
       "    </tr>\n",
       "    <tr>\n",
       "      <td>...</td>\n",
       "      <td>...</td>\n",
       "      <td>...</td>\n",
       "      <td>...</td>\n",
       "      <td>...</td>\n",
       "      <td>...</td>\n",
       "      <td>...</td>\n",
       "      <td>...</td>\n",
       "    </tr>\n",
       "    <tr>\n",
       "      <td>9688</td>\n",
       "      <td>2013-09-26</td>\n",
       "      <td>CULEX PIPIENS/RESTUANS</td>\n",
       "      <td>T035</td>\n",
       "      <td>41.763733</td>\n",
       "      <td>-87.742302</td>\n",
       "      <td>6</td>\n",
       "      <td>1</td>\n",
       "    </tr>\n",
       "    <tr>\n",
       "      <td>9689</td>\n",
       "      <td>2013-09-26</td>\n",
       "      <td>CULEX PIPIENS/RESTUANS</td>\n",
       "      <td>T231</td>\n",
       "      <td>41.987280</td>\n",
       "      <td>-87.666066</td>\n",
       "      <td>5</td>\n",
       "      <td>0</td>\n",
       "    </tr>\n",
       "    <tr>\n",
       "      <td>9690</td>\n",
       "      <td>2013-09-26</td>\n",
       "      <td>CULEX PIPIENS/RESTUANS</td>\n",
       "      <td>T232</td>\n",
       "      <td>41.912563</td>\n",
       "      <td>-87.668055</td>\n",
       "      <td>1</td>\n",
       "      <td>0</td>\n",
       "    </tr>\n",
       "    <tr>\n",
       "      <td>9691</td>\n",
       "      <td>2013-09-26</td>\n",
       "      <td>CULEX PIPIENS/RESTUANS</td>\n",
       "      <td>T233</td>\n",
       "      <td>42.009876</td>\n",
       "      <td>-87.807277</td>\n",
       "      <td>5</td>\n",
       "      <td>0</td>\n",
       "    </tr>\n",
       "    <tr>\n",
       "      <td>9692</td>\n",
       "      <td>2013-09-26</td>\n",
       "      <td>CULEX PIPIENS/RESTUANS</td>\n",
       "      <td>T235</td>\n",
       "      <td>41.776428</td>\n",
       "      <td>-87.627096</td>\n",
       "      <td>1</td>\n",
       "      <td>0</td>\n",
       "    </tr>\n",
       "  </tbody>\n",
       "</table>\n",
       "<p>9693 rows × 7 columns</p>\n",
       "</div>"
      ],
      "text/plain": [
       "           Date                 Species  Trap   Latitude  Longitude  \\\n",
       "0    2007-05-29  CULEX PIPIENS/RESTUANS  T002  41.954690 -87.800991   \n",
       "1    2007-05-29          CULEX RESTUANS  T002  41.954690 -87.800991   \n",
       "2    2007-05-29          CULEX RESTUANS  T007  41.994991 -87.769279   \n",
       "3    2007-05-29  CULEX PIPIENS/RESTUANS  T015  41.974089 -87.824812   \n",
       "4    2007-05-29          CULEX RESTUANS  T015  41.974089 -87.824812   \n",
       "...         ...                     ...   ...        ...        ...   \n",
       "9688 2013-09-26  CULEX PIPIENS/RESTUANS  T035  41.763733 -87.742302   \n",
       "9689 2013-09-26  CULEX PIPIENS/RESTUANS  T231  41.987280 -87.666066   \n",
       "9690 2013-09-26  CULEX PIPIENS/RESTUANS  T232  41.912563 -87.668055   \n",
       "9691 2013-09-26  CULEX PIPIENS/RESTUANS  T233  42.009876 -87.807277   \n",
       "9692 2013-09-26  CULEX PIPIENS/RESTUANS  T235  41.776428 -87.627096   \n",
       "\n",
       "      NumMosquitos  WnvPresent  \n",
       "0                1           0  \n",
       "1                1           0  \n",
       "2                1           0  \n",
       "3                1           0  \n",
       "4                4           0  \n",
       "...            ...         ...  \n",
       "9688             6           1  \n",
       "9689             5           0  \n",
       "9690             1           0  \n",
       "9691             5           0  \n",
       "9692             1           0  \n",
       "\n",
       "[9693 rows x 7 columns]"
      ]
     },
     "execution_count": 51,
     "metadata": {},
     "output_type": "execute_result"
    }
   ],
   "source": [
    "df_train"
   ]
  },
  {
   "cell_type": "code",
   "execution_count": 52,
   "metadata": {},
   "outputs": [],
   "source": [
    "df_train_w = pd.merge(df_train, df_w_mean, on='Date')"
   ]
  },
  {
   "cell_type": "code",
   "execution_count": 53,
   "metadata": {},
   "outputs": [
    {
     "data": {
      "text/html": [
       "<div>\n",
       "<style scoped>\n",
       "    .dataframe tbody tr th:only-of-type {\n",
       "        vertical-align: middle;\n",
       "    }\n",
       "\n",
       "    .dataframe tbody tr th {\n",
       "        vertical-align: top;\n",
       "    }\n",
       "\n",
       "    .dataframe thead th {\n",
       "        text-align: right;\n",
       "    }\n",
       "</style>\n",
       "<table border=\"1\" class=\"dataframe\">\n",
       "  <thead>\n",
       "    <tr style=\"text-align: right;\">\n",
       "      <th></th>\n",
       "      <th>Date</th>\n",
       "      <th>Species</th>\n",
       "      <th>Trap</th>\n",
       "      <th>Latitude</th>\n",
       "      <th>Longitude</th>\n",
       "      <th>NumMosquitos</th>\n",
       "      <th>WnvPresent</th>\n",
       "      <th>Tavg</th>\n",
       "      <th>StnPressure</th>\n",
       "      <th>DewPoint</th>\n",
       "      <th>PrecipTotal</th>\n",
       "      <th>ResultSpeed</th>\n",
       "      <th>daylight</th>\n",
       "    </tr>\n",
       "  </thead>\n",
       "  <tbody>\n",
       "    <tr>\n",
       "      <td>0</td>\n",
       "      <td>2007-05-29</td>\n",
       "      <td>CULEX PIPIENS/RESTUANS</td>\n",
       "      <td>T002</td>\n",
       "      <td>41.954690</td>\n",
       "      <td>-87.800991</td>\n",
       "      <td>1</td>\n",
       "      <td>0</td>\n",
       "      <td>75.5</td>\n",
       "      <td>29.415</td>\n",
       "      <td>58.5</td>\n",
       "      <td>0.0</td>\n",
       "      <td>5.8</td>\n",
       "      <td>15.6</td>\n",
       "    </tr>\n",
       "    <tr>\n",
       "      <td>1</td>\n",
       "      <td>2007-05-29</td>\n",
       "      <td>CULEX RESTUANS</td>\n",
       "      <td>T002</td>\n",
       "      <td>41.954690</td>\n",
       "      <td>-87.800991</td>\n",
       "      <td>1</td>\n",
       "      <td>0</td>\n",
       "      <td>75.5</td>\n",
       "      <td>29.415</td>\n",
       "      <td>58.5</td>\n",
       "      <td>0.0</td>\n",
       "      <td>5.8</td>\n",
       "      <td>15.6</td>\n",
       "    </tr>\n",
       "    <tr>\n",
       "      <td>2</td>\n",
       "      <td>2007-05-29</td>\n",
       "      <td>CULEX RESTUANS</td>\n",
       "      <td>T007</td>\n",
       "      <td>41.994991</td>\n",
       "      <td>-87.769279</td>\n",
       "      <td>1</td>\n",
       "      <td>0</td>\n",
       "      <td>75.5</td>\n",
       "      <td>29.415</td>\n",
       "      <td>58.5</td>\n",
       "      <td>0.0</td>\n",
       "      <td>5.8</td>\n",
       "      <td>15.6</td>\n",
       "    </tr>\n",
       "    <tr>\n",
       "      <td>3</td>\n",
       "      <td>2007-05-29</td>\n",
       "      <td>CULEX PIPIENS/RESTUANS</td>\n",
       "      <td>T015</td>\n",
       "      <td>41.974089</td>\n",
       "      <td>-87.824812</td>\n",
       "      <td>1</td>\n",
       "      <td>0</td>\n",
       "      <td>75.5</td>\n",
       "      <td>29.415</td>\n",
       "      <td>58.5</td>\n",
       "      <td>0.0</td>\n",
       "      <td>5.8</td>\n",
       "      <td>15.6</td>\n",
       "    </tr>\n",
       "    <tr>\n",
       "      <td>4</td>\n",
       "      <td>2007-05-29</td>\n",
       "      <td>CULEX RESTUANS</td>\n",
       "      <td>T015</td>\n",
       "      <td>41.974089</td>\n",
       "      <td>-87.824812</td>\n",
       "      <td>4</td>\n",
       "      <td>0</td>\n",
       "      <td>75.5</td>\n",
       "      <td>29.415</td>\n",
       "      <td>58.5</td>\n",
       "      <td>0.0</td>\n",
       "      <td>5.8</td>\n",
       "      <td>15.6</td>\n",
       "    </tr>\n",
       "  </tbody>\n",
       "</table>\n",
       "</div>"
      ],
      "text/plain": [
       "        Date                 Species  Trap   Latitude  Longitude  \\\n",
       "0 2007-05-29  CULEX PIPIENS/RESTUANS  T002  41.954690 -87.800991   \n",
       "1 2007-05-29          CULEX RESTUANS  T002  41.954690 -87.800991   \n",
       "2 2007-05-29          CULEX RESTUANS  T007  41.994991 -87.769279   \n",
       "3 2007-05-29  CULEX PIPIENS/RESTUANS  T015  41.974089 -87.824812   \n",
       "4 2007-05-29          CULEX RESTUANS  T015  41.974089 -87.824812   \n",
       "\n",
       "   NumMosquitos  WnvPresent  Tavg  StnPressure  DewPoint  PrecipTotal  \\\n",
       "0             1           0  75.5       29.415      58.5          0.0   \n",
       "1             1           0  75.5       29.415      58.5          0.0   \n",
       "2             1           0  75.5       29.415      58.5          0.0   \n",
       "3             1           0  75.5       29.415      58.5          0.0   \n",
       "4             4           0  75.5       29.415      58.5          0.0   \n",
       "\n",
       "   ResultSpeed  daylight  \n",
       "0          5.8      15.6  \n",
       "1          5.8      15.6  \n",
       "2          5.8      15.6  \n",
       "3          5.8      15.6  \n",
       "4          5.8      15.6  "
      ]
     },
     "execution_count": 53,
     "metadata": {},
     "output_type": "execute_result"
    }
   ],
   "source": [
    "df_train_w.head()"
   ]
  },
  {
   "cell_type": "code",
   "execution_count": 54,
   "metadata": {},
   "outputs": [
    {
     "data": {
      "text/html": [
       "<div>\n",
       "<style scoped>\n",
       "    .dataframe tbody tr th:only-of-type {\n",
       "        vertical-align: middle;\n",
       "    }\n",
       "\n",
       "    .dataframe tbody tr th {\n",
       "        vertical-align: top;\n",
       "    }\n",
       "\n",
       "    .dataframe thead th {\n",
       "        text-align: right;\n",
       "    }\n",
       "</style>\n",
       "<table border=\"1\" class=\"dataframe\">\n",
       "  <thead>\n",
       "    <tr style=\"text-align: right;\">\n",
       "      <th></th>\n",
       "      <th>Tavg</th>\n",
       "      <th>StnPressure</th>\n",
       "      <th>DewPoint</th>\n",
       "      <th>PrecipTotal</th>\n",
       "      <th>ResultSpeed</th>\n",
       "      <th>daylight</th>\n",
       "      <th>Date</th>\n",
       "    </tr>\n",
       "  </thead>\n",
       "  <tbody>\n",
       "    <tr>\n",
       "      <td>0</td>\n",
       "      <td>67.5</td>\n",
       "      <td>29.140</td>\n",
       "      <td>51.0</td>\n",
       "      <td>0.0000</td>\n",
       "      <td>2.20</td>\n",
       "      <td>14.016667</td>\n",
       "      <td>2007-05-01</td>\n",
       "    </tr>\n",
       "    <tr>\n",
       "      <td>1</td>\n",
       "      <td>51.5</td>\n",
       "      <td>29.410</td>\n",
       "      <td>42.0</td>\n",
       "      <td>0.0000</td>\n",
       "      <td>13.15</td>\n",
       "      <td>14.050000</td>\n",
       "      <td>2007-05-02</td>\n",
       "    </tr>\n",
       "    <tr>\n",
       "      <td>2</td>\n",
       "      <td>57.0</td>\n",
       "      <td>29.425</td>\n",
       "      <td>40.0</td>\n",
       "      <td>0.0000</td>\n",
       "      <td>12.30</td>\n",
       "      <td>14.083333</td>\n",
       "      <td>2007-05-03</td>\n",
       "    </tr>\n",
       "    <tr>\n",
       "      <td>3</td>\n",
       "      <td>61.0</td>\n",
       "      <td>29.335</td>\n",
       "      <td>41.5</td>\n",
       "      <td>0.0025</td>\n",
       "      <td>10.25</td>\n",
       "      <td>14.133333</td>\n",
       "      <td>2007-05-04</td>\n",
       "    </tr>\n",
       "    <tr>\n",
       "      <td>4</td>\n",
       "      <td>60.0</td>\n",
       "      <td>29.430</td>\n",
       "      <td>38.5</td>\n",
       "      <td>0.0050</td>\n",
       "      <td>11.45</td>\n",
       "      <td>14.166667</td>\n",
       "      <td>2007-05-05</td>\n",
       "    </tr>\n",
       "  </tbody>\n",
       "</table>\n",
       "</div>"
      ],
      "text/plain": [
       "   Tavg  StnPressure  DewPoint  PrecipTotal  ResultSpeed   daylight       Date\n",
       "0  67.5       29.140      51.0       0.0000         2.20  14.016667 2007-05-01\n",
       "1  51.5       29.410      42.0       0.0000        13.15  14.050000 2007-05-02\n",
       "2  57.0       29.425      40.0       0.0000        12.30  14.083333 2007-05-03\n",
       "3  61.0       29.335      41.5       0.0025        10.25  14.133333 2007-05-04\n",
       "4  60.0       29.430      38.5       0.0050        11.45  14.166667 2007-05-05"
      ]
     },
     "execution_count": 54,
     "metadata": {},
     "output_type": "execute_result"
    }
   ],
   "source": [
    "df_w_mean.head()"
   ]
  },
  {
   "cell_type": "code",
   "execution_count": 55,
   "metadata": {},
   "outputs": [
    {
     "name": "stderr",
     "output_type": "stream",
     "text": [
      "C:\\Users\\user\\Anaconda3\\lib\\site-packages\\pandas\\plotting\\_matplotlib\\converter.py:103: FutureWarning: Using an implicitly registered datetime converter for a matplotlib plotting method. The converter was registered by pandas on import. Future versions of pandas will require you to explicitly register matplotlib converters.\n",
      "\n",
      "To register the converters:\n",
      "\t>>> from pandas.plotting import register_matplotlib_converters\n",
      "\t>>> register_matplotlib_converters()\n",
      "  warnings.warn(msg, FutureWarning)\n"
     ]
    },
    {
     "data": {
      "text/plain": [
       "<matplotlib.collections.PathCollection at 0x1f81f6e0448>"
      ]
     },
     "execution_count": 55,
     "metadata": {},
     "output_type": "execute_result"
    },
    {
     "data": {
      "image/png": "[encoded data removed]",
      "text/plain": [
       "<Figure size 432x288 with 1 Axes>"
      ]
     },
     "metadata": {
      "needs_background": "light"
     },
     "output_type": "display_data"
    }
   ],
   "source": [
    "plt.scatter(x= df_w_mean['Date'], y=df_w_mean['PrecipTotal'])"
   ]
  },
  {
   "cell_type": "code",
   "execution_count": 56,
   "metadata": {},
   "outputs": [],
   "source": [
    "df_w_mean_2 = df_w_mean.copy()"
   ]
  },
  {
   "cell_type": "code",
   "execution_count": 57,
   "metadata": {},
   "outputs": [],
   "source": [
    "df_w_mean_2.set_index(pd.DatetimeIndex(df_w_mean_2['Date']), inplace=True)"
   ]
  },
  {
   "cell_type": "code",
   "execution_count": 58,
   "metadata": {},
   "outputs": [
    {
     "data": {
      "text/html": [
       "<div>\n",
       "<style scoped>\n",
       "    .dataframe tbody tr th:only-of-type {\n",
       "        vertical-align: middle;\n",
       "    }\n",
       "\n",
       "    .dataframe tbody tr th {\n",
       "        vertical-align: top;\n",
       "    }\n",
       "\n",
       "    .dataframe thead th {\n",
       "        text-align: right;\n",
       "    }\n",
       "</style>\n",
       "<table border=\"1\" class=\"dataframe\">\n",
       "  <thead>\n",
       "    <tr style=\"text-align: right;\">\n",
       "      <th></th>\n",
       "      <th>Tavg</th>\n",
       "      <th>StnPressure</th>\n",
       "      <th>DewPoint</th>\n",
       "      <th>PrecipTotal</th>\n",
       "      <th>ResultSpeed</th>\n",
       "      <th>daylight</th>\n",
       "      <th>Date</th>\n",
       "    </tr>\n",
       "    <tr>\n",
       "      <th>Date</th>\n",
       "      <th></th>\n",
       "      <th></th>\n",
       "      <th></th>\n",
       "      <th></th>\n",
       "      <th></th>\n",
       "      <th></th>\n",
       "      <th></th>\n",
       "    </tr>\n",
       "  </thead>\n",
       "  <tbody>\n",
       "    <tr>\n",
       "      <td>2007-05-01</td>\n",
       "      <td>67.5</td>\n",
       "      <td>29.140</td>\n",
       "      <td>51.0</td>\n",
       "      <td>0.0000</td>\n",
       "      <td>2.20</td>\n",
       "      <td>14.016667</td>\n",
       "      <td>2007-05-01</td>\n",
       "    </tr>\n",
       "    <tr>\n",
       "      <td>2007-05-02</td>\n",
       "      <td>51.5</td>\n",
       "      <td>29.410</td>\n",
       "      <td>42.0</td>\n",
       "      <td>0.0000</td>\n",
       "      <td>13.15</td>\n",
       "      <td>14.050000</td>\n",
       "      <td>2007-05-02</td>\n",
       "    </tr>\n",
       "    <tr>\n",
       "      <td>2007-05-03</td>\n",
       "      <td>57.0</td>\n",
       "      <td>29.425</td>\n",
       "      <td>40.0</td>\n",
       "      <td>0.0000</td>\n",
       "      <td>12.30</td>\n",
       "      <td>14.083333</td>\n",
       "      <td>2007-05-03</td>\n",
       "    </tr>\n",
       "    <tr>\n",
       "      <td>2007-05-04</td>\n",
       "      <td>61.0</td>\n",
       "      <td>29.335</td>\n",
       "      <td>41.5</td>\n",
       "      <td>0.0025</td>\n",
       "      <td>10.25</td>\n",
       "      <td>14.133333</td>\n",
       "      <td>2007-05-04</td>\n",
       "    </tr>\n",
       "    <tr>\n",
       "      <td>2007-05-05</td>\n",
       "      <td>60.0</td>\n",
       "      <td>29.430</td>\n",
       "      <td>38.5</td>\n",
       "      <td>0.0050</td>\n",
       "      <td>11.45</td>\n",
       "      <td>14.166667</td>\n",
       "      <td>2007-05-05</td>\n",
       "    </tr>\n",
       "    <tr>\n",
       "      <td>...</td>\n",
       "      <td>...</td>\n",
       "      <td>...</td>\n",
       "      <td>...</td>\n",
       "      <td>...</td>\n",
       "      <td>...</td>\n",
       "      <td>...</td>\n",
       "      <td>...</td>\n",
       "    </tr>\n",
       "    <tr>\n",
       "      <td>2014-10-27</td>\n",
       "      <td>65.5</td>\n",
       "      <td>28.960</td>\n",
       "      <td>51.5</td>\n",
       "      <td>0.0100</td>\n",
       "      <td>12.35</td>\n",
       "      <td>10.583333</td>\n",
       "      <td>2014-10-27</td>\n",
       "    </tr>\n",
       "    <tr>\n",
       "      <td>2014-10-28</td>\n",
       "      <td>57.0</td>\n",
       "      <td>29.190</td>\n",
       "      <td>39.0</td>\n",
       "      <td>0.0175</td>\n",
       "      <td>14.40</td>\n",
       "      <td>10.533333</td>\n",
       "      <td>2014-10-28</td>\n",
       "    </tr>\n",
       "    <tr>\n",
       "      <td>2014-10-29</td>\n",
       "      <td>44.0</td>\n",
       "      <td>29.390</td>\n",
       "      <td>33.0</td>\n",
       "      <td>0.0000</td>\n",
       "      <td>9.00</td>\n",
       "      <td>10.500000</td>\n",
       "      <td>2014-10-29</td>\n",
       "    </tr>\n",
       "    <tr>\n",
       "      <td>2014-10-30</td>\n",
       "      <td>43.5</td>\n",
       "      <td>29.375</td>\n",
       "      <td>34.5</td>\n",
       "      <td>0.0025</td>\n",
       "      <td>5.50</td>\n",
       "      <td>10.450000</td>\n",
       "      <td>2014-10-30</td>\n",
       "    </tr>\n",
       "    <tr>\n",
       "      <td>2014-10-31</td>\n",
       "      <td>41.0</td>\n",
       "      <td>29.515</td>\n",
       "      <td>27.0</td>\n",
       "      <td>0.0350</td>\n",
       "      <td>22.15</td>\n",
       "      <td>10.400000</td>\n",
       "      <td>2014-10-31</td>\n",
       "    </tr>\n",
       "  </tbody>\n",
       "</table>\n",
       "<p>1472 rows × 7 columns</p>\n",
       "</div>"
      ],
      "text/plain": [
       "            Tavg  StnPressure  DewPoint  PrecipTotal  ResultSpeed   daylight  \\\n",
       "Date                                                                           \n",
       "2007-05-01  67.5       29.140      51.0       0.0000         2.20  14.016667   \n",
       "2007-05-02  51.5       29.410      42.0       0.0000        13.15  14.050000   \n",
       "2007-05-03  57.0       29.425      40.0       0.0000        12.30  14.083333   \n",
       "2007-05-04  61.0       29.335      41.5       0.0025        10.25  14.133333   \n",
       "2007-05-05  60.0       29.430      38.5       0.0050        11.45  14.166667   \n",
       "...          ...          ...       ...          ...          ...        ...   \n",
       "2014-10-27  65.5       28.960      51.5       0.0100        12.35  10.583333   \n",
       "2014-10-28  57.0       29.190      39.0       0.0175        14.40  10.533333   \n",
       "2014-10-29  44.0       29.390      33.0       0.0000         9.00  10.500000   \n",
       "2014-10-30  43.5       29.375      34.5       0.0025         5.50  10.450000   \n",
       "2014-10-31  41.0       29.515      27.0       0.0350        22.15  10.400000   \n",
       "\n",
       "                 Date  \n",
       "Date                   \n",
       "2007-05-01 2007-05-01  \n",
       "2007-05-02 2007-05-02  \n",
       "2007-05-03 2007-05-03  \n",
       "2007-05-04 2007-05-04  \n",
       "2007-05-05 2007-05-05  \n",
       "...               ...  \n",
       "2014-10-27 2014-10-27  \n",
       "2014-10-28 2014-10-28  \n",
       "2014-10-29 2014-10-29  \n",
       "2014-10-30 2014-10-30  \n",
       "2014-10-31 2014-10-31  \n",
       "\n",
       "[1472 rows x 7 columns]"
      ]
     },
     "execution_count": 58,
     "metadata": {},
     "output_type": "execute_result"
    }
   ],
   "source": [
    "df_w_mean_2"
   ]
  },
  {
   "cell_type": "code",
   "execution_count": 59,
   "metadata": {},
   "outputs": [],
   "source": [
    "# Code modified from code written by Matthew Garton.\n",
    "\n",
    "def plot_series(df, cols=None, title='Title', xlab=None, ylab=None, steps=1):\n",
    "    \n",
    "    # Set figure size to be (18, 9).\n",
    "    plt.figure(figsize=(18,9))\n",
    "    \n",
    "    # Iterate through each column name.\n",
    "    for col in cols:\n",
    "            \n",
    "        # Generate a line plot of the column name.\n",
    "        # You only have to specify Y, since our\n",
    "        # index will be a datetime index.\n",
    "        plt.plot(df[col])\n",
    "        \n",
    "    # Generate title and labels.\n",
    "    plt.title(title, fontsize=26)\n",
    "    plt.xlabel(xlab, fontsize=20)\n",
    "    plt.ylabel(ylab, fontsize=20)\n",
    "    \n",
    "    # Enlarge tick marks.\n",
    "    plt.yticks(fontsize=18)\n",
    "    plt.xticks(df.index[0::steps], fontsize=12, rotation=45);"
   ]
  },
  {
   "cell_type": "code",
   "execution_count": 60,
   "metadata": {},
   "outputs": [
    {
     "data": {
      "image/png": "[encoded data removed]",
      "text/plain": [
       "<Figure size 1296x648 with 1 Axes>"
      ]
     },
     "metadata": {
      "needs_background": "light"
     },
     "output_type": "display_data"
    }
   ],
   "source": [
    "plot_series(df_w_mean_2.resample('M').mean(), ['PrecipTotal'], title='Avg Precip',steps=2)"
   ]
  },
  {
   "cell_type": "code",
   "execution_count": 61,
   "metadata": {},
   "outputs": [],
   "source": [
    "df_train_w_2 = df_train_w.copy()"
   ]
  },
  {
   "cell_type": "code",
   "execution_count": 62,
   "metadata": {
    "scrolled": true
   },
   "outputs": [
    {
     "data": {
      "text/html": [
       "<div>\n",
       "<style scoped>\n",
       "    .dataframe tbody tr th:only-of-type {\n",
       "        vertical-align: middle;\n",
       "    }\n",
       "\n",
       "    .dataframe tbody tr th {\n",
       "        vertical-align: top;\n",
       "    }\n",
       "\n",
       "    .dataframe thead th {\n",
       "        text-align: right;\n",
       "    }\n",
       "</style>\n",
       "<table border=\"1\" class=\"dataframe\">\n",
       "  <thead>\n",
       "    <tr style=\"text-align: right;\">\n",
       "      <th></th>\n",
       "      <th>Date</th>\n",
       "      <th>Species</th>\n",
       "      <th>Trap</th>\n",
       "      <th>Latitude</th>\n",
       "      <th>Longitude</th>\n",
       "      <th>NumMosquitos</th>\n",
       "      <th>WnvPresent</th>\n",
       "      <th>Tavg</th>\n",
       "      <th>StnPressure</th>\n",
       "      <th>DewPoint</th>\n",
       "      <th>PrecipTotal</th>\n",
       "      <th>ResultSpeed</th>\n",
       "      <th>daylight</th>\n",
       "    </tr>\n",
       "  </thead>\n",
       "  <tbody>\n",
       "    <tr>\n",
       "      <td>0</td>\n",
       "      <td>2007-05-29</td>\n",
       "      <td>CULEX PIPIENS/RESTUANS</td>\n",
       "      <td>T002</td>\n",
       "      <td>41.954690</td>\n",
       "      <td>-87.800991</td>\n",
       "      <td>1</td>\n",
       "      <td>0</td>\n",
       "      <td>75.5</td>\n",
       "      <td>29.415</td>\n",
       "      <td>58.5</td>\n",
       "      <td>0.0</td>\n",
       "      <td>5.8</td>\n",
       "      <td>15.6</td>\n",
       "    </tr>\n",
       "    <tr>\n",
       "      <td>1</td>\n",
       "      <td>2007-05-29</td>\n",
       "      <td>CULEX RESTUANS</td>\n",
       "      <td>T002</td>\n",
       "      <td>41.954690</td>\n",
       "      <td>-87.800991</td>\n",
       "      <td>1</td>\n",
       "      <td>0</td>\n",
       "      <td>75.5</td>\n",
       "      <td>29.415</td>\n",
       "      <td>58.5</td>\n",
       "      <td>0.0</td>\n",
       "      <td>5.8</td>\n",
       "      <td>15.6</td>\n",
       "    </tr>\n",
       "    <tr>\n",
       "      <td>2</td>\n",
       "      <td>2007-05-29</td>\n",
       "      <td>CULEX RESTUANS</td>\n",
       "      <td>T007</td>\n",
       "      <td>41.994991</td>\n",
       "      <td>-87.769279</td>\n",
       "      <td>1</td>\n",
       "      <td>0</td>\n",
       "      <td>75.5</td>\n",
       "      <td>29.415</td>\n",
       "      <td>58.5</td>\n",
       "      <td>0.0</td>\n",
       "      <td>5.8</td>\n",
       "      <td>15.6</td>\n",
       "    </tr>\n",
       "    <tr>\n",
       "      <td>3</td>\n",
       "      <td>2007-05-29</td>\n",
       "      <td>CULEX PIPIENS/RESTUANS</td>\n",
       "      <td>T015</td>\n",
       "      <td>41.974089</td>\n",
       "      <td>-87.824812</td>\n",
       "      <td>1</td>\n",
       "      <td>0</td>\n",
       "      <td>75.5</td>\n",
       "      <td>29.415</td>\n",
       "      <td>58.5</td>\n",
       "      <td>0.0</td>\n",
       "      <td>5.8</td>\n",
       "      <td>15.6</td>\n",
       "    </tr>\n",
       "    <tr>\n",
       "      <td>4</td>\n",
       "      <td>2007-05-29</td>\n",
       "      <td>CULEX RESTUANS</td>\n",
       "      <td>T015</td>\n",
       "      <td>41.974089</td>\n",
       "      <td>-87.824812</td>\n",
       "      <td>4</td>\n",
       "      <td>0</td>\n",
       "      <td>75.5</td>\n",
       "      <td>29.415</td>\n",
       "      <td>58.5</td>\n",
       "      <td>0.0</td>\n",
       "      <td>5.8</td>\n",
       "      <td>15.6</td>\n",
       "    </tr>\n",
       "  </tbody>\n",
       "</table>\n",
       "</div>"
      ],
      "text/plain": [
       "        Date                 Species  Trap   Latitude  Longitude  \\\n",
       "0 2007-05-29  CULEX PIPIENS/RESTUANS  T002  41.954690 -87.800991   \n",
       "1 2007-05-29          CULEX RESTUANS  T002  41.954690 -87.800991   \n",
       "2 2007-05-29          CULEX RESTUANS  T007  41.994991 -87.769279   \n",
       "3 2007-05-29  CULEX PIPIENS/RESTUANS  T015  41.974089 -87.824812   \n",
       "4 2007-05-29          CULEX RESTUANS  T015  41.974089 -87.824812   \n",
       "\n",
       "   NumMosquitos  WnvPresent  Tavg  StnPressure  DewPoint  PrecipTotal  \\\n",
       "0             1           0  75.5       29.415      58.5          0.0   \n",
       "1             1           0  75.5       29.415      58.5          0.0   \n",
       "2             1           0  75.5       29.415      58.5          0.0   \n",
       "3             1           0  75.5       29.415      58.5          0.0   \n",
       "4             4           0  75.5       29.415      58.5          0.0   \n",
       "\n",
       "   ResultSpeed  daylight  \n",
       "0          5.8      15.6  \n",
       "1          5.8      15.6  \n",
       "2          5.8      15.6  \n",
       "3          5.8      15.6  \n",
       "4          5.8      15.6  "
      ]
     },
     "execution_count": 62,
     "metadata": {},
     "output_type": "execute_result"
    }
   ],
   "source": [
    "df_train_w_2.head()"
   ]
  },
  {
   "cell_type": "code",
   "execution_count": 63,
   "metadata": {},
   "outputs": [],
   "source": []
  },
  {
   "cell_type": "code",
   "execution_count": 64,
   "metadata": {},
   "outputs": [
    {
     "data": {
      "image/png": "[encoded data removed]",
      "text/plain": [
       "<Figure size 1152x648 with 4 Axes>"
      ]
     },
     "metadata": {
      "needs_background": "light"
     },
     "output_type": "display_data"
    }
   ],
   "source": [
    "df_train_w_2.set_index(pd.DatetimeIndex(df_train_w_2['Date']), inplace=True)\n",
    "\n",
    "ts_2007 = pd.to_datetime('1/1/2007')\n",
    "ts_2008 = pd.to_datetime('1/1/2008')\n",
    "ts_2009 = pd.to_datetime('1/1/2009')\n",
    "ts_2010 = pd.to_datetime('1/1/2010')\n",
    "ts_2011 = pd.to_datetime('1/1/2011')\n",
    "ts_2012 = pd.to_datetime('1/1/2012')\n",
    "ts_2013 = pd.to_datetime('1/1/2013')\n",
    "\n",
    "\n",
    "fig, (ax1, ax2, ax3, ax4)  = plt.subplots(nrows=4,ncols=1, figsize=(16,9), sharey=True)\n",
    "plt.subplots_adjust(hspace=0.5)\n",
    "plt.suptitle('PrecipTotal')\n",
    "\n",
    "#2007\n",
    "ax1.plot(df_train_w_2[df_train_w_2['Date'] < ts_2008]['PrecipTotal'])\n",
    "ax1.set_title('2007')\n",
    "#2009\n",
    "ax2.plot(df_train_w_2[(df_train_w_2['Date'] < ts_2010) & (df_train_w_2['Date'] > ts_2009)]['PrecipTotal'])\n",
    "ax2.set_title('2009')\n",
    "#2011\n",
    "ax3.plot(df_train_w_2[(df_train_w_2['Date'] < ts_2012) & (df_train_w_2['Date'] > ts_2010)]['PrecipTotal'])\n",
    "ax3.set_title('2011')\n",
    "#2013\n",
    "ax4.plot(df_train_w_2[(df_train_w_2['Date'] > ts_2013)]['PrecipTotal'])\n",
    "ax4.set_title('2013');\n"
   ]
  },
  {
   "cell_type": "code",
   "execution_count": 65,
   "metadata": {},
   "outputs": [
    {
     "data": {
      "image/png": "[encoded data removed]",
      "text/plain": [
       "<Figure size 1152x648 with 4 Axes>"
      ]
     },
     "metadata": {
      "needs_background": "light"
     },
     "output_type": "display_data"
    }
   ],
   "source": [
    "fig, (ax1, ax2, ax3, ax4)  = plt.subplots(nrows=4,ncols=1, figsize=(16,9), sharey=True)\n",
    "plt.subplots_adjust(hspace=0.5)\n",
    "plt.suptitle('NumMosquitos')\n",
    "\n",
    "#2007\n",
    "ax1.plot(df_train_w[df_train_w['Date'] < ts_2008].groupby('Date')['NumMosquitos'].sum())\n",
    "ax1.set_title('2007')\n",
    "#2009\n",
    "ax2.plot(df_train_w[(df_train_w['Date'] < ts_2010) &(df_train_w['Date'] > ts_2009) ].groupby('Date')['NumMosquitos'].sum())\n",
    "ax2.set_title('2009')\n",
    "#2011\n",
    "ax3.plot(df_train_w[(df_train_w['Date'] < ts_2012) &(df_train_w['Date'] > ts_2010) ].groupby('Date')['NumMosquitos'].sum())\n",
    "ax3.set_title('2011')\n",
    "#2013\n",
    "ax4.plot(df_train_w[(df_train_w['Date'] > ts_2013) ].groupby('Date')['NumMosquitos'].sum())\n",
    "ax4.set_title('2013');"
   ]
  },
  {
   "cell_type": "code",
   "execution_count": 66,
   "metadata": {},
   "outputs": [
    {
     "data": {
      "text/plain": [
       "<matplotlib.axes._subplots.AxesSubplot at 0x1f8201b4fc8>"
      ]
     },
     "execution_count": 66,
     "metadata": {},
     "output_type": "execute_result"
    },
    {
     "data": {
      "image/png": "[encoded data removed]",
      "text/plain": [
       "<Figure size 1296x648 with 1 Axes>"
      ]
     },
     "metadata": {
      "needs_background": "light"
     },
     "output_type": "display_data"
    }
   ],
   "source": [
    "ts_2008 = pd.to_datetime('1/1/2008')\n",
    "plt.figure(figsize=(18,9))\n",
    "sns.scatterplot(y= 'NumMosquitos', x= 'Date', hue='Species', data=df_train_w_2[df_train_w_2['Date'] < ts_2008])"
   ]
  },
  {
   "cell_type": "code",
   "execution_count": 67,
   "metadata": {},
   "outputs": [
    {
     "data": {
      "text/html": [
       "<div>\n",
       "<style scoped>\n",
       "    .dataframe tbody tr th:only-of-type {\n",
       "        vertical-align: middle;\n",
       "    }\n",
       "\n",
       "    .dataframe tbody tr th {\n",
       "        vertical-align: top;\n",
       "    }\n",
       "\n",
       "    .dataframe thead th {\n",
       "        text-align: right;\n",
       "    }\n",
       "</style>\n",
       "<table border=\"1\" class=\"dataframe\">\n",
       "  <thead>\n",
       "    <tr style=\"text-align: right;\">\n",
       "      <th></th>\n",
       "      <th>Date</th>\n",
       "      <th>Species</th>\n",
       "      <th>Trap</th>\n",
       "      <th>Latitude</th>\n",
       "      <th>Longitude</th>\n",
       "      <th>NumMosquitos</th>\n",
       "      <th>WnvPresent</th>\n",
       "      <th>Tavg</th>\n",
       "      <th>StnPressure</th>\n",
       "      <th>DewPoint</th>\n",
       "      <th>PrecipTotal</th>\n",
       "      <th>ResultSpeed</th>\n",
       "      <th>daylight</th>\n",
       "    </tr>\n",
       "  </thead>\n",
       "  <tbody>\n",
       "    <tr>\n",
       "      <td>0</td>\n",
       "      <td>2007-05-29</td>\n",
       "      <td>CULEX PIPIENS/RESTUANS</td>\n",
       "      <td>T002</td>\n",
       "      <td>41.954690</td>\n",
       "      <td>-87.800991</td>\n",
       "      <td>1</td>\n",
       "      <td>0</td>\n",
       "      <td>75.5</td>\n",
       "      <td>29.415</td>\n",
       "      <td>58.5</td>\n",
       "      <td>0.0</td>\n",
       "      <td>5.8</td>\n",
       "      <td>15.6</td>\n",
       "    </tr>\n",
       "    <tr>\n",
       "      <td>1</td>\n",
       "      <td>2007-05-29</td>\n",
       "      <td>CULEX RESTUANS</td>\n",
       "      <td>T002</td>\n",
       "      <td>41.954690</td>\n",
       "      <td>-87.800991</td>\n",
       "      <td>1</td>\n",
       "      <td>0</td>\n",
       "      <td>75.5</td>\n",
       "      <td>29.415</td>\n",
       "      <td>58.5</td>\n",
       "      <td>0.0</td>\n",
       "      <td>5.8</td>\n",
       "      <td>15.6</td>\n",
       "    </tr>\n",
       "    <tr>\n",
       "      <td>2</td>\n",
       "      <td>2007-05-29</td>\n",
       "      <td>CULEX RESTUANS</td>\n",
       "      <td>T007</td>\n",
       "      <td>41.994991</td>\n",
       "      <td>-87.769279</td>\n",
       "      <td>1</td>\n",
       "      <td>0</td>\n",
       "      <td>75.5</td>\n",
       "      <td>29.415</td>\n",
       "      <td>58.5</td>\n",
       "      <td>0.0</td>\n",
       "      <td>5.8</td>\n",
       "      <td>15.6</td>\n",
       "    </tr>\n",
       "    <tr>\n",
       "      <td>3</td>\n",
       "      <td>2007-05-29</td>\n",
       "      <td>CULEX PIPIENS/RESTUANS</td>\n",
       "      <td>T015</td>\n",
       "      <td>41.974089</td>\n",
       "      <td>-87.824812</td>\n",
       "      <td>1</td>\n",
       "      <td>0</td>\n",
       "      <td>75.5</td>\n",
       "      <td>29.415</td>\n",
       "      <td>58.5</td>\n",
       "      <td>0.0</td>\n",
       "      <td>5.8</td>\n",
       "      <td>15.6</td>\n",
       "    </tr>\n",
       "    <tr>\n",
       "      <td>4</td>\n",
       "      <td>2007-05-29</td>\n",
       "      <td>CULEX RESTUANS</td>\n",
       "      <td>T015</td>\n",
       "      <td>41.974089</td>\n",
       "      <td>-87.824812</td>\n",
       "      <td>4</td>\n",
       "      <td>0</td>\n",
       "      <td>75.5</td>\n",
       "      <td>29.415</td>\n",
       "      <td>58.5</td>\n",
       "      <td>0.0</td>\n",
       "      <td>5.8</td>\n",
       "      <td>15.6</td>\n",
       "    </tr>\n",
       "  </tbody>\n",
       "</table>\n",
       "</div>"
      ],
      "text/plain": [
       "        Date                 Species  Trap   Latitude  Longitude  \\\n",
       "0 2007-05-29  CULEX PIPIENS/RESTUANS  T002  41.954690 -87.800991   \n",
       "1 2007-05-29          CULEX RESTUANS  T002  41.954690 -87.800991   \n",
       "2 2007-05-29          CULEX RESTUANS  T007  41.994991 -87.769279   \n",
       "3 2007-05-29  CULEX PIPIENS/RESTUANS  T015  41.974089 -87.824812   \n",
       "4 2007-05-29          CULEX RESTUANS  T015  41.974089 -87.824812   \n",
       "\n",
       "   NumMosquitos  WnvPresent  Tavg  StnPressure  DewPoint  PrecipTotal  \\\n",
       "0             1           0  75.5       29.415      58.5          0.0   \n",
       "1             1           0  75.5       29.415      58.5          0.0   \n",
       "2             1           0  75.5       29.415      58.5          0.0   \n",
       "3             1           0  75.5       29.415      58.5          0.0   \n",
       "4             4           0  75.5       29.415      58.5          0.0   \n",
       "\n",
       "   ResultSpeed  daylight  \n",
       "0          5.8      15.6  \n",
       "1          5.8      15.6  \n",
       "2          5.8      15.6  \n",
       "3          5.8      15.6  \n",
       "4          5.8      15.6  "
      ]
     },
     "execution_count": 67,
     "metadata": {},
     "output_type": "execute_result"
    }
   ],
   "source": [
    "df_train_w.head()"
   ]
  },
  {
   "cell_type": "code",
   "execution_count": 97,
   "metadata": {},
   "outputs": [
    {
     "data": {
      "text/plain": [
       "98971"
      ]
     },
     "execution_count": 97,
     "metadata": {},
     "output_type": "execute_result"
    }
   ],
   "source": [
    "df_train_w['NumMosquitos'].sum()"
   ]
  },
  {
   "cell_type": "code",
   "execution_count": 68,
   "metadata": {},
   "outputs": [],
   "source": [
    "df_train_w_copy = df_train_w.copy()"
   ]
  },
  {
   "cell_type": "code",
   "execution_count": 74,
   "metadata": {},
   "outputs": [
    {
     "data": {
      "text/plain": [
       "Index(['Date', 'Species', 'Trap', 'Latitude', 'Longitude', 'NumMosquitos',\n",
       "       'WnvPresent', 'Tavg', 'StnPressure', 'DewPoint', 'PrecipTotal',\n",
       "       'ResultSpeed', 'daylight'],\n",
       "      dtype='object')"
      ]
     },
     "execution_count": 74,
     "metadata": {},
     "output_type": "execute_result"
    }
   ],
   "source": [
    "df_train_w_copy.columns"
   ]
  },
  {
   "cell_type": "code",
   "execution_count": 77,
   "metadata": {},
   "outputs": [],
   "source": [
    "aggregation_functions = {'Date':'first', 'Species': 'first', 'Trap':'first', 'Latitude':'first', \n",
    "                         'Longitude':'first', 'NumMosquitos':'sum', 'WnvPresent': 'first', 'Tavg':'first',\n",
    "                         'StnPressure':'first', 'DewPoint':'first', 'PrecipTotal':'first',\n",
    "                         'ResultSpeed':'first', 'daylight':'first'}"
   ]
  },
  {
   "cell_type": "code",
   "execution_count": 86,
   "metadata": {},
   "outputs": [],
   "source": [
    "df_train_w_copy = df_train_w.groupby(df_train_w['Date']).groupby('').aggregate(aggregation_functions)"
   ]
  },
  {
   "cell_type": "code",
   "execution_count": 99,
   "metadata": {},
   "outputs": [],
   "source": [
    "df_nt = df_train_w_copy.groupby(['Date', 'Trap','Species','Latitude','Longitude','WnvPresent']).sum()[[\"NumMosquitos\"]].reset_index()"
   ]
  },
  {
   "cell_type": "code",
   "execution_count": 107,
   "metadata": {},
   "outputs": [
    {
     "data": {
      "text/plain": [
       "98971"
      ]
     },
     "execution_count": 107,
     "metadata": {},
     "output_type": "execute_result"
    }
   ],
   "source": [
    "df_nt['NumMosquitos'].sum()"
   ]
  },
  {
   "cell_type": "code",
   "execution_count": 119,
   "metadata": {},
   "outputs": [
    {
     "data": {
      "text/plain": [
       "Date        Species               \n",
       "2007-05-29  CULEX PIPIENS               1\n",
       "            CULEX PIPIENS/RESTUANS     10\n",
       "            CULEX RESTUANS             29\n",
       "2007-06-05  CULEX PIPIENS               6\n",
       "            CULEX PIPIENS/RESTUANS     28\n",
       "                                     ... \n",
       "2007-10-04  CULEX SALINARIUS            1\n",
       "            CULEX TERRITANS            18\n",
       "2007-10-09  CULEX PIPIENS             197\n",
       "            CULEX PIPIENS/RESTUANS    133\n",
       "            CULEX TERRITANS             3\n",
       "Name: NumMosquitos, Length: 138, dtype: int64"
      ]
     },
     "execution_count": 119,
     "metadata": {},
     "output_type": "execute_result"
    }
   ],
   "source": [
    "df_train_w[df_train_w['Date'] < ts_2008].groupby(['Date','Species'])['NumMosquitos'].sum()"
   ]
  },
  {
   "cell_type": "code",
   "execution_count": 134,
   "metadata": {},
   "outputs": [
    {
     "data": {
      "text/plain": [
       "95       2011-09-07\n",
       "96       2011-09-07\n",
       "97       2011-09-07\n",
       "98       2011-09-07\n",
       "99       2011-09-07\n",
       "            ...    \n",
       "14289    2013-09-05\n",
       "14290    2013-09-05\n",
       "14291    2013-09-05\n",
       "14292    2013-09-05\n",
       "14293    2013-09-05\n",
       "Name: Date, Length: 14199, dtype: object"
      ]
     },
     "execution_count": 134,
     "metadata": {},
     "output_type": "execute_result"
    }
   ],
   "source": [
    "df_s['Date']"
   ]
  },
  {
   "cell_type": "code",
   "execution_count": 135,
   "metadata": {},
   "outputs": [
    {
     "name": "stderr",
     "output_type": "stream",
     "text": [
      "C:\\Users\\user\\Anaconda3\\lib\\site-packages\\ipykernel_launcher.py:1: SettingWithCopyWarning: \n",
      "A value is trying to be set on a copy of a slice from a DataFrame.\n",
      "Try using .loc[row_indexer,col_indexer] = value instead\n",
      "\n",
      "See the caveats in the documentation: http://pandas.pydata.org/pandas-docs/stable/user_guide/indexing.html#returning-a-view-versus-a-copy\n",
      "  \"\"\"Entry point for launching an IPython kernel.\n"
     ]
    }
   ],
   "source": [
    "df_s['Date'] = pd.to_datetime(df_s['Date'])"
   ]
  },
  {
   "cell_type": "code",
   "execution_count": 154,
   "metadata": {},
   "outputs": [
    {
     "data": {
      "text/plain": [
       "array(['2011-09-07T00:00:00.000000000', '2013-07-17T00:00:00.000000000',\n",
       "       '2013-07-25T00:00:00.000000000', '2013-08-08T00:00:00.000000000',\n",
       "       '2013-08-15T00:00:00.000000000', '2013-08-16T00:00:00.000000000',\n",
       "       '2013-08-22T00:00:00.000000000', '2013-08-29T00:00:00.000000000',\n",
       "       '2013-09-05T00:00:00.000000000'], dtype='datetime64[ns]')"
      ]
     },
     "execution_count": 154,
     "metadata": {},
     "output_type": "execute_result"
    }
   ],
   "source": [
    "df_s['Date'].unique()"
   ]
  },
  {
   "cell_type": "code",
   "execution_count": 104,
   "metadata": {},
   "outputs": [],
   "source": [
    "df_nt_2007 = df_nt[df_nt['Date'].dt.year==2007]\n",
    "df_nt_2009 = df_nt[df_nt['Date'].dt.year==2009]\n",
    "df_nt_2011= df_nt[df_nt['Date'].dt.year==2011]\n",
    "df_nt_2013 = df_nt[df_nt['Date'].dt.year==2013]"
   ]
  },
  {
   "cell_type": "code",
   "execution_count": 176,
   "metadata": {},
   "outputs": [
    {
     "data": {
      "text/plain": [
       "<matplotlib.legend.Legend at 0x1f82c2b1108>"
      ]
     },
     "execution_count": 176,
     "metadata": {},
     "output_type": "execute_result"
    },
    {
     "data": {
      "image/png": "[encoded data removed]",
      "text/plain": [
       "<Figure size 1152x648 with 8 Axes>"
      ]
     },
     "metadata": {
      "needs_background": "light"
     },
     "output_type": "display_data"
    }
   ],
   "source": [
    "fig, (ax1, ax2, ax3, ax4)  = plt.subplots(nrows=4,ncols=1, figsize=(16,9), sharey=True)\n",
    "plt.subplots_adjust(hspace=0.5)\n",
    "plt.suptitle('NumMosquitos')\n",
    "\n",
    "#2007\n",
    "ax5=ax1.twinx()\n",
    "ax1.plot(df_nt_2007.groupby('Date')['NumMosquitos'].sum())\n",
    "ax5.plot(df_train_w_2[df_train_w_2['Date'] < ts_2008]['Tavg'], color='darkorange', label='Tavg')\n",
    "ax1.set_title('2007')\n",
    "ax5.legend()\n",
    "\n",
    "#2009\n",
    "ax6=ax2.twinx()\n",
    "ax6.plot(df_train_w_2[(df_train_w_2['Date'] < ts_2010) & (df_train_w_2['Date'] > ts_2009)]['Tavg'], color='darkorange')\n",
    "ax2.plot(df_nt_2009.groupby('Date')['NumMosquitos'].sum())\n",
    "ax2.set_title('2009')\n",
    "\n",
    "#2011\n",
    "ax7=ax3.twinx()\n",
    "ax7.plot(df_train_w_2[(df_train_w_2['Date'] < ts_2012) & (df_train_w_2['Date'] > ts_2010)]['Tavg'], color='darkorange')\n",
    "ax3.plot(df_nt_2011.groupby('Date')['NumMosquitos'].sum())\n",
    "ax3.vlines(x='2011-09-07',ymin=0,ymax=4000,color='r')\n",
    "ax3.set_title('2011')\n",
    "\n",
    "#2013\n",
    "ax8=ax4.twinx()\n",
    "ax8.plot(df_train_w_2[(df_train_w_2['Date'] > ts_2013)]['Tavg'], color='darkorange',label='Tavg')\n",
    "ax4.plot(df_nt_2013.groupby('Date')['NumMosquitos'].sum(),label='Mos')\n",
    "for x in df_s['Date'].unique()[1:]:\n",
    "    ax4.vlines(x=x,ymin=0,ymax=4000,color='r',alpha=0.6)\n",
    "ax4.set_title('2013');\n",
    "ax4.legend()"
   ]
  },
  {
   "cell_type": "markdown",
   "metadata": {
    "colab_type": "text",
    "id": "x4LWP8FcnSNw"
   },
   "source": [
    "### Mosquitoes"
   ]
  },
  {
   "cell_type": "code",
   "execution_count": null,
   "metadata": {
    "colab": {},
    "colab_type": "code",
    "id": "OH06rcJG633L"
   },
   "outputs": [],
   "source": [
    "# Types and prevelance of mosquitoes\n",
    "df_mosWnv = pd.DataFrame(df_train[['Species','NumMosquitos','WnvPresent']])"
   ]
  },
  {
   "cell_type": "code",
   "execution_count": null,
   "metadata": {
    "colab": {
     "base_uri": "https://localhost:8080/",
     "height": 297
    },
    "colab_type": "code",
    "id": "dkPilbTVDtx2",
    "outputId": "bd16f29a-737e-48c2-ff91-e35378d4dfdd"
   },
   "outputs": [],
   "source": [
    "df = df_mosWnv.groupby('Species').sum()\n",
    "df"
   ]
  },
  {
   "cell_type": "code",
   "execution_count": null,
   "metadata": {
    "colab": {
     "base_uri": "https://localhost:8080/",
     "height": 525
    },
    "colab_type": "code",
    "id": "wQHiRoYzEwf9",
    "outputId": "85d8618e-6d7f-498e-cac5-daf27565481c"
   },
   "outputs": [],
   "source": [
    "# Subplots\n",
    "f = plt.figure(figsize=(14,5))\n",
    "\n",
    "# 1row,2col,1stplot\n",
    "plt.subplot(1,2,1)\n",
    "mos_pop = df_mosWnv.groupby('Species')['NumMosquitos'].sum().plot(kind='bar')\n",
    "plt.title('Mosquito count (by Species)',fontsize=16)\n",
    "plt.xticks(fontsize=14)\n",
    "plt.yticks(fontsize=14);\n",
    "# 1row,2col,2ndplot\n",
    "plt.subplot(1,2,2)\n",
    "mos_pop = df_mosWnv.groupby('Species')['WnvPresent'].sum().plot(kind='bar')\n",
    "plt.title('Mosquito count (WnV Species)',fontsize=16)\n",
    "plt.xticks(fontsize=14)\n",
    "plt.yticks(fontsize=14);"
   ]
  },
  {
   "cell_type": "markdown",
   "metadata": {
    "colab_type": "text",
    "id": "f4tlUHdaNpX6"
   },
   "source": [
    "Of the 8 listed species, 3 species are vectors of WNV."
   ]
  },
  {
   "cell_type": "markdown",
   "metadata": {
    "colab_type": "text",
    "id": "2Idi4sYRnWoY"
   },
   "source": [
    "### Traps"
   ]
  },
  {
   "cell_type": "code",
   "execution_count": null,
   "metadata": {},
   "outputs": [],
   "source": [
    "df_train['WnvPresent'].value_counts()"
   ]
  },
  {
   "cell_type": "code",
   "execution_count": null,
   "metadata": {},
   "outputs": [],
   "source": [
    "df_train[df_train['WnvPresent'] == 1]"
   ]
  },
  {
   "cell_type": "code",
   "execution_count": null,
   "metadata": {
    "colab": {
     "base_uri": "https://localhost:8080/",
     "height": 801
    },
    "colab_type": "code",
    "id": "Z7bPQ3xjTNWz",
    "outputId": "4b1d5212-da8c-407b-b24b-92b8fea85b6d"
   },
   "outputs": [],
   "source": [
    "# Code from src folder file 'measurement_locations.ipynb\n",
    "\n",
    "\n",
    "url ='https://raw.githubusercontent.com/AngShengJun/dsi14P4/master/assets/input/mapdata_copyright_openstreetmap_contributors.txt'\n",
    "mapdata = np.loadtxt(url)\n",
    "traps = pd.read_csv(\"https://raw.githubusercontent.com/AngShengJun/dsi14P4/master/assets/input/train.csv\")[['Date', 'Trap','Longitude', 'Latitude', 'WnvPresent']]\n",
    "\n",
    "# Note we may want to visualise the traps after cleaning of the trap names\n",
    "# and the cleaning of the spray locations\n",
    "#traps = df_traps_test\n",
    "\n",
    "\n",
    "aspect = mapdata.shape[0] * 1.0 / mapdata.shape[1]\n",
    "lon_lat_box = (-88, -87.5, 41.6, 42.1)\n",
    "\n",
    "plt.figure(figsize=(16,20))\n",
    "plt.imshow(mapdata, \n",
    "           cmap=plt.get_cmap('gray'), \n",
    "           extent=lon_lat_box, \n",
    "           aspect=aspect)\n",
    "\n",
    "# weather station 1\n",
    "lats_station1 = 41.995\n",
    "long_station1 =  -87.933\n",
    "w_stn_1_scatter = plt.scatter(x=long_station1, y=lats_station1, c='b', s=50)\n",
    "\n",
    "# weather station 2\n",
    "lats_station2 = 41.786 \n",
    "long_station2 = -87.752\n",
    "w_stn_2_scatter = plt.scatter(x=long_station2, y=lats_station2, c='b', s=50)\n",
    "\n",
    "# spray data\n",
    "lats_spray = df_s['Latitude']\n",
    "long_spray = df_s['Longitude']\n",
    "spray_scatter = plt.scatter(x=long_spray, y=lats_spray, c='g', s=35)\n",
    "\n",
    "# trap data\n",
    "locations = traps[['Longitude', 'Latitude']].drop_duplicates().values\n",
    "trap_scatter = plt.scatter(locations[:,0], locations[:,1], marker='x', c='crimson', s=50)\n",
    "\n",
    "# trap data with presence of WNV\n",
    "lats_wnv = traps[traps['WnvPresent'] == 1]['Latitude']\n",
    "long_wnv = traps[traps['WnvPresent'] == 1]['Longitude']\n",
    "wnv_scatter = plt.scatter(x=long_wnv, y=lats_wnv, marker='x', c='darkorange', s=50)\n",
    "\n",
    "plt.legend({'Weather Station 1': w_stn_1_scatter, 'Weather Station 2':w_stn_2_scatter, \n",
    "            'Spray':spray_scatter, 'Traps':trap_scatter, 'Traps with WNV':wnv_scatter});\n"
   ]
  },
  {
   "cell_type": "code",
   "execution_count": null,
   "metadata": {
    "colab": {},
    "colab_type": "code",
    "id": "LDwPJMjH_P1S"
   },
   "outputs": [],
   "source": [
    "# Review quantity and location of traps\n",
    "# If traps and location tally, the traps should not be repeated \n",
    "# after duplicates removed\n",
    "\n",
    "# Make a copy from train data\n",
    "df_traps_train = df_train[['Trap', 'Latitude','Longitude']].copy()\n",
    "# Remove duplicates\n",
    "df_traps_train.drop_duplicates(inplace=True)\n",
    "\n",
    "# Return number of traps\n",
    "print(f\"Traps in train data: {len(df_traps_train)}\")\n",
    "# Return distinct instances of traps\n",
    "print(f\"Distinct traps: {len(df_traps_train['Trap'].value_counts())}\")\n",
    "\n",
    "# Check the inconsistency in traps\n",
    "print(\"Repeated traps:\")\n",
    "print(df_traps_train['Trap'].value_counts().sort_values(ascending=False).head(2))\n",
    "print()\n",
    "\n",
    "# Do the same for Test set\n",
    "df_traps_test = df_test[['Trap', 'Latitude','Longitude']].copy()\n",
    "df_traps_test.drop_duplicates(inplace=True)\n",
    "print(f\"Traps in test data: {len(df_traps_test)}\")\n",
    "print(f\"Distinct traps: {len(df_traps_test['Trap'].value_counts())}\")\n",
    "print(\"Repeated traps:\")\n",
    "print(df_traps_test['Trap'].value_counts().sort_values(ascending=False).head(2))"
   ]
  },
  {
   "cell_type": "code",
   "execution_count": null,
   "metadata": {
    "colab": {},
    "colab_type": "code",
    "id": "N20kxoBa_P9h"
   },
   "outputs": [],
   "source": [
    "# Code for data cleaning for traps in both train and test set\n",
    "# Note this block likely refactor per dataframe for eventual train and testset\n",
    "# Train set\n",
    "print(\"Train set:\")\n",
    "display(df_traps_train.loc[(df_traps_train['Trap']=='T035')|(df_traps_train['Trap']=='T009')])\n",
    "\n",
    "# Test set\n",
    "print(\"Test set:\")\n",
    "display(df_traps_test.loc[(df_traps_test['Trap']=='T035')|(df_traps_test['Trap']=='T009')])\n",
    "\n",
    "# Change Trap name to deconflict\n",
    "# Train set index 3867, 6223 to Trap name + A\n",
    "df_traps_train.loc[3867,'Trap']='T009A'\n",
    "df_traps_train.loc[6223,'Trap']='T035A'\n",
    "# Test set index 928, 1096 to Trap name + A\n",
    "df_traps_test.loc[928,'Trap']='T009A'\n",
    "df_traps_test.loc[1096,'Trap']='T035A'\n",
    "# Sanity check\n",
    "print(f\"Distinct traps: {len(df_traps_test['Trap'].value_counts())}\")"
   ]
  },
  {
   "cell_type": "code",
   "execution_count": null,
   "metadata": {
    "colab": {},
    "colab_type": "code",
    "id": "WsD1effF_QFn"
   },
   "outputs": [],
   "source": []
  },
  {
   "cell_type": "markdown",
   "metadata": {
    "colab_type": "text",
    "id": "QzSn_r5nfHjo"
   },
   "source": [
    "# Saving to CSV"
   ]
  },
  {
   "cell_type": "code",
   "execution_count": null,
   "metadata": {
    "colab": {},
    "colab_type": "code",
    "id": "ldECf1oVTNPG"
   },
   "outputs": [],
   "source": [
    "# saving to CSV. All final working files will be uploaded onto github\n",
    "df_train_w.to_csv('./datasets/predict-west-nile-virus/df_train_weather_cleaned.csv')\n",
    "df_s.to_csv('./datasets/predict-west-nile-virus/df_spray_cleaned.csv')"
   ]
  },
  {
   "cell_type": "code",
   "execution_count": null,
   "metadata": {
    "colab": {},
    "colab_type": "code",
    "id": "2oxEmOJwTM4t"
   },
   "outputs": [],
   "source": []
  },
  {
   "cell_type": "code",
   "execution_count": null,
   "metadata": {},
   "outputs": [],
   "source": []
  }
 ],
 "metadata": {
  "colab": {
   "collapsed_sections": [],
   "name": "P4 wip.ipynb",
   "provenance": []
  },
  "kernelspec": {
   "display_name": "Python 3",
   "language": "python",
   "name": "python3"
  },
  "language_info": {
   "codemirror_mode": {
    "name": "ipython",
    "version": 3
   },
   "file_extension": ".py",
   "mimetype": "text/x-python",
   "name": "python",
   "nbconvert_exporter": "python",
   "pygments_lexer": "ipython3",
   "version": "3.7.4"
  }
 },
 "nbformat": 4,
 "nbformat_minor": 1
}
