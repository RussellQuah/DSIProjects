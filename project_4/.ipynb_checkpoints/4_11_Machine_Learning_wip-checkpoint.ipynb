{
 "cells": [
  {
   "cell_type": "markdown",
   "metadata": {
    "colab_type": "text",
    "id": "q7UBAjgGOdLS"
   },
   "source": [
    "### Machine Learning"
   ]
  },
  {
   "cell_type": "markdown",
   "metadata": {
    "colab_type": "text",
    "id": "HTHGbL1d3oX-"
   },
   "source": [
    "Note: The following models were commented out (using \"\"\"xxx\"\"\") as they took a long time (more than 40 mins) to run. Please comment in if you'd like to run them on your machine.\n",
    "- SVM\n",
    "- Random Forest\n",
    "- GradientBoost\n",
    "- XGBoost classifier "
   ]
  },
  {
   "cell_type": "code",
   "execution_count": 0,
   "metadata": {
    "colab": {},
    "colab_type": "code",
    "id": "1o38MXLKN4Nq"
   },
   "outputs": [],
   "source": [
    "# wip, refactor as we firm model choices\n",
    "# Import libraries for pre-processing\n",
    "import pandas as pd\n",
    "import numpy as np\n",
    "from sklearn.preprocessing import StandardScaler\n",
    "from sklearn.model_selection import train_test_split, cross_val_score\n",
    "\n",
    "from sklearn.pipeline import Pipeline\n",
    "from sklearn.model_selection import GridSearchCV\n",
    "from sklearn.linear_model import LogisticRegression\n",
    "from sklearn.svm import SVC\n",
    "from sklearn.neighbors import KNeighborsClassifier\n",
    "from sklearn.tree import DecisionTreeClassifier\n",
    "from sklearn.ensemble import RandomForestClassifier,GradientBoostingClassifier\n",
    "\n",
    "from sklearn.metrics import confusion_matrix\n",
    "from sklearn.metrics import roc_auc_score"
   ]
  },
  {
   "cell_type": "markdown",
   "metadata": {
    "colab_type": "text",
    "id": "oGaCoASpqrBl"
   },
   "source": [
    "### Import files"
   ]
  },
  {
   "cell_type": "code",
   "execution_count": 0,
   "metadata": {
    "colab": {},
    "colab_type": "code",
    "id": "ANoFpGbouagk"
   },
   "outputs": [],
   "source": [
    "# Import the files\n",
    "df_test = pd.read_csv(\"https://raw.githubusercontent.com/AngShengJun/dsi14P4/master/assets/working/df_test_weather_cleaned.csv\")\n",
    "df_train = pd.read_csv(\"https://raw.githubusercontent.com/AngShengJun/dsi14P4/master/assets/working/df_train_weather_cleaned.csv\")"
   ]
  },
  {
   "cell_type": "code",
   "execution_count": 0,
   "metadata": {
    "colab": {},
    "colab_type": "code",
    "id": "LbkTEf9I3oYT",
    "outputId": "91f8bdc8-2a3e-4bc1-e4e8-72f224181fcb"
   },
   "outputs": [
    {
     "data": {
      "text/html": [
       "<div>\n",
       "<style scoped>\n",
       "    .dataframe tbody tr th:only-of-type {\n",
       "        vertical-align: middle;\n",
       "    }\n",
       "\n",
       "    .dataframe tbody tr th {\n",
       "        vertical-align: top;\n",
       "    }\n",
       "\n",
       "    .dataframe thead th {\n",
       "        text-align: right;\n",
       "    }\n",
       "</style>\n",
       "<table border=\"1\" class=\"dataframe\">\n",
       "  <thead>\n",
       "    <tr style=\"text-align: right;\">\n",
       "      <th></th>\n",
       "      <th>Unnamed: 0</th>\n",
       "      <th>id</th>\n",
       "      <th>date</th>\n",
       "      <th>lat</th>\n",
       "      <th>long</th>\n",
       "      <th>wk</th>\n",
       "      <th>yr</th>\n",
       "      <th>tavg</th>\n",
       "      <th>stnpress</th>\n",
       "      <th>dewpt</th>\n",
       "      <th>...</th>\n",
       "      <th>trap_T230</th>\n",
       "      <th>trap_T231</th>\n",
       "      <th>trap_T232</th>\n",
       "      <th>trap_T233</th>\n",
       "      <th>trap_T235</th>\n",
       "      <th>trap_T236</th>\n",
       "      <th>trap_T237</th>\n",
       "      <th>trap_T238</th>\n",
       "      <th>trap_T900</th>\n",
       "      <th>trap_T903</th>\n",
       "    </tr>\n",
       "  </thead>\n",
       "  <tbody>\n",
       "    <tr>\n",
       "      <th>0</th>\n",
       "      <td>0</td>\n",
       "      <td>1</td>\n",
       "      <td>2008-06-11</td>\n",
       "      <td>41.95469</td>\n",
       "      <td>-87.800991</td>\n",
       "      <td>23</td>\n",
       "      <td>2008</td>\n",
       "      <td>75.0</td>\n",
       "      <td>29.31</td>\n",
       "      <td>55.5</td>\n",
       "      <td>...</td>\n",
       "      <td>0</td>\n",
       "      <td>0</td>\n",
       "      <td>0</td>\n",
       "      <td>0</td>\n",
       "      <td>0</td>\n",
       "      <td>0</td>\n",
       "      <td>0</td>\n",
       "      <td>0</td>\n",
       "      <td>0</td>\n",
       "      <td>0</td>\n",
       "    </tr>\n",
       "  </tbody>\n",
       "</table>\n",
       "<p>1 rows × 156 columns</p>\n",
       "</div>"
      ],
      "text/plain": [
       "   Unnamed: 0  id        date       lat       long  wk    yr  tavg  stnpress  \\\n",
       "0           0   1  2008-06-11  41.95469 -87.800991  23  2008  75.0     29.31   \n",
       "\n",
       "   dewpt  ...  trap_T230  trap_T231  trap_T232  trap_T233  trap_T235  \\\n",
       "0   55.5  ...          0          0          0          0          0   \n",
       "\n",
       "   trap_T236  trap_T237  trap_T238  trap_T900  trap_T903  \n",
       "0          0          0          0          0          0  \n",
       "\n",
       "[1 rows x 156 columns]"
      ]
     },
     "execution_count": 4,
     "metadata": {
      "tags": []
     },
     "output_type": "execute_result"
    }
   ],
   "source": [
    "df_test.head(1)"
   ]
  },
  {
   "cell_type": "code",
   "execution_count": 0,
   "metadata": {
    "colab": {},
    "colab_type": "code",
    "id": "WA4MKOyo3oYb",
    "outputId": "ae8df08b-1845-4cf5-c99e-10b1cfd2ce71"
   },
   "outputs": [
    {
     "data": {
      "text/html": [
       "<div>\n",
       "<style scoped>\n",
       "    .dataframe tbody tr th:only-of-type {\n",
       "        vertical-align: middle;\n",
       "    }\n",
       "\n",
       "    .dataframe tbody tr th {\n",
       "        vertical-align: top;\n",
       "    }\n",
       "\n",
       "    .dataframe thead th {\n",
       "        text-align: right;\n",
       "    }\n",
       "</style>\n",
       "<table border=\"1\" class=\"dataframe\">\n",
       "  <thead>\n",
       "    <tr style=\"text-align: right;\">\n",
       "      <th></th>\n",
       "      <th>Unnamed: 0</th>\n",
       "      <th>date</th>\n",
       "      <th>lat</th>\n",
       "      <th>long</th>\n",
       "      <th>wnv</th>\n",
       "      <th>num_mos</th>\n",
       "      <th>wk</th>\n",
       "      <th>yr</th>\n",
       "      <th>tavg</th>\n",
       "      <th>stnpress</th>\n",
       "      <th>...</th>\n",
       "      <th>trap_T230</th>\n",
       "      <th>trap_T231</th>\n",
       "      <th>trap_T232</th>\n",
       "      <th>trap_T233</th>\n",
       "      <th>trap_T235</th>\n",
       "      <th>trap_T236</th>\n",
       "      <th>trap_T237</th>\n",
       "      <th>trap_T238</th>\n",
       "      <th>trap_T900</th>\n",
       "      <th>trap_T903</th>\n",
       "    </tr>\n",
       "  </thead>\n",
       "  <tbody>\n",
       "    <tr>\n",
       "      <th>0</th>\n",
       "      <td>0</td>\n",
       "      <td>2007-05-29</td>\n",
       "      <td>41.731922</td>\n",
       "      <td>-87.677512</td>\n",
       "      <td>1</td>\n",
       "      <td>0</td>\n",
       "      <td>22</td>\n",
       "      <td>2007</td>\n",
       "      <td>75.5</td>\n",
       "      <td>29.415</td>\n",
       "      <td>...</td>\n",
       "      <td>0</td>\n",
       "      <td>0</td>\n",
       "      <td>0</td>\n",
       "      <td>0</td>\n",
       "      <td>0</td>\n",
       "      <td>0</td>\n",
       "      <td>0</td>\n",
       "      <td>0</td>\n",
       "      <td>0</td>\n",
       "      <td>0</td>\n",
       "    </tr>\n",
       "  </tbody>\n",
       "</table>\n",
       "<p>1 rows × 157 columns</p>\n",
       "</div>"
      ],
      "text/plain": [
       "   Unnamed: 0        date        lat       long  wnv  num_mos  wk    yr  tavg  \\\n",
       "0           0  2007-05-29  41.731922 -87.677512    1        0  22  2007  75.5   \n",
       "\n",
       "   stnpress  ...  trap_T230  trap_T231  trap_T232  trap_T233  trap_T235  \\\n",
       "0    29.415  ...          0          0          0          0          0   \n",
       "\n",
       "   trap_T236  trap_T237  trap_T238  trap_T900  trap_T903  \n",
       "0          0          0          0          0          0  \n",
       "\n",
       "[1 rows x 157 columns]"
      ]
     },
     "execution_count": 5,
     "metadata": {
      "tags": []
     },
     "output_type": "execute_result"
    }
   ],
   "source": [
    "df_train.head(1)"
   ]
  },
  {
   "cell_type": "markdown",
   "metadata": {
    "colab_type": "text",
    "id": "QC5lFXLc3oYm"
   },
   "source": [
    "### Prep"
   ]
  },
  {
   "cell_type": "code",
   "execution_count": 0,
   "metadata": {
    "colab": {},
    "colab_type": "code",
    "id": "eFG765-03oYo"
   },
   "outputs": [],
   "source": [
    "# Make a copy of test\n",
    "df_testcopy = df_test.copy()"
   ]
  },
  {
   "cell_type": "code",
   "execution_count": 0,
   "metadata": {
    "colab": {},
    "colab_type": "code",
    "id": "GbvxDh-y3oYz",
    "outputId": "a1bc3d59-635d-462f-89b9-b12c7a2bba71"
   },
   "outputs": [
    {
     "data": {
      "text/html": [
       "<div>\n",
       "<style scoped>\n",
       "    .dataframe tbody tr th:only-of-type {\n",
       "        vertical-align: middle;\n",
       "    }\n",
       "\n",
       "    .dataframe tbody tr th {\n",
       "        vertical-align: top;\n",
       "    }\n",
       "\n",
       "    .dataframe thead th {\n",
       "        text-align: right;\n",
       "    }\n",
       "</style>\n",
       "<table border=\"1\" class=\"dataframe\">\n",
       "  <thead>\n",
       "    <tr style=\"text-align: right;\">\n",
       "      <th></th>\n",
       "      <th>date</th>\n",
       "      <th>lat</th>\n",
       "      <th>long</th>\n",
       "      <th>wk</th>\n",
       "      <th>yr</th>\n",
       "      <th>tavg</th>\n",
       "      <th>stnpress</th>\n",
       "      <th>dewpt</th>\n",
       "      <th>precip</th>\n",
       "      <th>windspeed</th>\n",
       "      <th>...</th>\n",
       "      <th>trap_T230</th>\n",
       "      <th>trap_T231</th>\n",
       "      <th>trap_T232</th>\n",
       "      <th>trap_T233</th>\n",
       "      <th>trap_T235</th>\n",
       "      <th>trap_T236</th>\n",
       "      <th>trap_T237</th>\n",
       "      <th>trap_T238</th>\n",
       "      <th>trap_T900</th>\n",
       "      <th>trap_T903</th>\n",
       "    </tr>\n",
       "  </thead>\n",
       "  <tbody>\n",
       "    <tr>\n",
       "      <th>0</th>\n",
       "      <td>2008-06-11</td>\n",
       "      <td>41.95469</td>\n",
       "      <td>-87.800991</td>\n",
       "      <td>23</td>\n",
       "      <td>2008</td>\n",
       "      <td>75.0</td>\n",
       "      <td>29.31</td>\n",
       "      <td>55.5</td>\n",
       "      <td>0.0</td>\n",
       "      <td>9.15</td>\n",
       "      <td>...</td>\n",
       "      <td>0</td>\n",
       "      <td>0</td>\n",
       "      <td>0</td>\n",
       "      <td>0</td>\n",
       "      <td>0</td>\n",
       "      <td>0</td>\n",
       "      <td>0</td>\n",
       "      <td>0</td>\n",
       "      <td>0</td>\n",
       "      <td>0</td>\n",
       "    </tr>\n",
       "  </tbody>\n",
       "</table>\n",
       "<p>1 rows × 154 columns</p>\n",
       "</div>"
      ],
      "text/plain": [
       "         date       lat       long  wk    yr  tavg  stnpress  dewpt  precip  \\\n",
       "0  2008-06-11  41.95469 -87.800991  23  2008  75.0     29.31   55.5     0.0   \n",
       "\n",
       "   windspeed  ...  trap_T230  trap_T231  trap_T232  trap_T233  trap_T235  \\\n",
       "0       9.15  ...          0          0          0          0          0   \n",
       "\n",
       "   trap_T236  trap_T237  trap_T238  trap_T900  trap_T903  \n",
       "0          0          0          0          0          0  \n",
       "\n",
       "[1 rows x 154 columns]"
      ]
     },
     "execution_count": 7,
     "metadata": {
      "tags": []
     },
     "output_type": "execute_result"
    }
   ],
   "source": [
    "# Drop unnecessary col\n",
    "df_testcopy.drop(['id','Unnamed: 0'],axis=1,inplace=True)\n",
    "# Review\n",
    "df_testcopy.head(1)"
   ]
  },
  {
   "cell_type": "code",
   "execution_count": 0,
   "metadata": {
    "colab": {},
    "colab_type": "code",
    "id": "5DwMis383oY7"
   },
   "outputs": [],
   "source": [
    "# Make a copy of train\n",
    "df_traincopy = df_train.copy()"
   ]
  },
  {
   "cell_type": "code",
   "execution_count": 0,
   "metadata": {
    "colab": {},
    "colab_type": "code",
    "id": "3vEKDIIV3oZF",
    "outputId": "9ca8a9fe-bcf3-4c41-d300-8d3dc68f297e"
   },
   "outputs": [
    {
     "data": {
      "text/html": [
       "<div>\n",
       "<style scoped>\n",
       "    .dataframe tbody tr th:only-of-type {\n",
       "        vertical-align: middle;\n",
       "    }\n",
       "\n",
       "    .dataframe tbody tr th {\n",
       "        vertical-align: top;\n",
       "    }\n",
       "\n",
       "    .dataframe thead th {\n",
       "        text-align: right;\n",
       "    }\n",
       "</style>\n",
       "<table border=\"1\" class=\"dataframe\">\n",
       "  <thead>\n",
       "    <tr style=\"text-align: right;\">\n",
       "      <th></th>\n",
       "      <th>date</th>\n",
       "      <th>lat</th>\n",
       "      <th>long</th>\n",
       "      <th>wnv</th>\n",
       "      <th>num_mos</th>\n",
       "      <th>wk</th>\n",
       "      <th>yr</th>\n",
       "      <th>tavg</th>\n",
       "      <th>stnpress</th>\n",
       "      <th>dewpt</th>\n",
       "      <th>...</th>\n",
       "      <th>trap_T230</th>\n",
       "      <th>trap_T231</th>\n",
       "      <th>trap_T232</th>\n",
       "      <th>trap_T233</th>\n",
       "      <th>trap_T235</th>\n",
       "      <th>trap_T236</th>\n",
       "      <th>trap_T237</th>\n",
       "      <th>trap_T238</th>\n",
       "      <th>trap_T900</th>\n",
       "      <th>trap_T903</th>\n",
       "    </tr>\n",
       "  </thead>\n",
       "  <tbody>\n",
       "    <tr>\n",
       "      <th>0</th>\n",
       "      <td>2007-05-29</td>\n",
       "      <td>41.731922</td>\n",
       "      <td>-87.677512</td>\n",
       "      <td>1</td>\n",
       "      <td>0</td>\n",
       "      <td>22</td>\n",
       "      <td>2007</td>\n",
       "      <td>75.5</td>\n",
       "      <td>29.415</td>\n",
       "      <td>58.5</td>\n",
       "      <td>...</td>\n",
       "      <td>0</td>\n",
       "      <td>0</td>\n",
       "      <td>0</td>\n",
       "      <td>0</td>\n",
       "      <td>0</td>\n",
       "      <td>0</td>\n",
       "      <td>0</td>\n",
       "      <td>0</td>\n",
       "      <td>0</td>\n",
       "      <td>0</td>\n",
       "    </tr>\n",
       "  </tbody>\n",
       "</table>\n",
       "<p>1 rows × 156 columns</p>\n",
       "</div>"
      ],
      "text/plain": [
       "         date        lat       long  wnv  num_mos  wk    yr  tavg  stnpress  \\\n",
       "0  2007-05-29  41.731922 -87.677512    1        0  22  2007  75.5    29.415   \n",
       "\n",
       "   dewpt  ...  trap_T230  trap_T231  trap_T232  trap_T233  trap_T235  \\\n",
       "0   58.5  ...          0          0          0          0          0   \n",
       "\n",
       "   trap_T236  trap_T237  trap_T238  trap_T900  trap_T903  \n",
       "0          0          0          0          0          0  \n",
       "\n",
       "[1 rows x 156 columns]"
      ]
     },
     "execution_count": 9,
     "metadata": {
      "tags": []
     },
     "output_type": "execute_result"
    }
   ],
   "source": [
    "# Drop unnecessary col\n",
    "df_traincopy.drop(['Unnamed: 0'],axis=1,inplace=True)\n",
    "# Review\n",
    "df_traincopy.head(1)"
   ]
  },
  {
   "cell_type": "code",
   "execution_count": 0,
   "metadata": {
    "colab": {},
    "colab_type": "code",
    "id": "VmkpjXSI3oZM",
    "outputId": "7a1d8721-f4d3-40f6-85d5-7f1805ec0e00"
   },
   "outputs": [
    {
     "name": "stdout",
     "output_type": "stream",
     "text": [
      "(9654, 156)\n",
      "(116293, 154)\n"
     ]
    }
   ],
   "source": [
    "# Sanity check\n",
    "print(df_traincopy.shape)\n",
    "print(df_testcopy.shape)"
   ]
  },
  {
   "cell_type": "code",
   "execution_count": 0,
   "metadata": {
    "colab": {},
    "colab_type": "code",
    "id": "UEiupTeb3oZV"
   },
   "outputs": [],
   "source": [
    "# Drop date column from test and train\n",
    "df_traincopy.drop(['date'],axis=1,inplace=True)\n",
    "df_testcopy.drop(['date'],axis=1,inplace=True)"
   ]
  },
  {
   "cell_type": "code",
   "execution_count": 0,
   "metadata": {
    "colab": {},
    "colab_type": "code",
    "id": "nq1ZI4Au3oZb"
   },
   "outputs": [],
   "source": [
    "# trc - TrainComplete set\n",
    "X_trc = df_traincopy.drop(['num_mos','wnv'],axis=1)\n",
    "y_trc = df_traincopy['wnv']"
   ]
  },
  {
   "cell_type": "code",
   "execution_count": 0,
   "metadata": {
    "colab": {},
    "colab_type": "code",
    "id": "umK6th6u3oZn",
    "outputId": "04a3638e-ac03-407e-b9a7-54128dea0756"
   },
   "outputs": [
    {
     "data": {
      "text/html": [
       "<div>\n",
       "<style scoped>\n",
       "    .dataframe tbody tr th:only-of-type {\n",
       "        vertical-align: middle;\n",
       "    }\n",
       "\n",
       "    .dataframe tbody tr th {\n",
       "        vertical-align: top;\n",
       "    }\n",
       "\n",
       "    .dataframe thead th {\n",
       "        text-align: right;\n",
       "    }\n",
       "</style>\n",
       "<table border=\"1\" class=\"dataframe\">\n",
       "  <thead>\n",
       "    <tr style=\"text-align: right;\">\n",
       "      <th></th>\n",
       "      <th>lat</th>\n",
       "      <th>long</th>\n",
       "      <th>wnv</th>\n",
       "      <th>num_mos</th>\n",
       "      <th>wk</th>\n",
       "      <th>yr</th>\n",
       "      <th>tavg</th>\n",
       "      <th>stnpress</th>\n",
       "      <th>dewpt</th>\n",
       "      <th>precip</th>\n",
       "      <th>...</th>\n",
       "      <th>trap_T230</th>\n",
       "      <th>trap_T231</th>\n",
       "      <th>trap_T232</th>\n",
       "      <th>trap_T233</th>\n",
       "      <th>trap_T235</th>\n",
       "      <th>trap_T236</th>\n",
       "      <th>trap_T237</th>\n",
       "      <th>trap_T238</th>\n",
       "      <th>trap_T900</th>\n",
       "      <th>trap_T903</th>\n",
       "    </tr>\n",
       "  </thead>\n",
       "  <tbody>\n",
       "    <tr>\n",
       "      <th>0</th>\n",
       "      <td>41.731922</td>\n",
       "      <td>-87.677512</td>\n",
       "      <td>1</td>\n",
       "      <td>0</td>\n",
       "      <td>22</td>\n",
       "      <td>2007</td>\n",
       "      <td>75.5</td>\n",
       "      <td>29.415</td>\n",
       "      <td>58.5</td>\n",
       "      <td>0.0</td>\n",
       "      <td>...</td>\n",
       "      <td>0</td>\n",
       "      <td>0</td>\n",
       "      <td>0</td>\n",
       "      <td>0</td>\n",
       "      <td>0</td>\n",
       "      <td>0</td>\n",
       "      <td>0</td>\n",
       "      <td>0</td>\n",
       "      <td>0</td>\n",
       "      <td>0</td>\n",
       "    </tr>\n",
       "  </tbody>\n",
       "</table>\n",
       "<p>1 rows × 155 columns</p>\n",
       "</div>"
      ],
      "text/plain": [
       "         lat       long  wnv  num_mos  wk    yr  tavg  stnpress  dewpt  \\\n",
       "0  41.731922 -87.677512    1        0  22  2007  75.5    29.415   58.5   \n",
       "\n",
       "   precip  ...  trap_T230  trap_T231  trap_T232  trap_T233  trap_T235  \\\n",
       "0     0.0  ...          0          0          0          0          0   \n",
       "\n",
       "   trap_T236  trap_T237  trap_T238  trap_T900  trap_T903  \n",
       "0          0          0          0          0          0  \n",
       "\n",
       "[1 rows x 155 columns]"
      ]
     },
     "execution_count": 13,
     "metadata": {
      "tags": []
     },
     "output_type": "execute_result"
    }
   ],
   "source": [
    "df_traincopy.head(1)"
   ]
  },
  {
   "cell_type": "code",
   "execution_count": 0,
   "metadata": {
    "colab": {},
    "colab_type": "code",
    "id": "ERpevtsF3oZu",
    "outputId": "38b4d048-0c7a-4913-859e-4f5cda3ebb8a"
   },
   "outputs": [
    {
     "data": {
      "text/html": [
       "<div>\n",
       "<style scoped>\n",
       "    .dataframe tbody tr th:only-of-type {\n",
       "        vertical-align: middle;\n",
       "    }\n",
       "\n",
       "    .dataframe tbody tr th {\n",
       "        vertical-align: top;\n",
       "    }\n",
       "\n",
       "    .dataframe thead th {\n",
       "        text-align: right;\n",
       "    }\n",
       "</style>\n",
       "<table border=\"1\" class=\"dataframe\">\n",
       "  <thead>\n",
       "    <tr style=\"text-align: right;\">\n",
       "      <th></th>\n",
       "      <th>lat</th>\n",
       "      <th>long</th>\n",
       "      <th>wk</th>\n",
       "      <th>yr</th>\n",
       "      <th>tavg</th>\n",
       "      <th>stnpress</th>\n",
       "      <th>dewpt</th>\n",
       "      <th>precip</th>\n",
       "      <th>windspeed</th>\n",
       "      <th>daylight</th>\n",
       "      <th>...</th>\n",
       "      <th>trap_T230</th>\n",
       "      <th>trap_T231</th>\n",
       "      <th>trap_T232</th>\n",
       "      <th>trap_T233</th>\n",
       "      <th>trap_T235</th>\n",
       "      <th>trap_T236</th>\n",
       "      <th>trap_T237</th>\n",
       "      <th>trap_T238</th>\n",
       "      <th>trap_T900</th>\n",
       "      <th>trap_T903</th>\n",
       "    </tr>\n",
       "  </thead>\n",
       "  <tbody>\n",
       "    <tr>\n",
       "      <th>0</th>\n",
       "      <td>41.95469</td>\n",
       "      <td>-87.800991</td>\n",
       "      <td>23</td>\n",
       "      <td>2008</td>\n",
       "      <td>75.0</td>\n",
       "      <td>29.31</td>\n",
       "      <td>55.5</td>\n",
       "      <td>0.0</td>\n",
       "      <td>9.15</td>\n",
       "      <td>15.166667</td>\n",
       "      <td>...</td>\n",
       "      <td>0</td>\n",
       "      <td>0</td>\n",
       "      <td>0</td>\n",
       "      <td>0</td>\n",
       "      <td>0</td>\n",
       "      <td>0</td>\n",
       "      <td>0</td>\n",
       "      <td>0</td>\n",
       "      <td>0</td>\n",
       "      <td>0</td>\n",
       "    </tr>\n",
       "  </tbody>\n",
       "</table>\n",
       "<p>1 rows × 153 columns</p>\n",
       "</div>"
      ],
      "text/plain": [
       "        lat       long  wk    yr  tavg  stnpress  dewpt  precip  windspeed  \\\n",
       "0  41.95469 -87.800991  23  2008  75.0     29.31   55.5     0.0       9.15   \n",
       "\n",
       "    daylight  ...  trap_T230  trap_T231  trap_T232  trap_T233  trap_T235  \\\n",
       "0  15.166667  ...          0          0          0          0          0   \n",
       "\n",
       "   trap_T236  trap_T237  trap_T238  trap_T900  trap_T903  \n",
       "0          0          0          0          0          0  \n",
       "\n",
       "[1 rows x 153 columns]"
      ]
     },
     "execution_count": 14,
     "metadata": {
      "tags": []
     },
     "output_type": "execute_result"
    }
   ],
   "source": [
    "df_testcopy.head(1)"
   ]
  },
  {
   "cell_type": "markdown",
   "metadata": {
    "colab_type": "text",
    "id": "67GMBFZLqdPt"
   },
   "source": [
    "### Train-Validate-Split"
   ]
  },
  {
   "cell_type": "code",
   "execution_count": 0,
   "metadata": {
    "colab": {},
    "colab_type": "code",
    "id": "Ad7l1zyW3oZ7"
   },
   "outputs": [],
   "source": [
    "# Train-validate-split\n",
    "X_train,X_val,y_train,y_val = train_test_split(X_trc,y_trc,test_size=0.3,random_state=42, stratify=y_trc)"
   ]
  },
  {
   "cell_type": "code",
   "execution_count": 0,
   "metadata": {
    "colab": {},
    "colab_type": "code",
    "id": "ZbflR-y93oaF",
    "outputId": "6af49c66-b899-47f2-b01a-e7ecc4e13e7d"
   },
   "outputs": [
    {
     "name": "stdout",
     "output_type": "stream",
     "text": [
      "1     0.234128\n",
      "2     0.133047\n",
      "3     0.091313\n",
      "4     0.061122\n",
      "5     0.050170\n",
      "6     0.041291\n",
      "7     0.033595\n",
      "50    0.028859\n",
      "8     0.025011\n",
      "9     0.024271\n",
      "10    0.021163\n",
      "11    0.017463\n",
      "13    0.016723\n",
      "12    0.013616\n",
      "16    0.013172\n",
      "14    0.012432\n",
      "15    0.011544\n",
      "17    0.011100\n",
      "18    0.009472\n",
      "19    0.008880\n",
      "21    0.008732\n",
      "20    0.008140\n",
      "23    0.007104\n",
      "27    0.006956\n",
      "37    0.006216\n",
      "24    0.005920\n",
      "22    0.005772\n",
      "26    0.005772\n",
      "25    0.005180\n",
      "39    0.005032\n",
      "29    0.005032\n",
      "36    0.004884\n",
      "31    0.004884\n",
      "30    0.004440\n",
      "35    0.004440\n",
      "28    0.004292\n",
      "46    0.004292\n",
      "32    0.003996\n",
      "47    0.003848\n",
      "43    0.003848\n",
      "33    0.003700\n",
      "48    0.003552\n",
      "45    0.003552\n",
      "38    0.003552\n",
      "49    0.003552\n",
      "41    0.003256\n",
      "34    0.003256\n",
      "42    0.002960\n",
      "40    0.002812\n",
      "44    0.002664\n",
      "Name: wnv, dtype: float64\n"
     ]
    }
   ],
   "source": [
    "print(y_train.value_counts(normalize=True))"
   ]
  },
  {
   "cell_type": "markdown",
   "metadata": {
    "colab_type": "text",
    "id": "vZhHlrOm3oaM"
   },
   "source": [
    "Positive class is wnv. Negative class is no wnv. Classes are imbalanced. We face a Class Imbalance Problem when the class distributions are highly imbalanced. In this context, many classification learning algorithms will have low predictive accuracy for the infrequent class (i.e. the positive class we are interested in).\n",
    "\n",
    "We will use SMOTE (Synthetic Minority Oversampling TEchnique) to mitigate class imbalance. SMOTE consists of synthesizing elements for the minority class, based on exisitng observations. A minority class observation is randomly picked and the k-nearest neighbors are computed for this observation. Synthetic points are then added between this observation and its neighbors."
   ]
  },
  {
   "cell_type": "markdown",
   "metadata": {
    "colab_type": "text",
    "id": "QnJEiKpzqdc8"
   },
   "source": [
    "### Resampling"
   ]
  },
  {
   "cell_type": "code",
   "execution_count": 0,
   "metadata": {
    "colab": {},
    "colab_type": "code",
    "id": "FtFlJuUy3oaU"
   },
   "outputs": [],
   "source": [
    "from imblearn.over_sampling import SMOTE\n",
    "\n",
    "smote = SMOTE(sampling_strategy='minority')\n",
    "X_sm, y_sm = smote.fit_sample(X_train, y_train)"
   ]
  },
  {
   "cell_type": "code",
   "execution_count": 0,
   "metadata": {
    "colab": {},
    "colab_type": "code",
    "id": "II6KTlzo3oae"
   },
   "outputs": [],
   "source": [
    "# Review class balance after SMOTE application\n",
    "print(y_sm.value_counts(normalize=True))"
   ]
  },
  {
   "cell_type": "markdown",
   "metadata": {
    "colab_type": "text",
    "id": "e-ZBynP6IlHL"
   },
   "source": [
    "The baseline accuracy is 0.5. A model needs to perform better than this."
   ]
  },
  {
   "cell_type": "markdown",
   "metadata": {
    "colab_type": "text",
    "id": "kzorDlde3oaq"
   },
   "source": [
    "### Classification Models"
   ]
  },
  {
   "cell_type": "markdown",
   "metadata": {
    "colab_type": "text",
    "id": "299rw4SZ3oar"
   },
   "source": [
    "Model workflow:\n",
    "- pipeline for standard scaler (transformer) and classifier model (estimator), where relevant.\n",
    "- gridsearch for best model parameters.\n",
    "- metrics for evaluation: F1 score and roc_auc since we are dealing with imbalanced class distribution."
   ]
  },
  {
   "cell_type": "markdown",
   "metadata": {
    "colab_type": "text",
    "id": "7nScJTXz3oas"
   },
   "source": [
    "### Logistic Regression Model"
   ]
  },
  {
   "cell_type": "code",
   "execution_count": 0,
   "metadata": {
    "colab": {},
    "colab_type": "code",
    "id": "s2MHVDfI3oat"
   },
   "outputs": [],
   "source": [
    "pipe1 = Pipeline([\n",
    "    ('ss', StandardScaler()),\n",
    "    ('lor', LogisticRegression(solver='lbfgs',random_state=42)),\n",
    "])"
   ]
  },
  {
   "cell_type": "code",
   "execution_count": 0,
   "metadata": {
    "colab": {},
    "colab_type": "code",
    "id": "FP0hoybo3oa2"
   },
   "outputs": [],
   "source": [
    "pipe1.get_params()"
   ]
  },
  {
   "cell_type": "code",
   "execution_count": 0,
   "metadata": {
    "colab": {},
    "colab_type": "code",
    "id": "KFSS4Z6Q3oa8"
   },
   "outputs": [],
   "source": [
    "# Define the pipe parameters\n",
    "pipe1_params = {'ss__with_mean': [True],\n",
    "                'ss__with_std': [True],\n",
    "                'lor__max_iter': [100,200,300]}"
   ]
  },
  {
   "cell_type": "code",
   "execution_count": 0,
   "metadata": {
    "colab": {},
    "colab_type": "code",
    "id": "u4rTF-Vv3obC"
   },
   "outputs": [],
   "source": [
    "# Instantiate Gridsearch\n",
    "gs1 = GridSearchCV(pipe1,\\\n",
    "                  param_grid=pipe1_params,\\\n",
    "                  cv=10)\n",
    "# Fit GridSearch to the cleaned training data.\n",
    "gs1.fit(X_sm,y_sm)"
   ]
  },
  {
   "cell_type": "code",
   "execution_count": 0,
   "metadata": {
    "colab": {},
    "colab_type": "code",
    "id": "mXRmJhkN3obT"
   },
   "outputs": [],
   "source": [
    "# Check the results of the grid search\n",
    "# Google colab raises max iter limit, while jupytr runs fine with provided params\n",
    "print(f\"Best parameters: {gs1.best_params_}\")\n",
    "print(f\"Best score: {gs1.best_score_}\")"
   ]
  },
  {
   "cell_type": "code",
   "execution_count": 0,
   "metadata": {
    "colab": {},
    "colab_type": "code",
    "id": "vZjQv5NU3oba"
   },
   "outputs": [],
   "source": [
    "# Save model\n",
    "model1 = gs1.best_estimator_"
   ]
  },
  {
   "cell_type": "code",
   "execution_count": 0,
   "metadata": {
    "colab": {},
    "colab_type": "code",
    "id": "XSPiFspJ3obm"
   },
   "outputs": [],
   "source": [
    "# Score model on train set and validate set\n",
    "print(f\"Accuracy on train set: {model1.score(X_sm, y_sm)}\")\n",
    "print(f\"Accuracy on validate set: {model1.score(X_val, y_val)}\")"
   ]
  },
  {
   "cell_type": "markdown",
   "metadata": {
    "colab_type": "text",
    "id": "2Zc1RM7G3obx"
   },
   "source": [
    "The model accuracy is higher than the baseline accuracy, modelling helps with classification. The model is overfitted with about 2% drop in validate accuracy compared to train accuracy."
   ]
  },
  {
   "cell_type": "code",
   "execution_count": 0,
   "metadata": {
    "colab": {},
    "colab_type": "code",
    "id": "Xe7OOPya3oby"
   },
   "outputs": [],
   "source": [
    "# Confusion matrix\n",
    "# Pass in true values, predicted values to confusion matrix\n",
    "# Convert confusion matrix into dataframe\n",
    "# Positive class (class 1) is wnv\n",
    "preds = gs1.predict(X_val)\n",
    "cm = confusion_matrix(y_val, preds)\n",
    "cm_df = pd.DataFrame(cm,columns=['pred no wnv','pred wnv'], index=['Actual no wnv','Actual wnv'])\n",
    "cm_df"
   ]
  },
  {
   "cell_type": "code",
   "execution_count": 0,
   "metadata": {
    "colab": {},
    "colab_type": "code",
    "id": "Y12GTt0k3ob8"
   },
   "outputs": [],
   "source": [
    "# return nparray as a 1-D array.\n",
    "confusion_matrix(y_val, preds).ravel()\n",
    "# Save TN/FP/FN/TP values.\n",
    "tn, fp, fn, tp = confusion_matrix(y_val,preds).ravel()"
   ]
  },
  {
   "cell_type": "code",
   "execution_count": 0,
   "metadata": {
    "colab": {},
    "colab_type": "code",
    "id": "TzHz1VcX3ocC"
   },
   "outputs": [],
   "source": [
    "# Summary of metrics for log reg model\n",
    "sens = tp/(tp+fn)\n",
    "prec = tp/(tp+fp)\n",
    "f1 = 2*(prec*sens)/(prec+sens)\n",
    "print(f\"Sensitivity: {round(sens,4)}\")\n",
    "print(f\"Precision: {round(prec,4)}\")\n",
    "print(f\"F1: {round(f1,4)}\")"
   ]
  },
  {
   "cell_type": "code",
   "execution_count": 0,
   "metadata": {
    "colab": {},
    "colab_type": "code",
    "id": "GeJv7leb3ocI"
   },
   "outputs": [],
   "source": [
    "pred_proba = [i[1] for i in gs1.predict_proba(X_val)]\n",
    "\n",
    "pred_df = pd.DataFrame({'validate_values': y_val,\n",
    "                        'pred_probs':pred_proba})\n",
    "pred_df.head()"
   ]
  },
  {
   "cell_type": "code",
   "execution_count": 0,
   "metadata": {
    "colab": {},
    "colab_type": "code",
    "id": "jw3bnCpe3ocP"
   },
   "outputs": [],
   "source": [
    "# Calculate ROC AUC.\n",
    "roc_auc_score(pred_df['validate_values'],pred_df['pred_probs'])"
   ]
  },
  {
   "cell_type": "markdown",
   "metadata": {
    "colab_type": "text",
    "id": "KpNqKr623ocU"
   },
   "source": [
    "### SVM"
   ]
  },
  {
   "cell_type": "markdown",
   "metadata": {
    "colab_type": "text",
    "id": "LN57iLBc3ocW"
   },
   "source": [
    "Note: Code for SVM commented out, takes significant time to run (more than 30 mins)."
   ]
  },
  {
   "cell_type": "code",
   "execution_count": 0,
   "metadata": {
    "colab": {},
    "colab_type": "code",
    "id": "xY3FLohP3ocX"
   },
   "outputs": [],
   "source": [
    "\"\"\"pipe2 = Pipeline([\n",
    "    ('ss', StandardScaler()),\n",
    "    ('svm', SVC())\n",
    "])\"\"\""
   ]
  },
  {
   "cell_type": "code",
   "execution_count": 0,
   "metadata": {
    "colab": {},
    "colab_type": "code",
    "id": "_LupYsA13ocb"
   },
   "outputs": [],
   "source": [
    "\"\"\"pipe2.get_params()\"\"\""
   ]
  },
  {
   "cell_type": "code",
   "execution_count": 0,
   "metadata": {
    "colab": {},
    "colab_type": "code",
    "id": "i_koyjN-3ocf"
   },
   "outputs": [],
   "source": [
    "# Define the pipe parameters\n",
    "\"\"\"pipe2_params = {'ss__with_mean': [True],\n",
    "                'ss__with_std': [True],\n",
    "                'svm__C': [1,10],\n",
    "                'svm__gamma': ['scale','auto'],\n",
    "                'svm__kernel': ['rbf','linear','poly']\n",
    "               }\"\"\""
   ]
  },
  {
   "cell_type": "code",
   "execution_count": 0,
   "metadata": {
    "colab": {},
    "colab_type": "code",
    "id": "Qiyzhoih3ocj"
   },
   "outputs": [],
   "source": [
    "# Initiate Gridsearch\n",
    "\"\"\"gs2 = GridSearchCV(pipe2,\n",
    "                  param_grid=pipe2_params,\n",
    "                  cv=10)\n",
    "\n",
    "# Fit gs2\n",
    "gs2.fit(X_sm, y_sm)\"\"\""
   ]
  },
  {
   "cell_type": "code",
   "execution_count": 0,
   "metadata": {
    "colab": {},
    "colab_type": "code",
    "id": "Fz1qMdeb3ocp"
   },
   "outputs": [],
   "source": [
    "# Check the results of the grid search\n",
    "\n",
    "\"\"\"print(f\"Best parameters: {gs2.best_params_}\")\n",
    "print(f\"Best score: {gs2.best_score_}\")\"\"\""
   ]
  },
  {
   "cell_type": "code",
   "execution_count": 0,
   "metadata": {
    "colab": {},
    "colab_type": "code",
    "id": "lsDrWRBT3ocu"
   },
   "outputs": [],
   "source": [
    "# Save model\n",
    "\"\"\"model2 = gs2.best_estimator_\"\"\""
   ]
  },
  {
   "cell_type": "code",
   "execution_count": 0,
   "metadata": {
    "colab": {},
    "colab_type": "code",
    "id": "SNhDfG_K3ocz"
   },
   "outputs": [],
   "source": [
    "# Score model on train set and validate set\n",
    "\"\"\"print(f\"Accuracy on train set: {model2.score(X_sm, y_sm)}\")\n",
    "print(f\"Accuracy on validate set: {model2.score(X_val, y_val)}\")\"\"\""
   ]
  },
  {
   "cell_type": "code",
   "execution_count": 0,
   "metadata": {
    "colab": {},
    "colab_type": "code",
    "id": "1LEE62nC3oc5"
   },
   "outputs": [],
   "source": [
    "# Confusion matrix\n",
    "# Pass in true values, predicted values to confusion matrix\n",
    "# Convert confusion matrix into dataframe\n",
    "# Positive class (class 1) is wnv\n",
    "\"\"\"preds = gs2.predict(X_val)\n",
    "cm = confusion_matrix(y_val, preds)\n",
    "cm_df = pd.DataFrame(cm,columns=['pred no wnv','pred wnv'], index=['Actual no wnv','Actual wnv'])\n",
    "cm_df\"\"\""
   ]
  },
  {
   "cell_type": "code",
   "execution_count": 0,
   "metadata": {
    "colab": {},
    "colab_type": "code",
    "id": "aSlysrNF3oc8"
   },
   "outputs": [],
   "source": [
    "# return nparray as a 1-D array.\n",
    "\"\"\"confusion_matrix(y_val, preds).ravel()\n",
    "# Save TN/FP/FN/TP values.\n",
    "tn, fp, fn, tp = confusion_matrix(y_val,preds).ravel()\"\"\""
   ]
  },
  {
   "cell_type": "code",
   "execution_count": 0,
   "metadata": {
    "colab": {},
    "colab_type": "code",
    "id": "bEwEg0JD3odF"
   },
   "outputs": [],
   "source": [
    "# Summary of metrics for log reg model\n",
    "\"\"\"sens = tp/(tp+fn)\n",
    "prec = tp/(tp+fp)\n",
    "f1 = 2*(prec*sens)/(prec+sens)\n",
    "print(f\"Sensitivity: {round(sens,4)}\")\n",
    "print(f\"Precision: {round(prec,4)}\")\n",
    "print(f\"F1: {round(f1,4)}\")\"\"\""
   ]
  },
  {
   "cell_type": "code",
   "execution_count": 0,
   "metadata": {
    "colab": {},
    "colab_type": "code",
    "id": "yTFhiUYC3odO"
   },
   "outputs": [],
   "source": [
    "\"\"\"pred_proba = [i[1] for i in gs2.predict_proba(X_val)]\n",
    "\n",
    "pred_df = pd.DataFrame({'validate_values': y_val,\n",
    "                        'pred_probs':pred_proba})\n",
    "pred_df.head()\"\"\""
   ]
  },
  {
   "cell_type": "code",
   "execution_count": 0,
   "metadata": {
    "colab": {},
    "colab_type": "code",
    "id": "sHuaWRQV3odT"
   },
   "outputs": [],
   "source": [
    "# Calculate ROC AUC.\n",
    "\"\"\"roc_auc_score(pred_df['validate_values'],pred_df['pred_probs'])\"\"\""
   ]
  },
  {
   "cell_type": "markdown",
   "metadata": {
    "colab_type": "text",
    "id": "10ZNQbz-3odd"
   },
   "source": [
    "### KNN Classifier"
   ]
  },
  {
   "cell_type": "code",
   "execution_count": 0,
   "metadata": {
    "colab": {},
    "colab_type": "code",
    "id": "O-Zg81SV3ode"
   },
   "outputs": [],
   "source": [
    "pipe3 = Pipeline([\n",
    "    ('ss', StandardScaler()),\n",
    "    ('knn', KNeighborsClassifier())\n",
    "])"
   ]
  },
  {
   "cell_type": "code",
   "execution_count": 0,
   "metadata": {
    "colab": {},
    "colab_type": "code",
    "id": "l64ypfDV3odj"
   },
   "outputs": [],
   "source": [
    "pipe3.get_params()"
   ]
  },
  {
   "cell_type": "code",
   "execution_count": 0,
   "metadata": {
    "colab": {},
    "colab_type": "code",
    "id": "QfgOa-wn3odu"
   },
   "outputs": [],
   "source": [
    "# Define the pipe parameters\n",
    "pipe3_params = {'ss__with_mean': [True],\n",
    "                'ss__with_std': [True],\n",
    "                'knn__n_neighbors' : [3,5,7],\n",
    "                'knn__metric': ['euclidean','manhattan']}"
   ]
  },
  {
   "cell_type": "code",
   "execution_count": 0,
   "metadata": {
    "colab": {},
    "colab_type": "code",
    "id": "OunzXTvV3ody"
   },
   "outputs": [],
   "source": [
    "# Instantiate Gridsearch\n",
    "gs3 = GridSearchCV(pipe3,\\\n",
    "                  param_grid=pipe3_params,\\\n",
    "                  cv=10)\n",
    "# Fit GridSearch to the cleaned training data.\n",
    "gs3.fit(X_sm,y_sm)"
   ]
  },
  {
   "cell_type": "code",
   "execution_count": 0,
   "metadata": {
    "colab": {},
    "colab_type": "code",
    "id": "b9Jv2_uB3od4"
   },
   "outputs": [],
   "source": [
    "# Check the results of the grid search\n",
    "\n",
    "print(f\"Best parameters: {gs3.best_params_}\")\n",
    "print(f\"Best score: {gs3.best_score_}\")"
   ]
  },
  {
   "cell_type": "code",
   "execution_count": 0,
   "metadata": {
    "colab": {},
    "colab_type": "code",
    "id": "Bk-EXj0G3od-"
   },
   "outputs": [],
   "source": [
    "# Save model\n",
    "model3 = gs3.best_estimator_"
   ]
  },
  {
   "cell_type": "code",
   "execution_count": 0,
   "metadata": {
    "colab": {},
    "colab_type": "code",
    "id": "zozl-wk43oeA"
   },
   "outputs": [],
   "source": [
    "# Score model on train set and validate set\n",
    "print(f\"Accuracy on train set: {model3.score(X_sm, y_sm)}\")\n",
    "print(f\"Accuracy on validate set: {model3.score(X_val, y_val)}\")"
   ]
  },
  {
   "cell_type": "markdown",
   "metadata": {
    "colab_type": "text",
    "id": "bilQlx7r3oeD"
   },
   "source": [
    "The model is overfitted with about 4% drop in validate accuracy compared to train accuracy."
   ]
  },
  {
   "cell_type": "code",
   "execution_count": 0,
   "metadata": {
    "colab": {},
    "colab_type": "code",
    "id": "oSbStlk13oeD"
   },
   "outputs": [],
   "source": [
    "# Confusion matrix\n",
    "# Pass in true values, predicted values to confusion matrix\n",
    "# Convert confusion matrix into dataframe\n",
    "# Positive class (class 1) is wnv\n",
    "preds = gs3.predict(X_val)\n",
    "cm = confusion_matrix(y_val, preds)\n",
    "cm_df = pd.DataFrame(cm,columns=['pred no wnv','pred wnv'], index=['Actual no wnv','Actual wnv'])\n",
    "cm_df"
   ]
  },
  {
   "cell_type": "code",
   "execution_count": 0,
   "metadata": {
    "colab": {},
    "colab_type": "code",
    "id": "t5XmUP1n3oeO"
   },
   "outputs": [],
   "source": [
    "# return nparray as a 1-D array.\n",
    "confusion_matrix(y_val, preds).ravel()\n",
    "# Save TN/FP/FN/TP values.\n",
    "tn, fp, fn, tp = confusion_matrix(y_val,preds).ravel()"
   ]
  },
  {
   "cell_type": "code",
   "execution_count": 0,
   "metadata": {
    "colab": {},
    "colab_type": "code",
    "id": "jCa347uB3oeS"
   },
   "outputs": [],
   "source": [
    "# Summary of metrics for log reg model\n",
    "sens = tp/(tp+fn)\n",
    "prec = tp/(tp+fp)\n",
    "f1 = 2*(prec*sens)/(prec+sens)\n",
    "print(f\"Sensitivity: {round(sens,4)}\")\n",
    "print(f\"Precision: {round(prec,4)}\")\n",
    "print(f\"F1: {round(f1,4)}\")"
   ]
  },
  {
   "cell_type": "code",
   "execution_count": 0,
   "metadata": {
    "colab": {},
    "colab_type": "code",
    "id": "5S8ZUze23oef"
   },
   "outputs": [],
   "source": [
    "pred_proba = [i[1] for i in gs3.predict_proba(X_val)]\n",
    "\n",
    "pred_df = pd.DataFrame({'validate_values': y_val,\n",
    "                        'pred_probs':pred_proba})\n",
    "pred_df.head()"
   ]
  },
  {
   "cell_type": "code",
   "execution_count": 0,
   "metadata": {
    "colab": {},
    "colab_type": "code",
    "id": "qPZN_39c3oej"
   },
   "outputs": [],
   "source": [
    "# Calculate ROC AUC.\n",
    "roc_auc_score(pred_df['validate_values'],pred_df['pred_probs'])"
   ]
  },
  {
   "cell_type": "markdown",
   "metadata": {
    "colab_type": "text",
    "id": "EQz17_4U3oen"
   },
   "source": [
    "### Decision Tree"
   ]
  },
  {
   "cell_type": "code",
   "execution_count": 0,
   "metadata": {
    "colab": {},
    "colab_type": "code",
    "id": "FWPllG143oet"
   },
   "outputs": [],
   "source": [
    "gs4 = GridSearchCV(estimator = DecisionTreeClassifier(),\\\n",
    "                   param_grid = {'max_depth': [7, 9, 11],\\\n",
    "                                 'min_samples_split': [10, 15, 20],\\\n",
    "                                 'min_samples_leaf': [2, 3, 4],\\\n",
    "                                 'ccp_alpha': [0, 0.001, 0.01, 0.1, 1, 10]},\\\n",
    "                   cv = 5,\\\n",
    "                   verbose = 2)"
   ]
  },
  {
   "cell_type": "code",
   "execution_count": 0,
   "metadata": {
    "colab": {},
    "colab_type": "code",
    "id": "NCyxARfp3oey"
   },
   "outputs": [],
   "source": [
    "# Fit GridSearch to the cleaned training data.\n",
    "gs4.fit(X_sm,y_sm)"
   ]
  },
  {
   "cell_type": "code",
   "execution_count": 0,
   "metadata": {
    "colab": {},
    "colab_type": "code",
    "id": "WXlZLJsi3oe2"
   },
   "outputs": [],
   "source": [
    "# Check the results of the grid search\n",
    "\n",
    "print(f\"Best parameters: {gs4.best_params_}\")\n",
    "print(f\"Best score: {gs4.best_score_}\")"
   ]
  },
  {
   "cell_type": "code",
   "execution_count": 0,
   "metadata": {
    "colab": {},
    "colab_type": "code",
    "id": "vIjzKZ_H3oe8"
   },
   "outputs": [],
   "source": [
    "# Save model\n",
    "model4 = gs4.best_estimator_"
   ]
  },
  {
   "cell_type": "code",
   "execution_count": 0,
   "metadata": {
    "colab": {},
    "colab_type": "code",
    "id": "ev1-E6og3ofB",
    "scrolled": true
   },
   "outputs": [],
   "source": [
    "# Score model on train set and validate set\n",
    "print(f\"Accuracy on train set: {model4.score(X_sm, y_sm)}\")\n",
    "print(f\"Accuracy on validate set: {model4.score(X_val, y_val)}\")"
   ]
  },
  {
   "cell_type": "markdown",
   "metadata": {
    "colab_type": "text",
    "id": "r6Qw1Hxt3ofF"
   },
   "source": [
    "The model is overfitted with about 8% drop in validate accuracy compared to train accuracy. The accuracy is lower than the all previous models."
   ]
  },
  {
   "cell_type": "code",
   "execution_count": 0,
   "metadata": {
    "colab": {},
    "colab_type": "code",
    "id": "ZvPDp4pV3ofG"
   },
   "outputs": [],
   "source": [
    "# Confusion matrix\n",
    "# Pass in true values, predicted values to confusion matrix\n",
    "# Convert confusion matrix into dataframe\n",
    "# Positive class (class 1) is wnv\n",
    "preds = gs4.predict(X_val)\n",
    "cm = confusion_matrix(y_val, preds)\n",
    "cm_df = pd.DataFrame(cm,columns=['pred no wnv','pred wnv'], index=['Actual no wnv','Actual wnv'])\n",
    "cm_df"
   ]
  },
  {
   "cell_type": "code",
   "execution_count": 0,
   "metadata": {
    "colab": {},
    "colab_type": "code",
    "id": "xOZD3_J13ofK"
   },
   "outputs": [],
   "source": [
    "# return nparray as a 1-D array.\n",
    "confusion_matrix(y_val, preds).ravel()\n",
    "# Save TN/FP/FN/TP values.\n",
    "tn, fp, fn, tp = confusion_matrix(y_val,preds).ravel()"
   ]
  },
  {
   "cell_type": "code",
   "execution_count": 0,
   "metadata": {
    "colab": {},
    "colab_type": "code",
    "id": "JoQdqW9_3ofP"
   },
   "outputs": [],
   "source": [
    "# Summary of metrics for log reg model\n",
    "sens = tp/(tp+fn)\n",
    "prec = tp/(tp+fp)\n",
    "f1 = 2*(prec*sens)/(prec+sens)\n",
    "print(f\"Sensitivity: {round(sens,4)}\")\n",
    "print(f\"Precision: {round(prec,4)}\")\n",
    "print(f\"F1: {round(f1,4)}\")"
   ]
  },
  {
   "cell_type": "code",
   "execution_count": 0,
   "metadata": {
    "colab": {},
    "colab_type": "code",
    "id": "HlpdKJho3ofU"
   },
   "outputs": [],
   "source": [
    "pred_proba = [i[1] for i in gs4.predict_proba(X_val)]\n",
    "\n",
    "pred_df = pd.DataFrame({'validate_values': y_val,\n",
    "                        'pred_probs':pred_proba})\n",
    "pred_df.head()"
   ]
  },
  {
   "cell_type": "code",
   "execution_count": 0,
   "metadata": {
    "colab": {},
    "colab_type": "code",
    "id": "yxVx7EeT3ofY"
   },
   "outputs": [],
   "source": [
    "# Calculate ROC AUC.\n",
    "roc_auc_score(pred_df['validate_values'],pred_df['pred_probs'])"
   ]
  },
  {
   "cell_type": "code",
   "execution_count": 0,
   "metadata": {
    "colab": {},
    "colab_type": "code",
    "id": "D92F1YGT3ofd"
   },
   "outputs": [],
   "source": []
  },
  {
   "cell_type": "markdown",
   "metadata": {
    "colab_type": "text",
    "id": "emMwiYZu3ofh"
   },
   "source": [
    "### Random Forest + oversampling & undersampling SMOTE"
   ]
  },
  {
   "cell_type": "markdown",
   "metadata": {
    "colab_type": "text",
    "id": "sAdFCUWg3ofi"
   },
   "source": [
    "Note: Code for Rand Forest commented out, takes significant time to run (more than 30 mins)."
   ]
  },
  {
   "cell_type": "markdown",
   "metadata": {
    "colab_type": "text",
    "id": "TrBdZVy73ofj"
   },
   "source": [
    "For Random Forest Classifier, we explore the combined effects of oversampling and undersampling SMOTE. First oversample the minority class with SMOTE to about a 1:10 ratio, then undersample the majority class to achieve about a 1:2 ratio."
   ]
  },
  {
   "cell_type": "code",
   "execution_count": 0,
   "metadata": {
    "colab": {},
    "colab_type": "code",
    "id": "U517l2eQ3ofk"
   },
   "outputs": [],
   "source": [
    "from imblearn.over_sampling import SMOTE\n",
    "from imblearn.under_sampling import RandomUnderSampler\n",
    "from imblearn.pipeline import Pipeline\n",
    "from sklearn.model_selection import RepeatedStratifiedKFold\n",
    "\n",
    "# define pipeline\n",
    "\n",
    "rf_pipeline = Pipeline([\n",
    "    ('over', SMOTE()),\n",
    "    ('under', RandomUnderSampler()),\n",
    "    ('rf', RandomForestClassifier())\n",
    "])"
   ]
  },
  {
   "cell_type": "code",
   "execution_count": 0,
   "metadata": {
    "colab": {},
    "colab_type": "code",
    "id": "jvobvZ-33ofo"
   },
   "outputs": [],
   "source": [
    "# Define dictionary of hyperparameters.\n",
    "\"\"\"pipeline_params = {\n",
    "    'over__k_neighbors' : [1,2,3,4,5,6,7,8,9,10],\n",
    "    'over__sampling_strategy' : [0.1],\n",
    "    'under__sampling_strategy' : [0.5],\n",
    "    'rf__n_estimators': [50, 100, 200],\n",
    "    'rf__max_depth': [4, 6, 10, 12],\n",
    "    'rf__random_state': [13]\n",
    "}\"\"\""
   ]
  },
  {
   "cell_type": "code",
   "execution_count": 0,
   "metadata": {
    "colab": {},
    "colab_type": "code",
    "id": "JDaFRDhw3ofr"
   },
   "outputs": [],
   "source": [
    "# Instantiate our GridSearchCV object.\n",
    "\"\"\"rf_gs = GridSearchCV(rf_pipeline, # What is the model we want to fit?\n",
    "                                 pipeline_params, # What is the dictionary of hyperparameters?\n",
    "                                 cv=5, # What number of folds in CV will we use?\n",
    "                                 verbose=1,\n",
    "                                 scoring='roc_auc')\"\"\""
   ]
  },
  {
   "cell_type": "code",
   "execution_count": 0,
   "metadata": {
    "colab": {},
    "colab_type": "code",
    "id": "QNxhJT5H3ofz"
   },
   "outputs": [],
   "source": [
    "# Fit the GridSearchCV object to the data.\n",
    "\"\"\"rf_gs.fit(X_train, y_train)\"\"\""
   ]
  },
  {
   "cell_type": "code",
   "execution_count": 0,
   "metadata": {
    "colab": {},
    "colab_type": "code",
    "id": "3bsUydTx3of5"
   },
   "outputs": [],
   "source": [
    "# Save the best model\n",
    "\"\"\"rf_gs_best = rf_gs.best_estimator_\"\"\""
   ]
  },
  {
   "cell_type": "code",
   "execution_count": 0,
   "metadata": {
    "colab": {},
    "colab_type": "code",
    "id": "HHp5OIf53ogD"
   },
   "outputs": [],
   "source": [
    "# Checking the scores - Not sure if this is accuracy as I used scoring = 'roc_auc', so might be roc_auc??\n",
    "\"\"\"print(f\"Accuracy on train set: {rf_gs_best.score(X_train, y_train)}\")\n",
    "print(f\"Accuracy on validate set: {rf_gs_best.score(X_valid, y_valid)}\")\"\"\""
   ]
  },
  {
   "cell_type": "code",
   "execution_count": 0,
   "metadata": {
    "colab": {},
    "colab_type": "code",
    "id": "wb5ltQvX3ogM"
   },
   "outputs": [],
   "source": [
    "\"\"\"prediction_rf = rf_gs_best.predict(X_valid)\"\"\""
   ]
  },
  {
   "cell_type": "code",
   "execution_count": 0,
   "metadata": {
    "colab": {},
    "colab_type": "code",
    "id": "GMTQaN-F3ogV"
   },
   "outputs": [],
   "source": [
    "# Confusion matrix\n",
    "\"\"\"cm = confusion_matrix(y_valid, prediction_rf)\n",
    "# Save TN/FP/FN/TP values.\n",
    "tn, fp, fn, tp = confusion_matrix(y_val,prediction_rf).ravel()\"\"\""
   ]
  },
  {
   "cell_type": "code",
   "execution_count": 0,
   "metadata": {
    "colab": {},
    "colab_type": "code",
    "id": "8bGgosGW3ogi"
   },
   "outputs": [],
   "source": [
    "# Summary of metrics for random forest model\n",
    "\"\"\"sens = tp/(tp+fn)\n",
    "prec = tp/(tp+fp)\n",
    "f1 = 2*(prec*sens)/(prec+sens)\n",
    "print(f\"Sensitivity: {round(sens,4)}\")\n",
    "print(f\"Precision: {round(prec,4)}\")\n",
    "print(f\"F1: {round(f1,4)}\")\"\"\""
   ]
  },
  {
   "cell_type": "code",
   "execution_count": 0,
   "metadata": {
    "colab": {},
    "colab_type": "code",
    "id": "-oXjqTRf3ogo"
   },
   "outputs": [],
   "source": [
    "\"\"\"pred_proba = [i[1] for i in prediction_rf.predict_proba(X_val)]\n",
    "\n",
    "pred_df = pd.DataFrame({'validate_values': y_val,\n",
    "                        'pred_probs':pred_proba})\n",
    "pred_df.head()\"\"\""
   ]
  },
  {
   "cell_type": "code",
   "execution_count": 0,
   "metadata": {
    "colab": {},
    "colab_type": "code",
    "id": "IhhWt4RD3ogv"
   },
   "outputs": [],
   "source": [
    "# Calculate ROC AUC.\n",
    "\"\"\"roc_auc_score(pred_df['validate_values'],pred_df['pred_probs'])\"\"\""
   ]
  },
  {
   "cell_type": "code",
   "execution_count": 0,
   "metadata": {
    "colab": {},
    "colab_type": "code",
    "id": "taGx2URJ3og4"
   },
   "outputs": [],
   "source": []
  },
  {
   "cell_type": "markdown",
   "metadata": {
    "colab_type": "text",
    "id": "Sb4lPz783og-"
   },
   "source": [
    "### Gradient Boosting Classifier"
   ]
  },
  {
   "cell_type": "markdown",
   "metadata": {
    "colab_type": "text",
    "id": "P8UBUqWE3og_"
   },
   "source": [
    "Note: Code for GradientBoostingClassifier commented out, takes significant time to run (more than 30 mins)."
   ]
  },
  {
   "cell_type": "code",
   "execution_count": 0,
   "metadata": {
    "colab": {},
    "colab_type": "code",
    "id": "g_xlAUSu3ohA"
   },
   "outputs": [],
   "source": [
    "# Build upon the hyper-parameters used in Decision Tree model\n",
    "# Learning rate in GB is try to put it in lower range; usually 0.1 to 0.2\n",
    "\"\"\"gs5 = GridSearchCV(estimator = GradientBoostingClassifier(random_state=42),\\\n",
    "                   param_grid = {'learning_rate' : [0.1,0.2],\\\n",
    "                                 'n_estimators' : [100,125],\n",
    "                                 'min_samples_split': [10,15],\\\n",
    "                                 'min_samples_leaf': [2,3],\\\n",
    "                                 'max_depth': [9,11],\\\n",
    "                                 'ccp_alpha': [0,0.1]},\\\n",
    "                   cv = 5,\\\n",
    "                   verbose = 2)\"\"\""
   ]
  },
  {
   "cell_type": "code",
   "execution_count": 0,
   "metadata": {
    "colab": {},
    "colab_type": "code",
    "id": "0QMK-h4u3ohD",
    "scrolled": true
   },
   "outputs": [],
   "source": [
    "# CAUTION: Takes long time to run (more than 50 mins)\n",
    "# Fit GridSearch to the cleaned training data.\n",
    "\"\"\"gs5.fit(X_sm,y_sm)\"\"\""
   ]
  },
  {
   "cell_type": "code",
   "execution_count": 0,
   "metadata": {
    "colab": {},
    "colab_type": "code",
    "id": "3B5G87TE3ohK"
   },
   "outputs": [],
   "source": [
    "# Check the results of the grid search\n",
    "\n",
    "\"\"\"print(f\"Best parameters: {gs5.best_params_}\")\n",
    "print(f\"Best score: {gs5.best_score_}\")\"\"\""
   ]
  },
  {
   "cell_type": "code",
   "execution_count": 0,
   "metadata": {
    "colab": {},
    "colab_type": "code",
    "id": "_IYEIQLP3ohO"
   },
   "outputs": [],
   "source": [
    "# Save model\n",
    "\"\"\"model5 = gs5.best_estimator_\"\"\""
   ]
  },
  {
   "cell_type": "code",
   "execution_count": 0,
   "metadata": {
    "colab": {},
    "colab_type": "code",
    "id": "hv2dSQeC3ohY",
    "scrolled": true
   },
   "outputs": [],
   "source": [
    "# Score model on train set and validate set\n",
    "\"\"\"print(f\"Accuracy on train set: {model5.score(X_sm, y_sm)}\")\n",
    "print(f\"Accuracy on validate set: {model5.score(X_val, y_val)}\")\"\"\""
   ]
  },
  {
   "cell_type": "markdown",
   "metadata": {
    "colab_type": "text",
    "id": "gv1rn7HI3ohc"
   },
   "source": [
    "The model is overfitted with about 9% drop in validate accuracy compared to train accuracy. The accuracy is lower than the all previous models."
   ]
  },
  {
   "cell_type": "code",
   "execution_count": 0,
   "metadata": {
    "colab": {},
    "colab_type": "code",
    "id": "b1rKA-x93ohd"
   },
   "outputs": [],
   "source": [
    "# Confusion matrix\n",
    "# Pass in true values, predicted values to confusion matrix\n",
    "# Convert confusion matrix into dataframe\n",
    "# Positive class (class 1) is wnv\n",
    "\"\"\"preds = gs5.predict(X_val)\n",
    "cm = confusion_matrix(y_val, preds)\n",
    "cm_df = pd.DataFrame(cm,columns=['pred no wnv','pred wnv'], index=['Actual no wnv','Actual wnv'])\n",
    "cm_df\"\"\""
   ]
  },
  {
   "cell_type": "code",
   "execution_count": 0,
   "metadata": {
    "colab": {},
    "colab_type": "code",
    "id": "D6t1DRY_3ohg"
   },
   "outputs": [],
   "source": [
    "# return nparray as a 1-D array.\n",
    "\"\"\"confusion_matrix(y_val, preds).ravel()\n",
    "# Save TN/FP/FN/TP values.\n",
    "tn, fp, fn, tp = confusion_matrix(y_val,preds).ravel()\"\"\""
   ]
  },
  {
   "cell_type": "code",
   "execution_count": 0,
   "metadata": {
    "colab": {},
    "colab_type": "code",
    "id": "X6rEA-3U3ohk"
   },
   "outputs": [],
   "source": [
    "# Summary of metrics for log reg model\n",
    "\"\"\"sens = tp/(tp+fn)\n",
    "prec = tp/(tp+fp)\n",
    "f1 = 2*(prec*sens)/(prec+sens)\n",
    "print(f\"Sensitivity: {round(sens,4)}\")\n",
    "print(f\"Precision: {round(prec,4)}\")\n",
    "print(f\"F1: {round(f1,4)}\")\"\"\""
   ]
  },
  {
   "cell_type": "code",
   "execution_count": 0,
   "metadata": {
    "colab": {},
    "colab_type": "code",
    "id": "7Fxhbxwv3oho"
   },
   "outputs": [],
   "source": [
    "\"\"\"pred_proba = [i[1] for i in gs5.predict_proba(X_val)]\n",
    "\n",
    "pred_df = pd.DataFrame({'validate_values': y_val,\n",
    "                        'pred_probs':pred_proba})\n",
    "pred_df.head()\"\"\""
   ]
  },
  {
   "cell_type": "code",
   "execution_count": 0,
   "metadata": {
    "colab": {},
    "colab_type": "code",
    "id": "797L64Pa3ohw"
   },
   "outputs": [],
   "source": [
    "# Calculate ROC AUC.\n",
    "\"\"\"roc_auc_score(pred_df['validate_values'],pred_df['pred_probs'])\"\"\""
   ]
  },
  {
   "cell_type": "code",
   "execution_count": 0,
   "metadata": {
    "colab": {},
    "colab_type": "code",
    "id": "kFzDs3Tq3oh7"
   },
   "outputs": [],
   "source": []
  },
  {
   "cell_type": "markdown",
   "metadata": {
    "colab_type": "text",
    "id": "5t4XPfC-3oh-"
   },
   "source": [
    "### XGBoost Classifier"
   ]
  },
  {
   "cell_type": "markdown",
   "metadata": {
    "colab_type": "text",
    "id": "5_pzxgjb3oh_"
   },
   "source": [
    "Note: Code for XGBoost Classifier commented out, takes significant time to run (more than 30 mins)."
   ]
  },
  {
   "cell_type": "markdown",
   "metadata": {
    "colab_type": "text",
    "id": "eL7GkboO3oiB"
   },
   "source": [
    "XGBoost classifier is not explicitly covered in class; we explore the capabilities of XGboost in this section. XGBoost implements parallel processing and should run faster as compared to GBM.\n",
    "Update: took 40 mins, slightly faster than GB, though it's likely due to the different params used."
   ]
  },
  {
   "cell_type": "code",
   "execution_count": 0,
   "metadata": {
    "colab": {},
    "colab_type": "code",
    "id": "WaC6H6XD3oiC"
   },
   "outputs": [],
   "source": [
    "from xgboost import XGBClassifier"
   ]
  },
  {
   "cell_type": "code",
   "execution_count": 0,
   "metadata": {
    "colab": {},
    "colab_type": "code",
    "id": "Ul9FQe6Q3oiY"
   },
   "outputs": [],
   "source": [
    "gsX = GridSearchCV(estimator = XGBClassifier(random_state=42),\\\n",
    "                   param_grid = {'max_depth': [9,11],\\\n",
    "                                 'learning_rate' : [0.1],\\\n",
    "                                 'n_estimators' : [100,125],\\\n",
    "                                 'objective' : ['binary:logistic'],\\\n",
    "                                 'gamma': [0.5,1],\\\n",
    "                                 'min_child_weight': [1,5],\\\n",
    "                                 'subsample': [0.5,1.0],\\\n",
    "                                 'colsample_bytree': [0.5,1.0] },\\\n",
    "                   cv = 5,\\\n",
    "                   verbose = 2)"
   ]
  },
  {
   "cell_type": "markdown",
   "metadata": {
    "colab_type": "text",
    "id": "H7dS7kjH3oie"
   },
   "source": [
    "Notes on params:\n",
    "- binary:logistic –logistic regression for binary classification, returns predicted probability (not class).\n",
    "- gamma (default=0) specifies the minimum loss reduction required to make a split; makes model conservative.\n",
    "- min child weight (default=1) minimum sum of weights of all observations required in a child. Used to control over-fitting. Higher values prevent a model from learning relations which might be highly specific to the particular sample selected for a tree.\n",
    "- subsample (default=1) Denotes the fraction of observations to be randomly samples for each tree. Lower values make the algorithm more conservative and prevents overfitting. Typical values: 0.5, 1.\n",
    "- colsample_bytree(default=1) Denotes the fraction of columns to be randomly samples for each tree. Typical values: 0.5, 1"
   ]
  },
  {
   "cell_type": "code",
   "execution_count": 0,
   "metadata": {
    "colab": {},
    "colab_type": "code",
    "id": "D5scBlz43oie"
   },
   "outputs": [],
   "source": [
    "# CAUTION: Takes long time to run (more than 50 mins)\n",
    "# Fit GridSearch to the cleaned training data.\n",
    "gsX.fit(X_sm,y_sm)\n"
   ]
  },
  {
   "cell_type": "code",
   "execution_count": 0,
   "metadata": {
    "colab": {},
    "colab_type": "code",
    "id": "lnkFs8O23oii"
   },
   "outputs": [],
   "source": [
    "# Check the results of the grid search\n",
    "\n",
    "print(f\"Best parameters: {gsX.best_params_}\")\n",
    "print(f\"Best score: {gsX.best_score_}\")"
   ]
  },
  {
   "cell_type": "code",
   "execution_count": 0,
   "metadata": {
    "colab": {},
    "colab_type": "code",
    "id": "kzL8P7ag3oil"
   },
   "outputs": [],
   "source": [
    "# Save model\n",
    "modelX = gsX.best_estimator_"
   ]
  },
  {
   "cell_type": "code",
   "execution_count": 0,
   "metadata": {
    "colab": {},
    "colab_type": "code",
    "id": "c_wr2RU93oit",
    "scrolled": true
   },
   "outputs": [],
   "source": [
    "# Score model on train set and validate set\n",
    "print(f\"Accuracy on train set: {modelX.score(X_sm, y_sm)}\")\n",
    "print(f\"Accuracy on validate set: {modelX.score(X_val, y_val)}\")"
   ]
  },
  {
   "cell_type": "markdown",
   "metadata": {
    "colab_type": "text",
    "id": "51BPxQs73oiw"
   },
   "source": [
    "The model is overfitted with about 6% drop in validate accuracy compared to train accuracy. The accuracy is lower than the all previous models."
   ]
  },
  {
   "cell_type": "code",
   "execution_count": 0,
   "metadata": {
    "colab": {},
    "colab_type": "code",
    "id": "UQSpzcOj3oi4"
   },
   "outputs": [],
   "source": [
    "# Confusion matrix\n",
    "# Pass in true values, predicted values to confusion matrix\n",
    "# Convert confusion matrix into dataframe\n",
    "# Positive class (class 1) is wnv\n",
    "preds = gsX.predict(X_val)\n",
    "cm = confusion_matrix(y_val, preds)\n",
    "cm_df = pd.DataFrame(cm,columns=['pred no wnv','pred wnv'], index=['Actual no wnv','Actual wnv'])\n",
    "cm_df"
   ]
  },
  {
   "cell_type": "code",
   "execution_count": 0,
   "metadata": {
    "colab": {},
    "colab_type": "code",
    "id": "XLdtBckh3ojA"
   },
   "outputs": [],
   "source": [
    "# return nparray as a 1-D array.\n",
    "confusion_matrix(y_val, preds).ravel()\n",
    "# Save TN/FP/FN/TP values.\n",
    "tn, fp, fn, tp = confusion_matrix(y_val,preds).ravel()"
   ]
  },
  {
   "cell_type": "code",
   "execution_count": 0,
   "metadata": {
    "colab": {},
    "colab_type": "code",
    "id": "uOlSjqjg3ojD"
   },
   "outputs": [],
   "source": [
    "# Summary of metrics for log reg model\n",
    "sens = tp/(tp+fn)\n",
    "prec = tp/(tp+fp)\n",
    "f1 = 2*(prec*sens)/(prec+sens)\n",
    "print(f\"Sensitivity: {round(sens,4)}\")\n",
    "print(f\"Precision: {round(prec,4)}\")\n",
    "print(f\"F1: {round(f1,4)}\")"
   ]
  },
  {
   "cell_type": "code",
   "execution_count": 0,
   "metadata": {
    "colab": {},
    "colab_type": "code",
    "id": "_XVGsurM3ojG"
   },
   "outputs": [],
   "source": [
    "pred_proba = [i[1] for i in gsX.predict_proba(X_val)]\n",
    "\n",
    "pred_df = pd.DataFrame({'validate_values': y_val,\n",
    "                        'pred_probs':pred_proba})\n",
    "pred_df.head()"
   ]
  },
  {
   "cell_type": "code",
   "execution_count": 0,
   "metadata": {
    "colab": {},
    "colab_type": "code",
    "id": "scgfjVeI3ojK"
   },
   "outputs": [],
   "source": [
    "# Calculate ROC AUC.\n",
    "roc_auc_score(pred_df['validate_values'],pred_df['pred_probs'])"
   ]
  },
  {
   "cell_type": "code",
   "execution_count": 0,
   "metadata": {
    "colab": {},
    "colab_type": "code",
    "id": "HYvF85q73ojP"
   },
   "outputs": [],
   "source": []
  },
  {
   "cell_type": "code",
   "execution_count": 0,
   "metadata": {
    "colab": {},
    "colab_type": "code",
    "id": "zeoM1_Wx3ojZ"
   },
   "outputs": [],
   "source": []
  },
  {
   "cell_type": "code",
   "execution_count": 0,
   "metadata": {
    "colab": {},
    "colab_type": "code",
    "id": "KerBLf-O3ojg"
   },
   "outputs": [],
   "source": []
  },
  {
   "cell_type": "code",
   "execution_count": 0,
   "metadata": {
    "colab": {},
    "colab_type": "code",
    "id": "gSfRxVbd3ojj"
   },
   "outputs": [],
   "source": []
  },
  {
   "cell_type": "markdown",
   "metadata": {
    "colab_type": "text",
    "id": "xUdVbRIV3ojn"
   },
   "source": [
    "### Summary of Model Metrics "
   ]
  },
  {
   "cell_type": "code",
   "execution_count": 0,
   "metadata": {
    "colab": {},
    "colab_type": "code",
    "id": "7vsBAS4D3ojo"
   },
   "outputs": [],
   "source": [
    "# Summary of Model scores in Dataframe\n",
    "summary_df = pd.DataFrame({'accuracy(val)' : [0.945, 0.918, 0.934, 0.814, 0.852, 0.909, 0.914],\\\n",
    "                           'sensitivity' :   [0,     0.226, 0.066, 0.650, 0.524, 0.226, 0.285],\\\n",
    "                           'precision' :     [0,     0.226, 0.173, 0.171, 0.200, 0.196, 0.241],\\\n",
    "                           'F1' :            ['NaN', 0.226, 0.095, 0.271, 0.290, 0.210, 0.261],\\\n",
    "                           'roc_auc' :       [0.791, 0.795, 0.721, 0.804, 0.698, 0.847, 0.849]})\n",
    "# Transpose dataframe\n",
    "summary_dft = summary_df.T\n",
    "# Rename columns\n",
    "summary_dft.columns = ['LogReg','SVM', 'KNN', 'DT', 'RF(Smote O&U)', 'GBc', 'XGBc']\n",
    "summary_dft"
   ]
  },
  {
   "cell_type": "markdown",
   "metadata": {
    "colab_type": "text",
    "id": "w2bZA6ju3ojs"
   },
   "source": [
    "We pick XGBosst classifier as the best model, based on F1 score and roc_auc. Next generate the predict probabilities on test set for kaggle submission."
   ]
  },
  {
   "cell_type": "code",
   "execution_count": 0,
   "metadata": {
    "colab": {},
    "colab_type": "code",
    "id": "Wgt2XBC13ojt"
   },
   "outputs": [],
   "source": [
    "# instantiate the best model with the best hyperparams\n",
    "best_model = modelX"
   ]
  },
  {
   "cell_type": "markdown",
   "metadata": {
    "colab_type": "text",
    "id": "1_L2NLkN3oj7"
   },
   "source": [
    "### Model Evaluation"
   ]
  },
  {
   "cell_type": "code",
   "execution_count": 0,
   "metadata": {
    "colab": {},
    "colab_type": "code",
    "id": "L1KMrfZy3oj9"
   },
   "outputs": [],
   "source": [
    "# Check train set headers\n",
    "df_traincopy.head(1)"
   ]
  },
  {
   "cell_type": "code",
   "execution_count": 0,
   "metadata": {
    "colab": {},
    "colab_type": "code",
    "id": "ixUonsye3okA"
   },
   "outputs": [],
   "source": [
    "# Check test set headers\n",
    "df_testcopy.head(1)"
   ]
  },
  {
   "cell_type": "code",
   "execution_count": 0,
   "metadata": {
    "colab": {},
    "colab_type": "code",
    "id": "iKYcxSpM3okI"
   },
   "outputs": [],
   "source": [
    "# making a copy of the train_kaggle df\n",
    "X_train_kaggle = df_traincopy.copy().drop(['num_mos','wnv'],axis=1)\n",
    "y_train_kaggle = df_traincopy.copy()['wnv']\n",
    "\n",
    "X_test_kaggle = df_testcopy.copy()"
   ]
  },
  {
   "cell_type": "code",
   "execution_count": 0,
   "metadata": {
    "colab": {},
    "colab_type": "code",
    "id": "pFRTWUhp3olB"
   },
   "outputs": [],
   "source": [
    "X_train_kaggle.columns.difference(X_test_kaggle.columns)"
   ]
  },
  {
   "cell_type": "code",
   "execution_count": 0,
   "metadata": {
    "colab": {},
    "colab_type": "code",
    "id": "vdQn_f-53olE"
   },
   "outputs": [],
   "source": [
    "X_test_kaggle.columns.difference(X_train_kaggle.columns)"
   ]
  },
  {
   "cell_type": "code",
   "execution_count": 0,
   "metadata": {
    "colab": {},
    "colab_type": "code",
    "id": "GWlqqGeE3olI"
   },
   "outputs": [],
   "source": [
    "#checking shape\n",
    "X_train_kaggle.shape"
   ]
  },
  {
   "cell_type": "code",
   "execution_count": 0,
   "metadata": {
    "colab": {},
    "colab_type": "code",
    "id": "ftZVMAwR3olO"
   },
   "outputs": [],
   "source": [
    "X_train_kaggle.head()"
   ]
  },
  {
   "cell_type": "code",
   "execution_count": 0,
   "metadata": {
    "colab": {},
    "colab_type": "code",
    "id": "kL3xfjlY3olR"
   },
   "outputs": [],
   "source": [
    "X_test_kaggle.head()"
   ]
  },
  {
   "cell_type": "code",
   "execution_count": 0,
   "metadata": {
    "colab": {},
    "colab_type": "code",
    "id": "DEVqkxuT3olU"
   },
   "outputs": [],
   "source": [
    "#checking shape\n",
    "X_test_kaggle.shape"
   ]
  },
  {
   "cell_type": "code",
   "execution_count": 0,
   "metadata": {
    "colab": {},
    "colab_type": "code",
    "id": "yG4CuFwi3olW"
   },
   "outputs": [],
   "source": [
    "# Scale variables\n",
    "# Commented out (since best model is based on decision trees, scaling not required)\n",
    "#ss = StandardScaler(n)\n",
    "#X_train_kaggle_ss = ss.fit_transform(X_train_kaggle)\n",
    "#X_test_kaggle_ss = ss.transform(X_test_kaggle)"
   ]
  },
  {
   "cell_type": "code",
   "execution_count": 0,
   "metadata": {
    "colab": {},
    "colab_type": "code",
    "id": "7sjnCZ1Q3olZ"
   },
   "outputs": [],
   "source": [
    "# Resampling using SMOTE oversmaple on minority class\n",
    "X_train_kaggle_sm, y_train_kaggle_sm = smote.fit_sample(X_train_kaggle, y_train_kaggle)"
   ]
  },
  {
   "cell_type": "code",
   "execution_count": 0,
   "metadata": {
    "colab": {},
    "colab_type": "code",
    "id": "ZpGPJUf33ol0"
   },
   "outputs": [],
   "source": [
    "# to insert best model\n",
    "\n",
    "best_model.fit(X_train_kaggle_sm, y_train_kaggle_sm,)"
   ]
  },
  {
   "cell_type": "code",
   "execution_count": 0,
   "metadata": {
    "colab": {},
    "colab_type": "code",
    "id": "xA87GwNu3ol2"
   },
   "outputs": [],
   "source": [
    "# Score model on train set and validate set\n",
    "print(f\"Accuracy on train set: {best_model.score(X_train_kaggle_sm,y_train_kaggle_sm)}\")"
   ]
  },
  {
   "cell_type": "code",
   "execution_count": 0,
   "metadata": {
    "colab": {},
    "colab_type": "code",
    "id": "dZj8qyk13ol5"
   },
   "outputs": [],
   "source": [
    "# predicting kaggle output\n",
    "predict_kaggle = best_model.predict(X_test_kaggle)"
   ]
  },
  {
   "cell_type": "code",
   "execution_count": 0,
   "metadata": {
    "colab": {},
    "colab_type": "code",
    "id": "WLPRUNkg3ol8"
   },
   "outputs": [],
   "source": [
    "# probability predicition\n",
    "predict_proba_kaggle = best_model.predict_proba(X_test_kaggle_ss)"
   ]
  },
  {
   "cell_type": "code",
   "execution_count": 0,
   "metadata": {
    "colab": {},
    "colab_type": "code",
    "id": "fqn_T7l_3omC"
   },
   "outputs": [],
   "source": [
    "#Saving an output CSV file for submission\n",
    "output = pd.DataFrame({'Id': df_test['id'], 'WnvPresent': predict_proba_kaggle[:,1]})\n",
    "output.to_csv('my_submission_DSI.csv', index=False)"
   ]
  }
 ],
 "metadata": {
  "colab": {
   "collapsed_sections": [],
   "name": "4.11 Machine Learning wip.ipynb",
   "provenance": []
  },
  "kernelspec": {
   "display_name": "Python 3",
   "language": "python",
   "name": "python3"
  },
  "language_info": {
   "codemirror_mode": {
    "name": "ipython",
    "version": 3
   },
   "file_extension": ".py",
   "mimetype": "text/x-python",
   "name": "python",
   "nbconvert_exporter": "python",
   "pygments_lexer": "ipython3",
   "version": "3.7.4"
  }
 },
 "nbformat": 4,
 "nbformat_minor": 1
}
